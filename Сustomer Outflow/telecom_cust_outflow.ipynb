{
 "cells": [
  {
   "cell_type": "markdown",
   "id": "a9a4fc0f",
   "metadata": {
    "toc": true
   },
   "source": [
    "<h1>Содержание<span class=\"tocSkip\"></span></h1>\n",
    "<div class=\"toc\"><ul class=\"toc-item\"><li><span><a href=\"#Изучение-данных\" data-toc-modified-id=\"Изучение-данных-1\"><span class=\"toc-item-num\">1&nbsp;&nbsp;</span>Изучение данных</a></span><ul class=\"toc-item\"><li><span><a href=\"#Данные-о-договорах\" data-toc-modified-id=\"Данные-о-договорах-1.1\"><span class=\"toc-item-num\">1.1&nbsp;&nbsp;</span>Данные о договорах</a></span></li><li><span><a href=\"#Персональные-данные-клиентов\" data-toc-modified-id=\"Персональные-данные-клиентов-1.2\"><span class=\"toc-item-num\">1.2&nbsp;&nbsp;</span>Персональные данные клиентов</a></span></li><li><span><a href=\"#Информация-об-интернет-услугах\" data-toc-modified-id=\"Информация-об-интернет-услугах-1.3\"><span class=\"toc-item-num\">1.3&nbsp;&nbsp;</span>Информация об интернет-услугах</a></span></li><li><span><a href=\"#Информация-об-услугах-телефонии\" data-toc-modified-id=\"Информация-об-услугах-телефонии-1.4\"><span class=\"toc-item-num\">1.4&nbsp;&nbsp;</span>Информация об услугах телефонии</a></span></li></ul></li><li><span><a href=\"#Предобработка-данных\" data-toc-modified-id=\"Предобработка-данных-2\"><span class=\"toc-item-num\">2&nbsp;&nbsp;</span>Предобработка данных</a></span><ul class=\"toc-item\"><li><span><a href=\"#Обработка-пропусков\" data-toc-modified-id=\"Обработка-пропусков-2.1\"><span class=\"toc-item-num\">2.1&nbsp;&nbsp;</span>Обработка пропусков</a></span></li><li><span><a href=\"#Изменение-типов-данных\" data-toc-modified-id=\"Изменение-типов-данных-2.2\"><span class=\"toc-item-num\">2.2&nbsp;&nbsp;</span>Изменение типов данных</a></span></li><li><span><a href=\"#Обработка-аномалий\" data-toc-modified-id=\"Обработка-аномалий-2.3\"><span class=\"toc-item-num\">2.3&nbsp;&nbsp;</span>Обработка аномалий</a></span></li><li><span><a href=\"#Создание-новых-признаков\" data-toc-modified-id=\"Создание-новых-признаков-2.4\"><span class=\"toc-item-num\">2.4&nbsp;&nbsp;</span>Создание новых признаков</a></span></li><li><span><a href=\"#Удаление-ненужных-признаков\" data-toc-modified-id=\"Удаление-ненужных-признаков-2.5\"><span class=\"toc-item-num\">2.5&nbsp;&nbsp;</span>Удаление ненужных признаков</a></span></li></ul></li><li><span><a href=\"#Анализ-данных\" data-toc-modified-id=\"Анализ-данных-3\"><span class=\"toc-item-num\">3&nbsp;&nbsp;</span>Анализ данных</a></span><ul class=\"toc-item\"><li><span><a href=\"#Корреляция-признаков\" data-toc-modified-id=\"Корреляция-признаков-3.1\"><span class=\"toc-item-num\">3.1&nbsp;&nbsp;</span>Корреляция признаков</a></span></li><li><span><a href=\"#Баланс-классов-выборки\" data-toc-modified-id=\"Баланс-классов-выборки-3.2\"><span class=\"toc-item-num\">3.2&nbsp;&nbsp;</span>Баланс классов выборки</a></span></li></ul></li><li><span><a href=\"#Обучение-моделей\" data-toc-modified-id=\"Обучение-моделей-4\"><span class=\"toc-item-num\">4&nbsp;&nbsp;</span>Обучение моделей</a></span><ul class=\"toc-item\"><li><span><a href=\"#LogisticRegression\" data-toc-modified-id=\"LogisticRegression-4.1\"><span class=\"toc-item-num\">4.1&nbsp;&nbsp;</span>LogisticRegression</a></span></li><li><span><a href=\"#RandomForestClassifier\" data-toc-modified-id=\"RandomForestClassifier-4.2\"><span class=\"toc-item-num\">4.2&nbsp;&nbsp;</span>RandomForestClassifier</a></span></li><li><span><a href=\"#CatBoostClassifier\" data-toc-modified-id=\"CatBoostClassifier-4.3\"><span class=\"toc-item-num\">4.3&nbsp;&nbsp;</span>CatBoostClassifier</a></span></li><li><span><a href=\"#Итоги\" data-toc-modified-id=\"Итоги-4.4\"><span class=\"toc-item-num\">4.4&nbsp;&nbsp;</span>Итоги</a></span></li></ul></li><li><span><a href=\"#Тестирование-модели\" data-toc-modified-id=\"Тестирование-модели-5\"><span class=\"toc-item-num\">5&nbsp;&nbsp;</span>Тестирование модели</a></span></li><li><span><a href=\"#Выводы\" data-toc-modified-id=\"Выводы-6\"><span class=\"toc-item-num\">6&nbsp;&nbsp;</span>Выводы</a></span></li></ul></div>"
   ]
  },
  {
   "cell_type": "code",
   "execution_count": 1,
   "id": "f7d1359c",
   "metadata": {},
   "outputs": [
    {
     "name": "stdout",
     "output_type": "stream",
     "text": [
      "Requirement already satisfied: association-metrics in c:\\users\\chuki\\anaconda3\\lib\\site-packages (0.0.1)\n"
     ]
    }
   ],
   "source": [
    "!pip install association-metrics"
   ]
  },
  {
   "cell_type": "markdown",
   "id": "690e73a3",
   "metadata": {},
   "source": [
    "## Изучение данных"
   ]
  },
  {
   "cell_type": "code",
   "execution_count": 2,
   "id": "88ca3585",
   "metadata": {},
   "outputs": [],
   "source": [
    "import pandas as pd\n",
    "import numpy as np\n",
    "import matplotlib.pyplot as plt\n",
    "import seaborn as sns\n",
    "import warnings\n",
    "\n",
    "from sklearn.compose import make_column_transformer\n",
    "from sklearn.model_selection import train_test_split\n",
    "from sklearn.preprocessing import StandardScaler\n",
    "from sklearn.preprocessing import OneHotEncoder\n",
    "import association_metrics as am\n",
    "\n",
    "from sklearn.model_selection import GridSearchCV\n",
    "from sklearn.model_selection import RandomizedSearchCV\n",
    "from sklearn.pipeline import make_pipeline\n",
    "\n",
    "from catboost import CatBoostClassifier\n",
    "from sklearn.linear_model import LogisticRegression\n",
    "from sklearn.ensemble import RandomForestClassifier\n",
    "\n",
    "from sklearn.metrics import roc_auc_score\n",
    "from sklearn.metrics import roc_curve\n",
    "\n",
    "\n",
    "warnings.filterwarnings(\"ignore\")\n",
    "RANDOM_STATE=240423"
   ]
  },
  {
   "cell_type": "markdown",
   "id": "951f07dd",
   "metadata": {},
   "source": [
    "### Данные о договорах"
   ]
  },
  {
   "cell_type": "code",
   "execution_count": 3,
   "id": "f7276b17",
   "metadata": {},
   "outputs": [
    {
     "data": {
      "text/html": [
       "<div>\n",
       "<style scoped>\n",
       "    .dataframe tbody tr th:only-of-type {\n",
       "        vertical-align: middle;\n",
       "    }\n",
       "\n",
       "    .dataframe tbody tr th {\n",
       "        vertical-align: top;\n",
       "    }\n",
       "\n",
       "    .dataframe thead th {\n",
       "        text-align: right;\n",
       "    }\n",
       "</style>\n",
       "<table border=\"1\" class=\"dataframe\">\n",
       "  <thead>\n",
       "    <tr style=\"text-align: right;\">\n",
       "      <th></th>\n",
       "      <th>customerID</th>\n",
       "      <th>BeginDate</th>\n",
       "      <th>EndDate</th>\n",
       "      <th>Type</th>\n",
       "      <th>PaperlessBilling</th>\n",
       "      <th>PaymentMethod</th>\n",
       "      <th>MonthlyCharges</th>\n",
       "      <th>TotalCharges</th>\n",
       "    </tr>\n",
       "  </thead>\n",
       "  <tbody>\n",
       "    <tr>\n",
       "      <th>0</th>\n",
       "      <td>7590-VHVEG</td>\n",
       "      <td>2020-01-01</td>\n",
       "      <td>No</td>\n",
       "      <td>Month-to-month</td>\n",
       "      <td>Yes</td>\n",
       "      <td>Electronic check</td>\n",
       "      <td>29.85</td>\n",
       "      <td>31.04</td>\n",
       "    </tr>\n",
       "    <tr>\n",
       "      <th>1</th>\n",
       "      <td>5575-GNVDE</td>\n",
       "      <td>2017-04-01</td>\n",
       "      <td>No</td>\n",
       "      <td>One year</td>\n",
       "      <td>No</td>\n",
       "      <td>Mailed check</td>\n",
       "      <td>56.95</td>\n",
       "      <td>2071.84</td>\n",
       "    </tr>\n",
       "    <tr>\n",
       "      <th>2</th>\n",
       "      <td>3668-QPYBK</td>\n",
       "      <td>2019-10-01</td>\n",
       "      <td>No</td>\n",
       "      <td>Month-to-month</td>\n",
       "      <td>Yes</td>\n",
       "      <td>Mailed check</td>\n",
       "      <td>53.85</td>\n",
       "      <td>226.17</td>\n",
       "    </tr>\n",
       "    <tr>\n",
       "      <th>3</th>\n",
       "      <td>7795-CFOCW</td>\n",
       "      <td>2016-05-01</td>\n",
       "      <td>No</td>\n",
       "      <td>One year</td>\n",
       "      <td>No</td>\n",
       "      <td>Bank transfer (automatic)</td>\n",
       "      <td>42.30</td>\n",
       "      <td>1960.6</td>\n",
       "    </tr>\n",
       "    <tr>\n",
       "      <th>4</th>\n",
       "      <td>9237-HQITU</td>\n",
       "      <td>2019-09-01</td>\n",
       "      <td>No</td>\n",
       "      <td>Month-to-month</td>\n",
       "      <td>Yes</td>\n",
       "      <td>Electronic check</td>\n",
       "      <td>70.70</td>\n",
       "      <td>353.5</td>\n",
       "    </tr>\n",
       "  </tbody>\n",
       "</table>\n",
       "</div>"
      ],
      "text/plain": [
       "   customerID   BeginDate EndDate            Type PaperlessBilling  \\\n",
       "0  7590-VHVEG  2020-01-01      No  Month-to-month              Yes   \n",
       "1  5575-GNVDE  2017-04-01      No        One year               No   \n",
       "2  3668-QPYBK  2019-10-01      No  Month-to-month              Yes   \n",
       "3  7795-CFOCW  2016-05-01      No        One year               No   \n",
       "4  9237-HQITU  2019-09-01      No  Month-to-month              Yes   \n",
       "\n",
       "               PaymentMethod  MonthlyCharges TotalCharges  \n",
       "0           Electronic check           29.85        31.04  \n",
       "1               Mailed check           56.95      2071.84  \n",
       "2               Mailed check           53.85       226.17  \n",
       "3  Bank transfer (automatic)           42.30       1960.6  \n",
       "4           Electronic check           70.70        353.5  "
      ]
     },
     "execution_count": 3,
     "metadata": {},
     "output_type": "execute_result"
    }
   ],
   "source": [
    "try: df_contract = pd.read_csv('contract_new.csv')\n",
    "except: df_contract = pd.read_csv('/datasets/contract_new.csv')\n",
    "df_contract.head()"
   ]
  },
  {
   "cell_type": "code",
   "execution_count": 4,
   "id": "b1968377",
   "metadata": {},
   "outputs": [
    {
     "name": "stdout",
     "output_type": "stream",
     "text": [
      "<class 'pandas.core.frame.DataFrame'>\n",
      "RangeIndex: 7043 entries, 0 to 7042\n",
      "Data columns (total 8 columns):\n",
      " #   Column            Non-Null Count  Dtype  \n",
      "---  ------            --------------  -----  \n",
      " 0   customerID        7043 non-null   object \n",
      " 1   BeginDate         7043 non-null   object \n",
      " 2   EndDate           7043 non-null   object \n",
      " 3   Type              7043 non-null   object \n",
      " 4   PaperlessBilling  7043 non-null   object \n",
      " 5   PaymentMethod     7043 non-null   object \n",
      " 6   MonthlyCharges    7043 non-null   float64\n",
      " 7   TotalCharges      7043 non-null   object \n",
      "dtypes: float64(1), object(7)\n",
      "memory usage: 440.3+ KB\n"
     ]
    }
   ],
   "source": [
    "df_contract.info()"
   ]
  },
  {
   "cell_type": "code",
   "execution_count": 5,
   "id": "f0b6e2f4",
   "metadata": {},
   "outputs": [
    {
     "data": {
      "text/html": [
       "<div>\n",
       "<style scoped>\n",
       "    .dataframe tbody tr th:only-of-type {\n",
       "        vertical-align: middle;\n",
       "    }\n",
       "\n",
       "    .dataframe tbody tr th {\n",
       "        vertical-align: top;\n",
       "    }\n",
       "\n",
       "    .dataframe thead th {\n",
       "        text-align: right;\n",
       "    }\n",
       "</style>\n",
       "<table border=\"1\" class=\"dataframe\">\n",
       "  <thead>\n",
       "    <tr style=\"text-align: right;\">\n",
       "      <th></th>\n",
       "      <th>MonthlyCharges</th>\n",
       "    </tr>\n",
       "  </thead>\n",
       "  <tbody>\n",
       "    <tr>\n",
       "      <th>count</th>\n",
       "      <td>7043.000000</td>\n",
       "    </tr>\n",
       "    <tr>\n",
       "      <th>mean</th>\n",
       "      <td>64.761692</td>\n",
       "    </tr>\n",
       "    <tr>\n",
       "      <th>std</th>\n",
       "      <td>30.090047</td>\n",
       "    </tr>\n",
       "    <tr>\n",
       "      <th>min</th>\n",
       "      <td>18.250000</td>\n",
       "    </tr>\n",
       "    <tr>\n",
       "      <th>25%</th>\n",
       "      <td>35.500000</td>\n",
       "    </tr>\n",
       "    <tr>\n",
       "      <th>50%</th>\n",
       "      <td>70.350000</td>\n",
       "    </tr>\n",
       "    <tr>\n",
       "      <th>75%</th>\n",
       "      <td>89.850000</td>\n",
       "    </tr>\n",
       "    <tr>\n",
       "      <th>max</th>\n",
       "      <td>118.750000</td>\n",
       "    </tr>\n",
       "  </tbody>\n",
       "</table>\n",
       "</div>"
      ],
      "text/plain": [
       "       MonthlyCharges\n",
       "count     7043.000000\n",
       "mean        64.761692\n",
       "std         30.090047\n",
       "min         18.250000\n",
       "25%         35.500000\n",
       "50%         70.350000\n",
       "75%         89.850000\n",
       "max        118.750000"
      ]
     },
     "execution_count": 5,
     "metadata": {},
     "output_type": "execute_result"
    }
   ],
   "source": [
    "df_contract.describe()"
   ]
  },
  {
   "cell_type": "code",
   "execution_count": 6,
   "id": "89cccc1b",
   "metadata": {},
   "outputs": [
    {
     "data": {
      "text/plain": [
       "customerID           0\n",
       "BeginDate            0\n",
       "EndDate              0\n",
       "Type                 0\n",
       "PaperlessBilling     0\n",
       "PaymentMethod        0\n",
       "MonthlyCharges       0\n",
       "TotalCharges        11\n",
       "dtype: int64"
      ]
     },
     "execution_count": 6,
     "metadata": {},
     "output_type": "execute_result"
    }
   ],
   "source": [
    "df_contract[df_contract == ' '].count()"
   ]
  },
  {
   "cell_type": "markdown",
   "id": "cfcdad2e",
   "metadata": {},
   "source": [
    "В столбце *TotalCharges* есть пропуски, заполненные пробелом"
   ]
  },
  {
   "cell_type": "code",
   "execution_count": 7,
   "id": "8cbb6b0c",
   "metadata": {},
   "outputs": [
    {
     "data": {
      "text/html": [
       "<div>\n",
       "<style scoped>\n",
       "    .dataframe tbody tr th:only-of-type {\n",
       "        vertical-align: middle;\n",
       "    }\n",
       "\n",
       "    .dataframe tbody tr th {\n",
       "        vertical-align: top;\n",
       "    }\n",
       "\n",
       "    .dataframe thead th {\n",
       "        text-align: right;\n",
       "    }\n",
       "</style>\n",
       "<table border=\"1\" class=\"dataframe\">\n",
       "  <thead>\n",
       "    <tr style=\"text-align: right;\">\n",
       "      <th></th>\n",
       "      <th>customerID</th>\n",
       "      <th>BeginDate</th>\n",
       "      <th>EndDate</th>\n",
       "      <th>Type</th>\n",
       "      <th>PaperlessBilling</th>\n",
       "      <th>PaymentMethod</th>\n",
       "      <th>MonthlyCharges</th>\n",
       "      <th>TotalCharges</th>\n",
       "    </tr>\n",
       "  </thead>\n",
       "  <tbody>\n",
       "    <tr>\n",
       "      <th>488</th>\n",
       "      <td>4472-LVYGI</td>\n",
       "      <td>2020-02-01</td>\n",
       "      <td>No</td>\n",
       "      <td>Two year</td>\n",
       "      <td>Yes</td>\n",
       "      <td>Bank transfer (automatic)</td>\n",
       "      <td>52.55</td>\n",
       "      <td></td>\n",
       "    </tr>\n",
       "    <tr>\n",
       "      <th>753</th>\n",
       "      <td>3115-CZMZD</td>\n",
       "      <td>2020-02-01</td>\n",
       "      <td>No</td>\n",
       "      <td>Two year</td>\n",
       "      <td>No</td>\n",
       "      <td>Mailed check</td>\n",
       "      <td>20.25</td>\n",
       "      <td></td>\n",
       "    </tr>\n",
       "    <tr>\n",
       "      <th>936</th>\n",
       "      <td>5709-LVOEQ</td>\n",
       "      <td>2020-02-01</td>\n",
       "      <td>No</td>\n",
       "      <td>Two year</td>\n",
       "      <td>No</td>\n",
       "      <td>Mailed check</td>\n",
       "      <td>80.85</td>\n",
       "      <td></td>\n",
       "    </tr>\n",
       "    <tr>\n",
       "      <th>1082</th>\n",
       "      <td>4367-NUYAO</td>\n",
       "      <td>2020-02-01</td>\n",
       "      <td>No</td>\n",
       "      <td>Two year</td>\n",
       "      <td>No</td>\n",
       "      <td>Mailed check</td>\n",
       "      <td>25.75</td>\n",
       "      <td></td>\n",
       "    </tr>\n",
       "    <tr>\n",
       "      <th>1340</th>\n",
       "      <td>1371-DWPAZ</td>\n",
       "      <td>2020-02-01</td>\n",
       "      <td>No</td>\n",
       "      <td>Two year</td>\n",
       "      <td>No</td>\n",
       "      <td>Credit card (automatic)</td>\n",
       "      <td>56.05</td>\n",
       "      <td></td>\n",
       "    </tr>\n",
       "    <tr>\n",
       "      <th>3331</th>\n",
       "      <td>7644-OMVMY</td>\n",
       "      <td>2020-02-01</td>\n",
       "      <td>No</td>\n",
       "      <td>Two year</td>\n",
       "      <td>No</td>\n",
       "      <td>Mailed check</td>\n",
       "      <td>19.85</td>\n",
       "      <td></td>\n",
       "    </tr>\n",
       "    <tr>\n",
       "      <th>3826</th>\n",
       "      <td>3213-VVOLG</td>\n",
       "      <td>2020-02-01</td>\n",
       "      <td>No</td>\n",
       "      <td>Two year</td>\n",
       "      <td>No</td>\n",
       "      <td>Mailed check</td>\n",
       "      <td>25.35</td>\n",
       "      <td></td>\n",
       "    </tr>\n",
       "    <tr>\n",
       "      <th>4380</th>\n",
       "      <td>2520-SGTTA</td>\n",
       "      <td>2020-02-01</td>\n",
       "      <td>No</td>\n",
       "      <td>Two year</td>\n",
       "      <td>No</td>\n",
       "      <td>Mailed check</td>\n",
       "      <td>20.00</td>\n",
       "      <td></td>\n",
       "    </tr>\n",
       "    <tr>\n",
       "      <th>5218</th>\n",
       "      <td>2923-ARZLG</td>\n",
       "      <td>2020-02-01</td>\n",
       "      <td>No</td>\n",
       "      <td>One year</td>\n",
       "      <td>Yes</td>\n",
       "      <td>Mailed check</td>\n",
       "      <td>19.70</td>\n",
       "      <td></td>\n",
       "    </tr>\n",
       "    <tr>\n",
       "      <th>6670</th>\n",
       "      <td>4075-WKNIU</td>\n",
       "      <td>2020-02-01</td>\n",
       "      <td>No</td>\n",
       "      <td>Two year</td>\n",
       "      <td>No</td>\n",
       "      <td>Mailed check</td>\n",
       "      <td>73.35</td>\n",
       "      <td></td>\n",
       "    </tr>\n",
       "    <tr>\n",
       "      <th>6754</th>\n",
       "      <td>2775-SEFEE</td>\n",
       "      <td>2020-02-01</td>\n",
       "      <td>No</td>\n",
       "      <td>Two year</td>\n",
       "      <td>Yes</td>\n",
       "      <td>Bank transfer (automatic)</td>\n",
       "      <td>61.90</td>\n",
       "      <td></td>\n",
       "    </tr>\n",
       "  </tbody>\n",
       "</table>\n",
       "</div>"
      ],
      "text/plain": [
       "      customerID   BeginDate EndDate      Type PaperlessBilling  \\\n",
       "488   4472-LVYGI  2020-02-01      No  Two year              Yes   \n",
       "753   3115-CZMZD  2020-02-01      No  Two year               No   \n",
       "936   5709-LVOEQ  2020-02-01      No  Two year               No   \n",
       "1082  4367-NUYAO  2020-02-01      No  Two year               No   \n",
       "1340  1371-DWPAZ  2020-02-01      No  Two year               No   \n",
       "3331  7644-OMVMY  2020-02-01      No  Two year               No   \n",
       "3826  3213-VVOLG  2020-02-01      No  Two year               No   \n",
       "4380  2520-SGTTA  2020-02-01      No  Two year               No   \n",
       "5218  2923-ARZLG  2020-02-01      No  One year              Yes   \n",
       "6670  4075-WKNIU  2020-02-01      No  Two year               No   \n",
       "6754  2775-SEFEE  2020-02-01      No  Two year              Yes   \n",
       "\n",
       "                  PaymentMethod  MonthlyCharges TotalCharges  \n",
       "488   Bank transfer (automatic)           52.55               \n",
       "753                Mailed check           20.25               \n",
       "936                Mailed check           80.85               \n",
       "1082               Mailed check           25.75               \n",
       "1340    Credit card (automatic)           56.05               \n",
       "3331               Mailed check           19.85               \n",
       "3826               Mailed check           25.35               \n",
       "4380               Mailed check           20.00               \n",
       "5218               Mailed check           19.70               \n",
       "6670               Mailed check           73.35               \n",
       "6754  Bank transfer (automatic)           61.90               "
      ]
     },
     "execution_count": 7,
     "metadata": {},
     "output_type": "execute_result"
    }
   ],
   "source": [
    "df_contract[df_contract['TotalCharges'] == ' ']"
   ]
  },
  {
   "cell_type": "markdown",
   "id": "603904ab",
   "metadata": {},
   "source": [
    "Необходимо привести значения в столбцах *BeginDate* и *EndDate* к типу datetime.\n",
    "\n",
    "В столбце *TotalCharges* привести значения к численному типу\n",
    "\n",
    "Необходимо обработать пропуски в столбце *TotalCharges*"
   ]
  },
  {
   "cell_type": "markdown",
   "id": "5025dc79",
   "metadata": {},
   "source": [
    "### Персональные данные клиентов"
   ]
  },
  {
   "cell_type": "code",
   "execution_count": 8,
   "id": "f647f095",
   "metadata": {},
   "outputs": [
    {
     "data": {
      "text/html": [
       "<div>\n",
       "<style scoped>\n",
       "    .dataframe tbody tr th:only-of-type {\n",
       "        vertical-align: middle;\n",
       "    }\n",
       "\n",
       "    .dataframe tbody tr th {\n",
       "        vertical-align: top;\n",
       "    }\n",
       "\n",
       "    .dataframe thead th {\n",
       "        text-align: right;\n",
       "    }\n",
       "</style>\n",
       "<table border=\"1\" class=\"dataframe\">\n",
       "  <thead>\n",
       "    <tr style=\"text-align: right;\">\n",
       "      <th></th>\n",
       "      <th>customerID</th>\n",
       "      <th>gender</th>\n",
       "      <th>SeniorCitizen</th>\n",
       "      <th>Partner</th>\n",
       "      <th>Dependents</th>\n",
       "    </tr>\n",
       "  </thead>\n",
       "  <tbody>\n",
       "    <tr>\n",
       "      <th>0</th>\n",
       "      <td>7590-VHVEG</td>\n",
       "      <td>Female</td>\n",
       "      <td>0</td>\n",
       "      <td>Yes</td>\n",
       "      <td>No</td>\n",
       "    </tr>\n",
       "    <tr>\n",
       "      <th>1</th>\n",
       "      <td>5575-GNVDE</td>\n",
       "      <td>Male</td>\n",
       "      <td>0</td>\n",
       "      <td>No</td>\n",
       "      <td>No</td>\n",
       "    </tr>\n",
       "    <tr>\n",
       "      <th>2</th>\n",
       "      <td>3668-QPYBK</td>\n",
       "      <td>Male</td>\n",
       "      <td>0</td>\n",
       "      <td>No</td>\n",
       "      <td>No</td>\n",
       "    </tr>\n",
       "    <tr>\n",
       "      <th>3</th>\n",
       "      <td>7795-CFOCW</td>\n",
       "      <td>Male</td>\n",
       "      <td>0</td>\n",
       "      <td>No</td>\n",
       "      <td>No</td>\n",
       "    </tr>\n",
       "    <tr>\n",
       "      <th>4</th>\n",
       "      <td>9237-HQITU</td>\n",
       "      <td>Female</td>\n",
       "      <td>0</td>\n",
       "      <td>No</td>\n",
       "      <td>No</td>\n",
       "    </tr>\n",
       "  </tbody>\n",
       "</table>\n",
       "</div>"
      ],
      "text/plain": [
       "   customerID  gender  SeniorCitizen Partner Dependents\n",
       "0  7590-VHVEG  Female              0     Yes         No\n",
       "1  5575-GNVDE    Male              0      No         No\n",
       "2  3668-QPYBK    Male              0      No         No\n",
       "3  7795-CFOCW    Male              0      No         No\n",
       "4  9237-HQITU  Female              0      No         No"
      ]
     },
     "execution_count": 8,
     "metadata": {},
     "output_type": "execute_result"
    }
   ],
   "source": [
    "try: df_personal = pd.read_csv('personal_new.csv')\n",
    "except: df_personal = pd.read_csv('/datasets/personal_new.csv')\n",
    "df_personal.head()"
   ]
  },
  {
   "cell_type": "code",
   "execution_count": 9,
   "id": "f44cdf95",
   "metadata": {},
   "outputs": [
    {
     "name": "stdout",
     "output_type": "stream",
     "text": [
      "<class 'pandas.core.frame.DataFrame'>\n",
      "RangeIndex: 7043 entries, 0 to 7042\n",
      "Data columns (total 5 columns):\n",
      " #   Column         Non-Null Count  Dtype \n",
      "---  ------         --------------  ----- \n",
      " 0   customerID     7043 non-null   object\n",
      " 1   gender         7043 non-null   object\n",
      " 2   SeniorCitizen  7043 non-null   int64 \n",
      " 3   Partner        7043 non-null   object\n",
      " 4   Dependents     7043 non-null   object\n",
      "dtypes: int64(1), object(4)\n",
      "memory usage: 275.2+ KB\n"
     ]
    }
   ],
   "source": [
    "df_personal.info()"
   ]
  },
  {
   "cell_type": "code",
   "execution_count": 10,
   "id": "32b74275",
   "metadata": {},
   "outputs": [
    {
     "data": {
      "text/html": [
       "<div>\n",
       "<style scoped>\n",
       "    .dataframe tbody tr th:only-of-type {\n",
       "        vertical-align: middle;\n",
       "    }\n",
       "\n",
       "    .dataframe tbody tr th {\n",
       "        vertical-align: top;\n",
       "    }\n",
       "\n",
       "    .dataframe thead th {\n",
       "        text-align: right;\n",
       "    }\n",
       "</style>\n",
       "<table border=\"1\" class=\"dataframe\">\n",
       "  <thead>\n",
       "    <tr style=\"text-align: right;\">\n",
       "      <th></th>\n",
       "      <th>SeniorCitizen</th>\n",
       "    </tr>\n",
       "  </thead>\n",
       "  <tbody>\n",
       "    <tr>\n",
       "      <th>count</th>\n",
       "      <td>7043.000000</td>\n",
       "    </tr>\n",
       "    <tr>\n",
       "      <th>mean</th>\n",
       "      <td>0.162147</td>\n",
       "    </tr>\n",
       "    <tr>\n",
       "      <th>std</th>\n",
       "      <td>0.368612</td>\n",
       "    </tr>\n",
       "    <tr>\n",
       "      <th>min</th>\n",
       "      <td>0.000000</td>\n",
       "    </tr>\n",
       "    <tr>\n",
       "      <th>25%</th>\n",
       "      <td>0.000000</td>\n",
       "    </tr>\n",
       "    <tr>\n",
       "      <th>50%</th>\n",
       "      <td>0.000000</td>\n",
       "    </tr>\n",
       "    <tr>\n",
       "      <th>75%</th>\n",
       "      <td>0.000000</td>\n",
       "    </tr>\n",
       "    <tr>\n",
       "      <th>max</th>\n",
       "      <td>1.000000</td>\n",
       "    </tr>\n",
       "  </tbody>\n",
       "</table>\n",
       "</div>"
      ],
      "text/plain": [
       "       SeniorCitizen\n",
       "count    7043.000000\n",
       "mean        0.162147\n",
       "std         0.368612\n",
       "min         0.000000\n",
       "25%         0.000000\n",
       "50%         0.000000\n",
       "75%         0.000000\n",
       "max         1.000000"
      ]
     },
     "execution_count": 10,
     "metadata": {},
     "output_type": "execute_result"
    }
   ],
   "source": [
    "df_personal.describe()"
   ]
  },
  {
   "cell_type": "code",
   "execution_count": 11,
   "id": "1575298e",
   "metadata": {},
   "outputs": [
    {
     "data": {
      "text/plain": [
       "customerID       0\n",
       "gender           0\n",
       "SeniorCitizen    0\n",
       "Partner          0\n",
       "Dependents       0\n",
       "dtype: int64"
      ]
     },
     "execution_count": 11,
     "metadata": {},
     "output_type": "execute_result"
    }
   ],
   "source": [
    "df_personal[df_personal == ' '].count()"
   ]
  },
  {
   "cell_type": "markdown",
   "id": "f9822b85",
   "metadata": {},
   "source": [
    "Пропусков в данных нет"
   ]
  },
  {
   "cell_type": "markdown",
   "id": "e61a32a9",
   "metadata": {},
   "source": [
    "### Информация об интернет-услугах"
   ]
  },
  {
   "cell_type": "code",
   "execution_count": 12,
   "id": "3710edae",
   "metadata": {},
   "outputs": [
    {
     "data": {
      "text/html": [
       "<div>\n",
       "<style scoped>\n",
       "    .dataframe tbody tr th:only-of-type {\n",
       "        vertical-align: middle;\n",
       "    }\n",
       "\n",
       "    .dataframe tbody tr th {\n",
       "        vertical-align: top;\n",
       "    }\n",
       "\n",
       "    .dataframe thead th {\n",
       "        text-align: right;\n",
       "    }\n",
       "</style>\n",
       "<table border=\"1\" class=\"dataframe\">\n",
       "  <thead>\n",
       "    <tr style=\"text-align: right;\">\n",
       "      <th></th>\n",
       "      <th>customerID</th>\n",
       "      <th>InternetService</th>\n",
       "      <th>OnlineSecurity</th>\n",
       "      <th>OnlineBackup</th>\n",
       "      <th>DeviceProtection</th>\n",
       "      <th>TechSupport</th>\n",
       "      <th>StreamingTV</th>\n",
       "      <th>StreamingMovies</th>\n",
       "    </tr>\n",
       "  </thead>\n",
       "  <tbody>\n",
       "    <tr>\n",
       "      <th>0</th>\n",
       "      <td>7590-VHVEG</td>\n",
       "      <td>DSL</td>\n",
       "      <td>No</td>\n",
       "      <td>Yes</td>\n",
       "      <td>No</td>\n",
       "      <td>No</td>\n",
       "      <td>No</td>\n",
       "      <td>No</td>\n",
       "    </tr>\n",
       "    <tr>\n",
       "      <th>1</th>\n",
       "      <td>5575-GNVDE</td>\n",
       "      <td>DSL</td>\n",
       "      <td>Yes</td>\n",
       "      <td>No</td>\n",
       "      <td>Yes</td>\n",
       "      <td>No</td>\n",
       "      <td>No</td>\n",
       "      <td>No</td>\n",
       "    </tr>\n",
       "    <tr>\n",
       "      <th>2</th>\n",
       "      <td>3668-QPYBK</td>\n",
       "      <td>DSL</td>\n",
       "      <td>Yes</td>\n",
       "      <td>Yes</td>\n",
       "      <td>No</td>\n",
       "      <td>No</td>\n",
       "      <td>No</td>\n",
       "      <td>No</td>\n",
       "    </tr>\n",
       "    <tr>\n",
       "      <th>3</th>\n",
       "      <td>7795-CFOCW</td>\n",
       "      <td>DSL</td>\n",
       "      <td>Yes</td>\n",
       "      <td>No</td>\n",
       "      <td>Yes</td>\n",
       "      <td>Yes</td>\n",
       "      <td>No</td>\n",
       "      <td>No</td>\n",
       "    </tr>\n",
       "    <tr>\n",
       "      <th>4</th>\n",
       "      <td>9237-HQITU</td>\n",
       "      <td>Fiber optic</td>\n",
       "      <td>No</td>\n",
       "      <td>No</td>\n",
       "      <td>No</td>\n",
       "      <td>No</td>\n",
       "      <td>No</td>\n",
       "      <td>No</td>\n",
       "    </tr>\n",
       "  </tbody>\n",
       "</table>\n",
       "</div>"
      ],
      "text/plain": [
       "   customerID InternetService OnlineSecurity OnlineBackup DeviceProtection  \\\n",
       "0  7590-VHVEG             DSL             No          Yes               No   \n",
       "1  5575-GNVDE             DSL            Yes           No              Yes   \n",
       "2  3668-QPYBK             DSL            Yes          Yes               No   \n",
       "3  7795-CFOCW             DSL            Yes           No              Yes   \n",
       "4  9237-HQITU     Fiber optic             No           No               No   \n",
       "\n",
       "  TechSupport StreamingTV StreamingMovies  \n",
       "0          No          No              No  \n",
       "1          No          No              No  \n",
       "2          No          No              No  \n",
       "3         Yes          No              No  \n",
       "4          No          No              No  "
      ]
     },
     "execution_count": 12,
     "metadata": {},
     "output_type": "execute_result"
    }
   ],
   "source": [
    "try: df_internet = pd.read_csv('internet_new.csv')\n",
    "except: df_internet = pd.read_csv('/datasets/internet_new.csv')\n",
    "df_internet.head()"
   ]
  },
  {
   "cell_type": "code",
   "execution_count": 13,
   "id": "29eadc66",
   "metadata": {},
   "outputs": [
    {
     "name": "stdout",
     "output_type": "stream",
     "text": [
      "<class 'pandas.core.frame.DataFrame'>\n",
      "RangeIndex: 5517 entries, 0 to 5516\n",
      "Data columns (total 8 columns):\n",
      " #   Column            Non-Null Count  Dtype \n",
      "---  ------            --------------  ----- \n",
      " 0   customerID        5517 non-null   object\n",
      " 1   InternetService   5517 non-null   object\n",
      " 2   OnlineSecurity    5517 non-null   object\n",
      " 3   OnlineBackup      5517 non-null   object\n",
      " 4   DeviceProtection  5517 non-null   object\n",
      " 5   TechSupport       5517 non-null   object\n",
      " 6   StreamingTV       5517 non-null   object\n",
      " 7   StreamingMovies   5517 non-null   object\n",
      "dtypes: object(8)\n",
      "memory usage: 344.9+ KB\n"
     ]
    }
   ],
   "source": [
    "df_internet.info()"
   ]
  },
  {
   "cell_type": "code",
   "execution_count": 14,
   "id": "2d810403",
   "metadata": {},
   "outputs": [
    {
     "data": {
      "text/html": [
       "<div>\n",
       "<style scoped>\n",
       "    .dataframe tbody tr th:only-of-type {\n",
       "        vertical-align: middle;\n",
       "    }\n",
       "\n",
       "    .dataframe tbody tr th {\n",
       "        vertical-align: top;\n",
       "    }\n",
       "\n",
       "    .dataframe thead th {\n",
       "        text-align: right;\n",
       "    }\n",
       "</style>\n",
       "<table border=\"1\" class=\"dataframe\">\n",
       "  <thead>\n",
       "    <tr style=\"text-align: right;\">\n",
       "      <th></th>\n",
       "      <th>customerID</th>\n",
       "      <th>InternetService</th>\n",
       "      <th>OnlineSecurity</th>\n",
       "      <th>OnlineBackup</th>\n",
       "      <th>DeviceProtection</th>\n",
       "      <th>TechSupport</th>\n",
       "      <th>StreamingTV</th>\n",
       "      <th>StreamingMovies</th>\n",
       "    </tr>\n",
       "  </thead>\n",
       "  <tbody>\n",
       "    <tr>\n",
       "      <th>count</th>\n",
       "      <td>5517</td>\n",
       "      <td>5517</td>\n",
       "      <td>5517</td>\n",
       "      <td>5517</td>\n",
       "      <td>5517</td>\n",
       "      <td>5517</td>\n",
       "      <td>5517</td>\n",
       "      <td>5517</td>\n",
       "    </tr>\n",
       "    <tr>\n",
       "      <th>unique</th>\n",
       "      <td>5517</td>\n",
       "      <td>2</td>\n",
       "      <td>2</td>\n",
       "      <td>2</td>\n",
       "      <td>2</td>\n",
       "      <td>2</td>\n",
       "      <td>2</td>\n",
       "      <td>2</td>\n",
       "    </tr>\n",
       "    <tr>\n",
       "      <th>top</th>\n",
       "      <td>7590-VHVEG</td>\n",
       "      <td>Fiber optic</td>\n",
       "      <td>No</td>\n",
       "      <td>No</td>\n",
       "      <td>No</td>\n",
       "      <td>No</td>\n",
       "      <td>No</td>\n",
       "      <td>No</td>\n",
       "    </tr>\n",
       "    <tr>\n",
       "      <th>freq</th>\n",
       "      <td>1</td>\n",
       "      <td>3096</td>\n",
       "      <td>3498</td>\n",
       "      <td>3088</td>\n",
       "      <td>3095</td>\n",
       "      <td>3473</td>\n",
       "      <td>2810</td>\n",
       "      <td>2785</td>\n",
       "    </tr>\n",
       "  </tbody>\n",
       "</table>\n",
       "</div>"
      ],
      "text/plain": [
       "        customerID InternetService OnlineSecurity OnlineBackup  \\\n",
       "count         5517            5517           5517         5517   \n",
       "unique        5517               2              2            2   \n",
       "top     7590-VHVEG     Fiber optic             No           No   \n",
       "freq             1            3096           3498         3088   \n",
       "\n",
       "       DeviceProtection TechSupport StreamingTV StreamingMovies  \n",
       "count              5517        5517        5517            5517  \n",
       "unique                2           2           2               2  \n",
       "top                  No          No          No              No  \n",
       "freq               3095        3473        2810            2785  "
      ]
     },
     "execution_count": 14,
     "metadata": {},
     "output_type": "execute_result"
    }
   ],
   "source": [
    "df_internet.describe()"
   ]
  },
  {
   "cell_type": "code",
   "execution_count": 15,
   "id": "5467b171",
   "metadata": {},
   "outputs": [
    {
     "data": {
      "text/plain": [
       "customerID          0\n",
       "InternetService     0\n",
       "OnlineSecurity      0\n",
       "OnlineBackup        0\n",
       "DeviceProtection    0\n",
       "TechSupport         0\n",
       "StreamingTV         0\n",
       "StreamingMovies     0\n",
       "dtype: int64"
      ]
     },
     "execution_count": 15,
     "metadata": {},
     "output_type": "execute_result"
    }
   ],
   "source": [
    "df_internet[df_internet == ' '].count()"
   ]
  },
  {
   "cell_type": "markdown",
   "id": "b7027749",
   "metadata": {},
   "source": [
    "Пропусков в данных нет"
   ]
  },
  {
   "cell_type": "markdown",
   "id": "3b0e629e",
   "metadata": {},
   "source": [
    "### Информация об услугах телефонии"
   ]
  },
  {
   "cell_type": "code",
   "execution_count": 16,
   "id": "f07f634f",
   "metadata": {},
   "outputs": [
    {
     "data": {
      "text/html": [
       "<div>\n",
       "<style scoped>\n",
       "    .dataframe tbody tr th:only-of-type {\n",
       "        vertical-align: middle;\n",
       "    }\n",
       "\n",
       "    .dataframe tbody tr th {\n",
       "        vertical-align: top;\n",
       "    }\n",
       "\n",
       "    .dataframe thead th {\n",
       "        text-align: right;\n",
       "    }\n",
       "</style>\n",
       "<table border=\"1\" class=\"dataframe\">\n",
       "  <thead>\n",
       "    <tr style=\"text-align: right;\">\n",
       "      <th></th>\n",
       "      <th>customerID</th>\n",
       "      <th>MultipleLines</th>\n",
       "    </tr>\n",
       "  </thead>\n",
       "  <tbody>\n",
       "    <tr>\n",
       "      <th>0</th>\n",
       "      <td>5575-GNVDE</td>\n",
       "      <td>No</td>\n",
       "    </tr>\n",
       "    <tr>\n",
       "      <th>1</th>\n",
       "      <td>3668-QPYBK</td>\n",
       "      <td>No</td>\n",
       "    </tr>\n",
       "    <tr>\n",
       "      <th>2</th>\n",
       "      <td>9237-HQITU</td>\n",
       "      <td>No</td>\n",
       "    </tr>\n",
       "    <tr>\n",
       "      <th>3</th>\n",
       "      <td>9305-CDSKC</td>\n",
       "      <td>Yes</td>\n",
       "    </tr>\n",
       "    <tr>\n",
       "      <th>4</th>\n",
       "      <td>1452-KIOVK</td>\n",
       "      <td>Yes</td>\n",
       "    </tr>\n",
       "  </tbody>\n",
       "</table>\n",
       "</div>"
      ],
      "text/plain": [
       "   customerID MultipleLines\n",
       "0  5575-GNVDE            No\n",
       "1  3668-QPYBK            No\n",
       "2  9237-HQITU            No\n",
       "3  9305-CDSKC           Yes\n",
       "4  1452-KIOVK           Yes"
      ]
     },
     "execution_count": 16,
     "metadata": {},
     "output_type": "execute_result"
    }
   ],
   "source": [
    "try: df_phone = pd.read_csv('phone_new.csv')\n",
    "except: df_phone = pd.read_csv('/datasets/phone_new.csv')\n",
    "df_phone.head()"
   ]
  },
  {
   "cell_type": "code",
   "execution_count": 17,
   "id": "faa9e851",
   "metadata": {},
   "outputs": [
    {
     "name": "stdout",
     "output_type": "stream",
     "text": [
      "<class 'pandas.core.frame.DataFrame'>\n",
      "RangeIndex: 6361 entries, 0 to 6360\n",
      "Data columns (total 2 columns):\n",
      " #   Column         Non-Null Count  Dtype \n",
      "---  ------         --------------  ----- \n",
      " 0   customerID     6361 non-null   object\n",
      " 1   MultipleLines  6361 non-null   object\n",
      "dtypes: object(2)\n",
      "memory usage: 99.5+ KB\n"
     ]
    }
   ],
   "source": [
    "df_phone.info()"
   ]
  },
  {
   "cell_type": "code",
   "execution_count": 18,
   "id": "343296fc",
   "metadata": {},
   "outputs": [
    {
     "data": {
      "text/html": [
       "<div>\n",
       "<style scoped>\n",
       "    .dataframe tbody tr th:only-of-type {\n",
       "        vertical-align: middle;\n",
       "    }\n",
       "\n",
       "    .dataframe tbody tr th {\n",
       "        vertical-align: top;\n",
       "    }\n",
       "\n",
       "    .dataframe thead th {\n",
       "        text-align: right;\n",
       "    }\n",
       "</style>\n",
       "<table border=\"1\" class=\"dataframe\">\n",
       "  <thead>\n",
       "    <tr style=\"text-align: right;\">\n",
       "      <th></th>\n",
       "      <th>customerID</th>\n",
       "      <th>MultipleLines</th>\n",
       "    </tr>\n",
       "  </thead>\n",
       "  <tbody>\n",
       "    <tr>\n",
       "      <th>count</th>\n",
       "      <td>6361</td>\n",
       "      <td>6361</td>\n",
       "    </tr>\n",
       "    <tr>\n",
       "      <th>unique</th>\n",
       "      <td>6361</td>\n",
       "      <td>2</td>\n",
       "    </tr>\n",
       "    <tr>\n",
       "      <th>top</th>\n",
       "      <td>5575-GNVDE</td>\n",
       "      <td>No</td>\n",
       "    </tr>\n",
       "    <tr>\n",
       "      <th>freq</th>\n",
       "      <td>1</td>\n",
       "      <td>3390</td>\n",
       "    </tr>\n",
       "  </tbody>\n",
       "</table>\n",
       "</div>"
      ],
      "text/plain": [
       "        customerID MultipleLines\n",
       "count         6361          6361\n",
       "unique        6361             2\n",
       "top     5575-GNVDE            No\n",
       "freq             1          3390"
      ]
     },
     "execution_count": 18,
     "metadata": {},
     "output_type": "execute_result"
    }
   ],
   "source": [
    "df_phone.describe()"
   ]
  },
  {
   "cell_type": "code",
   "execution_count": 19,
   "id": "0060c81e",
   "metadata": {},
   "outputs": [
    {
     "data": {
      "text/plain": [
       "customerID       0\n",
       "MultipleLines    0\n",
       "dtype: int64"
      ]
     },
     "execution_count": 19,
     "metadata": {},
     "output_type": "execute_result"
    }
   ],
   "source": [
    "df_phone[df_phone == ' '].count()"
   ]
  },
  {
   "cell_type": "markdown",
   "id": "dfbf332a",
   "metadata": {},
   "source": [
    "Пропусков в данных нет"
   ]
  },
  {
   "cell_type": "markdown",
   "id": "1ea38950",
   "metadata": {},
   "source": [
    "## Предобработка данных"
   ]
  },
  {
   "cell_type": "markdown",
   "id": "ce89621a",
   "metadata": {},
   "source": [
    "Объединим все данные в одну таблицу"
   ]
  },
  {
   "cell_type": "code",
   "execution_count": 20,
   "id": "8fc22d31",
   "metadata": {},
   "outputs": [
    {
     "data": {
      "text/plain": [
       "(7043, 20)"
      ]
     },
     "execution_count": 20,
     "metadata": {},
     "output_type": "execute_result"
    }
   ],
   "source": [
    "df = df_contract.merge(df_personal, how='left', on='customerID') \\\n",
    "                .merge(df_internet, how='left', on='customerID')\\\n",
    "                .merge(df_phone, how='left', on='customerID')\n",
    "df.shape"
   ]
  },
  {
   "cell_type": "markdown",
   "id": "0c48ca8b",
   "metadata": {},
   "source": [
    "Определим также целевой признак. Если в столбце *EndDate* есть дата, то клиент ушел, иначе - нет."
   ]
  },
  {
   "cell_type": "code",
   "execution_count": 21,
   "id": "0b110705",
   "metadata": {},
   "outputs": [],
   "source": [
    "df['left'] = (df['EndDate'] != 'No').astype(int)"
   ]
  },
  {
   "cell_type": "markdown",
   "id": "ed962eb8",
   "metadata": {},
   "source": [
    "### Обработка пропусков"
   ]
  },
  {
   "cell_type": "markdown",
   "id": "b8a1e485",
   "metadata": {},
   "source": [
    "Посмотрим еще раз на пропуски в столбце *TotalCharges*"
   ]
  },
  {
   "cell_type": "code",
   "execution_count": 22,
   "id": "58b0334a",
   "metadata": {},
   "outputs": [
    {
     "data": {
      "text/html": [
       "<div>\n",
       "<style scoped>\n",
       "    .dataframe tbody tr th:only-of-type {\n",
       "        vertical-align: middle;\n",
       "    }\n",
       "\n",
       "    .dataframe tbody tr th {\n",
       "        vertical-align: top;\n",
       "    }\n",
       "\n",
       "    .dataframe thead th {\n",
       "        text-align: right;\n",
       "    }\n",
       "</style>\n",
       "<table border=\"1\" class=\"dataframe\">\n",
       "  <thead>\n",
       "    <tr style=\"text-align: right;\">\n",
       "      <th></th>\n",
       "      <th>customerID</th>\n",
       "      <th>BeginDate</th>\n",
       "      <th>EndDate</th>\n",
       "      <th>Type</th>\n",
       "      <th>PaperlessBilling</th>\n",
       "      <th>PaymentMethod</th>\n",
       "      <th>MonthlyCharges</th>\n",
       "      <th>TotalCharges</th>\n",
       "    </tr>\n",
       "  </thead>\n",
       "  <tbody>\n",
       "    <tr>\n",
       "      <th>488</th>\n",
       "      <td>4472-LVYGI</td>\n",
       "      <td>2020-02-01</td>\n",
       "      <td>No</td>\n",
       "      <td>Two year</td>\n",
       "      <td>Yes</td>\n",
       "      <td>Bank transfer (automatic)</td>\n",
       "      <td>52.55</td>\n",
       "      <td></td>\n",
       "    </tr>\n",
       "    <tr>\n",
       "      <th>753</th>\n",
       "      <td>3115-CZMZD</td>\n",
       "      <td>2020-02-01</td>\n",
       "      <td>No</td>\n",
       "      <td>Two year</td>\n",
       "      <td>No</td>\n",
       "      <td>Mailed check</td>\n",
       "      <td>20.25</td>\n",
       "      <td></td>\n",
       "    </tr>\n",
       "    <tr>\n",
       "      <th>936</th>\n",
       "      <td>5709-LVOEQ</td>\n",
       "      <td>2020-02-01</td>\n",
       "      <td>No</td>\n",
       "      <td>Two year</td>\n",
       "      <td>No</td>\n",
       "      <td>Mailed check</td>\n",
       "      <td>80.85</td>\n",
       "      <td></td>\n",
       "    </tr>\n",
       "    <tr>\n",
       "      <th>1082</th>\n",
       "      <td>4367-NUYAO</td>\n",
       "      <td>2020-02-01</td>\n",
       "      <td>No</td>\n",
       "      <td>Two year</td>\n",
       "      <td>No</td>\n",
       "      <td>Mailed check</td>\n",
       "      <td>25.75</td>\n",
       "      <td></td>\n",
       "    </tr>\n",
       "    <tr>\n",
       "      <th>1340</th>\n",
       "      <td>1371-DWPAZ</td>\n",
       "      <td>2020-02-01</td>\n",
       "      <td>No</td>\n",
       "      <td>Two year</td>\n",
       "      <td>No</td>\n",
       "      <td>Credit card (automatic)</td>\n",
       "      <td>56.05</td>\n",
       "      <td></td>\n",
       "    </tr>\n",
       "    <tr>\n",
       "      <th>3331</th>\n",
       "      <td>7644-OMVMY</td>\n",
       "      <td>2020-02-01</td>\n",
       "      <td>No</td>\n",
       "      <td>Two year</td>\n",
       "      <td>No</td>\n",
       "      <td>Mailed check</td>\n",
       "      <td>19.85</td>\n",
       "      <td></td>\n",
       "    </tr>\n",
       "    <tr>\n",
       "      <th>3826</th>\n",
       "      <td>3213-VVOLG</td>\n",
       "      <td>2020-02-01</td>\n",
       "      <td>No</td>\n",
       "      <td>Two year</td>\n",
       "      <td>No</td>\n",
       "      <td>Mailed check</td>\n",
       "      <td>25.35</td>\n",
       "      <td></td>\n",
       "    </tr>\n",
       "    <tr>\n",
       "      <th>4380</th>\n",
       "      <td>2520-SGTTA</td>\n",
       "      <td>2020-02-01</td>\n",
       "      <td>No</td>\n",
       "      <td>Two year</td>\n",
       "      <td>No</td>\n",
       "      <td>Mailed check</td>\n",
       "      <td>20.00</td>\n",
       "      <td></td>\n",
       "    </tr>\n",
       "    <tr>\n",
       "      <th>5218</th>\n",
       "      <td>2923-ARZLG</td>\n",
       "      <td>2020-02-01</td>\n",
       "      <td>No</td>\n",
       "      <td>One year</td>\n",
       "      <td>Yes</td>\n",
       "      <td>Mailed check</td>\n",
       "      <td>19.70</td>\n",
       "      <td></td>\n",
       "    </tr>\n",
       "    <tr>\n",
       "      <th>6670</th>\n",
       "      <td>4075-WKNIU</td>\n",
       "      <td>2020-02-01</td>\n",
       "      <td>No</td>\n",
       "      <td>Two year</td>\n",
       "      <td>No</td>\n",
       "      <td>Mailed check</td>\n",
       "      <td>73.35</td>\n",
       "      <td></td>\n",
       "    </tr>\n",
       "    <tr>\n",
       "      <th>6754</th>\n",
       "      <td>2775-SEFEE</td>\n",
       "      <td>2020-02-01</td>\n",
       "      <td>No</td>\n",
       "      <td>Two year</td>\n",
       "      <td>Yes</td>\n",
       "      <td>Bank transfer (automatic)</td>\n",
       "      <td>61.90</td>\n",
       "      <td></td>\n",
       "    </tr>\n",
       "  </tbody>\n",
       "</table>\n",
       "</div>"
      ],
      "text/plain": [
       "      customerID   BeginDate EndDate      Type PaperlessBilling  \\\n",
       "488   4472-LVYGI  2020-02-01      No  Two year              Yes   \n",
       "753   3115-CZMZD  2020-02-01      No  Two year               No   \n",
       "936   5709-LVOEQ  2020-02-01      No  Two year               No   \n",
       "1082  4367-NUYAO  2020-02-01      No  Two year               No   \n",
       "1340  1371-DWPAZ  2020-02-01      No  Two year               No   \n",
       "3331  7644-OMVMY  2020-02-01      No  Two year               No   \n",
       "3826  3213-VVOLG  2020-02-01      No  Two year               No   \n",
       "4380  2520-SGTTA  2020-02-01      No  Two year               No   \n",
       "5218  2923-ARZLG  2020-02-01      No  One year              Yes   \n",
       "6670  4075-WKNIU  2020-02-01      No  Two year               No   \n",
       "6754  2775-SEFEE  2020-02-01      No  Two year              Yes   \n",
       "\n",
       "                  PaymentMethod  MonthlyCharges TotalCharges  \n",
       "488   Bank transfer (automatic)           52.55               \n",
       "753                Mailed check           20.25               \n",
       "936                Mailed check           80.85               \n",
       "1082               Mailed check           25.75               \n",
       "1340    Credit card (automatic)           56.05               \n",
       "3331               Mailed check           19.85               \n",
       "3826               Mailed check           25.35               \n",
       "4380               Mailed check           20.00               \n",
       "5218               Mailed check           19.70               \n",
       "6670               Mailed check           73.35               \n",
       "6754  Bank transfer (automatic)           61.90               "
      ]
     },
     "execution_count": 22,
     "metadata": {},
     "output_type": "execute_result"
    }
   ],
   "source": [
    "df_contract[df_contract['TotalCharges'] == ' ']"
   ]
  },
  {
   "cell_type": "markdown",
   "id": "fca9bd69",
   "metadata": {},
   "source": [
    "Можно заметить, что в строках с пропуском дата начала пользования услугами совпадает с датой выгрузки данных (2020-02-01). Значит, что это совсем новые клиенты и их затраты на услуги пока что равны 0. Заполним пропуски нулями"
   ]
  },
  {
   "cell_type": "code",
   "execution_count": 23,
   "id": "11b49577",
   "metadata": {},
   "outputs": [
    {
     "data": {
      "text/plain": [
       "0"
      ]
     },
     "execution_count": 23,
     "metadata": {},
     "output_type": "execute_result"
    }
   ],
   "source": [
    "df.loc[df['TotalCharges'] == ' ', 'TotalCharges'] = '0'\n",
    "df['TotalCharges'][df['TotalCharges'] == ' '].count()"
   ]
  },
  {
   "cell_type": "markdown",
   "id": "838afb25",
   "metadata": {},
   "source": [
    "Посмотрим на наличие пропусков в объединенной таблице в других столбцах"
   ]
  },
  {
   "cell_type": "code",
   "execution_count": 24,
   "id": "314494fd",
   "metadata": {},
   "outputs": [
    {
     "data": {
      "text/plain": [
       "customerID             0\n",
       "BeginDate              0\n",
       "EndDate                0\n",
       "Type                   0\n",
       "PaperlessBilling       0\n",
       "PaymentMethod          0\n",
       "MonthlyCharges         0\n",
       "TotalCharges           0\n",
       "gender                 0\n",
       "SeniorCitizen          0\n",
       "Partner                0\n",
       "Dependents             0\n",
       "InternetService     1526\n",
       "OnlineSecurity      1526\n",
       "OnlineBackup        1526\n",
       "DeviceProtection    1526\n",
       "TechSupport         1526\n",
       "StreamingTV         1526\n",
       "StreamingMovies     1526\n",
       "MultipleLines        682\n",
       "left                   0\n",
       "dtype: int64"
      ]
     },
     "execution_count": 24,
     "metadata": {},
     "output_type": "execute_result"
    }
   ],
   "source": [
    "df.isna().sum()"
   ]
  },
  {
   "cell_type": "markdown",
   "id": "eceab0eb",
   "metadata": {},
   "source": [
    "Видно, что есть пропуски в столбцах с подключенными услугами (помимо столбца *TotalCharges*). Можно предположить, что пропуск означает, что у клинета услуга не подключена. Заменим пропуски на *'No'*"
   ]
  },
  {
   "cell_type": "code",
   "execution_count": 25,
   "id": "8a4712c1",
   "metadata": {},
   "outputs": [
    {
     "data": {
      "text/plain": [
       "customerID          0\n",
       "BeginDate           0\n",
       "EndDate             0\n",
       "Type                0\n",
       "PaperlessBilling    0\n",
       "PaymentMethod       0\n",
       "MonthlyCharges      0\n",
       "TotalCharges        0\n",
       "gender              0\n",
       "SeniorCitizen       0\n",
       "Partner             0\n",
       "Dependents          0\n",
       "InternetService     0\n",
       "OnlineSecurity      0\n",
       "OnlineBackup        0\n",
       "DeviceProtection    0\n",
       "TechSupport         0\n",
       "StreamingTV         0\n",
       "StreamingMovies     0\n",
       "MultipleLines       0\n",
       "left                0\n",
       "dtype: int64"
      ]
     },
     "execution_count": 25,
     "metadata": {},
     "output_type": "execute_result"
    }
   ],
   "source": [
    "df = df.fillna('No')\n",
    "df.isna().sum()"
   ]
  },
  {
   "cell_type": "markdown",
   "id": "a488a9c3",
   "metadata": {},
   "source": [
    "### Изменение типов данных"
   ]
  },
  {
   "cell_type": "markdown",
   "id": "21ed4f25",
   "metadata": {},
   "source": [
    "Заменим в столбце *EndDate* значения *'No'* на дату выгрузки данных (2020-02-01)"
   ]
  },
  {
   "cell_type": "code",
   "execution_count": 26,
   "id": "4fd68a7b",
   "metadata": {},
   "outputs": [],
   "source": [
    "df['EndDate'] = df['EndDate'].replace('No', '2020-02-01')"
   ]
  },
  {
   "cell_type": "markdown",
   "id": "b0c0f3b6",
   "metadata": {},
   "source": [
    "Приведем столбцы *BeginDate* и *EndDate* в тип datetime"
   ]
  },
  {
   "cell_type": "code",
   "execution_count": 27,
   "id": "77a659f9",
   "metadata": {},
   "outputs": [
    {
     "name": "stdout",
     "output_type": "stream",
     "text": [
      "<class 'pandas.core.frame.DataFrame'>\n",
      "Int64Index: 7043 entries, 0 to 7042\n",
      "Data columns (total 21 columns):\n",
      " #   Column            Non-Null Count  Dtype         \n",
      "---  ------            --------------  -----         \n",
      " 0   customerID        7043 non-null   object        \n",
      " 1   BeginDate         7043 non-null   datetime64[ns]\n",
      " 2   EndDate           7043 non-null   datetime64[ns]\n",
      " 3   Type              7043 non-null   object        \n",
      " 4   PaperlessBilling  7043 non-null   object        \n",
      " 5   PaymentMethod     7043 non-null   object        \n",
      " 6   MonthlyCharges    7043 non-null   float64       \n",
      " 7   TotalCharges      7043 non-null   object        \n",
      " 8   gender            7043 non-null   object        \n",
      " 9   SeniorCitizen     7043 non-null   int64         \n",
      " 10  Partner           7043 non-null   object        \n",
      " 11  Dependents        7043 non-null   object        \n",
      " 12  InternetService   7043 non-null   object        \n",
      " 13  OnlineSecurity    7043 non-null   object        \n",
      " 14  OnlineBackup      7043 non-null   object        \n",
      " 15  DeviceProtection  7043 non-null   object        \n",
      " 16  TechSupport       7043 non-null   object        \n",
      " 17  StreamingTV       7043 non-null   object        \n",
      " 18  StreamingMovies   7043 non-null   object        \n",
      " 19  MultipleLines     7043 non-null   object        \n",
      " 20  left              7043 non-null   int32         \n",
      "dtypes: datetime64[ns](2), float64(1), int32(1), int64(1), object(16)\n",
      "memory usage: 1.2+ MB\n"
     ]
    }
   ],
   "source": [
    "df['BeginDate'] = pd.to_datetime(df['BeginDate'], format='%Y-%m-%d')\n",
    "df['EndDate'] = pd.to_datetime(df['EndDate'], format='%Y-%m-%d')\n",
    "df.info()"
   ]
  },
  {
   "cell_type": "markdown",
   "id": "cc03ef83",
   "metadata": {},
   "source": [
    "Приведем данные в столбце TotalCharges к численному типу "
   ]
  },
  {
   "cell_type": "code",
   "execution_count": 28,
   "id": "8538bfd6",
   "metadata": {},
   "outputs": [
    {
     "name": "stdout",
     "output_type": "stream",
     "text": [
      "<class 'pandas.core.frame.DataFrame'>\n",
      "Int64Index: 7043 entries, 0 to 7042\n",
      "Data columns (total 21 columns):\n",
      " #   Column            Non-Null Count  Dtype         \n",
      "---  ------            --------------  -----         \n",
      " 0   customerID        7043 non-null   object        \n",
      " 1   BeginDate         7043 non-null   datetime64[ns]\n",
      " 2   EndDate           7043 non-null   datetime64[ns]\n",
      " 3   Type              7043 non-null   object        \n",
      " 4   PaperlessBilling  7043 non-null   object        \n",
      " 5   PaymentMethod     7043 non-null   object        \n",
      " 6   MonthlyCharges    7043 non-null   float64       \n",
      " 7   TotalCharges      7043 non-null   float64       \n",
      " 8   gender            7043 non-null   object        \n",
      " 9   SeniorCitizen     7043 non-null   int64         \n",
      " 10  Partner           7043 non-null   object        \n",
      " 11  Dependents        7043 non-null   object        \n",
      " 12  InternetService   7043 non-null   object        \n",
      " 13  OnlineSecurity    7043 non-null   object        \n",
      " 14  OnlineBackup      7043 non-null   object        \n",
      " 15  DeviceProtection  7043 non-null   object        \n",
      " 16  TechSupport       7043 non-null   object        \n",
      " 17  StreamingTV       7043 non-null   object        \n",
      " 18  StreamingMovies   7043 non-null   object        \n",
      " 19  MultipleLines     7043 non-null   object        \n",
      " 20  left              7043 non-null   int32         \n",
      "dtypes: datetime64[ns](2), float64(2), int32(1), int64(1), object(15)\n",
      "memory usage: 1.2+ MB\n"
     ]
    }
   ],
   "source": [
    "df['TotalCharges'] = pd.to_numeric(df['TotalCharges'])\n",
    "df.info()"
   ]
  },
  {
   "cell_type": "markdown",
   "id": "76401fc7",
   "metadata": {},
   "source": [
    "### Обработка аномалий"
   ]
  },
  {
   "cell_type": "code",
   "execution_count": 29,
   "id": "61bf1578",
   "metadata": {},
   "outputs": [
    {
     "data": {
      "image/png": "[encoded data removed]",
      "text/plain": [
       "<Figure size 1000x500 with 1 Axes>"
      ]
     },
     "metadata": {},
     "output_type": "display_data"
    }
   ],
   "source": [
    "plt.figure(figsize=(10,5))\n",
    "sns.boxplot(data=df['MonthlyCharges'])\n",
    "plt.title('Ежемесячные траты на услуги')\n",
    "plt.show()"
   ]
  },
  {
   "cell_type": "code",
   "execution_count": 30,
   "id": "6c296554",
   "metadata": {},
   "outputs": [
    {
     "data": {
      "image/png": "[encoded data removed]",
      "text/plain": [
       "<Figure size 1000x500 with 1 Axes>"
      ]
     },
     "metadata": {},
     "output_type": "display_data"
    }
   ],
   "source": [
    "plt.figure(figsize=(10, 5))\n",
    "sns.boxplot(data=df['TotalCharges'])\n",
    "plt.title('Суммарные затраты на услуги')\n",
    "plt.show()"
   ]
  },
  {
   "cell_type": "markdown",
   "id": "36ef39f7",
   "metadata": {},
   "source": [
    "Рассмотрим 0.975-й квантиль"
   ]
  },
  {
   "cell_type": "code",
   "execution_count": 31,
   "id": "b6cbcc3b",
   "metadata": {},
   "outputs": [
    {
     "data": {
      "text/plain": [
       "7537.2225"
      ]
     },
     "execution_count": 31,
     "metadata": {},
     "output_type": "execute_result"
    }
   ],
   "source": [
    "df['TotalCharges'].quantile(0.975)"
   ]
  },
  {
   "cell_type": "markdown",
   "id": "1b11fa49",
   "metadata": {},
   "source": [
    "Рассмотрим клиентов, у которых общие затраты за услуги превышают это значение"
   ]
  },
  {
   "cell_type": "code",
   "execution_count": 32,
   "id": "7347d7b4",
   "metadata": {},
   "outputs": [],
   "source": [
    "cols = ['BeginDate', 'InternetService', 'OnlineSecurity',\n",
    "        'OnlineBackup', 'DeviceProtection', 'TechSupport',\n",
    "       'StreamingTV', 'StreamingMovies', 'MultipleLines',\n",
    "        'MonthlyCharges', 'TotalCharges', 'left']"
   ]
  },
  {
   "cell_type": "code",
   "execution_count": 33,
   "id": "7373c5e5",
   "metadata": {
    "scrolled": true
   },
   "outputs": [
    {
     "data": {
      "text/html": [
       "<div>\n",
       "<style scoped>\n",
       "    .dataframe tbody tr th:only-of-type {\n",
       "        vertical-align: middle;\n",
       "    }\n",
       "\n",
       "    .dataframe tbody tr th {\n",
       "        vertical-align: top;\n",
       "    }\n",
       "\n",
       "    .dataframe thead th {\n",
       "        text-align: right;\n",
       "    }\n",
       "</style>\n",
       "<table border=\"1\" class=\"dataframe\">\n",
       "  <thead>\n",
       "    <tr style=\"text-align: right;\">\n",
       "      <th></th>\n",
       "      <th>BeginDate</th>\n",
       "      <th>InternetService</th>\n",
       "      <th>OnlineSecurity</th>\n",
       "      <th>OnlineBackup</th>\n",
       "      <th>DeviceProtection</th>\n",
       "      <th>TechSupport</th>\n",
       "      <th>StreamingTV</th>\n",
       "      <th>StreamingMovies</th>\n",
       "      <th>MultipleLines</th>\n",
       "      <th>MonthlyCharges</th>\n",
       "      <th>TotalCharges</th>\n",
       "      <th>left</th>\n",
       "    </tr>\n",
       "  </thead>\n",
       "  <tbody>\n",
       "    <tr>\n",
       "      <th>17</th>\n",
       "      <td>2014-03-01</td>\n",
       "      <td>Fiber optic</td>\n",
       "      <td>Yes</td>\n",
       "      <td>No</td>\n",
       "      <td>Yes</td>\n",
       "      <td>No</td>\n",
       "      <td>Yes</td>\n",
       "      <td>Yes</td>\n",
       "      <td>Yes</td>\n",
       "      <td>106.70</td>\n",
       "      <td>8257.51</td>\n",
       "      <td>0</td>\n",
       "    </tr>\n",
       "    <tr>\n",
       "      <th>57</th>\n",
       "      <td>2014-08-01</td>\n",
       "      <td>Fiber optic</td>\n",
       "      <td>No</td>\n",
       "      <td>Yes</td>\n",
       "      <td>Yes</td>\n",
       "      <td>Yes</td>\n",
       "      <td>Yes</td>\n",
       "      <td>Yes</td>\n",
       "      <td>Yes</td>\n",
       "      <td>108.45</td>\n",
       "      <td>7730.32</td>\n",
       "      <td>0</td>\n",
       "    </tr>\n",
       "    <tr>\n",
       "      <th>59</th>\n",
       "      <td>2014-02-01</td>\n",
       "      <td>Fiber optic</td>\n",
       "      <td>No</td>\n",
       "      <td>No</td>\n",
       "      <td>Yes</td>\n",
       "      <td>Yes</td>\n",
       "      <td>Yes</td>\n",
       "      <td>Yes</td>\n",
       "      <td>Yes</td>\n",
       "      <td>107.50</td>\n",
       "      <td>7740.00</td>\n",
       "      <td>0</td>\n",
       "    </tr>\n",
       "    <tr>\n",
       "      <th>198</th>\n",
       "      <td>2014-02-01</td>\n",
       "      <td>Fiber optic</td>\n",
       "      <td>No</td>\n",
       "      <td>Yes</td>\n",
       "      <td>Yes</td>\n",
       "      <td>Yes</td>\n",
       "      <td>Yes</td>\n",
       "      <td>Yes</td>\n",
       "      <td>Yes</td>\n",
       "      <td>112.25</td>\n",
       "      <td>8324.46</td>\n",
       "      <td>0</td>\n",
       "    </tr>\n",
       "    <tr>\n",
       "      <th>369</th>\n",
       "      <td>2014-02-01</td>\n",
       "      <td>Fiber optic</td>\n",
       "      <td>Yes</td>\n",
       "      <td>Yes</td>\n",
       "      <td>Yes</td>\n",
       "      <td>Yes</td>\n",
       "      <td>Yes</td>\n",
       "      <td>Yes</td>\n",
       "      <td>Yes</td>\n",
       "      <td>112.60</td>\n",
       "      <td>8755.78</td>\n",
       "      <td>0</td>\n",
       "    </tr>\n",
       "  </tbody>\n",
       "</table>\n",
       "</div>"
      ],
      "text/plain": [
       "     BeginDate InternetService OnlineSecurity OnlineBackup DeviceProtection  \\\n",
       "17  2014-03-01     Fiber optic            Yes           No              Yes   \n",
       "57  2014-08-01     Fiber optic             No          Yes              Yes   \n",
       "59  2014-02-01     Fiber optic             No           No              Yes   \n",
       "198 2014-02-01     Fiber optic             No          Yes              Yes   \n",
       "369 2014-02-01     Fiber optic            Yes          Yes              Yes   \n",
       "\n",
       "    TechSupport StreamingTV StreamingMovies MultipleLines  MonthlyCharges  \\\n",
       "17           No         Yes             Yes           Yes          106.70   \n",
       "57          Yes         Yes             Yes           Yes          108.45   \n",
       "59          Yes         Yes             Yes           Yes          107.50   \n",
       "198         Yes         Yes             Yes           Yes          112.25   \n",
       "369         Yes         Yes             Yes           Yes          112.60   \n",
       "\n",
       "     TotalCharges  left  \n",
       "17        8257.51     0  \n",
       "57        7730.32     0  \n",
       "59        7740.00     0  \n",
       "198       8324.46     0  \n",
       "369       8755.78     0  "
      ]
     },
     "execution_count": 33,
     "metadata": {},
     "output_type": "execute_result"
    }
   ],
   "source": [
    "df.loc[:, cols][df['TotalCharges'] > df['TotalCharges'].quantile(0.975)].head()"
   ]
  },
  {
   "cell_type": "markdown",
   "id": "be7ab829",
   "metadata": {},
   "source": [
    "Количество ушедших клиентов"
   ]
  },
  {
   "cell_type": "code",
   "execution_count": 34,
   "id": "dc63411a",
   "metadata": {
    "scrolled": true
   },
   "outputs": [
    {
     "data": {
      "text/plain": [
       "0    174\n",
       "1      3\n",
       "Name: left, dtype: int64"
      ]
     },
     "execution_count": 34,
     "metadata": {},
     "output_type": "execute_result"
    }
   ],
   "source": [
    "df.loc[:, 'left'][df['TotalCharges'] > df['TotalCharges'].quantile(0.975)].value_counts()"
   ]
  },
  {
   "cell_type": "markdown",
   "id": "78e997f0",
   "metadata": {},
   "source": [
    "Самая ранняя дата окончания пользования услугами среди \"аномальных\" клиентов"
   ]
  },
  {
   "cell_type": "code",
   "execution_count": 35,
   "id": "8db857b1",
   "metadata": {},
   "outputs": [
    {
     "data": {
      "text/plain": [
       "Timestamp('2019-05-01 00:00:00')"
      ]
     },
     "execution_count": 35,
     "metadata": {},
     "output_type": "execute_result"
    }
   ],
   "source": [
    "df.loc[:, 'EndDate'][df['TotalCharges'] > df['TotalCharges'].quantile(0.975)].min()"
   ]
  },
  {
   "cell_type": "markdown",
   "id": "6270041b",
   "metadata": {},
   "source": [
    "Самая поздняя дата начала пользования услугами среди \"аномальных\" клиентов"
   ]
  },
  {
   "cell_type": "code",
   "execution_count": 36,
   "id": "d6399eb8",
   "metadata": {},
   "outputs": [
    {
     "data": {
      "text/plain": [
       "Timestamp('2015-02-01 00:00:00')"
      ]
     },
     "execution_count": 36,
     "metadata": {},
     "output_type": "execute_result"
    }
   ],
   "source": [
    "df.loc[:, 'BeginDate'][df['TotalCharges'] > df['TotalCharges'].quantile(0.975)].max()"
   ]
  },
  {
   "cell_type": "markdown",
   "id": "a2ca247f",
   "metadata": {},
   "source": [
    "У клиентов с такими большими большими суммарными тратами подключено большое количество услуг, а так же они являются(-лись) клиентами на протяжении долгих лет. Эти данные нельзя назвать выбросами"
   ]
  },
  {
   "cell_type": "markdown",
   "id": "ccd29dd9",
   "metadata": {},
   "source": [
    "Рассмотрим столбец *EndDate*"
   ]
  },
  {
   "cell_type": "code",
   "execution_count": 37,
   "id": "d7073ff4",
   "metadata": {},
   "outputs": [
    {
     "data": {
      "text/plain": [
       "Timestamp('2020-02-01 00:00:00')"
      ]
     },
     "execution_count": 37,
     "metadata": {},
     "output_type": "execute_result"
    }
   ],
   "source": [
    "df.loc[:, 'EndDate'].max()"
   ]
  },
  {
   "cell_type": "markdown",
   "id": "b6d03103",
   "metadata": {},
   "source": [
    "Видно, что нет записей, где клиенты бы ушли позже, чем были выгружены данные"
   ]
  },
  {
   "cell_type": "markdown",
   "id": "85770cd1",
   "metadata": {},
   "source": [
    "### Создание новых признаков"
   ]
  },
  {
   "cell_type": "markdown",
   "id": "3eb346c0",
   "metadata": {},
   "source": [
    "Признаки даты начала и окончания пользования услугами не очень показательны. Добавим новый признак: продолжительность пользования услугами"
   ]
  },
  {
   "cell_type": "code",
   "execution_count": 38,
   "id": "39795881",
   "metadata": {},
   "outputs": [
    {
     "data": {
      "text/html": [
       "<div>\n",
       "<style scoped>\n",
       "    .dataframe tbody tr th:only-of-type {\n",
       "        vertical-align: middle;\n",
       "    }\n",
       "\n",
       "    .dataframe tbody tr th {\n",
       "        vertical-align: top;\n",
       "    }\n",
       "\n",
       "    .dataframe thead th {\n",
       "        text-align: right;\n",
       "    }\n",
       "</style>\n",
       "<table border=\"1\" class=\"dataframe\">\n",
       "  <thead>\n",
       "    <tr style=\"text-align: right;\">\n",
       "      <th></th>\n",
       "      <th>customerID</th>\n",
       "      <th>BeginDate</th>\n",
       "      <th>EndDate</th>\n",
       "      <th>Type</th>\n",
       "      <th>PaperlessBilling</th>\n",
       "      <th>PaymentMethod</th>\n",
       "      <th>MonthlyCharges</th>\n",
       "      <th>TotalCharges</th>\n",
       "      <th>gender</th>\n",
       "      <th>SeniorCitizen</th>\n",
       "      <th>...</th>\n",
       "      <th>InternetService</th>\n",
       "      <th>OnlineSecurity</th>\n",
       "      <th>OnlineBackup</th>\n",
       "      <th>DeviceProtection</th>\n",
       "      <th>TechSupport</th>\n",
       "      <th>StreamingTV</th>\n",
       "      <th>StreamingMovies</th>\n",
       "      <th>MultipleLines</th>\n",
       "      <th>left</th>\n",
       "      <th>duration</th>\n",
       "    </tr>\n",
       "  </thead>\n",
       "  <tbody>\n",
       "    <tr>\n",
       "      <th>0</th>\n",
       "      <td>7590-VHVEG</td>\n",
       "      <td>2020-01-01</td>\n",
       "      <td>2020-02-01</td>\n",
       "      <td>Month-to-month</td>\n",
       "      <td>Yes</td>\n",
       "      <td>Electronic check</td>\n",
       "      <td>29.85</td>\n",
       "      <td>31.04</td>\n",
       "      <td>Female</td>\n",
       "      <td>0</td>\n",
       "      <td>...</td>\n",
       "      <td>DSL</td>\n",
       "      <td>No</td>\n",
       "      <td>Yes</td>\n",
       "      <td>No</td>\n",
       "      <td>No</td>\n",
       "      <td>No</td>\n",
       "      <td>No</td>\n",
       "      <td>No</td>\n",
       "      <td>0</td>\n",
       "      <td>31.0</td>\n",
       "    </tr>\n",
       "    <tr>\n",
       "      <th>1</th>\n",
       "      <td>5575-GNVDE</td>\n",
       "      <td>2017-04-01</td>\n",
       "      <td>2020-02-01</td>\n",
       "      <td>One year</td>\n",
       "      <td>No</td>\n",
       "      <td>Mailed check</td>\n",
       "      <td>56.95</td>\n",
       "      <td>2071.84</td>\n",
       "      <td>Male</td>\n",
       "      <td>0</td>\n",
       "      <td>...</td>\n",
       "      <td>DSL</td>\n",
       "      <td>Yes</td>\n",
       "      <td>No</td>\n",
       "      <td>Yes</td>\n",
       "      <td>No</td>\n",
       "      <td>No</td>\n",
       "      <td>No</td>\n",
       "      <td>No</td>\n",
       "      <td>0</td>\n",
       "      <td>1036.0</td>\n",
       "    </tr>\n",
       "    <tr>\n",
       "      <th>2</th>\n",
       "      <td>3668-QPYBK</td>\n",
       "      <td>2019-10-01</td>\n",
       "      <td>2020-02-01</td>\n",
       "      <td>Month-to-month</td>\n",
       "      <td>Yes</td>\n",
       "      <td>Mailed check</td>\n",
       "      <td>53.85</td>\n",
       "      <td>226.17</td>\n",
       "      <td>Male</td>\n",
       "      <td>0</td>\n",
       "      <td>...</td>\n",
       "      <td>DSL</td>\n",
       "      <td>Yes</td>\n",
       "      <td>Yes</td>\n",
       "      <td>No</td>\n",
       "      <td>No</td>\n",
       "      <td>No</td>\n",
       "      <td>No</td>\n",
       "      <td>No</td>\n",
       "      <td>0</td>\n",
       "      <td>123.0</td>\n",
       "    </tr>\n",
       "    <tr>\n",
       "      <th>3</th>\n",
       "      <td>7795-CFOCW</td>\n",
       "      <td>2016-05-01</td>\n",
       "      <td>2020-02-01</td>\n",
       "      <td>One year</td>\n",
       "      <td>No</td>\n",
       "      <td>Bank transfer (automatic)</td>\n",
       "      <td>42.30</td>\n",
       "      <td>1960.60</td>\n",
       "      <td>Male</td>\n",
       "      <td>0</td>\n",
       "      <td>...</td>\n",
       "      <td>DSL</td>\n",
       "      <td>Yes</td>\n",
       "      <td>No</td>\n",
       "      <td>Yes</td>\n",
       "      <td>Yes</td>\n",
       "      <td>No</td>\n",
       "      <td>No</td>\n",
       "      <td>No</td>\n",
       "      <td>0</td>\n",
       "      <td>1371.0</td>\n",
       "    </tr>\n",
       "    <tr>\n",
       "      <th>4</th>\n",
       "      <td>9237-HQITU</td>\n",
       "      <td>2019-09-01</td>\n",
       "      <td>2020-02-01</td>\n",
       "      <td>Month-to-month</td>\n",
       "      <td>Yes</td>\n",
       "      <td>Electronic check</td>\n",
       "      <td>70.70</td>\n",
       "      <td>353.50</td>\n",
       "      <td>Female</td>\n",
       "      <td>0</td>\n",
       "      <td>...</td>\n",
       "      <td>Fiber optic</td>\n",
       "      <td>No</td>\n",
       "      <td>No</td>\n",
       "      <td>No</td>\n",
       "      <td>No</td>\n",
       "      <td>No</td>\n",
       "      <td>No</td>\n",
       "      <td>No</td>\n",
       "      <td>0</td>\n",
       "      <td>153.0</td>\n",
       "    </tr>\n",
       "  </tbody>\n",
       "</table>\n",
       "<p>5 rows × 22 columns</p>\n",
       "</div>"
      ],
      "text/plain": [
       "   customerID  BeginDate    EndDate            Type PaperlessBilling  \\\n",
       "0  7590-VHVEG 2020-01-01 2020-02-01  Month-to-month              Yes   \n",
       "1  5575-GNVDE 2017-04-01 2020-02-01        One year               No   \n",
       "2  3668-QPYBK 2019-10-01 2020-02-01  Month-to-month              Yes   \n",
       "3  7795-CFOCW 2016-05-01 2020-02-01        One year               No   \n",
       "4  9237-HQITU 2019-09-01 2020-02-01  Month-to-month              Yes   \n",
       "\n",
       "               PaymentMethod  MonthlyCharges  TotalCharges  gender  \\\n",
       "0           Electronic check           29.85         31.04  Female   \n",
       "1               Mailed check           56.95       2071.84    Male   \n",
       "2               Mailed check           53.85        226.17    Male   \n",
       "3  Bank transfer (automatic)           42.30       1960.60    Male   \n",
       "4           Electronic check           70.70        353.50  Female   \n",
       "\n",
       "   SeniorCitizen  ... InternetService OnlineSecurity OnlineBackup  \\\n",
       "0              0  ...             DSL             No          Yes   \n",
       "1              0  ...             DSL            Yes           No   \n",
       "2              0  ...             DSL            Yes          Yes   \n",
       "3              0  ...             DSL            Yes           No   \n",
       "4              0  ...     Fiber optic             No           No   \n",
       "\n",
       "  DeviceProtection TechSupport StreamingTV StreamingMovies MultipleLines left  \\\n",
       "0               No          No          No              No            No    0   \n",
       "1              Yes          No          No              No            No    0   \n",
       "2               No          No          No              No            No    0   \n",
       "3              Yes         Yes          No              No            No    0   \n",
       "4               No          No          No              No            No    0   \n",
       "\n",
       "  duration  \n",
       "0     31.0  \n",
       "1   1036.0  \n",
       "2    123.0  \n",
       "3   1371.0  \n",
       "4    153.0  \n",
       "\n",
       "[5 rows x 22 columns]"
      ]
     },
     "execution_count": 38,
     "metadata": {},
     "output_type": "execute_result"
    }
   ],
   "source": [
    "df['duration'] = (df['EndDate'] - df['BeginDate']) / np.timedelta64 ( 1 , 'D') # количество дней пользования\n",
    "df.head()"
   ]
  },
  {
   "cell_type": "markdown",
   "id": "3802451c",
   "metadata": {},
   "source": [
    "### Удаление ненужных признаков"
   ]
  },
  {
   "cell_type": "markdown",
   "id": "82c608d4",
   "metadata": {},
   "source": [
    "Разделим признаки и целевой признак"
   ]
  },
  {
   "cell_type": "code",
   "execution_count": 39,
   "id": "b98505d6",
   "metadata": {},
   "outputs": [],
   "source": [
    "target = df['left'] # целевой признак\n",
    "features = df.drop('left', axis=1) # признаки"
   ]
  },
  {
   "cell_type": "markdown",
   "id": "e317e3f7",
   "metadata": {},
   "source": [
    "Чтобы избежать утечки данных удалим столбцы *BeginDate* и *EndDate* из признаков"
   ]
  },
  {
   "cell_type": "code",
   "execution_count": 40,
   "id": "76e2322d",
   "metadata": {
    "scrolled": true
   },
   "outputs": [
    {
     "data": {
      "text/html": [
       "<div>\n",
       "<style scoped>\n",
       "    .dataframe tbody tr th:only-of-type {\n",
       "        vertical-align: middle;\n",
       "    }\n",
       "\n",
       "    .dataframe tbody tr th {\n",
       "        vertical-align: top;\n",
       "    }\n",
       "\n",
       "    .dataframe thead th {\n",
       "        text-align: right;\n",
       "    }\n",
       "</style>\n",
       "<table border=\"1\" class=\"dataframe\">\n",
       "  <thead>\n",
       "    <tr style=\"text-align: right;\">\n",
       "      <th></th>\n",
       "      <th>customerID</th>\n",
       "      <th>Type</th>\n",
       "      <th>PaperlessBilling</th>\n",
       "      <th>PaymentMethod</th>\n",
       "      <th>MonthlyCharges</th>\n",
       "      <th>TotalCharges</th>\n",
       "      <th>gender</th>\n",
       "      <th>SeniorCitizen</th>\n",
       "      <th>Partner</th>\n",
       "      <th>Dependents</th>\n",
       "      <th>InternetService</th>\n",
       "      <th>OnlineSecurity</th>\n",
       "      <th>OnlineBackup</th>\n",
       "      <th>DeviceProtection</th>\n",
       "      <th>TechSupport</th>\n",
       "      <th>StreamingTV</th>\n",
       "      <th>StreamingMovies</th>\n",
       "      <th>MultipleLines</th>\n",
       "      <th>duration</th>\n",
       "    </tr>\n",
       "  </thead>\n",
       "  <tbody>\n",
       "    <tr>\n",
       "      <th>0</th>\n",
       "      <td>7590-VHVEG</td>\n",
       "      <td>Month-to-month</td>\n",
       "      <td>Yes</td>\n",
       "      <td>Electronic check</td>\n",
       "      <td>29.85</td>\n",
       "      <td>31.04</td>\n",
       "      <td>Female</td>\n",
       "      <td>0</td>\n",
       "      <td>Yes</td>\n",
       "      <td>No</td>\n",
       "      <td>DSL</td>\n",
       "      <td>No</td>\n",
       "      <td>Yes</td>\n",
       "      <td>No</td>\n",
       "      <td>No</td>\n",
       "      <td>No</td>\n",
       "      <td>No</td>\n",
       "      <td>No</td>\n",
       "      <td>31.0</td>\n",
       "    </tr>\n",
       "    <tr>\n",
       "      <th>1</th>\n",
       "      <td>5575-GNVDE</td>\n",
       "      <td>One year</td>\n",
       "      <td>No</td>\n",
       "      <td>Mailed check</td>\n",
       "      <td>56.95</td>\n",
       "      <td>2071.84</td>\n",
       "      <td>Male</td>\n",
       "      <td>0</td>\n",
       "      <td>No</td>\n",
       "      <td>No</td>\n",
       "      <td>DSL</td>\n",
       "      <td>Yes</td>\n",
       "      <td>No</td>\n",
       "      <td>Yes</td>\n",
       "      <td>No</td>\n",
       "      <td>No</td>\n",
       "      <td>No</td>\n",
       "      <td>No</td>\n",
       "      <td>1036.0</td>\n",
       "    </tr>\n",
       "    <tr>\n",
       "      <th>2</th>\n",
       "      <td>3668-QPYBK</td>\n",
       "      <td>Month-to-month</td>\n",
       "      <td>Yes</td>\n",
       "      <td>Mailed check</td>\n",
       "      <td>53.85</td>\n",
       "      <td>226.17</td>\n",
       "      <td>Male</td>\n",
       "      <td>0</td>\n",
       "      <td>No</td>\n",
       "      <td>No</td>\n",
       "      <td>DSL</td>\n",
       "      <td>Yes</td>\n",
       "      <td>Yes</td>\n",
       "      <td>No</td>\n",
       "      <td>No</td>\n",
       "      <td>No</td>\n",
       "      <td>No</td>\n",
       "      <td>No</td>\n",
       "      <td>123.0</td>\n",
       "    </tr>\n",
       "    <tr>\n",
       "      <th>3</th>\n",
       "      <td>7795-CFOCW</td>\n",
       "      <td>One year</td>\n",
       "      <td>No</td>\n",
       "      <td>Bank transfer (automatic)</td>\n",
       "      <td>42.30</td>\n",
       "      <td>1960.60</td>\n",
       "      <td>Male</td>\n",
       "      <td>0</td>\n",
       "      <td>No</td>\n",
       "      <td>No</td>\n",
       "      <td>DSL</td>\n",
       "      <td>Yes</td>\n",
       "      <td>No</td>\n",
       "      <td>Yes</td>\n",
       "      <td>Yes</td>\n",
       "      <td>No</td>\n",
       "      <td>No</td>\n",
       "      <td>No</td>\n",
       "      <td>1371.0</td>\n",
       "    </tr>\n",
       "    <tr>\n",
       "      <th>4</th>\n",
       "      <td>9237-HQITU</td>\n",
       "      <td>Month-to-month</td>\n",
       "      <td>Yes</td>\n",
       "      <td>Electronic check</td>\n",
       "      <td>70.70</td>\n",
       "      <td>353.50</td>\n",
       "      <td>Female</td>\n",
       "      <td>0</td>\n",
       "      <td>No</td>\n",
       "      <td>No</td>\n",
       "      <td>Fiber optic</td>\n",
       "      <td>No</td>\n",
       "      <td>No</td>\n",
       "      <td>No</td>\n",
       "      <td>No</td>\n",
       "      <td>No</td>\n",
       "      <td>No</td>\n",
       "      <td>No</td>\n",
       "      <td>153.0</td>\n",
       "    </tr>\n",
       "  </tbody>\n",
       "</table>\n",
       "</div>"
      ],
      "text/plain": [
       "   customerID            Type PaperlessBilling              PaymentMethod  \\\n",
       "0  7590-VHVEG  Month-to-month              Yes           Electronic check   \n",
       "1  5575-GNVDE        One year               No               Mailed check   \n",
       "2  3668-QPYBK  Month-to-month              Yes               Mailed check   \n",
       "3  7795-CFOCW        One year               No  Bank transfer (automatic)   \n",
       "4  9237-HQITU  Month-to-month              Yes           Electronic check   \n",
       "\n",
       "   MonthlyCharges  TotalCharges  gender  SeniorCitizen Partner Dependents  \\\n",
       "0           29.85         31.04  Female              0     Yes         No   \n",
       "1           56.95       2071.84    Male              0      No         No   \n",
       "2           53.85        226.17    Male              0      No         No   \n",
       "3           42.30       1960.60    Male              0      No         No   \n",
       "4           70.70        353.50  Female              0      No         No   \n",
       "\n",
       "  InternetService OnlineSecurity OnlineBackup DeviceProtection TechSupport  \\\n",
       "0             DSL             No          Yes               No          No   \n",
       "1             DSL            Yes           No              Yes          No   \n",
       "2             DSL            Yes          Yes               No          No   \n",
       "3             DSL            Yes           No              Yes         Yes   \n",
       "4     Fiber optic             No           No               No          No   \n",
       "\n",
       "  StreamingTV StreamingMovies MultipleLines  duration  \n",
       "0          No              No            No      31.0  \n",
       "1          No              No            No    1036.0  \n",
       "2          No              No            No     123.0  \n",
       "3          No              No            No    1371.0  \n",
       "4          No              No            No     153.0  "
      ]
     },
     "execution_count": 40,
     "metadata": {},
     "output_type": "execute_result"
    }
   ],
   "source": [
    "features = features.drop(['BeginDate', 'EndDate'], axis=1)\n",
    "features.head()"
   ]
  },
  {
   "cell_type": "markdown",
   "id": "4e901192",
   "metadata": {},
   "source": [
    "Удалим также столбец с id клиентов. При обучении он не понадобится"
   ]
  },
  {
   "cell_type": "code",
   "execution_count": 41,
   "id": "19ad4f47",
   "metadata": {
    "scrolled": true
   },
   "outputs": [
    {
     "data": {
      "text/html": [
       "<div>\n",
       "<style scoped>\n",
       "    .dataframe tbody tr th:only-of-type {\n",
       "        vertical-align: middle;\n",
       "    }\n",
       "\n",
       "    .dataframe tbody tr th {\n",
       "        vertical-align: top;\n",
       "    }\n",
       "\n",
       "    .dataframe thead th {\n",
       "        text-align: right;\n",
       "    }\n",
       "</style>\n",
       "<table border=\"1\" class=\"dataframe\">\n",
       "  <thead>\n",
       "    <tr style=\"text-align: right;\">\n",
       "      <th></th>\n",
       "      <th>Type</th>\n",
       "      <th>PaperlessBilling</th>\n",
       "      <th>PaymentMethod</th>\n",
       "      <th>MonthlyCharges</th>\n",
       "      <th>TotalCharges</th>\n",
       "      <th>gender</th>\n",
       "      <th>SeniorCitizen</th>\n",
       "      <th>Partner</th>\n",
       "      <th>Dependents</th>\n",
       "      <th>InternetService</th>\n",
       "      <th>OnlineSecurity</th>\n",
       "      <th>OnlineBackup</th>\n",
       "      <th>DeviceProtection</th>\n",
       "      <th>TechSupport</th>\n",
       "      <th>StreamingTV</th>\n",
       "      <th>StreamingMovies</th>\n",
       "      <th>MultipleLines</th>\n",
       "      <th>duration</th>\n",
       "    </tr>\n",
       "  </thead>\n",
       "  <tbody>\n",
       "    <tr>\n",
       "      <th>0</th>\n",
       "      <td>Month-to-month</td>\n",
       "      <td>Yes</td>\n",
       "      <td>Electronic check</td>\n",
       "      <td>29.85</td>\n",
       "      <td>31.04</td>\n",
       "      <td>Female</td>\n",
       "      <td>0</td>\n",
       "      <td>Yes</td>\n",
       "      <td>No</td>\n",
       "      <td>DSL</td>\n",
       "      <td>No</td>\n",
       "      <td>Yes</td>\n",
       "      <td>No</td>\n",
       "      <td>No</td>\n",
       "      <td>No</td>\n",
       "      <td>No</td>\n",
       "      <td>No</td>\n",
       "      <td>31.0</td>\n",
       "    </tr>\n",
       "    <tr>\n",
       "      <th>1</th>\n",
       "      <td>One year</td>\n",
       "      <td>No</td>\n",
       "      <td>Mailed check</td>\n",
       "      <td>56.95</td>\n",
       "      <td>2071.84</td>\n",
       "      <td>Male</td>\n",
       "      <td>0</td>\n",
       "      <td>No</td>\n",
       "      <td>No</td>\n",
       "      <td>DSL</td>\n",
       "      <td>Yes</td>\n",
       "      <td>No</td>\n",
       "      <td>Yes</td>\n",
       "      <td>No</td>\n",
       "      <td>No</td>\n",
       "      <td>No</td>\n",
       "      <td>No</td>\n",
       "      <td>1036.0</td>\n",
       "    </tr>\n",
       "    <tr>\n",
       "      <th>2</th>\n",
       "      <td>Month-to-month</td>\n",
       "      <td>Yes</td>\n",
       "      <td>Mailed check</td>\n",
       "      <td>53.85</td>\n",
       "      <td>226.17</td>\n",
       "      <td>Male</td>\n",
       "      <td>0</td>\n",
       "      <td>No</td>\n",
       "      <td>No</td>\n",
       "      <td>DSL</td>\n",
       "      <td>Yes</td>\n",
       "      <td>Yes</td>\n",
       "      <td>No</td>\n",
       "      <td>No</td>\n",
       "      <td>No</td>\n",
       "      <td>No</td>\n",
       "      <td>No</td>\n",
       "      <td>123.0</td>\n",
       "    </tr>\n",
       "    <tr>\n",
       "      <th>3</th>\n",
       "      <td>One year</td>\n",
       "      <td>No</td>\n",
       "      <td>Bank transfer (automatic)</td>\n",
       "      <td>42.30</td>\n",
       "      <td>1960.60</td>\n",
       "      <td>Male</td>\n",
       "      <td>0</td>\n",
       "      <td>No</td>\n",
       "      <td>No</td>\n",
       "      <td>DSL</td>\n",
       "      <td>Yes</td>\n",
       "      <td>No</td>\n",
       "      <td>Yes</td>\n",
       "      <td>Yes</td>\n",
       "      <td>No</td>\n",
       "      <td>No</td>\n",
       "      <td>No</td>\n",
       "      <td>1371.0</td>\n",
       "    </tr>\n",
       "    <tr>\n",
       "      <th>4</th>\n",
       "      <td>Month-to-month</td>\n",
       "      <td>Yes</td>\n",
       "      <td>Electronic check</td>\n",
       "      <td>70.70</td>\n",
       "      <td>353.50</td>\n",
       "      <td>Female</td>\n",
       "      <td>0</td>\n",
       "      <td>No</td>\n",
       "      <td>No</td>\n",
       "      <td>Fiber optic</td>\n",
       "      <td>No</td>\n",
       "      <td>No</td>\n",
       "      <td>No</td>\n",
       "      <td>No</td>\n",
       "      <td>No</td>\n",
       "      <td>No</td>\n",
       "      <td>No</td>\n",
       "      <td>153.0</td>\n",
       "    </tr>\n",
       "  </tbody>\n",
       "</table>\n",
       "</div>"
      ],
      "text/plain": [
       "             Type PaperlessBilling              PaymentMethod  MonthlyCharges  \\\n",
       "0  Month-to-month              Yes           Electronic check           29.85   \n",
       "1        One year               No               Mailed check           56.95   \n",
       "2  Month-to-month              Yes               Mailed check           53.85   \n",
       "3        One year               No  Bank transfer (automatic)           42.30   \n",
       "4  Month-to-month              Yes           Electronic check           70.70   \n",
       "\n",
       "   TotalCharges  gender  SeniorCitizen Partner Dependents InternetService  \\\n",
       "0         31.04  Female              0     Yes         No             DSL   \n",
       "1       2071.84    Male              0      No         No             DSL   \n",
       "2        226.17    Male              0      No         No             DSL   \n",
       "3       1960.60    Male              0      No         No             DSL   \n",
       "4        353.50  Female              0      No         No     Fiber optic   \n",
       "\n",
       "  OnlineSecurity OnlineBackup DeviceProtection TechSupport StreamingTV  \\\n",
       "0             No          Yes               No          No          No   \n",
       "1            Yes           No              Yes          No          No   \n",
       "2            Yes          Yes               No          No          No   \n",
       "3            Yes           No              Yes         Yes          No   \n",
       "4             No           No               No          No          No   \n",
       "\n",
       "  StreamingMovies MultipleLines  duration  \n",
       "0              No            No      31.0  \n",
       "1              No            No    1036.0  \n",
       "2              No            No     123.0  \n",
       "3              No            No    1371.0  \n",
       "4              No            No     153.0  "
      ]
     },
     "execution_count": 41,
     "metadata": {},
     "output_type": "execute_result"
    }
   ],
   "source": [
    "features = features.drop(['customerID'], axis=1)\n",
    "features.head()"
   ]
  },
  {
   "cell_type": "markdown",
   "id": "258fa116",
   "metadata": {},
   "source": [
    "## Анализ данных"
   ]
  },
  {
   "cell_type": "markdown",
   "id": "03c00452",
   "metadata": {},
   "source": [
    "### Корреляция признаков"
   ]
  },
  {
   "cell_type": "markdown",
   "id": "985f0598",
   "metadata": {},
   "source": [
    "**Обозначим категориальные и численные признаки**"
   ]
  },
  {
   "cell_type": "code",
   "execution_count": 42,
   "id": "50582d99",
   "metadata": {},
   "outputs": [],
   "source": [
    "cat_cols = features.select_dtypes(include='object').columns.to_list() # список категориальных признаков\n",
    "num_features = features.select_dtypes(exclude='object').columns.to_list() # список численных признаков\n",
    "num_features.remove('SeniorCitizen') # признак SeniorCitizen является категориальным бинарным признаком\n",
    "# удаляем его из списка численных"
   ]
  },
  {
   "cell_type": "markdown",
   "id": "9de5af65",
   "metadata": {},
   "source": [
    "Рассмотрим корреляцию численных признаков"
   ]
  },
  {
   "cell_type": "code",
   "execution_count": 43,
   "id": "fb47d7cf",
   "metadata": {},
   "outputs": [
    {
     "data": {
      "image/png": "[encoded data removed]",
      "text/plain": [
       "<Figure size 1300x600 with 2 Axes>"
      ]
     },
     "metadata": {},
     "output_type": "display_data"
    }
   ],
   "source": [
    "plt.figure(figsize=(13, 6))  # используем корреляцию Спирмена\n",
    "sns.heatmap(df[num_features].corr(method='spearman'),\n",
    "            vmin=-1,\n",
    "            vmax=+1,\n",
    "            annot=True,\n",
    "            cmap='coolwarm')\n",
    "plt.title('Корреляция численных признаков', fontsize=15)\n",
    "plt.show()"
   ]
  },
  {
   "cell_type": "markdown",
   "id": "34037629",
   "metadata": {},
   "source": [
    "По тепловой карте корреляций видна сильная связь между Суммарными тратами на услуги (*TotalCharges*) и Продолжительностью пользования услугами (*duration*), а также достаточно сильная связь между Ежемесячными тратами (*MonthlyCharges*) и Суммарными (*TotalCharges*). Удалим столбец *TotalCharges*"
   ]
  },
  {
   "cell_type": "code",
   "execution_count": 44,
   "id": "6a15f623",
   "metadata": {},
   "outputs": [],
   "source": [
    "features = features.drop('TotalCharges', axis=1)"
   ]
  },
  {
   "cell_type": "code",
   "execution_count": 45,
   "id": "3a1a3dee",
   "metadata": {},
   "outputs": [],
   "source": [
    "del num_features[num_features.index('TotalCharges')]"
   ]
  },
  {
   "cell_type": "markdown",
   "id": "fdbe3a7d",
   "metadata": {},
   "source": [
    "**Рассмотрим корреляцию категориальных признаков**"
   ]
  },
  {
   "cell_type": "code",
   "execution_count": 46,
   "id": "0e63dd08",
   "metadata": {},
   "outputs": [
    {
     "data": {
      "image/png": "[encoded data removed]",
      "text/plain": [
       "<Figure size 1300x600 with 2 Axes>"
      ]
     },
     "metadata": {},
     "output_type": "display_data"
    }
   ],
   "source": [
    "df = df.apply(lambda x: x.astype(\"category\") if x.dtype == \"O\" else x)\n",
    "\n",
    "cramersv = am.CramersV(df.drop('customerID', axis=1)) # корреляция Крамера\n",
    "cramersv.fit()\n",
    "\n",
    "plt.figure(figsize=(13,6))\n",
    "sns.heatmap(cramersv.fit(),\n",
    "            vmin=0,\n",
    "            vmax=+1,\n",
    "            annot=True,\n",
    "            cmap='rocket_r')\n",
    "plt.title('Корреляция категориальных признаков', fontsize=15)\n",
    "plt.show()"
   ]
  },
  {
   "cell_type": "markdown",
   "id": "819d7479",
   "metadata": {},
   "source": [
    "Среди категориальных признаков присутствует относительно сильная связь между Стриминговым телевидением (*StreaminTV*) и Каталогом фильмов (*StreaminMovies*), однако не настолько сильная, чтобы удалять признаки"
   ]
  },
  {
   "cell_type": "markdown",
   "id": "cc6f3deb",
   "metadata": {},
   "source": [
    "### Баланс классов выборки"
   ]
  },
  {
   "cell_type": "code",
   "execution_count": 47,
   "id": "9c2e5fab",
   "metadata": {},
   "outputs": [
    {
     "data": {
      "image/png": "[encoded data removed]",
      "text/plain": [
       "<Figure size 1300x600 with 1 Axes>"
      ]
     },
     "metadata": {},
     "output_type": "display_data"
    },
    {
     "data": {
      "text/plain": [
       "0    0.843675\n",
       "1    0.156325\n",
       "Name: left, dtype: float64"
      ]
     },
     "execution_count": 47,
     "metadata": {},
     "output_type": "execute_result"
    }
   ],
   "source": [
    "plt.figure(figsize=(13,6))\n",
    "df['left'].value_counts().plot(kind='bar')\n",
    "plt.title('Распределение Целевого признака', fontsize=16)\n",
    "plt.ylabel('Количество', fontsize=13)\n",
    "plt.show()\n",
    "target.value_counts(normalize=1)"
   ]
  },
  {
   "cell_type": "markdown",
   "id": "ddfe1318",
   "metadata": {},
   "source": [
    "По графику видно, что в выборке присутствует явный дисбаланс классов - количество оставшихся клиентов ~85%."
   ]
  },
  {
   "cell_type": "markdown",
   "id": "3930df00",
   "metadata": {},
   "source": [
    "## Обучение моделей"
   ]
  },
  {
   "cell_type": "markdown",
   "id": "38a13b85",
   "metadata": {},
   "source": [
    "**Разобъем на тренировочную и тестовую выборки**"
   ]
  },
  {
   "cell_type": "code",
   "execution_count": 48,
   "id": "e8c3e183",
   "metadata": {},
   "outputs": [],
   "source": [
    "features_train, features_test, target_train, target_test = train_test_split(features,\n",
    "                                                                            target,\n",
    "                                                                            test_size=0.25,\n",
    "                                                                            random_state=RANDOM_STATE)"
   ]
  },
  {
   "cell_type": "code",
   "execution_count": 49,
   "id": "5b0ba5d8",
   "metadata": {},
   "outputs": [
    {
     "name": "stdout",
     "output_type": "stream",
     "text": [
      "Размер обучающей выборки: (5282, 17)\n",
      "Размер тестовой выборки: (1761, 17)\n"
     ]
    }
   ],
   "source": [
    "print(f'Размер обучающей выборки: {features_train.shape}')\n",
    "print(f'Размер тестовой выборки: {features_test.shape}')"
   ]
  },
  {
   "cell_type": "markdown",
   "id": "056a7f8a",
   "metadata": {},
   "source": [
    "**Функция для кодирования и стандартизации призаков**"
   ]
  },
  {
   "cell_type": "code",
   "execution_count": 50,
   "id": "5ea551d1",
   "metadata": {},
   "outputs": [],
   "source": [
    "col_transformer = make_column_transformer(\n",
    "    (\n",
    "        OneHotEncoder(drop='first', handle_unknown='ignore'), \n",
    "        cat_cols\n",
    "    ),\n",
    "    (\n",
    "        StandardScaler(), \n",
    "        num_features\n",
    "    ),\n",
    "    remainder='passthrough'\n",
    ")"
   ]
  },
  {
   "cell_type": "markdown",
   "id": "cf313a2a",
   "metadata": {},
   "source": [
    "### LogisticRegression"
   ]
  },
  {
   "cell_type": "code",
   "execution_count": 51,
   "id": "9e1773ca",
   "metadata": {
    "scrolled": true
   },
   "outputs": [
    {
     "name": "stdout",
     "output_type": "stream",
     "text": [
      "\n",
      "Параметры лучшей модели: {'logisticregression__C': 10, 'logisticregression__class_weight': 'balanced', 'logisticregression__penalty': 'l1', 'logisticregression__random_state': 240423, 'logisticregression__solver': 'saga'}\n",
      "Значение метрики AUC-ROC на обучающей выборке для LogisticRegression: 0.750687627777646\n",
      "CPU times: total: 859 ms\n",
      "Wall time: 3.82 s\n"
     ]
    }
   ],
   "source": [
    "%%time\n",
    "\n",
    "\n",
    "logistic_model = LogisticRegression()\n",
    "\n",
    "pipline_log = make_pipeline(col_transformer, logistic_model)\n",
    "\n",
    "params = {\n",
    "    'logisticregression__solver': ['newton-cg', 'lbfgs', 'liblinear', 'sag', 'saga'],\n",
    "    'logisticregression__C':[1, 10, 100, 1000],\n",
    "    'logisticregression__penalty':['none', 'l1', 'l2'],\n",
    "    'logisticregression__class_weight': ['balanced'],\n",
    "    'logisticregression__random_state': [RANDOM_STATE]\n",
    "}\n",
    "\n",
    "grid_log = GridSearchCV(\n",
    "    pipline_log, \n",
    "    params,\n",
    "    cv=5,\n",
    "    scoring='roc_auc', \n",
    "    n_jobs=-1\n",
    ")\n",
    "grid_log.fit(features_train, target_train)\n",
    "\n",
    "logistic_model_score = grid_log.best_score_\n",
    "best_params = grid_log.best_params_\n",
    "print()\n",
    "print(f'''Параметры лучшей модели: {grid_log.best_params_}''')\n",
    "print(f'''Значение метрики AUC-ROC на обучающей выборке для LogisticRegression: {logistic_model_score}''')"
   ]
  },
  {
   "cell_type": "markdown",
   "id": "d96e882f",
   "metadata": {},
   "source": [
    "### RandomForestClassifier"
   ]
  },
  {
   "cell_type": "code",
   "execution_count": 52,
   "id": "4364baa2",
   "metadata": {
    "scrolled": true
   },
   "outputs": [
    {
     "name": "stdout",
     "output_type": "stream",
     "text": [
      "\n",
      "Параметры лучшей модели: {'randomforestclassifier__random_state': 240423, 'randomforestclassifier__n_estimators': 90, 'randomforestclassifier__min_samples_split': 4, 'randomforestclassifier__min_samples_leaf': 8, 'randomforestclassifier__max_depth': 26, 'randomforestclassifier__class_weight': 'balanced'}\n",
      "Значение метрики AUC-ROC на обучающей выборке для RandomForestClassifier: 0.8130155025274703\n",
      "CPU times: total: 93.8 ms\n",
      "Wall time: 2.26 s\n"
     ]
    }
   ],
   "source": [
    "%%time\n",
    "\n",
    "\n",
    "forest_model = RandomForestClassifier()\n",
    "\n",
    "pipline_rf = make_pipeline(col_transformer, forest_model)\n",
    "\n",
    "params = {\n",
    "    'randomforestclassifier__n_estimators': range(50, 151, 10),\n",
    "    'randomforestclassifier__max_depth': range(10, 31, 4),\n",
    "    'randomforestclassifier__min_samples_split': range (2,10,2),\n",
    "    'randomforestclassifier__min_samples_leaf': range (2,10,2),\n",
    "    'randomforestclassifier__class_weight': ['balanced'],\n",
    "    'randomforestclassifier__random_state': [RANDOM_STATE]\n",
    "}\n",
    "\n",
    "grid_forest = RandomizedSearchCV(\n",
    "    pipline_rf, \n",
    "    params,\n",
    "    cv=5,\n",
    "    scoring='roc_auc', \n",
    "    n_jobs=-1\n",
    ")\n",
    "\n",
    "grid_forest.fit(features_train, target_train)\n",
    "\n",
    "forest_model_score = grid_forest.best_score_\n",
    "best_params_forest = grid_forest.best_params_\n",
    "print()\n",
    "print(f'''Параметры лучшей модели: {grid_forest.best_params_}''')\n",
    "print(f'''Значение метрики AUC-ROC на обучающей выборке для RandomForestClassifier: {forest_model_score}''')"
   ]
  },
  {
   "cell_type": "markdown",
   "id": "372543e5",
   "metadata": {},
   "source": [
    "### CatBoostClassifier"
   ]
  },
  {
   "cell_type": "code",
   "execution_count": 53,
   "id": "25adb828",
   "metadata": {
    "scrolled": true
   },
   "outputs": [
    {
     "name": "stdout",
     "output_type": "stream",
     "text": [
      "0:\tlearn: 0.6566841\ttotal: 136ms\tremaining: 2m 9s\n",
      "1:\tlearn: 0.6310490\ttotal: 138ms\tremaining: 1m 5s\n",
      "2:\tlearn: 0.6114933\ttotal: 139ms\tremaining: 44s\n",
      "3:\tlearn: 0.5961269\ttotal: 141ms\tremaining: 33.2s\n",
      "4:\tlearn: 0.5816254\ttotal: 142ms\tremaining: 26.8s\n",
      "5:\tlearn: 0.5724660\ttotal: 143ms\tremaining: 22.5s\n",
      "6:\tlearn: 0.5624825\ttotal: 144ms\tremaining: 19.4s\n",
      "7:\tlearn: 0.5552184\ttotal: 145ms\tremaining: 17.1s\n",
      "8:\tlearn: 0.5505782\ttotal: 146ms\tremaining: 15.3s\n",
      "9:\tlearn: 0.5429195\ttotal: 148ms\tremaining: 13.9s\n",
      "10:\tlearn: 0.5381536\ttotal: 149ms\tremaining: 12.7s\n",
      "11:\tlearn: 0.5337172\ttotal: 150ms\tremaining: 11.7s\n",
      "12:\tlearn: 0.5292008\ttotal: 151ms\tremaining: 10.9s\n",
      "13:\tlearn: 0.5268457\ttotal: 152ms\tremaining: 10.2s\n",
      "14:\tlearn: 0.5217684\ttotal: 154ms\tremaining: 9.57s\n",
      "15:\tlearn: 0.5194747\ttotal: 155ms\tremaining: 9.02s\n",
      "16:\tlearn: 0.5160272\ttotal: 156ms\tremaining: 8.54s\n",
      "17:\tlearn: 0.5117046\ttotal: 157ms\tremaining: 8.13s\n",
      "18:\tlearn: 0.5100902\ttotal: 158ms\tremaining: 7.75s\n",
      "19:\tlearn: 0.5085581\ttotal: 159ms\tremaining: 7.4s\n",
      "20:\tlearn: 0.5073209\ttotal: 160ms\tremaining: 7.09s\n",
      "21:\tlearn: 0.5056076\ttotal: 161ms\tremaining: 6.81s\n",
      "22:\tlearn: 0.5037033\ttotal: 163ms\tremaining: 6.56s\n",
      "23:\tlearn: 0.5027926\ttotal: 164ms\tremaining: 6.32s\n",
      "24:\tlearn: 0.5019320\ttotal: 165ms\tremaining: 6.1s\n",
      "25:\tlearn: 0.4989279\ttotal: 166ms\tremaining: 5.89s\n",
      "26:\tlearn: 0.4979575\ttotal: 167ms\tremaining: 5.71s\n",
      "27:\tlearn: 0.4960420\ttotal: 168ms\tremaining: 5.54s\n",
      "28:\tlearn: 0.4955947\ttotal: 169ms\tremaining: 5.37s\n",
      "29:\tlearn: 0.4941220\ttotal: 170ms\tremaining: 5.22s\n",
      "30:\tlearn: 0.4936042\ttotal: 171ms\tremaining: 5.07s\n",
      "31:\tlearn: 0.4926056\ttotal: 172ms\tremaining: 4.94s\n",
      "32:\tlearn: 0.4902441\ttotal: 174ms\tremaining: 4.82s\n",
      "33:\tlearn: 0.4897832\ttotal: 175ms\tremaining: 4.71s\n",
      "34:\tlearn: 0.4890543\ttotal: 176ms\tremaining: 4.61s\n",
      "35:\tlearn: 0.4884827\ttotal: 177ms\tremaining: 4.5s\n",
      "36:\tlearn: 0.4878060\ttotal: 178ms\tremaining: 4.4s\n",
      "37:\tlearn: 0.4875217\ttotal: 180ms\tremaining: 4.31s\n",
      "38:\tlearn: 0.4856639\ttotal: 181ms\tremaining: 4.23s\n",
      "39:\tlearn: 0.4844357\ttotal: 182ms\tremaining: 4.14s\n",
      "40:\tlearn: 0.4826660\ttotal: 183ms\tremaining: 4.07s\n",
      "41:\tlearn: 0.4818328\ttotal: 185ms\tremaining: 3.99s\n",
      "42:\tlearn: 0.4809051\ttotal: 186ms\tremaining: 3.92s\n",
      "43:\tlearn: 0.4798787\ttotal: 187ms\tremaining: 3.85s\n",
      "44:\tlearn: 0.4784849\ttotal: 188ms\tremaining: 3.78s\n",
      "45:\tlearn: 0.4771568\ttotal: 189ms\tremaining: 3.72s\n",
      "46:\tlearn: 0.4756193\ttotal: 191ms\tremaining: 3.66s\n",
      "47:\tlearn: 0.4745332\ttotal: 192ms\tremaining: 3.6s\n",
      "48:\tlearn: 0.4740628\ttotal: 193ms\tremaining: 3.55s\n",
      "49:\tlearn: 0.4729869\ttotal: 194ms\tremaining: 3.5s\n",
      "50:\tlearn: 0.4721185\ttotal: 195ms\tremaining: 3.44s\n",
      "51:\tlearn: 0.4700831\ttotal: 197ms\tremaining: 3.4s\n",
      "52:\tlearn: 0.4691881\ttotal: 198ms\tremaining: 3.35s\n",
      "53:\tlearn: 0.4677523\ttotal: 199ms\tremaining: 3.31s\n",
      "54:\tlearn: 0.4651613\ttotal: 201ms\tremaining: 3.27s\n",
      "55:\tlearn: 0.4644057\ttotal: 202ms\tremaining: 3.22s\n",
      "56:\tlearn: 0.4608014\ttotal: 203ms\tremaining: 3.19s\n",
      "57:\tlearn: 0.4591555\ttotal: 204ms\tremaining: 3.14s\n",
      "58:\tlearn: 0.4570232\ttotal: 205ms\tremaining: 3.1s\n",
      "59:\tlearn: 0.4531255\ttotal: 207ms\tremaining: 3.06s\n",
      "60:\tlearn: 0.4520828\ttotal: 208ms\tremaining: 3.03s\n",
      "61:\tlearn: 0.4509704\ttotal: 209ms\tremaining: 2.99s\n",
      "62:\tlearn: 0.4485649\ttotal: 210ms\tremaining: 2.96s\n",
      "63:\tlearn: 0.4461102\ttotal: 211ms\tremaining: 2.92s\n",
      "64:\tlearn: 0.4424931\ttotal: 212ms\tremaining: 2.89s\n",
      "65:\tlearn: 0.4414308\ttotal: 213ms\tremaining: 2.86s\n",
      "66:\tlearn: 0.4404805\ttotal: 215ms\tremaining: 2.83s\n",
      "67:\tlearn: 0.4394899\ttotal: 216ms\tremaining: 2.8s\n",
      "68:\tlearn: 0.4374749\ttotal: 217ms\tremaining: 2.77s\n",
      "69:\tlearn: 0.4362346\ttotal: 218ms\tremaining: 2.74s\n",
      "70:\tlearn: 0.4332309\ttotal: 219ms\tremaining: 2.72s\n",
      "71:\tlearn: 0.4312912\ttotal: 221ms\tremaining: 2.69s\n",
      "72:\tlearn: 0.4282348\ttotal: 222ms\tremaining: 2.66s\n",
      "73:\tlearn: 0.4265357\ttotal: 223ms\tremaining: 2.64s\n",
      "74:\tlearn: 0.4237086\ttotal: 224ms\tremaining: 2.61s\n",
      "75:\tlearn: 0.4228024\ttotal: 225ms\tremaining: 2.59s\n",
      "76:\tlearn: 0.4213965\ttotal: 227ms\tremaining: 2.57s\n",
      "77:\tlearn: 0.4208944\ttotal: 228ms\tremaining: 2.54s\n",
      "78:\tlearn: 0.4171143\ttotal: 229ms\tremaining: 2.52s\n",
      "79:\tlearn: 0.4142645\ttotal: 230ms\tremaining: 2.5s\n",
      "80:\tlearn: 0.4119465\ttotal: 231ms\tremaining: 2.48s\n",
      "81:\tlearn: 0.4111690\ttotal: 232ms\tremaining: 2.46s\n",
      "82:\tlearn: 0.4093718\ttotal: 234ms\tremaining: 2.44s\n",
      "83:\tlearn: 0.4089726\ttotal: 235ms\tremaining: 2.42s\n",
      "84:\tlearn: 0.4079112\ttotal: 236ms\tremaining: 2.4s\n",
      "85:\tlearn: 0.4067561\ttotal: 237ms\tremaining: 2.38s\n",
      "86:\tlearn: 0.4052618\ttotal: 238ms\tremaining: 2.36s\n",
      "87:\tlearn: 0.4046941\ttotal: 239ms\tremaining: 2.34s\n",
      "88:\tlearn: 0.4039230\ttotal: 241ms\tremaining: 2.33s\n",
      "89:\tlearn: 0.4026909\ttotal: 242ms\tremaining: 2.31s\n",
      "90:\tlearn: 0.4020078\ttotal: 243ms\tremaining: 2.29s\n",
      "91:\tlearn: 0.4015255\ttotal: 244ms\tremaining: 2.27s\n",
      "92:\tlearn: 0.4009323\ttotal: 245ms\tremaining: 2.26s\n",
      "93:\tlearn: 0.4004679\ttotal: 246ms\tremaining: 2.24s\n",
      "94:\tlearn: 0.3975746\ttotal: 247ms\tremaining: 2.22s\n",
      "95:\tlearn: 0.3966884\ttotal: 248ms\tremaining: 2.21s\n",
      "96:\tlearn: 0.3962312\ttotal: 249ms\tremaining: 2.19s\n",
      "97:\tlearn: 0.3956149\ttotal: 250ms\tremaining: 2.17s\n",
      "98:\tlearn: 0.3949609\ttotal: 251ms\tremaining: 2.16s\n",
      "99:\tlearn: 0.3941913\ttotal: 252ms\tremaining: 2.15s\n",
      "100:\tlearn: 0.3927975\ttotal: 254ms\tremaining: 2.13s\n",
      "101:\tlearn: 0.3920803\ttotal: 255ms\tremaining: 2.12s\n",
      "102:\tlearn: 0.3907628\ttotal: 256ms\tremaining: 2.1s\n",
      "103:\tlearn: 0.3871974\ttotal: 257ms\tremaining: 2.09s\n",
      "104:\tlearn: 0.3862926\ttotal: 258ms\tremaining: 2.08s\n",
      "105:\tlearn: 0.3847152\ttotal: 259ms\tremaining: 2.06s\n",
      "106:\tlearn: 0.3842482\ttotal: 260ms\tremaining: 2.05s\n",
      "107:\tlearn: 0.3823099\ttotal: 261ms\tremaining: 2.04s\n",
      "108:\tlearn: 0.3819426\ttotal: 262ms\tremaining: 2.02s\n",
      "109:\tlearn: 0.3800637\ttotal: 263ms\tremaining: 2.01s\n",
      "110:\tlearn: 0.3785150\ttotal: 265ms\tremaining: 2s\n",
      "111:\tlearn: 0.3779982\ttotal: 266ms\tremaining: 1.99s\n",
      "112:\tlearn: 0.3776033\ttotal: 267ms\tremaining: 1.98s\n",
      "113:\tlearn: 0.3772557\ttotal: 268ms\tremaining: 1.96s\n",
      "114:\tlearn: 0.3748752\ttotal: 269ms\tremaining: 1.95s\n",
      "115:\tlearn: 0.3743114\ttotal: 270ms\tremaining: 1.94s\n",
      "116:\tlearn: 0.3734953\ttotal: 271ms\tremaining: 1.93s\n",
      "117:\tlearn: 0.3719846\ttotal: 272ms\tremaining: 1.92s\n",
      "118:\tlearn: 0.3706131\ttotal: 274ms\tremaining: 1.91s\n",
      "119:\tlearn: 0.3699513\ttotal: 275ms\tremaining: 1.9s\n",
      "120:\tlearn: 0.3681420\ttotal: 276ms\tremaining: 1.89s\n",
      "121:\tlearn: 0.3661347\ttotal: 277ms\tremaining: 1.88s\n",
      "122:\tlearn: 0.3653532\ttotal: 279ms\tremaining: 1.87s\n",
      "123:\tlearn: 0.3648935\ttotal: 280ms\tremaining: 1.86s\n",
      "124:\tlearn: 0.3640977\ttotal: 281ms\tremaining: 1.85s\n",
      "125:\tlearn: 0.3635528\ttotal: 282ms\tremaining: 1.84s\n",
      "126:\tlearn: 0.3633286\ttotal: 284ms\tremaining: 1.84s\n",
      "127:\tlearn: 0.3615003\ttotal: 285ms\tremaining: 1.83s\n",
      "128:\tlearn: 0.3605375\ttotal: 286ms\tremaining: 1.82s\n",
      "129:\tlearn: 0.3591895\ttotal: 287ms\tremaining: 1.81s\n",
      "130:\tlearn: 0.3581354\ttotal: 289ms\tremaining: 1.8s\n",
      "131:\tlearn: 0.3576626\ttotal: 290ms\tremaining: 1.8s\n",
      "132:\tlearn: 0.3566203\ttotal: 291ms\tremaining: 1.79s\n",
      "133:\tlearn: 0.3562425\ttotal: 293ms\tremaining: 1.78s\n",
      "134:\tlearn: 0.3556774\ttotal: 294ms\tremaining: 1.77s\n",
      "135:\tlearn: 0.3535165\ttotal: 295ms\tremaining: 1.77s\n",
      "136:\tlearn: 0.3514990\ttotal: 296ms\tremaining: 1.76s\n",
      "137:\tlearn: 0.3506411\ttotal: 298ms\tremaining: 1.75s\n",
      "138:\tlearn: 0.3500820\ttotal: 299ms\tremaining: 1.74s\n",
      "139:\tlearn: 0.3496477\ttotal: 300ms\tremaining: 1.74s\n",
      "140:\tlearn: 0.3491975\ttotal: 301ms\tremaining: 1.73s\n",
      "141:\tlearn: 0.3485322\ttotal: 302ms\tremaining: 1.72s\n",
      "142:\tlearn: 0.3470386\ttotal: 303ms\tremaining: 1.71s\n",
      "143:\tlearn: 0.3464398\ttotal: 304ms\tremaining: 1.7s\n",
      "144:\tlearn: 0.3444895\ttotal: 306ms\tremaining: 1.7s\n",
      "145:\tlearn: 0.3433215\ttotal: 307ms\tremaining: 1.69s\n",
      "146:\tlearn: 0.3419271\ttotal: 308ms\tremaining: 1.68s\n",
      "147:\tlearn: 0.3412467\ttotal: 309ms\tremaining: 1.68s\n",
      "148:\tlearn: 0.3398672\ttotal: 310ms\tremaining: 1.67s\n",
      "149:\tlearn: 0.3393313\ttotal: 312ms\tremaining: 1.66s\n",
      "150:\tlearn: 0.3382540\ttotal: 313ms\tremaining: 1.66s\n",
      "151:\tlearn: 0.3374307\ttotal: 314ms\tremaining: 1.65s\n",
      "152:\tlearn: 0.3367477\ttotal: 315ms\tremaining: 1.64s\n",
      "153:\tlearn: 0.3357469\ttotal: 317ms\tremaining: 1.64s\n",
      "154:\tlearn: 0.3352276\ttotal: 318ms\tremaining: 1.63s\n",
      "155:\tlearn: 0.3343118\ttotal: 319ms\tremaining: 1.62s\n",
      "156:\tlearn: 0.3328855\ttotal: 320ms\tremaining: 1.61s\n",
      "157:\tlearn: 0.3318389\ttotal: 321ms\tremaining: 1.61s\n",
      "158:\tlearn: 0.3314877\ttotal: 322ms\tremaining: 1.6s\n",
      "159:\tlearn: 0.3310175\ttotal: 323ms\tremaining: 1.59s\n",
      "160:\tlearn: 0.3300076\ttotal: 324ms\tremaining: 1.59s\n",
      "161:\tlearn: 0.3295828\ttotal: 325ms\tremaining: 1.58s\n",
      "162:\tlearn: 0.3292730\ttotal: 326ms\tremaining: 1.58s\n",
      "163:\tlearn: 0.3289884\ttotal: 328ms\tremaining: 1.57s\n",
      "164:\tlearn: 0.3285513\ttotal: 329ms\tremaining: 1.56s\n",
      "165:\tlearn: 0.3279091\ttotal: 330ms\tremaining: 1.56s\n",
      "166:\tlearn: 0.3274224\ttotal: 331ms\tremaining: 1.55s\n",
      "167:\tlearn: 0.3262733\ttotal: 332ms\tremaining: 1.54s\n",
      "168:\tlearn: 0.3259786\ttotal: 333ms\tremaining: 1.54s\n",
      "169:\tlearn: 0.3258345\ttotal: 334ms\tremaining: 1.53s\n",
      "170:\tlearn: 0.3254774\ttotal: 335ms\tremaining: 1.53s\n",
      "171:\tlearn: 0.3253664\ttotal: 336ms\tremaining: 1.52s\n",
      "172:\tlearn: 0.3249014\ttotal: 337ms\tremaining: 1.51s\n",
      "173:\tlearn: 0.3240583\ttotal: 338ms\tremaining: 1.51s\n",
      "174:\tlearn: 0.3230897\ttotal: 340ms\tremaining: 1.5s\n",
      "175:\tlearn: 0.3223364\ttotal: 341ms\tremaining: 1.5s\n",
      "176:\tlearn: 0.3221064\ttotal: 342ms\tremaining: 1.49s\n"
     ]
    },
    {
     "name": "stdout",
     "output_type": "stream",
     "text": [
      "177:\tlearn: 0.3218974\ttotal: 343ms\tremaining: 1.49s\n",
      "178:\tlearn: 0.3213730\ttotal: 344ms\tremaining: 1.48s\n",
      "179:\tlearn: 0.3202396\ttotal: 345ms\tremaining: 1.48s\n",
      "180:\tlearn: 0.3193271\ttotal: 347ms\tremaining: 1.47s\n",
      "181:\tlearn: 0.3190280\ttotal: 348ms\tremaining: 1.47s\n",
      "182:\tlearn: 0.3185949\ttotal: 349ms\tremaining: 1.46s\n",
      "183:\tlearn: 0.3180448\ttotal: 350ms\tremaining: 1.46s\n",
      "184:\tlearn: 0.3176779\ttotal: 351ms\tremaining: 1.45s\n",
      "185:\tlearn: 0.3164006\ttotal: 352ms\tremaining: 1.45s\n",
      "186:\tlearn: 0.3143869\ttotal: 353ms\tremaining: 1.44s\n",
      "187:\tlearn: 0.3140840\ttotal: 355ms\tremaining: 1.44s\n",
      "188:\tlearn: 0.3135595\ttotal: 356ms\tremaining: 1.43s\n",
      "189:\tlearn: 0.3124400\ttotal: 357ms\tremaining: 1.43s\n",
      "190:\tlearn: 0.3110604\ttotal: 358ms\tremaining: 1.42s\n",
      "191:\tlearn: 0.3104591\ttotal: 359ms\tremaining: 1.42s\n",
      "192:\tlearn: 0.3101914\ttotal: 361ms\tremaining: 1.41s\n",
      "193:\tlearn: 0.3098741\ttotal: 362ms\tremaining: 1.41s\n",
      "194:\tlearn: 0.3095928\ttotal: 363ms\tremaining: 1.4s\n",
      "195:\tlearn: 0.3085510\ttotal: 364ms\tremaining: 1.4s\n",
      "196:\tlearn: 0.3076918\ttotal: 365ms\tremaining: 1.39s\n",
      "197:\tlearn: 0.3076554\ttotal: 366ms\tremaining: 1.39s\n",
      "198:\tlearn: 0.3070689\ttotal: 367ms\tremaining: 1.39s\n",
      "199:\tlearn: 0.3056369\ttotal: 368ms\tremaining: 1.38s\n",
      "200:\tlearn: 0.3048565\ttotal: 370ms\tremaining: 1.38s\n",
      "201:\tlearn: 0.3048255\ttotal: 371ms\tremaining: 1.37s\n",
      "202:\tlearn: 0.3042969\ttotal: 372ms\tremaining: 1.37s\n",
      "203:\tlearn: 0.3039318\ttotal: 373ms\tremaining: 1.36s\n",
      "204:\tlearn: 0.3036622\ttotal: 374ms\tremaining: 1.36s\n",
      "205:\tlearn: 0.3023372\ttotal: 375ms\tremaining: 1.35s\n",
      "206:\tlearn: 0.3019185\ttotal: 377ms\tremaining: 1.35s\n",
      "207:\tlearn: 0.3015786\ttotal: 378ms\tremaining: 1.35s\n",
      "208:\tlearn: 0.3014298\ttotal: 379ms\tremaining: 1.34s\n",
      "209:\tlearn: 0.3007455\ttotal: 380ms\tremaining: 1.34s\n",
      "210:\tlearn: 0.3001660\ttotal: 381ms\tremaining: 1.33s\n",
      "211:\tlearn: 0.2999868\ttotal: 382ms\tremaining: 1.33s\n",
      "212:\tlearn: 0.2997119\ttotal: 384ms\tremaining: 1.33s\n",
      "213:\tlearn: 0.2992256\ttotal: 385ms\tremaining: 1.32s\n",
      "214:\tlearn: 0.2988367\ttotal: 386ms\tremaining: 1.32s\n",
      "215:\tlearn: 0.2984360\ttotal: 387ms\tremaining: 1.31s\n",
      "216:\tlearn: 0.2981683\ttotal: 388ms\tremaining: 1.31s\n",
      "217:\tlearn: 0.2979598\ttotal: 389ms\tremaining: 1.31s\n",
      "218:\tlearn: 0.2973132\ttotal: 390ms\tremaining: 1.3s\n",
      "219:\tlearn: 0.2971246\ttotal: 391ms\tremaining: 1.3s\n",
      "220:\tlearn: 0.2958682\ttotal: 392ms\tremaining: 1.29s\n",
      "221:\tlearn: 0.2952873\ttotal: 394ms\tremaining: 1.29s\n",
      "222:\tlearn: 0.2947317\ttotal: 395ms\tremaining: 1.29s\n",
      "223:\tlearn: 0.2931418\ttotal: 396ms\tremaining: 1.28s\n",
      "224:\tlearn: 0.2922254\ttotal: 397ms\tremaining: 1.28s\n",
      "225:\tlearn: 0.2916765\ttotal: 398ms\tremaining: 1.27s\n",
      "226:\tlearn: 0.2914498\ttotal: 399ms\tremaining: 1.27s\n",
      "227:\tlearn: 0.2911602\ttotal: 400ms\tremaining: 1.27s\n",
      "228:\tlearn: 0.2909583\ttotal: 402ms\tremaining: 1.26s\n",
      "229:\tlearn: 0.2904480\ttotal: 403ms\tremaining: 1.26s\n",
      "230:\tlearn: 0.2890145\ttotal: 404ms\tremaining: 1.26s\n",
      "231:\tlearn: 0.2881501\ttotal: 405ms\tremaining: 1.25s\n",
      "232:\tlearn: 0.2877728\ttotal: 406ms\tremaining: 1.25s\n",
      "233:\tlearn: 0.2868390\ttotal: 407ms\tremaining: 1.25s\n",
      "234:\tlearn: 0.2859802\ttotal: 408ms\tremaining: 1.24s\n",
      "235:\tlearn: 0.2858197\ttotal: 410ms\tremaining: 1.24s\n",
      "236:\tlearn: 0.2851926\ttotal: 411ms\tremaining: 1.24s\n",
      "237:\tlearn: 0.2849090\ttotal: 412ms\tremaining: 1.23s\n",
      "238:\tlearn: 0.2837718\ttotal: 413ms\tremaining: 1.23s\n",
      "239:\tlearn: 0.2833249\ttotal: 414ms\tremaining: 1.22s\n",
      "240:\tlearn: 0.2823780\ttotal: 415ms\tremaining: 1.22s\n",
      "241:\tlearn: 0.2820713\ttotal: 416ms\tremaining: 1.22s\n",
      "242:\tlearn: 0.2816272\ttotal: 418ms\tremaining: 1.22s\n",
      "243:\tlearn: 0.2811184\ttotal: 419ms\tremaining: 1.21s\n",
      "244:\tlearn: 0.2801011\ttotal: 420ms\tremaining: 1.21s\n",
      "245:\tlearn: 0.2795442\ttotal: 421ms\tremaining: 1.21s\n",
      "246:\tlearn: 0.2788772\ttotal: 422ms\tremaining: 1.2s\n",
      "247:\tlearn: 0.2786280\ttotal: 424ms\tremaining: 1.2s\n",
      "248:\tlearn: 0.2784496\ttotal: 425ms\tremaining: 1.2s\n",
      "249:\tlearn: 0.2782190\ttotal: 426ms\tremaining: 1.19s\n",
      "250:\tlearn: 0.2780678\ttotal: 427ms\tremaining: 1.19s\n",
      "251:\tlearn: 0.2778995\ttotal: 428ms\tremaining: 1.19s\n",
      "252:\tlearn: 0.2774882\ttotal: 429ms\tremaining: 1.18s\n",
      "253:\tlearn: 0.2767558\ttotal: 430ms\tremaining: 1.18s\n",
      "254:\tlearn: 0.2759906\ttotal: 431ms\tremaining: 1.18s\n",
      "255:\tlearn: 0.2757936\ttotal: 432ms\tremaining: 1.17s\n",
      "256:\tlearn: 0.2753160\ttotal: 434ms\tremaining: 1.17s\n",
      "257:\tlearn: 0.2748341\ttotal: 435ms\tremaining: 1.17s\n",
      "258:\tlearn: 0.2745837\ttotal: 436ms\tremaining: 1.16s\n",
      "259:\tlearn: 0.2743526\ttotal: 437ms\tremaining: 1.16s\n",
      "260:\tlearn: 0.2738567\ttotal: 438ms\tremaining: 1.16s\n",
      "261:\tlearn: 0.2732710\ttotal: 439ms\tremaining: 1.15s\n",
      "262:\tlearn: 0.2730568\ttotal: 440ms\tremaining: 1.15s\n",
      "263:\tlearn: 0.2729235\ttotal: 442ms\tremaining: 1.15s\n",
      "264:\tlearn: 0.2725509\ttotal: 443ms\tremaining: 1.14s\n",
      "265:\tlearn: 0.2723806\ttotal: 444ms\tremaining: 1.14s\n",
      "266:\tlearn: 0.2722972\ttotal: 445ms\tremaining: 1.14s\n",
      "267:\tlearn: 0.2721706\ttotal: 446ms\tremaining: 1.14s\n",
      "268:\tlearn: 0.2716634\ttotal: 447ms\tremaining: 1.13s\n",
      "269:\tlearn: 0.2713114\ttotal: 448ms\tremaining: 1.13s\n",
      "270:\tlearn: 0.2710508\ttotal: 450ms\tremaining: 1.13s\n",
      "271:\tlearn: 0.2707800\ttotal: 451ms\tremaining: 1.12s\n",
      "272:\tlearn: 0.2704832\ttotal: 452ms\tremaining: 1.12s\n",
      "273:\tlearn: 0.2700065\ttotal: 453ms\tremaining: 1.12s\n",
      "274:\tlearn: 0.2693140\ttotal: 454ms\tremaining: 1.11s\n",
      "275:\tlearn: 0.2691054\ttotal: 456ms\tremaining: 1.11s\n",
      "276:\tlearn: 0.2688872\ttotal: 457ms\tremaining: 1.11s\n",
      "277:\tlearn: 0.2681425\ttotal: 458ms\tremaining: 1.11s\n",
      "278:\tlearn: 0.2668580\ttotal: 459ms\tremaining: 1.1s\n",
      "279:\tlearn: 0.2665334\ttotal: 460ms\tremaining: 1.1s\n",
      "280:\tlearn: 0.2663105\ttotal: 461ms\tremaining: 1.1s\n",
      "281:\tlearn: 0.2657555\ttotal: 462ms\tremaining: 1.09s\n",
      "282:\tlearn: 0.2650010\ttotal: 464ms\tremaining: 1.09s\n",
      "283:\tlearn: 0.2638362\ttotal: 465ms\tremaining: 1.09s\n",
      "284:\tlearn: 0.2637111\ttotal: 466ms\tremaining: 1.09s\n",
      "285:\tlearn: 0.2633821\ttotal: 467ms\tremaining: 1.08s\n",
      "286:\tlearn: 0.2630536\ttotal: 468ms\tremaining: 1.08s\n",
      "287:\tlearn: 0.2627466\ttotal: 469ms\tremaining: 1.08s\n",
      "288:\tlearn: 0.2624432\ttotal: 471ms\tremaining: 1.08s\n",
      "289:\tlearn: 0.2622647\ttotal: 472ms\tremaining: 1.07s\n",
      "290:\tlearn: 0.2618668\ttotal: 473ms\tremaining: 1.07s\n",
      "291:\tlearn: 0.2615713\ttotal: 474ms\tremaining: 1.07s\n",
      "292:\tlearn: 0.2612877\ttotal: 475ms\tremaining: 1.06s\n",
      "293:\tlearn: 0.2607753\ttotal: 476ms\tremaining: 1.06s\n",
      "294:\tlearn: 0.2605155\ttotal: 478ms\tremaining: 1.06s\n",
      "295:\tlearn: 0.2604217\ttotal: 479ms\tremaining: 1.06s\n",
      "296:\tlearn: 0.2600452\ttotal: 480ms\tremaining: 1.05s\n",
      "297:\tlearn: 0.2599057\ttotal: 481ms\tremaining: 1.05s\n",
      "298:\tlearn: 0.2596550\ttotal: 482ms\tremaining: 1.05s\n",
      "299:\tlearn: 0.2592433\ttotal: 483ms\tremaining: 1.05s\n",
      "300:\tlearn: 0.2588164\ttotal: 484ms\tremaining: 1.04s\n",
      "301:\tlearn: 0.2577624\ttotal: 486ms\tremaining: 1.04s\n",
      "302:\tlearn: 0.2570420\ttotal: 487ms\tremaining: 1.04s\n",
      "303:\tlearn: 0.2562735\ttotal: 488ms\tremaining: 1.04s\n",
      "304:\tlearn: 0.2561270\ttotal: 489ms\tremaining: 1.03s\n",
      "305:\tlearn: 0.2556460\ttotal: 490ms\tremaining: 1.03s\n",
      "306:\tlearn: 0.2550273\ttotal: 491ms\tremaining: 1.03s\n",
      "307:\tlearn: 0.2546718\ttotal: 492ms\tremaining: 1.03s\n",
      "308:\tlearn: 0.2545497\ttotal: 493ms\tremaining: 1.02s\n",
      "309:\tlearn: 0.2542940\ttotal: 495ms\tremaining: 1.02s\n",
      "310:\tlearn: 0.2542003\ttotal: 496ms\tremaining: 1.02s\n",
      "311:\tlearn: 0.2539220\ttotal: 497ms\tremaining: 1.01s\n",
      "312:\tlearn: 0.2531885\ttotal: 498ms\tremaining: 1.01s\n",
      "313:\tlearn: 0.2526254\ttotal: 499ms\tremaining: 1.01s\n",
      "314:\tlearn: 0.2524288\ttotal: 500ms\tremaining: 1.01s\n",
      "315:\tlearn: 0.2522358\ttotal: 501ms\tremaining: 1s\n",
      "316:\tlearn: 0.2518405\ttotal: 502ms\tremaining: 1s\n",
      "317:\tlearn: 0.2517193\ttotal: 503ms\tremaining: 1s\n",
      "318:\tlearn: 0.2516082\ttotal: 504ms\tremaining: 998ms\n",
      "319:\tlearn: 0.2511521\ttotal: 506ms\tremaining: 995ms\n",
      "320:\tlearn: 0.2502453\ttotal: 507ms\tremaining: 993ms\n",
      "321:\tlearn: 0.2496618\ttotal: 508ms\tremaining: 990ms\n",
      "322:\tlearn: 0.2490341\ttotal: 509ms\tremaining: 988ms\n",
      "323:\tlearn: 0.2488267\ttotal: 510ms\tremaining: 985ms\n",
      "324:\tlearn: 0.2484096\ttotal: 511ms\tremaining: 983ms\n",
      "325:\tlearn: 0.2476085\ttotal: 512ms\tremaining: 980ms\n",
      "326:\tlearn: 0.2473707\ttotal: 513ms\tremaining: 978ms\n",
      "327:\tlearn: 0.2469730\ttotal: 514ms\tremaining: 975ms\n",
      "328:\tlearn: 0.2468239\ttotal: 515ms\tremaining: 973ms\n",
      "329:\tlearn: 0.2466027\ttotal: 516ms\tremaining: 970ms\n",
      "330:\tlearn: 0.2464813\ttotal: 517ms\tremaining: 968ms\n",
      "331:\tlearn: 0.2460885\ttotal: 519ms\tremaining: 965ms\n",
      "332:\tlearn: 0.2458870\ttotal: 520ms\tremaining: 963ms\n",
      "333:\tlearn: 0.2454698\ttotal: 521ms\tremaining: 960ms\n",
      "334:\tlearn: 0.2453956\ttotal: 522ms\tremaining: 958ms\n",
      "335:\tlearn: 0.2452021\ttotal: 523ms\tremaining: 955ms\n",
      "336:\tlearn: 0.2451483\ttotal: 524ms\tremaining: 953ms\n",
      "337:\tlearn: 0.2448554\ttotal: 525ms\tremaining: 951ms\n",
      "338:\tlearn: 0.2446513\ttotal: 526ms\tremaining: 948ms\n",
      "339:\tlearn: 0.2441355\ttotal: 527ms\tremaining: 946ms\n",
      "340:\tlearn: 0.2438001\ttotal: 528ms\tremaining: 943ms\n",
      "341:\tlearn: 0.2430857\ttotal: 529ms\tremaining: 941ms\n",
      "342:\tlearn: 0.2429220\ttotal: 530ms\tremaining: 939ms\n",
      "343:\tlearn: 0.2421599\ttotal: 532ms\tremaining: 937ms\n",
      "344:\tlearn: 0.2419243\ttotal: 533ms\tremaining: 935ms\n",
      "345:\tlearn: 0.2416700\ttotal: 534ms\tremaining: 932ms\n",
      "346:\tlearn: 0.2412729\ttotal: 535ms\tremaining: 930ms\n"
     ]
    },
    {
     "name": "stdout",
     "output_type": "stream",
     "text": [
      "347:\tlearn: 0.2410326\ttotal: 536ms\tremaining: 928ms\n",
      "348:\tlearn: 0.2405265\ttotal: 538ms\tremaining: 926ms\n",
      "349:\tlearn: 0.2399496\ttotal: 539ms\tremaining: 924ms\n",
      "350:\tlearn: 0.2397649\ttotal: 540ms\tremaining: 921ms\n",
      "351:\tlearn: 0.2396674\ttotal: 541ms\tremaining: 919ms\n",
      "352:\tlearn: 0.2389475\ttotal: 542ms\tremaining: 917ms\n",
      "353:\tlearn: 0.2383038\ttotal: 543ms\tremaining: 915ms\n",
      "354:\tlearn: 0.2379867\ttotal: 544ms\tremaining: 912ms\n",
      "355:\tlearn: 0.2373548\ttotal: 545ms\tremaining: 910ms\n",
      "356:\tlearn: 0.2367874\ttotal: 547ms\tremaining: 908ms\n",
      "357:\tlearn: 0.2365054\ttotal: 548ms\tremaining: 906ms\n",
      "358:\tlearn: 0.2362482\ttotal: 549ms\tremaining: 903ms\n",
      "359:\tlearn: 0.2360004\ttotal: 550ms\tremaining: 901ms\n",
      "360:\tlearn: 0.2358887\ttotal: 551ms\tremaining: 899ms\n",
      "361:\tlearn: 0.2355129\ttotal: 552ms\tremaining: 897ms\n",
      "362:\tlearn: 0.2352379\ttotal: 553ms\tremaining: 894ms\n",
      "363:\tlearn: 0.2350097\ttotal: 554ms\tremaining: 892ms\n",
      "364:\tlearn: 0.2346902\ttotal: 556ms\tremaining: 890ms\n",
      "365:\tlearn: 0.2345380\ttotal: 557ms\tremaining: 888ms\n",
      "366:\tlearn: 0.2344168\ttotal: 558ms\tremaining: 886ms\n",
      "367:\tlearn: 0.2341106\ttotal: 559ms\tremaining: 885ms\n",
      "368:\tlearn: 0.2338090\ttotal: 560ms\tremaining: 882ms\n",
      "369:\tlearn: 0.2335767\ttotal: 562ms\tremaining: 880ms\n",
      "370:\tlearn: 0.2334850\ttotal: 563ms\tremaining: 878ms\n",
      "371:\tlearn: 0.2333127\ttotal: 564ms\tremaining: 876ms\n",
      "372:\tlearn: 0.2329686\ttotal: 565ms\tremaining: 874ms\n",
      "373:\tlearn: 0.2325436\ttotal: 566ms\tremaining: 872ms\n",
      "374:\tlearn: 0.2323472\ttotal: 567ms\tremaining: 870ms\n",
      "375:\tlearn: 0.2315852\ttotal: 569ms\tremaining: 868ms\n",
      "376:\tlearn: 0.2314775\ttotal: 570ms\tremaining: 866ms\n",
      "377:\tlearn: 0.2313156\ttotal: 571ms\tremaining: 864ms\n",
      "378:\tlearn: 0.2311240\ttotal: 572ms\tremaining: 862ms\n",
      "379:\tlearn: 0.2309347\ttotal: 573ms\tremaining: 860ms\n",
      "380:\tlearn: 0.2308180\ttotal: 574ms\tremaining: 858ms\n",
      "381:\tlearn: 0.2305868\ttotal: 575ms\tremaining: 856ms\n",
      "382:\tlearn: 0.2302196\ttotal: 577ms\tremaining: 854ms\n",
      "383:\tlearn: 0.2300256\ttotal: 578ms\tremaining: 852ms\n",
      "384:\tlearn: 0.2298240\ttotal: 579ms\tremaining: 850ms\n",
      "385:\tlearn: 0.2295940\ttotal: 580ms\tremaining: 848ms\n",
      "386:\tlearn: 0.2294412\ttotal: 582ms\tremaining: 846ms\n",
      "387:\tlearn: 0.2290955\ttotal: 583ms\tremaining: 844ms\n",
      "388:\tlearn: 0.2288202\ttotal: 584ms\tremaining: 842ms\n",
      "389:\tlearn: 0.2286105\ttotal: 585ms\tremaining: 840ms\n",
      "390:\tlearn: 0.2285424\ttotal: 586ms\tremaining: 838ms\n",
      "391:\tlearn: 0.2282603\ttotal: 587ms\tremaining: 836ms\n",
      "392:\tlearn: 0.2278202\ttotal: 589ms\tremaining: 834ms\n",
      "393:\tlearn: 0.2274857\ttotal: 590ms\tremaining: 832ms\n",
      "394:\tlearn: 0.2267835\ttotal: 591ms\tremaining: 830ms\n",
      "395:\tlearn: 0.2264304\ttotal: 592ms\tremaining: 828ms\n",
      "396:\tlearn: 0.2262903\ttotal: 593ms\tremaining: 826ms\n",
      "397:\tlearn: 0.2262207\ttotal: 594ms\tremaining: 824ms\n",
      "398:\tlearn: 0.2262082\ttotal: 595ms\tremaining: 822ms\n",
      "399:\tlearn: 0.2256161\ttotal: 597ms\tremaining: 820ms\n",
      "400:\tlearn: 0.2252299\ttotal: 598ms\tremaining: 818ms\n",
      "401:\tlearn: 0.2246034\ttotal: 599ms\tremaining: 816ms\n",
      "402:\tlearn: 0.2243475\ttotal: 600ms\tremaining: 814ms\n",
      "403:\tlearn: 0.2241224\ttotal: 601ms\tremaining: 812ms\n",
      "404:\tlearn: 0.2237943\ttotal: 602ms\tremaining: 810ms\n",
      "405:\tlearn: 0.2234569\ttotal: 603ms\tremaining: 808ms\n",
      "406:\tlearn: 0.2232333\ttotal: 604ms\tremaining: 806ms\n",
      "407:\tlearn: 0.2230940\ttotal: 606ms\tremaining: 804ms\n",
      "408:\tlearn: 0.2227302\ttotal: 607ms\tremaining: 802ms\n",
      "409:\tlearn: 0.2224783\ttotal: 608ms\tremaining: 801ms\n",
      "410:\tlearn: 0.2223427\ttotal: 609ms\tremaining: 799ms\n",
      "411:\tlearn: 0.2222115\ttotal: 610ms\tremaining: 797ms\n",
      "412:\tlearn: 0.2219181\ttotal: 612ms\tremaining: 795ms\n",
      "413:\tlearn: 0.2218512\ttotal: 613ms\tremaining: 793ms\n",
      "414:\tlearn: 0.2216148\ttotal: 614ms\tremaining: 792ms\n",
      "415:\tlearn: 0.2214334\ttotal: 615ms\tremaining: 790ms\n",
      "416:\tlearn: 0.2212403\ttotal: 617ms\tremaining: 788ms\n",
      "417:\tlearn: 0.2210893\ttotal: 618ms\tremaining: 786ms\n",
      "418:\tlearn: 0.2206847\ttotal: 619ms\tremaining: 784ms\n",
      "419:\tlearn: 0.2205176\ttotal: 620ms\tremaining: 782ms\n",
      "420:\tlearn: 0.2203758\ttotal: 621ms\tremaining: 780ms\n",
      "421:\tlearn: 0.2201086\ttotal: 622ms\tremaining: 778ms\n",
      "422:\tlearn: 0.2199808\ttotal: 623ms\tremaining: 777ms\n",
      "423:\tlearn: 0.2197917\ttotal: 625ms\tremaining: 775ms\n",
      "424:\tlearn: 0.2195339\ttotal: 626ms\tremaining: 773ms\n",
      "425:\tlearn: 0.2194870\ttotal: 627ms\tremaining: 771ms\n",
      "426:\tlearn: 0.2190895\ttotal: 628ms\tremaining: 769ms\n",
      "427:\tlearn: 0.2186179\ttotal: 629ms\tremaining: 767ms\n",
      "428:\tlearn: 0.2182664\ttotal: 630ms\tremaining: 765ms\n",
      "429:\tlearn: 0.2179094\ttotal: 631ms\tremaining: 763ms\n",
      "430:\tlearn: 0.2176015\ttotal: 632ms\tremaining: 761ms\n",
      "431:\tlearn: 0.2173205\ttotal: 633ms\tremaining: 759ms\n",
      "432:\tlearn: 0.2170494\ttotal: 634ms\tremaining: 757ms\n",
      "433:\tlearn: 0.2168397\ttotal: 635ms\tremaining: 756ms\n",
      "434:\tlearn: 0.2166030\ttotal: 637ms\tremaining: 754ms\n",
      "435:\tlearn: 0.2164266\ttotal: 638ms\tremaining: 752ms\n",
      "436:\tlearn: 0.2162440\ttotal: 639ms\tremaining: 750ms\n",
      "437:\tlearn: 0.2159853\ttotal: 640ms\tremaining: 748ms\n",
      "438:\tlearn: 0.2158459\ttotal: 641ms\tremaining: 746ms\n",
      "439:\tlearn: 0.2156398\ttotal: 642ms\tremaining: 744ms\n",
      "440:\tlearn: 0.2151062\ttotal: 643ms\tremaining: 743ms\n",
      "441:\tlearn: 0.2148717\ttotal: 645ms\tremaining: 741ms\n",
      "442:\tlearn: 0.2147309\ttotal: 646ms\tremaining: 739ms\n",
      "443:\tlearn: 0.2146628\ttotal: 647ms\tremaining: 738ms\n",
      "444:\tlearn: 0.2143965\ttotal: 648ms\tremaining: 736ms\n",
      "445:\tlearn: 0.2142017\ttotal: 649ms\tremaining: 734ms\n",
      "446:\tlearn: 0.2139930\ttotal: 651ms\tremaining: 732ms\n",
      "447:\tlearn: 0.2135658\ttotal: 652ms\tremaining: 730ms\n",
      "448:\tlearn: 0.2134407\ttotal: 653ms\tremaining: 728ms\n",
      "449:\tlearn: 0.2130198\ttotal: 654ms\tremaining: 727ms\n",
      "450:\tlearn: 0.2124639\ttotal: 655ms\tremaining: 725ms\n",
      "451:\tlearn: 0.2122177\ttotal: 656ms\tremaining: 723ms\n",
      "452:\tlearn: 0.2119858\ttotal: 657ms\tremaining: 721ms\n",
      "453:\tlearn: 0.2116797\ttotal: 659ms\tremaining: 720ms\n",
      "454:\tlearn: 0.2114944\ttotal: 660ms\tremaining: 718ms\n",
      "455:\tlearn: 0.2111274\ttotal: 661ms\tremaining: 716ms\n",
      "456:\tlearn: 0.2108187\ttotal: 662ms\tremaining: 715ms\n",
      "457:\tlearn: 0.2106896\ttotal: 663ms\tremaining: 713ms\n",
      "458:\tlearn: 0.2106151\ttotal: 664ms\tremaining: 711ms\n",
      "459:\tlearn: 0.2103584\ttotal: 666ms\tremaining: 709ms\n",
      "460:\tlearn: 0.2101577\ttotal: 667ms\tremaining: 707ms\n",
      "461:\tlearn: 0.2099854\ttotal: 668ms\tremaining: 705ms\n",
      "462:\tlearn: 0.2097973\ttotal: 669ms\tremaining: 704ms\n",
      "463:\tlearn: 0.2097226\ttotal: 670ms\tremaining: 702ms\n",
      "464:\tlearn: 0.2095307\ttotal: 671ms\tremaining: 700ms\n",
      "465:\tlearn: 0.2092593\ttotal: 672ms\tremaining: 698ms\n",
      "466:\tlearn: 0.2089587\ttotal: 673ms\tremaining: 696ms\n",
      "467:\tlearn: 0.2086051\ttotal: 675ms\tremaining: 695ms\n",
      "468:\tlearn: 0.2080754\ttotal: 676ms\tremaining: 693ms\n",
      "469:\tlearn: 0.2074426\ttotal: 677ms\tremaining: 691ms\n",
      "470:\tlearn: 0.2072933\ttotal: 678ms\tremaining: 690ms\n",
      "471:\tlearn: 0.2071267\ttotal: 679ms\tremaining: 688ms\n",
      "472:\tlearn: 0.2067227\ttotal: 681ms\tremaining: 686ms\n",
      "473:\tlearn: 0.2064184\ttotal: 682ms\tremaining: 685ms\n",
      "474:\tlearn: 0.2061591\ttotal: 683ms\tremaining: 683ms\n",
      "475:\tlearn: 0.2059308\ttotal: 684ms\tremaining: 681ms\n",
      "476:\tlearn: 0.2056546\ttotal: 685ms\tremaining: 680ms\n",
      "477:\tlearn: 0.2051344\ttotal: 687ms\tremaining: 678ms\n",
      "478:\tlearn: 0.2049903\ttotal: 688ms\tremaining: 676ms\n",
      "479:\tlearn: 0.2043183\ttotal: 689ms\tremaining: 675ms\n",
      "480:\tlearn: 0.2040829\ttotal: 690ms\tremaining: 673ms\n",
      "481:\tlearn: 0.2039549\ttotal: 692ms\tremaining: 672ms\n",
      "482:\tlearn: 0.2038029\ttotal: 693ms\tremaining: 670ms\n",
      "483:\tlearn: 0.2036245\ttotal: 694ms\tremaining: 668ms\n",
      "484:\tlearn: 0.2036160\ttotal: 695ms\tremaining: 666ms\n",
      "485:\tlearn: 0.2034428\ttotal: 696ms\tremaining: 665ms\n",
      "486:\tlearn: 0.2031463\ttotal: 697ms\tremaining: 663ms\n",
      "487:\tlearn: 0.2029610\ttotal: 698ms\tremaining: 661ms\n",
      "488:\tlearn: 0.2028778\ttotal: 700ms\tremaining: 659ms\n",
      "489:\tlearn: 0.2027981\ttotal: 701ms\tremaining: 658ms\n",
      "490:\tlearn: 0.2024949\ttotal: 702ms\tremaining: 656ms\n",
      "491:\tlearn: 0.2023491\ttotal: 703ms\tremaining: 655ms\n",
      "492:\tlearn: 0.2021640\ttotal: 704ms\tremaining: 653ms\n",
      "493:\tlearn: 0.2019951\ttotal: 706ms\tremaining: 651ms\n",
      "494:\tlearn: 0.2016790\ttotal: 707ms\tremaining: 650ms\n",
      "495:\tlearn: 0.2012589\ttotal: 708ms\tremaining: 648ms\n",
      "496:\tlearn: 0.2010725\ttotal: 709ms\tremaining: 646ms\n",
      "497:\tlearn: 0.2006888\ttotal: 710ms\tremaining: 645ms\n",
      "498:\tlearn: 0.2003901\ttotal: 712ms\tremaining: 643ms\n",
      "499:\tlearn: 0.2001711\ttotal: 713ms\tremaining: 641ms\n",
      "500:\tlearn: 0.1999986\ttotal: 714ms\tremaining: 640ms\n",
      "501:\tlearn: 0.1997472\ttotal: 715ms\tremaining: 638ms\n",
      "502:\tlearn: 0.1995849\ttotal: 716ms\tremaining: 636ms\n",
      "503:\tlearn: 0.1994668\ttotal: 717ms\tremaining: 635ms\n",
      "504:\tlearn: 0.1992256\ttotal: 718ms\tremaining: 633ms\n",
      "505:\tlearn: 0.1989633\ttotal: 719ms\tremaining: 631ms\n",
      "506:\tlearn: 0.1988053\ttotal: 721ms\tremaining: 630ms\n",
      "507:\tlearn: 0.1986164\ttotal: 722ms\tremaining: 628ms\n",
      "508:\tlearn: 0.1984772\ttotal: 723ms\tremaining: 626ms\n",
      "509:\tlearn: 0.1983011\ttotal: 724ms\tremaining: 624ms\n",
      "510:\tlearn: 0.1981172\ttotal: 725ms\tremaining: 623ms\n",
      "511:\tlearn: 0.1979154\ttotal: 726ms\tremaining: 621ms\n",
      "512:\tlearn: 0.1978033\ttotal: 727ms\tremaining: 619ms\n",
      "513:\tlearn: 0.1975683\ttotal: 728ms\tremaining: 618ms\n",
      "514:\tlearn: 0.1972719\ttotal: 730ms\tremaining: 616ms\n",
      "515:\tlearn: 0.1970718\ttotal: 731ms\tremaining: 615ms\n"
     ]
    },
    {
     "name": "stdout",
     "output_type": "stream",
     "text": [
      "516:\tlearn: 0.1967958\ttotal: 732ms\tremaining: 613ms\n",
      "517:\tlearn: 0.1967020\ttotal: 733ms\tremaining: 612ms\n",
      "518:\tlearn: 0.1965350\ttotal: 735ms\tremaining: 610ms\n",
      "519:\tlearn: 0.1962490\ttotal: 736ms\tremaining: 608ms\n",
      "520:\tlearn: 0.1958811\ttotal: 737ms\tremaining: 607ms\n",
      "521:\tlearn: 0.1956069\ttotal: 738ms\tremaining: 605ms\n",
      "522:\tlearn: 0.1955331\ttotal: 739ms\tremaining: 604ms\n",
      "523:\tlearn: 0.1954343\ttotal: 740ms\tremaining: 602ms\n",
      "524:\tlearn: 0.1952046\ttotal: 742ms\tremaining: 600ms\n",
      "525:\tlearn: 0.1951700\ttotal: 743ms\tremaining: 599ms\n",
      "526:\tlearn: 0.1950196\ttotal: 744ms\tremaining: 597ms\n",
      "527:\tlearn: 0.1947904\ttotal: 745ms\tremaining: 596ms\n",
      "528:\tlearn: 0.1944567\ttotal: 747ms\tremaining: 594ms\n",
      "529:\tlearn: 0.1943220\ttotal: 748ms\tremaining: 593ms\n",
      "530:\tlearn: 0.1942266\ttotal: 749ms\tremaining: 591ms\n",
      "531:\tlearn: 0.1941496\ttotal: 751ms\tremaining: 590ms\n",
      "532:\tlearn: 0.1937388\ttotal: 752ms\tremaining: 589ms\n",
      "533:\tlearn: 0.1936325\ttotal: 754ms\tremaining: 587ms\n",
      "534:\tlearn: 0.1935193\ttotal: 756ms\tremaining: 586ms\n",
      "535:\tlearn: 0.1933503\ttotal: 757ms\tremaining: 585ms\n",
      "536:\tlearn: 0.1932751\ttotal: 759ms\tremaining: 584ms\n",
      "537:\tlearn: 0.1929807\ttotal: 760ms\tremaining: 582ms\n",
      "538:\tlearn: 0.1929205\ttotal: 762ms\tremaining: 581ms\n",
      "539:\tlearn: 0.1925651\ttotal: 763ms\tremaining: 579ms\n",
      "540:\tlearn: 0.1923708\ttotal: 764ms\tremaining: 578ms\n",
      "541:\tlearn: 0.1922339\ttotal: 766ms\tremaining: 576ms\n",
      "542:\tlearn: 0.1920980\ttotal: 767ms\tremaining: 575ms\n",
      "543:\tlearn: 0.1917554\ttotal: 768ms\tremaining: 573ms\n",
      "544:\tlearn: 0.1916999\ttotal: 769ms\tremaining: 571ms\n",
      "545:\tlearn: 0.1913510\ttotal: 770ms\tremaining: 570ms\n",
      "546:\tlearn: 0.1912518\ttotal: 771ms\tremaining: 568ms\n",
      "547:\tlearn: 0.1910883\ttotal: 773ms\tremaining: 567ms\n",
      "548:\tlearn: 0.1910286\ttotal: 774ms\tremaining: 565ms\n",
      "549:\tlearn: 0.1908307\ttotal: 775ms\tremaining: 564ms\n",
      "550:\tlearn: 0.1905957\ttotal: 776ms\tremaining: 562ms\n",
      "551:\tlearn: 0.1904122\ttotal: 778ms\tremaining: 561ms\n",
      "552:\tlearn: 0.1901599\ttotal: 779ms\tremaining: 559ms\n",
      "553:\tlearn: 0.1899965\ttotal: 780ms\tremaining: 557ms\n",
      "554:\tlearn: 0.1899255\ttotal: 781ms\tremaining: 556ms\n",
      "555:\tlearn: 0.1897426\ttotal: 782ms\tremaining: 554ms\n",
      "556:\tlearn: 0.1894996\ttotal: 783ms\tremaining: 552ms\n",
      "557:\tlearn: 0.1894159\ttotal: 784ms\tremaining: 551ms\n",
      "558:\tlearn: 0.1890837\ttotal: 785ms\tremaining: 549ms\n",
      "559:\tlearn: 0.1889057\ttotal: 787ms\tremaining: 548ms\n",
      "560:\tlearn: 0.1887370\ttotal: 788ms\tremaining: 546ms\n",
      "561:\tlearn: 0.1886177\ttotal: 789ms\tremaining: 545ms\n",
      "562:\tlearn: 0.1883678\ttotal: 790ms\tremaining: 543ms\n",
      "563:\tlearn: 0.1882004\ttotal: 791ms\tremaining: 542ms\n",
      "564:\tlearn: 0.1880151\ttotal: 793ms\tremaining: 540ms\n",
      "565:\tlearn: 0.1878096\ttotal: 794ms\tremaining: 539ms\n",
      "566:\tlearn: 0.1876685\ttotal: 795ms\tremaining: 537ms\n",
      "567:\tlearn: 0.1875358\ttotal: 796ms\tremaining: 536ms\n",
      "568:\tlearn: 0.1874907\ttotal: 798ms\tremaining: 534ms\n",
      "569:\tlearn: 0.1872864\ttotal: 799ms\tremaining: 532ms\n",
      "570:\tlearn: 0.1872416\ttotal: 800ms\tremaining: 531ms\n",
      "571:\tlearn: 0.1870640\ttotal: 801ms\tremaining: 529ms\n",
      "572:\tlearn: 0.1868305\ttotal: 802ms\tremaining: 528ms\n",
      "573:\tlearn: 0.1866760\ttotal: 803ms\tremaining: 526ms\n",
      "574:\tlearn: 0.1864929\ttotal: 805ms\tremaining: 525ms\n",
      "575:\tlearn: 0.1863475\ttotal: 806ms\tremaining: 523ms\n",
      "576:\tlearn: 0.1861135\ttotal: 807ms\tremaining: 522ms\n",
      "577:\tlearn: 0.1859686\ttotal: 808ms\tremaining: 520ms\n",
      "578:\tlearn: 0.1858451\ttotal: 809ms\tremaining: 519ms\n",
      "579:\tlearn: 0.1855673\ttotal: 811ms\tremaining: 517ms\n",
      "580:\tlearn: 0.1853579\ttotal: 812ms\tremaining: 515ms\n",
      "581:\tlearn: 0.1852437\ttotal: 813ms\tremaining: 514ms\n",
      "582:\tlearn: 0.1851045\ttotal: 814ms\tremaining: 512ms\n",
      "583:\tlearn: 0.1850312\ttotal: 815ms\tremaining: 511ms\n",
      "584:\tlearn: 0.1848927\ttotal: 816ms\tremaining: 509ms\n",
      "585:\tlearn: 0.1848131\ttotal: 817ms\tremaining: 508ms\n",
      "586:\tlearn: 0.1846338\ttotal: 819ms\tremaining: 506ms\n",
      "587:\tlearn: 0.1844429\ttotal: 820ms\tremaining: 505ms\n",
      "588:\tlearn: 0.1841303\ttotal: 821ms\tremaining: 503ms\n",
      "589:\tlearn: 0.1839936\ttotal: 822ms\tremaining: 502ms\n",
      "590:\tlearn: 0.1839102\ttotal: 823ms\tremaining: 500ms\n",
      "591:\tlearn: 0.1837450\ttotal: 824ms\tremaining: 499ms\n",
      "592:\tlearn: 0.1835823\ttotal: 826ms\tremaining: 497ms\n",
      "593:\tlearn: 0.1834440\ttotal: 827ms\tremaining: 495ms\n",
      "594:\tlearn: 0.1832634\ttotal: 828ms\tremaining: 494ms\n",
      "595:\tlearn: 0.1831110\ttotal: 829ms\tremaining: 492ms\n",
      "596:\tlearn: 0.1828912\ttotal: 830ms\tremaining: 491ms\n",
      "597:\tlearn: 0.1826899\ttotal: 831ms\tremaining: 489ms\n",
      "598:\tlearn: 0.1826049\ttotal: 833ms\tremaining: 488ms\n",
      "599:\tlearn: 0.1823963\ttotal: 834ms\tremaining: 486ms\n",
      "600:\tlearn: 0.1820966\ttotal: 835ms\tremaining: 485ms\n",
      "601:\tlearn: 0.1819120\ttotal: 836ms\tremaining: 483ms\n",
      "602:\tlearn: 0.1815794\ttotal: 838ms\tremaining: 482ms\n",
      "603:\tlearn: 0.1814988\ttotal: 839ms\tremaining: 481ms\n",
      "604:\tlearn: 0.1810863\ttotal: 840ms\tremaining: 479ms\n",
      "605:\tlearn: 0.1810338\ttotal: 841ms\tremaining: 478ms\n",
      "606:\tlearn: 0.1808800\ttotal: 843ms\tremaining: 476ms\n",
      "607:\tlearn: 0.1806652\ttotal: 844ms\tremaining: 475ms\n",
      "608:\tlearn: 0.1803341\ttotal: 845ms\tremaining: 473ms\n",
      "609:\tlearn: 0.1802100\ttotal: 846ms\tremaining: 472ms\n",
      "610:\tlearn: 0.1801258\ttotal: 847ms\tremaining: 470ms\n",
      "611:\tlearn: 0.1796755\ttotal: 848ms\tremaining: 469ms\n",
      "612:\tlearn: 0.1795512\ttotal: 850ms\tremaining: 467ms\n",
      "613:\tlearn: 0.1792906\ttotal: 851ms\tremaining: 466ms\n",
      "614:\tlearn: 0.1790813\ttotal: 852ms\tremaining: 464ms\n",
      "615:\tlearn: 0.1789005\ttotal: 853ms\tremaining: 463ms\n",
      "616:\tlearn: 0.1787432\ttotal: 854ms\tremaining: 461ms\n",
      "617:\tlearn: 0.1786667\ttotal: 855ms\tremaining: 460ms\n",
      "618:\tlearn: 0.1786337\ttotal: 856ms\tremaining: 458ms\n",
      "619:\tlearn: 0.1785917\ttotal: 858ms\tremaining: 456ms\n",
      "620:\tlearn: 0.1783109\ttotal: 859ms\tremaining: 455ms\n",
      "621:\tlearn: 0.1780944\ttotal: 860ms\tremaining: 453ms\n",
      "622:\tlearn: 0.1779180\ttotal: 861ms\tremaining: 452ms\n",
      "623:\tlearn: 0.1778213\ttotal: 863ms\tremaining: 451ms\n",
      "624:\tlearn: 0.1777697\ttotal: 864ms\tremaining: 449ms\n",
      "625:\tlearn: 0.1776787\ttotal: 865ms\tremaining: 448ms\n",
      "626:\tlearn: 0.1775356\ttotal: 866ms\tremaining: 446ms\n",
      "627:\tlearn: 0.1773714\ttotal: 867ms\tremaining: 445ms\n",
      "628:\tlearn: 0.1773122\ttotal: 868ms\tremaining: 443ms\n",
      "629:\tlearn: 0.1771233\ttotal: 870ms\tremaining: 442ms\n",
      "630:\tlearn: 0.1770276\ttotal: 871ms\tremaining: 440ms\n",
      "631:\tlearn: 0.1768914\ttotal: 872ms\tremaining: 439ms\n",
      "632:\tlearn: 0.1766067\ttotal: 873ms\tremaining: 437ms\n",
      "633:\tlearn: 0.1764331\ttotal: 874ms\tremaining: 436ms\n",
      "634:\tlearn: 0.1762425\ttotal: 875ms\tremaining: 434ms\n",
      "635:\tlearn: 0.1759419\ttotal: 877ms\tremaining: 433ms\n",
      "636:\tlearn: 0.1758173\ttotal: 878ms\tremaining: 431ms\n",
      "637:\tlearn: 0.1756184\ttotal: 879ms\tremaining: 430ms\n",
      "638:\tlearn: 0.1752644\ttotal: 880ms\tremaining: 428ms\n",
      "639:\tlearn: 0.1751293\ttotal: 881ms\tremaining: 427ms\n",
      "640:\tlearn: 0.1749447\ttotal: 883ms\tremaining: 425ms\n",
      "641:\tlearn: 0.1748940\ttotal: 884ms\tremaining: 424ms\n",
      "642:\tlearn: 0.1747044\ttotal: 885ms\tremaining: 422ms\n",
      "643:\tlearn: 0.1745113\ttotal: 886ms\tremaining: 421ms\n",
      "644:\tlearn: 0.1742358\ttotal: 887ms\tremaining: 419ms\n",
      "645:\tlearn: 0.1741481\ttotal: 888ms\tremaining: 418ms\n",
      "646:\tlearn: 0.1740049\ttotal: 889ms\tremaining: 417ms\n",
      "647:\tlearn: 0.1739015\ttotal: 890ms\tremaining: 415ms\n",
      "648:\tlearn: 0.1737424\ttotal: 892ms\tremaining: 414ms\n",
      "649:\tlearn: 0.1736602\ttotal: 893ms\tremaining: 412ms\n",
      "650:\tlearn: 0.1735572\ttotal: 894ms\tremaining: 411ms\n",
      "651:\tlearn: 0.1734455\ttotal: 895ms\tremaining: 409ms\n",
      "652:\tlearn: 0.1733297\ttotal: 897ms\tremaining: 408ms\n",
      "653:\tlearn: 0.1731347\ttotal: 898ms\tremaining: 406ms\n",
      "654:\tlearn: 0.1728496\ttotal: 899ms\tremaining: 405ms\n",
      "655:\tlearn: 0.1727198\ttotal: 900ms\tremaining: 403ms\n",
      "656:\tlearn: 0.1725920\ttotal: 901ms\tremaining: 402ms\n",
      "657:\tlearn: 0.1724438\ttotal: 902ms\tremaining: 400ms\n",
      "658:\tlearn: 0.1722687\ttotal: 904ms\tremaining: 399ms\n",
      "659:\tlearn: 0.1721605\ttotal: 905ms\tremaining: 398ms\n",
      "660:\tlearn: 0.1716722\ttotal: 906ms\tremaining: 396ms\n",
      "661:\tlearn: 0.1714443\ttotal: 907ms\tremaining: 395ms\n",
      "662:\tlearn: 0.1711946\ttotal: 908ms\tremaining: 393ms\n",
      "663:\tlearn: 0.1710056\ttotal: 909ms\tremaining: 392ms\n",
      "664:\tlearn: 0.1708135\ttotal: 910ms\tremaining: 390ms\n",
      "665:\tlearn: 0.1706624\ttotal: 912ms\tremaining: 389ms\n",
      "666:\tlearn: 0.1705020\ttotal: 913ms\tremaining: 387ms\n",
      "667:\tlearn: 0.1702433\ttotal: 914ms\tremaining: 386ms\n",
      "668:\tlearn: 0.1700386\ttotal: 915ms\tremaining: 384ms\n",
      "669:\tlearn: 0.1698797\ttotal: 916ms\tremaining: 383ms\n",
      "670:\tlearn: 0.1697307\ttotal: 917ms\tremaining: 381ms\n",
      "671:\tlearn: 0.1696811\ttotal: 918ms\tremaining: 380ms\n",
      "672:\tlearn: 0.1695097\ttotal: 920ms\tremaining: 378ms\n",
      "673:\tlearn: 0.1690534\ttotal: 921ms\tremaining: 377ms\n",
      "674:\tlearn: 0.1689031\ttotal: 922ms\tremaining: 376ms\n",
      "675:\tlearn: 0.1688201\ttotal: 923ms\tremaining: 374ms\n",
      "676:\tlearn: 0.1687403\ttotal: 924ms\tremaining: 373ms\n",
      "677:\tlearn: 0.1684121\ttotal: 926ms\tremaining: 371ms\n",
      "678:\tlearn: 0.1680185\ttotal: 927ms\tremaining: 370ms\n",
      "679:\tlearn: 0.1678961\ttotal: 928ms\tremaining: 368ms\n",
      "680:\tlearn: 0.1677995\ttotal: 929ms\tremaining: 367ms\n",
      "681:\tlearn: 0.1677594\ttotal: 930ms\tremaining: 366ms\n",
      "682:\tlearn: 0.1677169\ttotal: 932ms\tremaining: 364ms\n",
      "683:\tlearn: 0.1676403\ttotal: 933ms\tremaining: 363ms\n",
      "684:\tlearn: 0.1675271\ttotal: 934ms\tremaining: 361ms\n",
      "685:\tlearn: 0.1673467\ttotal: 935ms\tremaining: 360ms\n",
      "686:\tlearn: 0.1671087\ttotal: 936ms\tremaining: 358ms\n",
      "687:\tlearn: 0.1669726\ttotal: 937ms\tremaining: 357ms\n"
     ]
    },
    {
     "name": "stdout",
     "output_type": "stream",
     "text": [
      "688:\tlearn: 0.1668513\ttotal: 938ms\tremaining: 355ms\n",
      "689:\tlearn: 0.1667488\ttotal: 940ms\tremaining: 354ms\n",
      "690:\tlearn: 0.1666006\ttotal: 941ms\tremaining: 353ms\n",
      "691:\tlearn: 0.1665399\ttotal: 942ms\tremaining: 351ms\n",
      "692:\tlearn: 0.1665072\ttotal: 943ms\tremaining: 350ms\n",
      "693:\tlearn: 0.1662163\ttotal: 944ms\tremaining: 348ms\n",
      "694:\tlearn: 0.1660062\ttotal: 945ms\tremaining: 347ms\n",
      "695:\tlearn: 0.1659182\ttotal: 947ms\tremaining: 345ms\n",
      "696:\tlearn: 0.1658091\ttotal: 948ms\tremaining: 344ms\n",
      "697:\tlearn: 0.1657521\ttotal: 949ms\tremaining: 343ms\n",
      "698:\tlearn: 0.1656623\ttotal: 950ms\tremaining: 341ms\n",
      "699:\tlearn: 0.1656358\ttotal: 951ms\tremaining: 340ms\n",
      "700:\tlearn: 0.1655746\ttotal: 952ms\tremaining: 338ms\n",
      "701:\tlearn: 0.1653705\ttotal: 953ms\tremaining: 337ms\n",
      "702:\tlearn: 0.1652456\ttotal: 954ms\tremaining: 335ms\n",
      "703:\tlearn: 0.1650271\ttotal: 956ms\tremaining: 334ms\n",
      "704:\tlearn: 0.1648463\ttotal: 957ms\tremaining: 332ms\n",
      "705:\tlearn: 0.1647800\ttotal: 958ms\tremaining: 331ms\n",
      "706:\tlearn: 0.1647156\ttotal: 959ms\tremaining: 330ms\n",
      "707:\tlearn: 0.1646272\ttotal: 960ms\tremaining: 328ms\n",
      "708:\tlearn: 0.1644847\ttotal: 961ms\tremaining: 327ms\n",
      "709:\tlearn: 0.1643615\ttotal: 962ms\tremaining: 325ms\n",
      "710:\tlearn: 0.1642556\ttotal: 963ms\tremaining: 324ms\n",
      "711:\tlearn: 0.1641833\ttotal: 965ms\tremaining: 322ms\n",
      "712:\tlearn: 0.1639792\ttotal: 966ms\tremaining: 321ms\n",
      "713:\tlearn: 0.1638705\ttotal: 967ms\tremaining: 320ms\n",
      "714:\tlearn: 0.1637436\ttotal: 968ms\tremaining: 318ms\n",
      "715:\tlearn: 0.1634758\ttotal: 970ms\tremaining: 317ms\n",
      "716:\tlearn: 0.1633678\ttotal: 971ms\tremaining: 316ms\n",
      "717:\tlearn: 0.1630727\ttotal: 972ms\tremaining: 314ms\n",
      "718:\tlearn: 0.1628487\ttotal: 973ms\tremaining: 313ms\n",
      "719:\tlearn: 0.1626827\ttotal: 974ms\tremaining: 311ms\n",
      "720:\tlearn: 0.1624208\ttotal: 976ms\tremaining: 310ms\n",
      "721:\tlearn: 0.1623095\ttotal: 977ms\tremaining: 308ms\n",
      "722:\tlearn: 0.1620446\ttotal: 978ms\tremaining: 307ms\n",
      "723:\tlearn: 0.1618455\ttotal: 979ms\tremaining: 306ms\n",
      "724:\tlearn: 0.1617239\ttotal: 980ms\tremaining: 304ms\n",
      "725:\tlearn: 0.1613924\ttotal: 981ms\tremaining: 303ms\n",
      "726:\tlearn: 0.1613081\ttotal: 982ms\tremaining: 301ms\n",
      "727:\tlearn: 0.1611739\ttotal: 984ms\tremaining: 300ms\n",
      "728:\tlearn: 0.1611015\ttotal: 985ms\tremaining: 299ms\n",
      "729:\tlearn: 0.1608637\ttotal: 986ms\tremaining: 297ms\n",
      "730:\tlearn: 0.1607386\ttotal: 987ms\tremaining: 296ms\n",
      "731:\tlearn: 0.1605833\ttotal: 988ms\tremaining: 294ms\n",
      "732:\tlearn: 0.1605336\ttotal: 989ms\tremaining: 293ms\n",
      "733:\tlearn: 0.1603694\ttotal: 990ms\tremaining: 291ms\n",
      "734:\tlearn: 0.1602512\ttotal: 992ms\tremaining: 290ms\n",
      "735:\tlearn: 0.1601965\ttotal: 993ms\tremaining: 289ms\n",
      "736:\tlearn: 0.1601198\ttotal: 994ms\tremaining: 287ms\n",
      "737:\tlearn: 0.1599304\ttotal: 995ms\tremaining: 286ms\n",
      "738:\tlearn: 0.1597278\ttotal: 996ms\tremaining: 284ms\n",
      "739:\tlearn: 0.1596369\ttotal: 997ms\tremaining: 283ms\n",
      "740:\tlearn: 0.1595574\ttotal: 999ms\tremaining: 282ms\n",
      "741:\tlearn: 0.1593535\ttotal: 1000ms\tremaining: 280ms\n",
      "742:\tlearn: 0.1592385\ttotal: 1s\tremaining: 279ms\n",
      "743:\tlearn: 0.1591927\ttotal: 1s\tremaining: 277ms\n",
      "744:\tlearn: 0.1590078\ttotal: 1s\tremaining: 276ms\n",
      "745:\tlearn: 0.1589310\ttotal: 1s\tremaining: 275ms\n",
      "746:\tlearn: 0.1587723\ttotal: 1s\tremaining: 273ms\n",
      "747:\tlearn: 0.1585797\ttotal: 1.01s\tremaining: 272ms\n",
      "748:\tlearn: 0.1583917\ttotal: 1.01s\tremaining: 270ms\n",
      "749:\tlearn: 0.1583396\ttotal: 1.01s\tremaining: 269ms\n",
      "750:\tlearn: 0.1582056\ttotal: 1.01s\tremaining: 268ms\n",
      "751:\tlearn: 0.1579299\ttotal: 1.01s\tremaining: 266ms\n",
      "752:\tlearn: 0.1577939\ttotal: 1.01s\tremaining: 265ms\n",
      "753:\tlearn: 0.1577436\ttotal: 1.01s\tremaining: 263ms\n",
      "754:\tlearn: 0.1575890\ttotal: 1.01s\tremaining: 262ms\n",
      "755:\tlearn: 0.1574747\ttotal: 1.01s\tremaining: 261ms\n",
      "756:\tlearn: 0.1571092\ttotal: 1.02s\tremaining: 259ms\n",
      "757:\tlearn: 0.1569655\ttotal: 1.02s\tremaining: 258ms\n",
      "758:\tlearn: 0.1568032\ttotal: 1.02s\tremaining: 256ms\n",
      "759:\tlearn: 0.1567603\ttotal: 1.02s\tremaining: 255ms\n",
      "760:\tlearn: 0.1564782\ttotal: 1.02s\tremaining: 253ms\n",
      "761:\tlearn: 0.1563731\ttotal: 1.02s\tremaining: 252ms\n",
      "762:\tlearn: 0.1561948\ttotal: 1.02s\tremaining: 251ms\n",
      "763:\tlearn: 0.1559991\ttotal: 1.02s\tremaining: 249ms\n",
      "764:\tlearn: 0.1557918\ttotal: 1.02s\tremaining: 248ms\n",
      "765:\tlearn: 0.1557117\ttotal: 1.03s\tremaining: 246ms\n",
      "766:\tlearn: 0.1556574\ttotal: 1.03s\tremaining: 245ms\n",
      "767:\tlearn: 0.1553867\ttotal: 1.03s\tremaining: 244ms\n",
      "768:\tlearn: 0.1552740\ttotal: 1.03s\tremaining: 242ms\n",
      "769:\tlearn: 0.1551297\ttotal: 1.03s\tremaining: 241ms\n",
      "770:\tlearn: 0.1549984\ttotal: 1.03s\tremaining: 240ms\n",
      "771:\tlearn: 0.1548504\ttotal: 1.03s\tremaining: 238ms\n",
      "772:\tlearn: 0.1546686\ttotal: 1.03s\tremaining: 237ms\n",
      "773:\tlearn: 0.1543929\ttotal: 1.04s\tremaining: 236ms\n",
      "774:\tlearn: 0.1542320\ttotal: 1.04s\tremaining: 234ms\n",
      "775:\tlearn: 0.1541124\ttotal: 1.04s\tremaining: 233ms\n",
      "776:\tlearn: 0.1538012\ttotal: 1.04s\tremaining: 231ms\n",
      "777:\tlearn: 0.1536277\ttotal: 1.04s\tremaining: 230ms\n",
      "778:\tlearn: 0.1535037\ttotal: 1.04s\tremaining: 229ms\n",
      "779:\tlearn: 0.1533928\ttotal: 1.04s\tremaining: 227ms\n",
      "780:\tlearn: 0.1533283\ttotal: 1.04s\tremaining: 226ms\n",
      "781:\tlearn: 0.1531983\ttotal: 1.04s\tremaining: 225ms\n",
      "782:\tlearn: 0.1530976\ttotal: 1.05s\tremaining: 223ms\n",
      "783:\tlearn: 0.1530586\ttotal: 1.05s\tremaining: 222ms\n",
      "784:\tlearn: 0.1530000\ttotal: 1.05s\tremaining: 220ms\n",
      "785:\tlearn: 0.1529434\ttotal: 1.05s\tremaining: 219ms\n",
      "786:\tlearn: 0.1528276\ttotal: 1.05s\tremaining: 218ms\n",
      "787:\tlearn: 0.1527856\ttotal: 1.05s\tremaining: 216ms\n",
      "788:\tlearn: 0.1527134\ttotal: 1.05s\tremaining: 215ms\n",
      "789:\tlearn: 0.1525489\ttotal: 1.05s\tremaining: 213ms\n",
      "790:\tlearn: 0.1523760\ttotal: 1.05s\tremaining: 212ms\n",
      "791:\tlearn: 0.1521720\ttotal: 1.06s\tremaining: 211ms\n",
      "792:\tlearn: 0.1521353\ttotal: 1.06s\tremaining: 209ms\n",
      "793:\tlearn: 0.1520454\ttotal: 1.06s\tremaining: 208ms\n",
      "794:\tlearn: 0.1519354\ttotal: 1.06s\tremaining: 207ms\n",
      "795:\tlearn: 0.1518847\ttotal: 1.06s\tremaining: 205ms\n",
      "796:\tlearn: 0.1517347\ttotal: 1.06s\tremaining: 204ms\n",
      "797:\tlearn: 0.1516577\ttotal: 1.06s\tremaining: 202ms\n",
      "798:\tlearn: 0.1514668\ttotal: 1.06s\tremaining: 201ms\n",
      "799:\tlearn: 0.1513753\ttotal: 1.06s\tremaining: 200ms\n",
      "800:\tlearn: 0.1511691\ttotal: 1.07s\tremaining: 198ms\n",
      "801:\tlearn: 0.1510953\ttotal: 1.07s\tremaining: 197ms\n",
      "802:\tlearn: 0.1510611\ttotal: 1.07s\tremaining: 196ms\n",
      "803:\tlearn: 0.1509736\ttotal: 1.07s\tremaining: 194ms\n",
      "804:\tlearn: 0.1509123\ttotal: 1.07s\tremaining: 193ms\n",
      "805:\tlearn: 0.1507801\ttotal: 1.07s\tremaining: 192ms\n",
      "806:\tlearn: 0.1506970\ttotal: 1.07s\tremaining: 190ms\n",
      "807:\tlearn: 0.1505963\ttotal: 1.07s\tremaining: 189ms\n",
      "808:\tlearn: 0.1504599\ttotal: 1.07s\tremaining: 187ms\n",
      "809:\tlearn: 0.1504164\ttotal: 1.08s\tremaining: 186ms\n",
      "810:\tlearn: 0.1503631\ttotal: 1.08s\tremaining: 185ms\n",
      "811:\tlearn: 0.1501761\ttotal: 1.08s\tremaining: 183ms\n",
      "812:\tlearn: 0.1500161\ttotal: 1.08s\tremaining: 182ms\n",
      "813:\tlearn: 0.1499219\ttotal: 1.08s\tremaining: 181ms\n",
      "814:\tlearn: 0.1497151\ttotal: 1.08s\tremaining: 179ms\n",
      "815:\tlearn: 0.1495200\ttotal: 1.08s\tremaining: 178ms\n",
      "816:\tlearn: 0.1492575\ttotal: 1.08s\tremaining: 176ms\n",
      "817:\tlearn: 0.1490958\ttotal: 1.08s\tremaining: 175ms\n",
      "818:\tlearn: 0.1490304\ttotal: 1.09s\tremaining: 174ms\n",
      "819:\tlearn: 0.1489280\ttotal: 1.09s\tremaining: 172ms\n",
      "820:\tlearn: 0.1486786\ttotal: 1.09s\tremaining: 171ms\n",
      "821:\tlearn: 0.1485395\ttotal: 1.09s\tremaining: 170ms\n",
      "822:\tlearn: 0.1483641\ttotal: 1.09s\tremaining: 168ms\n",
      "823:\tlearn: 0.1482106\ttotal: 1.09s\tremaining: 167ms\n",
      "824:\tlearn: 0.1480063\ttotal: 1.09s\tremaining: 166ms\n",
      "825:\tlearn: 0.1478362\ttotal: 1.09s\tremaining: 164ms\n",
      "826:\tlearn: 0.1477439\ttotal: 1.09s\tremaining: 163ms\n",
      "827:\tlearn: 0.1476262\ttotal: 1.1s\tremaining: 162ms\n",
      "828:\tlearn: 0.1474395\ttotal: 1.1s\tremaining: 160ms\n",
      "829:\tlearn: 0.1473832\ttotal: 1.1s\tremaining: 159ms\n",
      "830:\tlearn: 0.1472598\ttotal: 1.1s\tremaining: 157ms\n",
      "831:\tlearn: 0.1472195\ttotal: 1.1s\tremaining: 156ms\n",
      "832:\tlearn: 0.1470899\ttotal: 1.1s\tremaining: 155ms\n",
      "833:\tlearn: 0.1468863\ttotal: 1.1s\tremaining: 153ms\n",
      "834:\tlearn: 0.1467969\ttotal: 1.1s\tremaining: 152ms\n",
      "835:\tlearn: 0.1466750\ttotal: 1.1s\tremaining: 151ms\n",
      "836:\tlearn: 0.1465764\ttotal: 1.11s\tremaining: 149ms\n",
      "837:\tlearn: 0.1463544\ttotal: 1.11s\tremaining: 148ms\n",
      "838:\tlearn: 0.1462656\ttotal: 1.11s\tremaining: 147ms\n",
      "839:\tlearn: 0.1461632\ttotal: 1.11s\tremaining: 145ms\n",
      "840:\tlearn: 0.1461229\ttotal: 1.11s\tremaining: 144ms\n",
      "841:\tlearn: 0.1460958\ttotal: 1.11s\tremaining: 143ms\n",
      "842:\tlearn: 0.1459618\ttotal: 1.11s\tremaining: 141ms\n",
      "843:\tlearn: 0.1457529\ttotal: 1.11s\tremaining: 140ms\n",
      "844:\tlearn: 0.1456009\ttotal: 1.11s\tremaining: 139ms\n",
      "845:\tlearn: 0.1454101\ttotal: 1.11s\tremaining: 137ms\n",
      "846:\tlearn: 0.1452631\ttotal: 1.12s\tremaining: 136ms\n",
      "847:\tlearn: 0.1450132\ttotal: 1.12s\tremaining: 134ms\n",
      "848:\tlearn: 0.1448192\ttotal: 1.12s\tremaining: 133ms\n",
      "849:\tlearn: 0.1446610\ttotal: 1.12s\tremaining: 132ms\n",
      "850:\tlearn: 0.1444907\ttotal: 1.12s\tremaining: 130ms\n",
      "851:\tlearn: 0.1443029\ttotal: 1.12s\tremaining: 129ms\n",
      "852:\tlearn: 0.1440585\ttotal: 1.12s\tremaining: 128ms\n",
      "853:\tlearn: 0.1438224\ttotal: 1.12s\tremaining: 126ms\n",
      "854:\tlearn: 0.1436909\ttotal: 1.13s\tremaining: 125ms\n",
      "855:\tlearn: 0.1435264\ttotal: 1.13s\tremaining: 124ms\n",
      "856:\tlearn: 0.1434409\ttotal: 1.13s\tremaining: 122ms\n",
      "857:\tlearn: 0.1432875\ttotal: 1.13s\tremaining: 121ms\n",
      "858:\tlearn: 0.1431832\ttotal: 1.13s\tremaining: 120ms\n",
      "859:\tlearn: 0.1430766\ttotal: 1.13s\tremaining: 118ms\n",
      "860:\tlearn: 0.1429400\ttotal: 1.13s\tremaining: 117ms\n",
      "861:\tlearn: 0.1427856\ttotal: 1.13s\tremaining: 116ms\n"
     ]
    },
    {
     "name": "stdout",
     "output_type": "stream",
     "text": [
      "862:\tlearn: 0.1427206\ttotal: 1.13s\tremaining: 114ms\n",
      "863:\tlearn: 0.1426832\ttotal: 1.14s\tremaining: 113ms\n",
      "864:\tlearn: 0.1425325\ttotal: 1.14s\tremaining: 112ms\n",
      "865:\tlearn: 0.1424337\ttotal: 1.14s\tremaining: 110ms\n",
      "866:\tlearn: 0.1423201\ttotal: 1.14s\tremaining: 109ms\n",
      "867:\tlearn: 0.1422639\ttotal: 1.14s\tremaining: 108ms\n",
      "868:\tlearn: 0.1422033\ttotal: 1.14s\tremaining: 106ms\n",
      "869:\tlearn: 0.1421705\ttotal: 1.14s\tremaining: 105ms\n",
      "870:\tlearn: 0.1420306\ttotal: 1.14s\tremaining: 104ms\n",
      "871:\tlearn: 0.1419172\ttotal: 1.14s\tremaining: 102ms\n",
      "872:\tlearn: 0.1417187\ttotal: 1.15s\tremaining: 101ms\n",
      "873:\tlearn: 0.1415232\ttotal: 1.15s\tremaining: 99.8ms\n",
      "874:\tlearn: 0.1413811\ttotal: 1.15s\tremaining: 98.4ms\n",
      "875:\tlearn: 0.1413046\ttotal: 1.15s\tremaining: 97.1ms\n",
      "876:\tlearn: 0.1411842\ttotal: 1.15s\tremaining: 95.8ms\n",
      "877:\tlearn: 0.1410643\ttotal: 1.15s\tremaining: 94.4ms\n",
      "878:\tlearn: 0.1409256\ttotal: 1.15s\tremaining: 93.1ms\n",
      "879:\tlearn: 0.1408069\ttotal: 1.15s\tremaining: 91.8ms\n",
      "880:\tlearn: 0.1407555\ttotal: 1.16s\tremaining: 90.5ms\n",
      "881:\tlearn: 0.1405081\ttotal: 1.16s\tremaining: 89.1ms\n",
      "882:\tlearn: 0.1404640\ttotal: 1.16s\tremaining: 87.8ms\n",
      "883:\tlearn: 0.1403265\ttotal: 1.16s\tremaining: 86.5ms\n",
      "884:\tlearn: 0.1402827\ttotal: 1.16s\tremaining: 85.2ms\n",
      "885:\tlearn: 0.1400462\ttotal: 1.16s\tremaining: 83.8ms\n",
      "886:\tlearn: 0.1400058\ttotal: 1.16s\tremaining: 82.5ms\n",
      "887:\tlearn: 0.1399348\ttotal: 1.16s\tremaining: 81.2ms\n",
      "888:\tlearn: 0.1398732\ttotal: 1.16s\tremaining: 79.9ms\n",
      "889:\tlearn: 0.1398092\ttotal: 1.17s\tremaining: 78.6ms\n",
      "890:\tlearn: 0.1397042\ttotal: 1.17s\tremaining: 77.2ms\n",
      "891:\tlearn: 0.1396065\ttotal: 1.17s\tremaining: 75.9ms\n",
      "892:\tlearn: 0.1395520\ttotal: 1.17s\tremaining: 74.6ms\n",
      "893:\tlearn: 0.1394642\ttotal: 1.17s\tremaining: 73.3ms\n",
      "894:\tlearn: 0.1393547\ttotal: 1.17s\tremaining: 71.9ms\n",
      "895:\tlearn: 0.1392915\ttotal: 1.17s\tremaining: 70.6ms\n",
      "896:\tlearn: 0.1392369\ttotal: 1.17s\tremaining: 69.3ms\n",
      "897:\tlearn: 0.1390999\ttotal: 1.17s\tremaining: 68ms\n",
      "898:\tlearn: 0.1390139\ttotal: 1.18s\tremaining: 66.7ms\n",
      "899:\tlearn: 0.1388776\ttotal: 1.18s\tremaining: 65.3ms\n",
      "900:\tlearn: 0.1388138\ttotal: 1.18s\tremaining: 64ms\n",
      "901:\tlearn: 0.1387630\ttotal: 1.18s\tremaining: 62.7ms\n",
      "902:\tlearn: 0.1387070\ttotal: 1.18s\tremaining: 61.4ms\n",
      "903:\tlearn: 0.1385528\ttotal: 1.18s\tremaining: 60.1ms\n",
      "904:\tlearn: 0.1384362\ttotal: 1.18s\tremaining: 58.7ms\n",
      "905:\tlearn: 0.1383730\ttotal: 1.18s\tremaining: 57.4ms\n",
      "906:\tlearn: 0.1382585\ttotal: 1.18s\tremaining: 56.1ms\n",
      "907:\tlearn: 0.1381658\ttotal: 1.18s\tremaining: 54.8ms\n",
      "908:\tlearn: 0.1380041\ttotal: 1.19s\tremaining: 53.5ms\n",
      "909:\tlearn: 0.1379174\ttotal: 1.19s\tremaining: 52.2ms\n",
      "910:\tlearn: 0.1378496\ttotal: 1.19s\tremaining: 50.9ms\n",
      "911:\tlearn: 0.1377231\ttotal: 1.19s\tremaining: 49.5ms\n",
      "912:\tlearn: 0.1376584\ttotal: 1.19s\tremaining: 48.2ms\n",
      "913:\tlearn: 0.1375841\ttotal: 1.19s\tremaining: 46.9ms\n",
      "914:\tlearn: 0.1373723\ttotal: 1.19s\tremaining: 45.6ms\n",
      "915:\tlearn: 0.1373035\ttotal: 1.19s\tremaining: 44.3ms\n",
      "916:\tlearn: 0.1371136\ttotal: 1.2s\tremaining: 43ms\n",
      "917:\tlearn: 0.1370251\ttotal: 1.2s\tremaining: 41.7ms\n",
      "918:\tlearn: 0.1369143\ttotal: 1.2s\tremaining: 40.4ms\n",
      "919:\tlearn: 0.1367807\ttotal: 1.2s\tremaining: 39.1ms\n",
      "920:\tlearn: 0.1365956\ttotal: 1.2s\tremaining: 37.8ms\n",
      "921:\tlearn: 0.1365570\ttotal: 1.2s\tremaining: 36.5ms\n",
      "922:\tlearn: 0.1364623\ttotal: 1.2s\tremaining: 35.2ms\n",
      "923:\tlearn: 0.1363294\ttotal: 1.2s\tremaining: 33.9ms\n",
      "924:\tlearn: 0.1362557\ttotal: 1.2s\tremaining: 32.5ms\n",
      "925:\tlearn: 0.1362051\ttotal: 1.21s\tremaining: 31.2ms\n",
      "926:\tlearn: 0.1361323\ttotal: 1.21s\tremaining: 29.9ms\n",
      "927:\tlearn: 0.1360056\ttotal: 1.21s\tremaining: 28.6ms\n",
      "928:\tlearn: 0.1359173\ttotal: 1.21s\tremaining: 27.3ms\n",
      "929:\tlearn: 0.1356537\ttotal: 1.21s\tremaining: 26ms\n",
      "930:\tlearn: 0.1354591\ttotal: 1.21s\tremaining: 24.7ms\n",
      "931:\tlearn: 0.1353183\ttotal: 1.21s\tremaining: 23.4ms\n",
      "932:\tlearn: 0.1351522\ttotal: 1.21s\tremaining: 22.1ms\n",
      "933:\tlearn: 0.1350480\ttotal: 1.21s\tremaining: 20.8ms\n",
      "934:\tlearn: 0.1350100\ttotal: 1.22s\tremaining: 19.5ms\n",
      "935:\tlearn: 0.1349688\ttotal: 1.22s\tremaining: 18.2ms\n",
      "936:\tlearn: 0.1348691\ttotal: 1.22s\tremaining: 16.9ms\n",
      "937:\tlearn: 0.1347160\ttotal: 1.22s\tremaining: 15.6ms\n",
      "938:\tlearn: 0.1345988\ttotal: 1.22s\tremaining: 14.3ms\n",
      "939:\tlearn: 0.1344759\ttotal: 1.22s\tremaining: 13ms\n",
      "940:\tlearn: 0.1343629\ttotal: 1.22s\tremaining: 11.7ms\n",
      "941:\tlearn: 0.1342340\ttotal: 1.22s\tremaining: 10.4ms\n",
      "942:\tlearn: 0.1340859\ttotal: 1.22s\tremaining: 9.09ms\n",
      "943:\tlearn: 0.1340256\ttotal: 1.23s\tremaining: 7.79ms\n",
      "944:\tlearn: 0.1338733\ttotal: 1.23s\tremaining: 6.49ms\n",
      "945:\tlearn: 0.1338379\ttotal: 1.23s\tremaining: 5.19ms\n",
      "946:\tlearn: 0.1336693\ttotal: 1.23s\tremaining: 3.9ms\n",
      "947:\tlearn: 0.1335706\ttotal: 1.23s\tremaining: 2.6ms\n",
      "948:\tlearn: 0.1334494\ttotal: 1.23s\tremaining: 1.3ms\n",
      "949:\tlearn: 0.1334082\ttotal: 1.23s\tremaining: 0us\n",
      "\n",
      "Параметры лучшей модели: {'catboostclassifier__auto_class_weights': 'Balanced', 'catboostclassifier__depth': 3, 'catboostclassifier__iterations': 950, 'catboostclassifier__l2_leaf_reg': 4, 'catboostclassifier__learning_rate': 0.2, 'catboostclassifier__random_state': 240423}\n",
      "Значение метрики AUC-ROC на обучающей выборке для CatBoostClassifier: 0.9203756069243667\n",
      "CPU times: total: 1.03 s\n",
      "Wall time: 31.3 s\n"
     ]
    }
   ],
   "source": [
    "%%time\n",
    "\n",
    "\n",
    "cat_model = CatBoostClassifier()\n",
    "params = {'catboostclassifier__auto_class_weights': ['Balanced'],\n",
    "          'catboostclassifier__depth': [3, 4],\n",
    "          'catboostclassifier__iterations': [950, 1000],\n",
    "          'catboostclassifier__l2_leaf_reg': [3, 4, 9],\n",
    "          'catboostclassifier__learning_rate': [0.1, 0.2],\n",
    "          'catboostclassifier__random_state': [RANDOM_STATE]\n",
    "         }\n",
    "pipeline_cat = make_pipeline(col_transformer, cat_model)\n",
    "\n",
    "\n",
    "grid_cat = GridSearchCV(\n",
    "    pipeline_cat, \n",
    "    params, \n",
    "    cv=5,\n",
    "    scoring='roc_auc', \n",
    "    n_jobs=-1,\n",
    "    verbose=False\n",
    ")\n",
    "\n",
    "grid_cat.fit(features_train, target_train)\n",
    "\n",
    "cat_model_score = grid_cat.best_score_\n",
    "best_params_cat = grid_cat.best_params_\n",
    "print()\n",
    "print(f'''Параметры лучшей модели: {grid_cat.best_params_}''')\n",
    "print(f'''Значение метрики AUC-ROC на обучающей выборке для CatBoostClassifier: {cat_model_score}''')"
   ]
  },
  {
   "cell_type": "markdown",
   "id": "b74b3ed7",
   "metadata": {},
   "source": [
    "### Итоги"
   ]
  },
  {
   "cell_type": "code",
   "execution_count": 54,
   "id": "d179ac86",
   "metadata": {},
   "outputs": [
    {
     "data": {
      "text/html": [
       "<div>\n",
       "<style scoped>\n",
       "    .dataframe tbody tr th:only-of-type {\n",
       "        vertical-align: middle;\n",
       "    }\n",
       "\n",
       "    .dataframe tbody tr th {\n",
       "        vertical-align: top;\n",
       "    }\n",
       "\n",
       "    .dataframe thead th {\n",
       "        text-align: right;\n",
       "    }\n",
       "</style>\n",
       "<table border=\"1\" class=\"dataframe\">\n",
       "  <thead>\n",
       "    <tr style=\"text-align: right;\">\n",
       "      <th></th>\n",
       "      <th>auc-roc</th>\n",
       "    </tr>\n",
       "  </thead>\n",
       "  <tbody>\n",
       "    <tr>\n",
       "      <th>LogisticRegression</th>\n",
       "      <td>0.750688</td>\n",
       "    </tr>\n",
       "    <tr>\n",
       "      <th>RandomForestClassifier</th>\n",
       "      <td>0.813016</td>\n",
       "    </tr>\n",
       "    <tr>\n",
       "      <th>CatBoostClassifier</th>\n",
       "      <td>0.920376</td>\n",
       "    </tr>\n",
       "  </tbody>\n",
       "</table>\n",
       "</div>"
      ],
      "text/plain": [
       "                         auc-roc\n",
       "LogisticRegression      0.750688\n",
       "RandomForestClassifier  0.813016\n",
       "CatBoostClassifier      0.920376"
      ]
     },
     "execution_count": 54,
     "metadata": {},
     "output_type": "execute_result"
    }
   ],
   "source": [
    "models = ['LogisticRegression', 'RandomForestClassifier', 'CatBoostClassifier']\n",
    "scores = [logistic_model_score, forest_model_score, cat_model_score]\n",
    "results = pd.DataFrame(scores, index=models, columns=['auc-roc'])\n",
    "results"
   ]
  },
  {
   "cell_type": "markdown",
   "id": "0f5c3393",
   "metadata": {},
   "source": [
    "Было обучено 3 модели: LogisticRegression, RandomForestClassifier и CatBoostClassifier. Лучшей оказалась модель CatBoostClassifier, показавшая значение метрики AUC-ROC = 0.92. Проверим ее на тестовой выборке"
   ]
  },
  {
   "cell_type": "markdown",
   "id": "82216a75",
   "metadata": {},
   "source": [
    "## Тестирование модели"
   ]
  },
  {
   "cell_type": "code",
   "execution_count": 55,
   "id": "0fbb3237",
   "metadata": {
    "scrolled": false
   },
   "outputs": [
    {
     "name": "stdout",
     "output_type": "stream",
     "text": [
      "Значение метрики AUC-ROC на тестовой выборке для CatBoostClassifier: 0.9346423432205356\n"
     ]
    }
   ],
   "source": [
    "score = roc_auc_score(target_test, grid_cat.best_estimator_.predict_proba(features_test)[:, 1])\n",
    "print(f'Значение метрики AUC-ROC на тестовой выборке для CatBoostClassifier: {score}')"
   ]
  },
  {
   "cell_type": "markdown",
   "id": "d9ee1164",
   "metadata": {},
   "source": [
    "**График ROC-кривой**"
   ]
  },
  {
   "cell_type": "code",
   "execution_count": 56,
   "id": "82ccae94",
   "metadata": {},
   "outputs": [
    {
     "data": {
      "image/png": "[encoded data removed]",
      "text/plain": [
       "<Figure size 1300x600 with 1 Axes>"
      ]
     },
     "metadata": {},
     "output_type": "display_data"
    }
   ],
   "source": [
    "preds = grid_cat.best_estimator_.predict_proba(features_test)[:, 1]\n",
    "fpr, tpr, _ = roc_curve(target_test, preds)\n",
    "\n",
    "plt.figure(figsize=(13, 6))\n",
    "plt.plot (fpr,tpr)\n",
    "plt.plot([0, 1], [0, 1], linestyle='--', lw=2, color='r')\n",
    "plt.title('ROC-кривая', fontsize=15)\n",
    "plt.ylabel('True Positive Rate', fontsize=10)\n",
    "plt.xlabel('False Positive Rate', fontsize=10)\n",
    "plt.legend(['CatBoostClassifier', 'Случайная модель'], loc='best')\n",
    "plt.show() "
   ]
  },
  {
   "cell_type": "markdown",
   "id": "2335ef67",
   "metadata": {},
   "source": [
    "**Значимость признаков**"
   ]
  },
  {
   "cell_type": "code",
   "execution_count": 57,
   "id": "121c99a9",
   "metadata": {
    "scrolled": true
   },
   "outputs": [],
   "source": [
    "features_names = [] # названия признаков\n",
    "for i in grid_cat.best_estimator_[:-1].get_feature_names_out():\n",
    "    features_names.append(i.split('__')[1])"
   ]
  },
  {
   "cell_type": "code",
   "execution_count": 58,
   "id": "9df864f2",
   "metadata": {
    "scrolled": false
   },
   "outputs": [
    {
     "data": {
      "text/html": [
       "<div>\n",
       "<style scoped>\n",
       "    .dataframe tbody tr th:only-of-type {\n",
       "        vertical-align: middle;\n",
       "    }\n",
       "\n",
       "    .dataframe tbody tr th {\n",
       "        vertical-align: top;\n",
       "    }\n",
       "\n",
       "    .dataframe thead th {\n",
       "        text-align: right;\n",
       "    }\n",
       "</style>\n",
       "<table border=\"1\" class=\"dataframe\">\n",
       "  <thead>\n",
       "    <tr style=\"text-align: right;\">\n",
       "      <th></th>\n",
       "      <th>rate</th>\n",
       "    </tr>\n",
       "  </thead>\n",
       "  <tbody>\n",
       "    <tr>\n",
       "      <th>duration</th>\n",
       "      <td>69.339872</td>\n",
       "    </tr>\n",
       "    <tr>\n",
       "      <th>MonthlyCharges</th>\n",
       "      <td>12.850061</td>\n",
       "    </tr>\n",
       "    <tr>\n",
       "      <th>Type_Two year</th>\n",
       "      <td>2.864602</td>\n",
       "    </tr>\n",
       "    <tr>\n",
       "      <th>Partner_Yes</th>\n",
       "      <td>2.001868</td>\n",
       "    </tr>\n",
       "    <tr>\n",
       "      <th>Type_One year</th>\n",
       "      <td>1.729578</td>\n",
       "    </tr>\n",
       "    <tr>\n",
       "      <th>MultipleLines_Yes</th>\n",
       "      <td>1.456716</td>\n",
       "    </tr>\n",
       "    <tr>\n",
       "      <th>OnlineBackup_Yes</th>\n",
       "      <td>1.102979</td>\n",
       "    </tr>\n",
       "    <tr>\n",
       "      <th>PaymentMethod_Mailed check</th>\n",
       "      <td>1.078466</td>\n",
       "    </tr>\n",
       "    <tr>\n",
       "      <th>DeviceProtection_Yes</th>\n",
       "      <td>0.920996</td>\n",
       "    </tr>\n",
       "    <tr>\n",
       "      <th>TechSupport_Yes</th>\n",
       "      <td>0.841887</td>\n",
       "    </tr>\n",
       "    <tr>\n",
       "      <th>PaymentMethod_Electronic check</th>\n",
       "      <td>0.736859</td>\n",
       "    </tr>\n",
       "    <tr>\n",
       "      <th>StreamingMovies_Yes</th>\n",
       "      <td>0.733277</td>\n",
       "    </tr>\n",
       "    <tr>\n",
       "      <th>PaymentMethod_Credit card (automatic)</th>\n",
       "      <td>0.717911</td>\n",
       "    </tr>\n",
       "    <tr>\n",
       "      <th>Dependents_Yes</th>\n",
       "      <td>0.664262</td>\n",
       "    </tr>\n",
       "    <tr>\n",
       "      <th>gender_Male</th>\n",
       "      <td>0.600715</td>\n",
       "    </tr>\n",
       "    <tr>\n",
       "      <th>StreamingTV_Yes</th>\n",
       "      <td>0.543130</td>\n",
       "    </tr>\n",
       "    <tr>\n",
       "      <th>SeniorCitizen</th>\n",
       "      <td>0.502065</td>\n",
       "    </tr>\n",
       "    <tr>\n",
       "      <th>PaperlessBilling_Yes</th>\n",
       "      <td>0.455121</td>\n",
       "    </tr>\n",
       "    <tr>\n",
       "      <th>OnlineSecurity_Yes</th>\n",
       "      <td>0.417367</td>\n",
       "    </tr>\n",
       "    <tr>\n",
       "      <th>InternetService_Fiber optic</th>\n",
       "      <td>0.264051</td>\n",
       "    </tr>\n",
       "    <tr>\n",
       "      <th>InternetService_No</th>\n",
       "      <td>0.178217</td>\n",
       "    </tr>\n",
       "  </tbody>\n",
       "</table>\n",
       "</div>"
      ],
      "text/plain": [
       "                                            rate\n",
       "duration                               69.339872\n",
       "MonthlyCharges                         12.850061\n",
       "Type_Two year                           2.864602\n",
       "Partner_Yes                             2.001868\n",
       "Type_One year                           1.729578\n",
       "MultipleLines_Yes                       1.456716\n",
       "OnlineBackup_Yes                        1.102979\n",
       "PaymentMethod_Mailed check              1.078466\n",
       "DeviceProtection_Yes                    0.920996\n",
       "TechSupport_Yes                         0.841887\n",
       "PaymentMethod_Electronic check          0.736859\n",
       "StreamingMovies_Yes                     0.733277\n",
       "PaymentMethod_Credit card (automatic)   0.717911\n",
       "Dependents_Yes                          0.664262\n",
       "gender_Male                             0.600715\n",
       "StreamingTV_Yes                         0.543130\n",
       "SeniorCitizen                           0.502065\n",
       "PaperlessBilling_Yes                    0.455121\n",
       "OnlineSecurity_Yes                      0.417367\n",
       "InternetService_Fiber optic             0.264051\n",
       "InternetService_No                      0.178217"
      ]
     },
     "execution_count": 58,
     "metadata": {},
     "output_type": "execute_result"
    }
   ],
   "source": [
    "importance = pd.DataFrame(grid_cat.best_estimator_._final_estimator.feature_importances_,\n",
    "                              index=features_names, columns=['rate']) \\\n",
    "                            .sort_values(by='rate', ascending=False)\n",
    "importance # таблица значимости признаков"
   ]
  },
  {
   "cell_type": "code",
   "execution_count": 59,
   "id": "35c1c51f",
   "metadata": {},
   "outputs": [
    {
     "data": {
      "image/png": "[encoded data removed]",
      "text/plain": [
       "<Figure size 1300x600 with 1 Axes>"
      ]
     },
     "metadata": {},
     "output_type": "display_data"
    }
   ],
   "source": [
    "importance[::-1].plot(kind='barh', figsize=(13, 6), legend=False)\n",
    "plt.xlabel('Значимость, %', fontsize=10)\n",
    "plt.grid(axis='x')\n",
    "plt.title('Значимость признаков', fontsize=15)\n",
    "plt.show()"
   ]
  },
  {
   "cell_type": "markdown",
   "id": "f9f58c9f",
   "metadata": {},
   "source": [
    "Можно заметить, что больше всего влияет значения Продолжительности пользования услугами и Месячная стоимость услуг. Наличие отдельных услуг значительно меньше влияет на результат предсказания модели"
   ]
  },
  {
   "cell_type": "markdown",
   "id": "c1ee65c0",
   "metadata": {},
   "source": [
    "## Выводы"
   ]
  },
  {
   "cell_type": "markdown",
   "id": "c3c36461",
   "metadata": {},
   "source": [
    "В процессе подготовки данных:\n",
    "- Изучены и проанализированы данные о договорах клиентов и подключенных услуг\n",
    "- Были найдены пропуски в столбцах с подключенными услугами и были заменены на *No* (отсутствие подключения услуги у клиента)\n",
    "- Пропуски в столбце с общими затратами были обнаружены у новых клиентов и заполнены 0\n",
    "- Изменены типы данных в столбцах с датами на тип *datetime* и приведены к численному типу значения в столбце с общими затратами\n",
    "- Получен новый признак: продолжительность пользования услугами\n",
    "- Удалены столбцы с датами начала и конца пользования услугами\n",
    "\n",
    "Также была изучена корреляция признаков и найдена сильная зависимость между продолжительностью пользования услугами и суммарными тратами на услуги. Столбец с общими тратами был удален, чтобы избежать переобучение моделей. Изучен баланс классов выборки и определен явный перевес в сторону оставшихся клиентов (~84%)\n",
    "\n",
    "Обучены модели *LogisticRegression*, *RandomForestClassifier*, *CatBoostClassifier*.\n",
    "\n",
    "В итоге, лучшей моделью оказалась *CatBoostClassifier* с значением метрики AUC-ROC на тренировочной выборке ~0.92. Она была протестирована на тестовой выборке, где показала значение метрики AUC-ROC ~0.93. Построена ROC-кривая, исследована значимость признаков."
   ]
  }
 ],
 "metadata": {
  "ExecuteTimeLog": [
   {
    "duration": 428,
    "start_time": "2023-04-26T17:23:33.572Z"
   },
   {
    "duration": 64,
    "start_time": "2023-04-26T17:23:36.014Z"
   },
   {
    "duration": 47,
    "start_time": "2023-04-26T17:23:40.974Z"
   },
   {
    "duration": 56,
    "start_time": "2023-04-26T17:23:48.301Z"
   },
   {
    "duration": 120,
    "start_time": "2023-04-26T17:25:33.036Z"
   },
   {
    "duration": 48,
    "start_time": "2023-04-28T11:35:43.309Z"
   },
   {
    "duration": 452,
    "start_time": "2023-04-28T11:35:45.460Z"
   },
   {
    "duration": 149,
    "start_time": "2023-04-28T11:35:46.012Z"
   },
   {
    "duration": 12,
    "start_time": "2023-04-28T11:35:51.400Z"
   },
   {
    "duration": 64,
    "start_time": "2023-04-28T11:36:18.204Z"
   },
   {
    "duration": 13,
    "start_time": "2023-04-28T11:36:19.074Z"
   },
   {
    "duration": 64,
    "start_time": "2023-04-28T11:36:26.894Z"
   },
   {
    "duration": 11,
    "start_time": "2023-04-28T11:36:27.752Z"
   },
   {
    "duration": 47,
    "start_time": "2023-04-28T11:48:13.537Z"
   },
   {
    "duration": 40,
    "start_time": "2023-04-28T11:48:20.707Z"
   },
   {
    "duration": 33,
    "start_time": "2023-04-28T11:48:26.502Z"
   },
   {
    "duration": 3,
    "start_time": "2023-04-28T11:48:34.744Z"
   },
   {
    "duration": 64,
    "start_time": "2023-04-28T11:48:35.102Z"
   },
   {
    "duration": 20,
    "start_time": "2023-04-28T11:48:35.246Z"
   },
   {
    "duration": 12,
    "start_time": "2023-04-28T11:48:35.407Z"
   },
   {
    "duration": 16,
    "start_time": "2023-04-28T11:48:35.566Z"
   },
   {
    "duration": 15,
    "start_time": "2023-04-28T11:48:36.058Z"
   },
   {
    "duration": 225,
    "start_time": "2023-04-28T11:48:36.303Z"
   },
   {
    "duration": 13,
    "start_time": "2023-04-28T11:48:36.530Z"
   },
   {
    "duration": 14,
    "start_time": "2023-04-28T11:48:36.583Z"
   },
   {
    "duration": 12,
    "start_time": "2023-04-28T11:48:36.743Z"
   },
   {
    "duration": 122,
    "start_time": "2023-04-28T11:48:37.500Z"
   },
   {
    "duration": 10,
    "start_time": "2023-04-28T11:48:37.660Z"
   },
   {
    "duration": 25,
    "start_time": "2023-04-28T11:48:37.818Z"
   },
   {
    "duration": 10,
    "start_time": "2023-04-28T11:48:37.982Z"
   },
   {
    "duration": 105,
    "start_time": "2023-04-28T11:48:38.807Z"
   },
   {
    "duration": 9,
    "start_time": "2023-04-28T11:48:39.038Z"
   },
   {
    "duration": 14,
    "start_time": "2023-04-28T11:48:39.258Z"
   },
   {
    "duration": 10,
    "start_time": "2023-04-28T11:48:39.919Z"
   },
   {
    "duration": 44,
    "start_time": "2023-04-28T11:48:43.305Z"
   },
   {
    "duration": 25,
    "start_time": "2023-04-28T11:48:54.579Z"
   },
   {
    "duration": 6,
    "start_time": "2023-04-28T11:49:48.723Z"
   },
   {
    "duration": 24,
    "start_time": "2023-04-28T11:49:51.504Z"
   },
   {
    "duration": 47,
    "start_time": "2023-04-28T11:49:56.732Z"
   },
   {
    "duration": 19,
    "start_time": "2023-04-28T11:50:20.307Z"
   },
   {
    "duration": 20,
    "start_time": "2023-04-28T11:50:27.224Z"
   },
   {
    "duration": 708,
    "start_time": "2023-04-28T11:51:11.569Z"
   },
   {
    "duration": 803,
    "start_time": "2023-04-28T13:09:36.637Z"
   },
   {
    "duration": 20,
    "start_time": "2023-04-28T13:11:05.598Z"
   },
   {
    "duration": 52,
    "start_time": "2023-04-28T13:11:15.470Z"
   },
   {
    "duration": 80,
    "start_time": "2023-04-28T13:11:18.234Z"
   },
   {
    "duration": 11,
    "start_time": "2023-04-28T13:11:20.645Z"
   },
   {
    "duration": 14,
    "start_time": "2023-04-28T13:11:28.242Z"
   },
   {
    "duration": 40,
    "start_time": "2023-04-28T13:11:32.264Z"
   },
   {
    "duration": 18,
    "start_time": "2023-04-28T13:16:31.490Z"
   },
   {
    "duration": 5,
    "start_time": "2023-04-28T13:17:58.028Z"
   },
   {
    "duration": 6,
    "start_time": "2023-04-28T13:21:07.330Z"
   },
   {
    "duration": 13,
    "start_time": "2023-04-28T13:21:17.821Z"
   },
   {
    "duration": 6,
    "start_time": "2023-04-28T13:21:22.129Z"
   },
   {
    "duration": 11,
    "start_time": "2023-04-28T13:21:24.521Z"
   },
   {
    "duration": 30,
    "start_time": "2023-04-28T13:22:23.537Z"
   },
   {
    "duration": 57,
    "start_time": "2023-04-28T13:23:08.024Z"
   },
   {
    "duration": 14,
    "start_time": "2023-04-28T13:23:11.599Z"
   },
   {
    "duration": 22,
    "start_time": "2023-04-28T13:23:20.836Z"
   },
   {
    "duration": 7,
    "start_time": "2023-04-28T13:23:30.141Z"
   },
   {
    "duration": 6,
    "start_time": "2023-04-28T13:23:44.030Z"
   },
   {
    "duration": 21,
    "start_time": "2023-04-28T13:24:02.098Z"
   },
   {
    "duration": 28,
    "start_time": "2023-04-28T13:24:50.136Z"
   },
   {
    "duration": 9,
    "start_time": "2023-04-28T13:24:55.594Z"
   },
   {
    "duration": 5,
    "start_time": "2023-04-28T13:24:58.626Z"
   },
   {
    "duration": 16,
    "start_time": "2023-04-28T13:25:08.695Z"
   },
   {
    "duration": 5,
    "start_time": "2023-04-28T13:25:14.657Z"
   },
   {
    "duration": 25,
    "start_time": "2023-04-28T13:25:17.822Z"
   },
   {
    "duration": 10,
    "start_time": "2023-04-28T13:25:26.850Z"
   },
   {
    "duration": 7,
    "start_time": "2023-04-28T13:25:30.134Z"
   },
   {
    "duration": 12,
    "start_time": "2023-04-28T13:25:52.233Z"
   },
   {
    "duration": 9,
    "start_time": "2023-04-28T13:25:55.201Z"
   },
   {
    "duration": 9,
    "start_time": "2023-04-28T13:25:58.137Z"
   },
   {
    "duration": 7,
    "start_time": "2023-04-28T13:26:01.407Z"
   },
   {
    "duration": 6,
    "start_time": "2023-04-28T13:26:19.363Z"
   },
   {
    "duration": 14,
    "start_time": "2023-04-28T13:26:24.250Z"
   },
   {
    "duration": 16,
    "start_time": "2023-04-28T13:26:34.912Z"
   },
   {
    "duration": 21,
    "start_time": "2023-04-28T13:26:40.434Z"
   },
   {
    "duration": 101,
    "start_time": "2023-04-28T13:26:44.924Z"
   },
   {
    "duration": 31,
    "start_time": "2023-04-28T13:26:47.564Z"
   },
   {
    "duration": 15,
    "start_time": "2023-04-28T13:26:52.534Z"
   },
   {
    "duration": 616,
    "start_time": "2023-04-28T19:16:14.779Z"
   },
   {
    "duration": 9,
    "start_time": "2023-04-28T19:33:08.144Z"
   },
   {
    "duration": 9,
    "start_time": "2023-04-28T19:33:33.440Z"
   },
   {
    "duration": 8,
    "start_time": "2023-04-28T19:33:41.945Z"
   },
   {
    "duration": 7,
    "start_time": "2023-04-28T19:33:47.845Z"
   },
   {
    "duration": 11,
    "start_time": "2023-04-28T19:33:52.521Z"
   },
   {
    "duration": 6,
    "start_time": "2023-04-28T19:34:10.606Z"
   },
   {
    "duration": 7,
    "start_time": "2023-04-28T19:34:16.651Z"
   },
   {
    "duration": 59,
    "start_time": "2023-04-28T19:34:20.117Z"
   },
   {
    "duration": 9,
    "start_time": "2023-04-28T19:34:22.377Z"
   },
   {
    "duration": 11,
    "start_time": "2023-04-28T19:35:01.003Z"
   },
   {
    "duration": 12,
    "start_time": "2023-04-28T19:35:06.982Z"
   },
   {
    "duration": 13,
    "start_time": "2023-04-28T19:35:08.949Z"
   },
   {
    "duration": 9,
    "start_time": "2023-04-28T19:35:15.500Z"
   },
   {
    "duration": 13,
    "start_time": "2023-04-28T19:35:18.562Z"
   },
   {
    "duration": 8,
    "start_time": "2023-04-28T19:35:21.215Z"
   },
   {
    "duration": 6,
    "start_time": "2023-04-28T19:35:33.569Z"
   },
   {
    "duration": 5,
    "start_time": "2023-04-28T19:37:33.313Z"
   },
   {
    "duration": 41,
    "start_time": "2023-04-28T19:37:36.418Z"
   },
   {
    "duration": 5,
    "start_time": "2023-04-28T19:39:16.878Z"
   },
   {
    "duration": 24,
    "start_time": "2023-04-28T19:46:59.520Z"
   },
   {
    "duration": 8,
    "start_time": "2023-04-28T19:47:21.691Z"
   },
   {
    "duration": 8,
    "start_time": "2023-04-28T19:47:23.716Z"
   },
   {
    "duration": 5,
    "start_time": "2023-04-28T19:47:30.088Z"
   },
   {
    "duration": 19,
    "start_time": "2023-04-28T19:47:36.867Z"
   },
   {
    "duration": 7,
    "start_time": "2023-04-28T19:47:39.763Z"
   },
   {
    "duration": 16,
    "start_time": "2023-04-28T19:48:15.686Z"
   },
   {
    "duration": 6,
    "start_time": "2023-04-28T19:49:49.020Z"
   },
   {
    "duration": 19,
    "start_time": "2023-04-28T19:49:52.567Z"
   },
   {
    "duration": 73,
    "start_time": "2023-04-28T19:52:48.516Z"
   },
   {
    "duration": 22,
    "start_time": "2023-04-28T19:52:58.459Z"
   },
   {
    "duration": 18,
    "start_time": "2023-04-28T19:53:04.450Z"
   },
   {
    "duration": 4,
    "start_time": "2023-04-28T19:55:40.716Z"
   },
   {
    "duration": 12,
    "start_time": "2023-04-28T19:58:18.545Z"
   },
   {
    "duration": 363,
    "start_time": "2023-04-28T19:58:40.158Z"
   },
   {
    "duration": 3,
    "start_time": "2023-04-28T19:58:46.234Z"
   },
   {
    "duration": 184,
    "start_time": "2023-04-28T19:58:49.406Z"
   },
   {
    "duration": 452,
    "start_time": "2023-04-28T19:59:01.609Z"
   },
   {
    "duration": 199,
    "start_time": "2023-04-28T19:59:06.293Z"
   },
   {
    "duration": 149,
    "start_time": "2023-04-28T19:59:39.907Z"
   },
   {
    "duration": 119,
    "start_time": "2023-04-28T20:00:44.459Z"
   },
   {
    "duration": 105,
    "start_time": "2023-04-28T20:00:54.664Z"
   },
   {
    "duration": 112,
    "start_time": "2023-04-28T20:01:26.293Z"
   },
   {
    "duration": 158,
    "start_time": "2023-04-28T20:01:48.455Z"
   },
   {
    "duration": 124,
    "start_time": "2023-04-28T20:01:56.104Z"
   },
   {
    "duration": 5,
    "start_time": "2023-04-28T20:04:17.547Z"
   },
   {
    "duration": 4,
    "start_time": "2023-04-28T20:04:21.521Z"
   },
   {
    "duration": 5,
    "start_time": "2023-04-28T20:04:27.967Z"
   },
   {
    "duration": 5,
    "start_time": "2023-04-28T20:04:33.186Z"
   },
   {
    "duration": 4,
    "start_time": "2023-04-28T20:04:39.199Z"
   },
   {
    "duration": 6,
    "start_time": "2023-04-28T20:05:52.958Z"
   },
   {
    "duration": 6,
    "start_time": "2023-04-28T20:06:43.794Z"
   },
   {
    "duration": 27,
    "start_time": "2023-04-28T20:07:07.343Z"
   },
   {
    "duration": 3,
    "start_time": "2023-04-28T20:08:48.765Z"
   },
   {
    "duration": 3,
    "start_time": "2023-04-28T20:09:04.408Z"
   },
   {
    "duration": 16,
    "start_time": "2023-04-28T20:09:06.023Z"
   },
   {
    "duration": 3,
    "start_time": "2023-04-28T20:09:27.794Z"
   },
   {
    "duration": 16,
    "start_time": "2023-04-28T20:09:29.351Z"
   },
   {
    "duration": 2,
    "start_time": "2023-04-28T20:10:23.832Z"
   },
   {
    "duration": 21,
    "start_time": "2023-04-28T20:10:25.748Z"
   },
   {
    "duration": 13,
    "start_time": "2023-04-28T20:12:59.345Z"
   },
   {
    "duration": 9,
    "start_time": "2023-04-28T20:14:07.470Z"
   },
   {
    "duration": 2,
    "start_time": "2023-04-28T20:14:46.410Z"
   },
   {
    "duration": 7,
    "start_time": "2023-04-28T20:14:49.183Z"
   },
   {
    "duration": 9,
    "start_time": "2023-04-28T20:14:54.007Z"
   },
   {
    "duration": 901,
    "start_time": "2023-04-28T20:15:06.639Z"
   },
   {
    "duration": 7,
    "start_time": "2023-04-28T20:15:20.908Z"
   },
   {
    "duration": 7,
    "start_time": "2023-04-28T20:16:00.714Z"
   },
   {
    "duration": 6,
    "start_time": "2023-04-28T20:16:01.910Z"
   },
   {
    "duration": 6,
    "start_time": "2023-04-28T20:16:15.508Z"
   },
   {
    "duration": 5,
    "start_time": "2023-04-28T20:17:27.535Z"
   },
   {
    "duration": 17,
    "start_time": "2023-04-28T20:18:43.684Z"
   },
   {
    "duration": 4,
    "start_time": "2023-04-28T20:21:55.070Z"
   },
   {
    "duration": 19,
    "start_time": "2023-04-28T20:22:06.531Z"
   },
   {
    "duration": 21,
    "start_time": "2023-04-28T20:22:24.583Z"
   },
   {
    "duration": 19,
    "start_time": "2023-04-28T20:22:33.634Z"
   },
   {
    "duration": 27,
    "start_time": "2023-04-28T20:23:22.272Z"
   },
   {
    "duration": 20,
    "start_time": "2023-04-28T20:23:52.219Z"
   },
   {
    "duration": 13,
    "start_time": "2023-04-28T20:24:59.021Z"
   },
   {
    "duration": 11,
    "start_time": "2023-04-28T20:25:08.035Z"
   },
   {
    "duration": 11,
    "start_time": "2023-04-28T20:25:12.094Z"
   },
   {
    "duration": 15,
    "start_time": "2023-04-28T20:25:14.523Z"
   },
   {
    "duration": 12,
    "start_time": "2023-04-28T20:25:17.872Z"
   },
   {
    "duration": 15,
    "start_time": "2023-04-28T20:25:40.657Z"
   },
   {
    "duration": 16,
    "start_time": "2023-04-28T20:25:51.636Z"
   },
   {
    "duration": 11,
    "start_time": "2023-04-28T20:27:15.545Z"
   },
   {
    "duration": 12,
    "start_time": "2023-04-28T20:27:59.462Z"
   },
   {
    "duration": 7,
    "start_time": "2023-04-28T20:28:23.986Z"
   },
   {
    "duration": 12,
    "start_time": "2023-04-28T20:28:28.185Z"
   },
   {
    "duration": 9,
    "start_time": "2023-04-28T20:29:12.429Z"
   },
   {
    "duration": 28,
    "start_time": "2023-04-28T20:29:15.216Z"
   },
   {
    "duration": 7,
    "start_time": "2023-04-28T20:29:22.057Z"
   },
   {
    "duration": 29,
    "start_time": "2023-04-28T20:29:31.611Z"
   },
   {
    "duration": 38,
    "start_time": "2023-04-28T20:30:00.853Z"
   },
   {
    "duration": 19,
    "start_time": "2023-04-28T20:30:12.574Z"
   },
   {
    "duration": 27,
    "start_time": "2023-04-28T20:31:02.558Z"
   },
   {
    "duration": 4,
    "start_time": "2023-04-28T20:32:33.160Z"
   },
   {
    "duration": 8,
    "start_time": "2023-04-28T20:32:43.063Z"
   },
   {
    "duration": 288,
    "start_time": "2023-04-28T20:32:55.358Z"
   },
   {
    "duration": 5,
    "start_time": "2023-04-28T20:32:59.107Z"
   },
   {
    "duration": 4,
    "start_time": "2023-04-28T20:32:59.787Z"
   },
   {
    "duration": 16,
    "start_time": "2023-04-28T20:36:27.288Z"
   }
  ],
  "kernelspec": {
   "display_name": "Python 3 (ipykernel)",
   "language": "python",
   "name": "python3"
  },
  "language_info": {
   "codemirror_mode": {
    "name": "ipython",
    "version": 3
   },
   "file_extension": ".py",
   "mimetype": "text/x-python",
   "name": "python",
   "nbconvert_exporter": "python",
   "pygments_lexer": "ipython3",
   "version": "3.11.3"
  },
  "toc": {
   "base_numbering": 1,
   "nav_menu": {},
   "number_sections": true,
   "sideBar": true,
   "skip_h1_title": true,
   "title_cell": "Содержание",
   "title_sidebar": "Contents",
   "toc_cell": true,
   "toc_position": {
    "height": "891.111px",
    "left": "32px",
    "top": "111.441px",
    "width": "262.641px"
   },
   "toc_section_display": true,
   "toc_window_display": true
  }
 },
 "nbformat": 4,
 "nbformat_minor": 5
}
