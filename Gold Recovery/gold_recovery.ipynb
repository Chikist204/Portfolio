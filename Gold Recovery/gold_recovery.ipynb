{
 "cells": [
  {
   "cell_type": "markdown",
   "metadata": {
    "toc": true
   },
   "source": [
    "<h1>Содержание<span class=\"tocSkip\"></span></h1>\n",
    "<div class=\"toc\"><ul class=\"toc-item\"><li><span><a href=\"#Подготовка-данных\" data-toc-modified-id=\"Подготовка-данных-1\"><span class=\"toc-item-num\">1&nbsp;&nbsp;</span>Подготовка данных</a></span><ul class=\"toc-item\"><li><span><a href=\"#Рассчет-эффективности\" data-toc-modified-id=\"Рассчет-эффективности-1.1\"><span class=\"toc-item-num\">1.1&nbsp;&nbsp;</span>Рассчет эффективности</a></span></li><li><span><a href=\"#Признаки-тестовой-выборки\" data-toc-modified-id=\"Признаки-тестовой-выборки-1.2\"><span class=\"toc-item-num\">1.2&nbsp;&nbsp;</span>Признаки тестовой выборки</a></span></li><li><span><a href=\"#Предобработка-данных\" data-toc-modified-id=\"Предобработка-данных-1.3\"><span class=\"toc-item-num\">1.3&nbsp;&nbsp;</span>Предобработка данных</a></span><ul class=\"toc-item\"><li><span><a href=\"#Попробуем-протестировать-модель-на-разных-выборках:-с-удаленными-пропусками,-и-заполнеными-на-основе-предыдущих-значений\" data-toc-modified-id=\"Попробуем-протестировать-модель-на-разных-выборках:-с-удаленными-пропусками,-и-заполнеными-на-основе-предыдущих-значений-1.3.1\"><span class=\"toc-item-num\">1.3.1&nbsp;&nbsp;</span>Попробуем протестировать модель на разных выборках: с удаленными пропусками, и заполнеными на основе предыдущих значений</a></span></li><li><span><a href=\"#Проверим-на-явные-дубликаты\" data-toc-modified-id=\"Проверим-на-явные-дубликаты-1.3.2\"><span class=\"toc-item-num\">1.3.2&nbsp;&nbsp;</span>Проверим на явные дубликаты</a></span></li></ul></li></ul></li><li><span><a href=\"#Анализ-данных\" data-toc-modified-id=\"Анализ-данных-2\"><span class=\"toc-item-num\">2&nbsp;&nbsp;</span>Анализ данных</a></span><ul class=\"toc-item\"><li><span><a href=\"#Концентрация-металлов-(Au,-Ag,-Pb)-на-различных-этапах-очистки\" data-toc-modified-id=\"Концентрация-металлов-(Au,-Ag,-Pb)-на-различных-этапах-очистки-2.1\"><span class=\"toc-item-num\">2.1&nbsp;&nbsp;</span>Концентрация металлов (Au, Ag, Pb) на различных этапах очистки</a></span></li><li><span><a href=\"#Распределения-размеров-гранул-сырья-на-обучающей-и-тестовой-выборках\" data-toc-modified-id=\"Распределения-размеров-гранул-сырья-на-обучающей-и-тестовой-выборках-2.2\"><span class=\"toc-item-num\">2.2&nbsp;&nbsp;</span>Распределения размеров гранул сырья на обучающей и тестовой выборках</a></span></li><li><span><a href=\"#Суммарная-концентрация-всех-веществ-на-разных-стадиях:-в-сырье,-в-черновом-и-финальном-концентратах\" data-toc-modified-id=\"Суммарная-концентрация-всех-веществ-на-разных-стадиях:-в-сырье,-в-черновом-и-финальном-концентратах-2.3\"><span class=\"toc-item-num\">2.3&nbsp;&nbsp;</span>Суммарная концентрация всех веществ на разных стадиях: в сырье, в черновом и финальном концентратах</a></span></li></ul></li><li><span><a href=\"#Модель\" data-toc-modified-id=\"Модель-3\"><span class=\"toc-item-num\">3&nbsp;&nbsp;</span>Модель</a></span><ul class=\"toc-item\"><li><span><a href=\"#Функция-подсчета-итоговой-sMAPE\" data-toc-modified-id=\"Функция-подсчета-итоговой-sMAPE-3.1\"><span class=\"toc-item-num\">3.1&nbsp;&nbsp;</span>Функция подсчета итоговой sMAPE</a></span></li><li><span><a href=\"#Обучение-моделей-на-выборках-с-удаленными-пропусками-и-заполненными\" data-toc-modified-id=\"Обучение-моделей-на-выборках-с-удаленными-пропусками-и-заполненными-3.2\"><span class=\"toc-item-num\">3.2&nbsp;&nbsp;</span>Обучение моделей на выборках с удаленными пропусками и заполненными</a></span><ul class=\"toc-item\"><li><span><a href=\"#Пропуски-удалены\" data-toc-modified-id=\"Пропуски-удалены-3.2.1\"><span class=\"toc-item-num\">3.2.1&nbsp;&nbsp;</span>Пропуски удалены</a></span></li><li><span><a href=\"#Пропуски-заполнены\" data-toc-modified-id=\"Пропуски-заполнены-3.2.2\"><span class=\"toc-item-num\">3.2.2&nbsp;&nbsp;</span>Пропуски заполнены</a></span></li></ul></li><li><span><a href=\"#Тестирование-модели\" data-toc-modified-id=\"Тестирование-модели-3.3\"><span class=\"toc-item-num\">3.3&nbsp;&nbsp;</span>Тестирование модели</a></span></li></ul></li><li><span><a href=\"#Выводы\" data-toc-modified-id=\"Выводы-4\"><span class=\"toc-item-num\">4&nbsp;&nbsp;</span>Выводы</a></span></li></ul></div>"
   ]
  },
  {
   "cell_type": "markdown",
   "metadata": {},
   "source": [
    "## Подготовка данных"
   ]
  },
  {
   "cell_type": "code",
   "execution_count": 1,
   "metadata": {},
   "outputs": [],
   "source": [
    "import pandas as pd\n",
    "import seaborn as sns\n",
    "import numpy as np\n",
    "import matplotlib.pyplot as plt\n",
    "\n",
    "from sklearn.metrics import mean_absolute_error\n",
    "from sklearn.metrics import make_scorer\n",
    "from sklearn.metrics import accuracy_score\n",
    "from sklearn.model_selection import cross_val_score\n",
    "\n",
    "from sklearn.ensemble import RandomForestRegressor\n",
    "from sklearn.linear_model import LinearRegression\n",
    "from sklearn.dummy import DummyRegressor"
   ]
  },
  {
   "cell_type": "code",
   "execution_count": 2,
   "metadata": {},
   "outputs": [],
   "source": [
    "import warnings\n",
    "warnings.filterwarnings(\"ignore\")"
   ]
  },
  {
   "cell_type": "code",
   "execution_count": 3,
   "metadata": {},
   "outputs": [],
   "source": [
    "train_df = pd.read_csv('gold_recovery_train_new.csv')  # тренировочная выборка\n",
    "test_df = pd.read_csv('gold_recovery_test_new.csv')  # тестовая выборка\n",
    "full_df = pd.read_csv('gold_recovery_full_new.csv')  # полная выборка"
   ]
  },
  {
   "cell_type": "markdown",
   "metadata": {},
   "source": [
    "**Тренировочная выборка**"
   ]
  },
  {
   "cell_type": "code",
   "execution_count": 4,
   "metadata": {},
   "outputs": [
    {
     "data": {
      "text/html": [
       "<div>\n",
       "<style scoped>\n",
       "    .dataframe tbody tr th:only-of-type {\n",
       "        vertical-align: middle;\n",
       "    }\n",
       "\n",
       "    .dataframe tbody tr th {\n",
       "        vertical-align: top;\n",
       "    }\n",
       "\n",
       "    .dataframe thead th {\n",
       "        text-align: right;\n",
       "    }\n",
       "</style>\n",
       "<table border=\"1\" class=\"dataframe\">\n",
       "  <thead>\n",
       "    <tr style=\"text-align: right;\">\n",
       "      <th></th>\n",
       "      <th>date</th>\n",
       "      <th>final.output.concentrate_ag</th>\n",
       "      <th>final.output.concentrate_pb</th>\n",
       "      <th>final.output.concentrate_sol</th>\n",
       "      <th>final.output.concentrate_au</th>\n",
       "      <th>final.output.recovery</th>\n",
       "      <th>final.output.tail_ag</th>\n",
       "      <th>final.output.tail_pb</th>\n",
       "      <th>final.output.tail_sol</th>\n",
       "      <th>final.output.tail_au</th>\n",
       "      <th>...</th>\n",
       "      <th>secondary_cleaner.state.floatbank4_a_air</th>\n",
       "      <th>secondary_cleaner.state.floatbank4_a_level</th>\n",
       "      <th>secondary_cleaner.state.floatbank4_b_air</th>\n",
       "      <th>secondary_cleaner.state.floatbank4_b_level</th>\n",
       "      <th>secondary_cleaner.state.floatbank5_a_air</th>\n",
       "      <th>secondary_cleaner.state.floatbank5_a_level</th>\n",
       "      <th>secondary_cleaner.state.floatbank5_b_air</th>\n",
       "      <th>secondary_cleaner.state.floatbank5_b_level</th>\n",
       "      <th>secondary_cleaner.state.floatbank6_a_air</th>\n",
       "      <th>secondary_cleaner.state.floatbank6_a_level</th>\n",
       "    </tr>\n",
       "  </thead>\n",
       "  <tbody>\n",
       "    <tr>\n",
       "      <th>0</th>\n",
       "      <td>2016-01-15 00:00:00</td>\n",
       "      <td>6.055403</td>\n",
       "      <td>9.889648</td>\n",
       "      <td>5.507324</td>\n",
       "      <td>42.192020</td>\n",
       "      <td>70.541216</td>\n",
       "      <td>10.411962</td>\n",
       "      <td>0.895447</td>\n",
       "      <td>16.904297</td>\n",
       "      <td>2.143149</td>\n",
       "      <td>...</td>\n",
       "      <td>14.016835</td>\n",
       "      <td>-502.488007</td>\n",
       "      <td>12.099931</td>\n",
       "      <td>-504.715942</td>\n",
       "      <td>9.925633</td>\n",
       "      <td>-498.310211</td>\n",
       "      <td>8.079666</td>\n",
       "      <td>-500.470978</td>\n",
       "      <td>14.151341</td>\n",
       "      <td>-605.841980</td>\n",
       "    </tr>\n",
       "    <tr>\n",
       "      <th>1</th>\n",
       "      <td>2016-01-15 01:00:00</td>\n",
       "      <td>6.029369</td>\n",
       "      <td>9.968944</td>\n",
       "      <td>5.257781</td>\n",
       "      <td>42.701629</td>\n",
       "      <td>69.266198</td>\n",
       "      <td>10.462676</td>\n",
       "      <td>0.927452</td>\n",
       "      <td>16.634514</td>\n",
       "      <td>2.224930</td>\n",
       "      <td>...</td>\n",
       "      <td>13.992281</td>\n",
       "      <td>-505.503262</td>\n",
       "      <td>11.950531</td>\n",
       "      <td>-501.331529</td>\n",
       "      <td>10.039245</td>\n",
       "      <td>-500.169983</td>\n",
       "      <td>7.984757</td>\n",
       "      <td>-500.582168</td>\n",
       "      <td>13.998353</td>\n",
       "      <td>-599.787184</td>\n",
       "    </tr>\n",
       "    <tr>\n",
       "      <th>2</th>\n",
       "      <td>2016-01-15 02:00:00</td>\n",
       "      <td>6.055926</td>\n",
       "      <td>10.213995</td>\n",
       "      <td>5.383759</td>\n",
       "      <td>42.657501</td>\n",
       "      <td>68.116445</td>\n",
       "      <td>10.507046</td>\n",
       "      <td>0.953716</td>\n",
       "      <td>16.208849</td>\n",
       "      <td>2.257889</td>\n",
       "      <td>...</td>\n",
       "      <td>14.015015</td>\n",
       "      <td>-502.520901</td>\n",
       "      <td>11.912783</td>\n",
       "      <td>-501.133383</td>\n",
       "      <td>10.070913</td>\n",
       "      <td>-500.129135</td>\n",
       "      <td>8.013877</td>\n",
       "      <td>-500.517572</td>\n",
       "      <td>14.028663</td>\n",
       "      <td>-601.427363</td>\n",
       "    </tr>\n",
       "    <tr>\n",
       "      <th>3</th>\n",
       "      <td>2016-01-15 03:00:00</td>\n",
       "      <td>6.047977</td>\n",
       "      <td>9.977019</td>\n",
       "      <td>4.858634</td>\n",
       "      <td>42.689819</td>\n",
       "      <td>68.347543</td>\n",
       "      <td>10.422762</td>\n",
       "      <td>0.883763</td>\n",
       "      <td>16.532835</td>\n",
       "      <td>2.146849</td>\n",
       "      <td>...</td>\n",
       "      <td>14.036510</td>\n",
       "      <td>-500.857308</td>\n",
       "      <td>11.999550</td>\n",
       "      <td>-501.193686</td>\n",
       "      <td>9.970366</td>\n",
       "      <td>-499.201640</td>\n",
       "      <td>7.977324</td>\n",
       "      <td>-500.255908</td>\n",
       "      <td>14.005551</td>\n",
       "      <td>-599.996129</td>\n",
       "    </tr>\n",
       "    <tr>\n",
       "      <th>4</th>\n",
       "      <td>2016-01-15 04:00:00</td>\n",
       "      <td>6.148599</td>\n",
       "      <td>10.142511</td>\n",
       "      <td>4.939416</td>\n",
       "      <td>42.774141</td>\n",
       "      <td>66.927016</td>\n",
       "      <td>10.360302</td>\n",
       "      <td>0.792826</td>\n",
       "      <td>16.525686</td>\n",
       "      <td>2.055292</td>\n",
       "      <td>...</td>\n",
       "      <td>14.027298</td>\n",
       "      <td>-499.838632</td>\n",
       "      <td>11.953070</td>\n",
       "      <td>-501.053894</td>\n",
       "      <td>9.925709</td>\n",
       "      <td>-501.686727</td>\n",
       "      <td>7.894242</td>\n",
       "      <td>-500.356035</td>\n",
       "      <td>13.996647</td>\n",
       "      <td>-601.496691</td>\n",
       "    </tr>\n",
       "  </tbody>\n",
       "</table>\n",
       "<p>5 rows × 87 columns</p>\n",
       "</div>"
      ],
      "text/plain": [
       "                  date  final.output.concentrate_ag  \\\n",
       "0  2016-01-15 00:00:00                     6.055403   \n",
       "1  2016-01-15 01:00:00                     6.029369   \n",
       "2  2016-01-15 02:00:00                     6.055926   \n",
       "3  2016-01-15 03:00:00                     6.047977   \n",
       "4  2016-01-15 04:00:00                     6.148599   \n",
       "\n",
       "   final.output.concentrate_pb  final.output.concentrate_sol  \\\n",
       "0                     9.889648                      5.507324   \n",
       "1                     9.968944                      5.257781   \n",
       "2                    10.213995                      5.383759   \n",
       "3                     9.977019                      4.858634   \n",
       "4                    10.142511                      4.939416   \n",
       "\n",
       "   final.output.concentrate_au  final.output.recovery  final.output.tail_ag  \\\n",
       "0                    42.192020              70.541216             10.411962   \n",
       "1                    42.701629              69.266198             10.462676   \n",
       "2                    42.657501              68.116445             10.507046   \n",
       "3                    42.689819              68.347543             10.422762   \n",
       "4                    42.774141              66.927016             10.360302   \n",
       "\n",
       "   final.output.tail_pb  final.output.tail_sol  final.output.tail_au  ...  \\\n",
       "0              0.895447              16.904297              2.143149  ...   \n",
       "1              0.927452              16.634514              2.224930  ...   \n",
       "2              0.953716              16.208849              2.257889  ...   \n",
       "3              0.883763              16.532835              2.146849  ...   \n",
       "4              0.792826              16.525686              2.055292  ...   \n",
       "\n",
       "   secondary_cleaner.state.floatbank4_a_air  \\\n",
       "0                                 14.016835   \n",
       "1                                 13.992281   \n",
       "2                                 14.015015   \n",
       "3                                 14.036510   \n",
       "4                                 14.027298   \n",
       "\n",
       "   secondary_cleaner.state.floatbank4_a_level  \\\n",
       "0                                 -502.488007   \n",
       "1                                 -505.503262   \n",
       "2                                 -502.520901   \n",
       "3                                 -500.857308   \n",
       "4                                 -499.838632   \n",
       "\n",
       "   secondary_cleaner.state.floatbank4_b_air  \\\n",
       "0                                 12.099931   \n",
       "1                                 11.950531   \n",
       "2                                 11.912783   \n",
       "3                                 11.999550   \n",
       "4                                 11.953070   \n",
       "\n",
       "   secondary_cleaner.state.floatbank4_b_level  \\\n",
       "0                                 -504.715942   \n",
       "1                                 -501.331529   \n",
       "2                                 -501.133383   \n",
       "3                                 -501.193686   \n",
       "4                                 -501.053894   \n",
       "\n",
       "   secondary_cleaner.state.floatbank5_a_air  \\\n",
       "0                                  9.925633   \n",
       "1                                 10.039245   \n",
       "2                                 10.070913   \n",
       "3                                  9.970366   \n",
       "4                                  9.925709   \n",
       "\n",
       "   secondary_cleaner.state.floatbank5_a_level  \\\n",
       "0                                 -498.310211   \n",
       "1                                 -500.169983   \n",
       "2                                 -500.129135   \n",
       "3                                 -499.201640   \n",
       "4                                 -501.686727   \n",
       "\n",
       "   secondary_cleaner.state.floatbank5_b_air  \\\n",
       "0                                  8.079666   \n",
       "1                                  7.984757   \n",
       "2                                  8.013877   \n",
       "3                                  7.977324   \n",
       "4                                  7.894242   \n",
       "\n",
       "   secondary_cleaner.state.floatbank5_b_level  \\\n",
       "0                                 -500.470978   \n",
       "1                                 -500.582168   \n",
       "2                                 -500.517572   \n",
       "3                                 -500.255908   \n",
       "4                                 -500.356035   \n",
       "\n",
       "   secondary_cleaner.state.floatbank6_a_air  \\\n",
       "0                                 14.151341   \n",
       "1                                 13.998353   \n",
       "2                                 14.028663   \n",
       "3                                 14.005551   \n",
       "4                                 13.996647   \n",
       "\n",
       "   secondary_cleaner.state.floatbank6_a_level  \n",
       "0                                 -605.841980  \n",
       "1                                 -599.787184  \n",
       "2                                 -601.427363  \n",
       "3                                 -599.996129  \n",
       "4                                 -601.496691  \n",
       "\n",
       "[5 rows x 87 columns]"
      ]
     },
     "execution_count": 4,
     "metadata": {},
     "output_type": "execute_result"
    }
   ],
   "source": [
    "train_df.head()"
   ]
  },
  {
   "cell_type": "code",
   "execution_count": 5,
   "metadata": {
    "scrolled": true
   },
   "outputs": [
    {
     "name": "stdout",
     "output_type": "stream",
     "text": [
      "<class 'pandas.core.frame.DataFrame'>\n",
      "RangeIndex: 14149 entries, 0 to 14148\n",
      "Data columns (total 87 columns):\n",
      " #   Column                                              Non-Null Count  Dtype  \n",
      "---  ------                                              --------------  -----  \n",
      " 0   date                                                14149 non-null  object \n",
      " 1   final.output.concentrate_ag                         14148 non-null  float64\n",
      " 2   final.output.concentrate_pb                         14148 non-null  float64\n",
      " 3   final.output.concentrate_sol                        13938 non-null  float64\n",
      " 4   final.output.concentrate_au                         14149 non-null  float64\n",
      " 5   final.output.recovery                               14149 non-null  float64\n",
      " 6   final.output.tail_ag                                14149 non-null  float64\n",
      " 7   final.output.tail_pb                                14049 non-null  float64\n",
      " 8   final.output.tail_sol                               14144 non-null  float64\n",
      " 9   final.output.tail_au                                14149 non-null  float64\n",
      " 10  primary_cleaner.input.sulfate                       14129 non-null  float64\n",
      " 11  primary_cleaner.input.depressant                    14117 non-null  float64\n",
      " 12  primary_cleaner.input.feed_size                     14149 non-null  float64\n",
      " 13  primary_cleaner.input.xanthate                      14049 non-null  float64\n",
      " 14  primary_cleaner.output.concentrate_ag               14149 non-null  float64\n",
      " 15  primary_cleaner.output.concentrate_pb               14063 non-null  float64\n",
      " 16  primary_cleaner.output.concentrate_sol              13863 non-null  float64\n",
      " 17  primary_cleaner.output.concentrate_au               14149 non-null  float64\n",
      " 18  primary_cleaner.output.tail_ag                      14148 non-null  float64\n",
      " 19  primary_cleaner.output.tail_pb                      14134 non-null  float64\n",
      " 20  primary_cleaner.output.tail_sol                     14103 non-null  float64\n",
      " 21  primary_cleaner.output.tail_au                      14149 non-null  float64\n",
      " 22  primary_cleaner.state.floatbank8_a_air              14145 non-null  float64\n",
      " 23  primary_cleaner.state.floatbank8_a_level            14148 non-null  float64\n",
      " 24  primary_cleaner.state.floatbank8_b_air              14145 non-null  float64\n",
      " 25  primary_cleaner.state.floatbank8_b_level            14148 non-null  float64\n",
      " 26  primary_cleaner.state.floatbank8_c_air              14147 non-null  float64\n",
      " 27  primary_cleaner.state.floatbank8_c_level            14148 non-null  float64\n",
      " 28  primary_cleaner.state.floatbank8_d_air              14146 non-null  float64\n",
      " 29  primary_cleaner.state.floatbank8_d_level            14148 non-null  float64\n",
      " 30  rougher.calculation.sulfate_to_au_concentrate       14148 non-null  float64\n",
      " 31  rougher.calculation.floatbank10_sulfate_to_au_feed  14148 non-null  float64\n",
      " 32  rougher.calculation.floatbank11_sulfate_to_au_feed  14148 non-null  float64\n",
      " 33  rougher.calculation.au_pb_ratio                     14149 non-null  float64\n",
      " 34  rougher.input.feed_ag                               14149 non-null  float64\n",
      " 35  rougher.input.feed_pb                               14049 non-null  float64\n",
      " 36  rougher.input.feed_rate                             14141 non-null  float64\n",
      " 37  rougher.input.feed_size                             14005 non-null  float64\n",
      " 38  rougher.input.feed_sol                              14071 non-null  float64\n",
      " 39  rougher.input.feed_au                               14149 non-null  float64\n",
      " 40  rougher.input.floatbank10_sulfate                   14120 non-null  float64\n",
      " 41  rougher.input.floatbank10_xanthate                  14141 non-null  float64\n",
      " 42  rougher.input.floatbank11_sulfate                   14113 non-null  float64\n",
      " 43  rougher.input.floatbank11_xanthate                  13721 non-null  float64\n",
      " 44  rougher.output.concentrate_ag                       14149 non-null  float64\n",
      " 45  rougher.output.concentrate_pb                       14149 non-null  float64\n",
      " 46  rougher.output.concentrate_sol                      14127 non-null  float64\n",
      " 47  rougher.output.concentrate_au                       14149 non-null  float64\n",
      " 48  rougher.output.recovery                             14149 non-null  float64\n",
      " 49  rougher.output.tail_ag                              14148 non-null  float64\n",
      " 50  rougher.output.tail_pb                              14149 non-null  float64\n",
      " 51  rougher.output.tail_sol                             14149 non-null  float64\n",
      " 52  rougher.output.tail_au                              14149 non-null  float64\n",
      " 53  rougher.state.floatbank10_a_air                     14148 non-null  float64\n",
      " 54  rougher.state.floatbank10_a_level                   14148 non-null  float64\n",
      " 55  rougher.state.floatbank10_b_air                     14148 non-null  float64\n",
      " 56  rougher.state.floatbank10_b_level                   14148 non-null  float64\n",
      " 57  rougher.state.floatbank10_c_air                     14148 non-null  float64\n",
      " 58  rougher.state.floatbank10_c_level                   14148 non-null  float64\n",
      " 59  rougher.state.floatbank10_d_air                     14149 non-null  float64\n",
      " 60  rougher.state.floatbank10_d_level                   14149 non-null  float64\n",
      " 61  rougher.state.floatbank10_e_air                     13713 non-null  float64\n",
      " 62  rougher.state.floatbank10_e_level                   14149 non-null  float64\n",
      " 63  rougher.state.floatbank10_f_air                     14149 non-null  float64\n",
      " 64  rougher.state.floatbank10_f_level                   14149 non-null  float64\n",
      " 65  secondary_cleaner.output.tail_ag                    14147 non-null  float64\n",
      " 66  secondary_cleaner.output.tail_pb                    14139 non-null  float64\n",
      " 67  secondary_cleaner.output.tail_sol                   12544 non-null  float64\n",
      " 68  secondary_cleaner.output.tail_au                    14149 non-null  float64\n",
      " 69  secondary_cleaner.state.floatbank2_a_air            13932 non-null  float64\n",
      " 70  secondary_cleaner.state.floatbank2_a_level          14148 non-null  float64\n",
      " 71  secondary_cleaner.state.floatbank2_b_air            14128 non-null  float64\n",
      " 72  secondary_cleaner.state.floatbank2_b_level          14148 non-null  float64\n",
      " 73  secondary_cleaner.state.floatbank3_a_air            14145 non-null  float64\n",
      " 74  secondary_cleaner.state.floatbank3_a_level          14148 non-null  float64\n",
      " 75  secondary_cleaner.state.floatbank3_b_air            14148 non-null  float64\n",
      " 76  secondary_cleaner.state.floatbank3_b_level          14148 non-null  float64\n",
      " 77  secondary_cleaner.state.floatbank4_a_air            14143 non-null  float64\n",
      " 78  secondary_cleaner.state.floatbank4_a_level          14148 non-null  float64\n",
      " 79  secondary_cleaner.state.floatbank4_b_air            14148 non-null  float64\n",
      " 80  secondary_cleaner.state.floatbank4_b_level          14148 non-null  float64\n",
      " 81  secondary_cleaner.state.floatbank5_a_air            14148 non-null  float64\n",
      " 82  secondary_cleaner.state.floatbank5_a_level          14148 non-null  float64\n",
      " 83  secondary_cleaner.state.floatbank5_b_air            14148 non-null  float64\n",
      " 84  secondary_cleaner.state.floatbank5_b_level          14148 non-null  float64\n",
      " 85  secondary_cleaner.state.floatbank6_a_air            14147 non-null  float64\n",
      " 86  secondary_cleaner.state.floatbank6_a_level          14148 non-null  float64\n",
      "dtypes: float64(86), object(1)\n",
      "memory usage: 9.4+ MB\n"
     ]
    }
   ],
   "source": [
    "train_df.info()"
   ]
  },
  {
   "cell_type": "code",
   "execution_count": 6,
   "metadata": {
    "scrolled": true
   },
   "outputs": [
    {
     "data": {
      "text/html": [
       "<div>\n",
       "<style scoped>\n",
       "    .dataframe tbody tr th:only-of-type {\n",
       "        vertical-align: middle;\n",
       "    }\n",
       "\n",
       "    .dataframe tbody tr th {\n",
       "        vertical-align: top;\n",
       "    }\n",
       "\n",
       "    .dataframe thead th {\n",
       "        text-align: right;\n",
       "    }\n",
       "</style>\n",
       "<table border=\"1\" class=\"dataframe\">\n",
       "  <thead>\n",
       "    <tr style=\"text-align: right;\">\n",
       "      <th></th>\n",
       "      <th>final.output.concentrate_ag</th>\n",
       "      <th>final.output.concentrate_pb</th>\n",
       "      <th>final.output.concentrate_sol</th>\n",
       "      <th>final.output.concentrate_au</th>\n",
       "      <th>final.output.recovery</th>\n",
       "      <th>final.output.tail_ag</th>\n",
       "      <th>final.output.tail_pb</th>\n",
       "      <th>final.output.tail_sol</th>\n",
       "      <th>final.output.tail_au</th>\n",
       "      <th>primary_cleaner.input.sulfate</th>\n",
       "      <th>...</th>\n",
       "      <th>secondary_cleaner.state.floatbank4_a_air</th>\n",
       "      <th>secondary_cleaner.state.floatbank4_a_level</th>\n",
       "      <th>secondary_cleaner.state.floatbank4_b_air</th>\n",
       "      <th>secondary_cleaner.state.floatbank4_b_level</th>\n",
       "      <th>secondary_cleaner.state.floatbank5_a_air</th>\n",
       "      <th>secondary_cleaner.state.floatbank5_a_level</th>\n",
       "      <th>secondary_cleaner.state.floatbank5_b_air</th>\n",
       "      <th>secondary_cleaner.state.floatbank5_b_level</th>\n",
       "      <th>secondary_cleaner.state.floatbank6_a_air</th>\n",
       "      <th>secondary_cleaner.state.floatbank6_a_level</th>\n",
       "    </tr>\n",
       "  </thead>\n",
       "  <tbody>\n",
       "    <tr>\n",
       "      <th>count</th>\n",
       "      <td>14148.000000</td>\n",
       "      <td>14148.000000</td>\n",
       "      <td>13938.000000</td>\n",
       "      <td>14149.000000</td>\n",
       "      <td>14149.000000</td>\n",
       "      <td>14149.000000</td>\n",
       "      <td>14049.000000</td>\n",
       "      <td>14144.000000</td>\n",
       "      <td>14149.000000</td>\n",
       "      <td>14129.000000</td>\n",
       "      <td>...</td>\n",
       "      <td>14143.000000</td>\n",
       "      <td>14148.000000</td>\n",
       "      <td>14148.000000</td>\n",
       "      <td>14148.000000</td>\n",
       "      <td>14148.000000</td>\n",
       "      <td>14148.000000</td>\n",
       "      <td>14148.000000</td>\n",
       "      <td>14148.000000</td>\n",
       "      <td>14147.000000</td>\n",
       "      <td>14148.000000</td>\n",
       "    </tr>\n",
       "    <tr>\n",
       "      <th>mean</th>\n",
       "      <td>5.142034</td>\n",
       "      <td>10.132960</td>\n",
       "      <td>9.202849</td>\n",
       "      <td>44.003792</td>\n",
       "      <td>66.518832</td>\n",
       "      <td>9.607035</td>\n",
       "      <td>2.597298</td>\n",
       "      <td>10.512122</td>\n",
       "      <td>2.918421</td>\n",
       "      <td>133.320659</td>\n",
       "      <td>...</td>\n",
       "      <td>19.985454</td>\n",
       "      <td>-478.696836</td>\n",
       "      <td>15.487065</td>\n",
       "      <td>-460.229416</td>\n",
       "      <td>16.775136</td>\n",
       "      <td>-483.956022</td>\n",
       "      <td>13.064590</td>\n",
       "      <td>-483.966564</td>\n",
       "      <td>19.577539</td>\n",
       "      <td>-506.798480</td>\n",
       "    </tr>\n",
       "    <tr>\n",
       "      <th>std</th>\n",
       "      <td>1.369586</td>\n",
       "      <td>1.654930</td>\n",
       "      <td>2.790516</td>\n",
       "      <td>4.905261</td>\n",
       "      <td>10.295402</td>\n",
       "      <td>2.319069</td>\n",
       "      <td>0.971843</td>\n",
       "      <td>3.003617</td>\n",
       "      <td>0.903712</td>\n",
       "      <td>39.431659</td>\n",
       "      <td>...</td>\n",
       "      <td>5.657723</td>\n",
       "      <td>50.736021</td>\n",
       "      <td>5.255655</td>\n",
       "      <td>58.843586</td>\n",
       "      <td>5.831906</td>\n",
       "      <td>37.892788</td>\n",
       "      <td>5.765617</td>\n",
       "      <td>39.207913</td>\n",
       "      <td>5.764417</td>\n",
       "      <td>37.079249</td>\n",
       "    </tr>\n",
       "    <tr>\n",
       "      <th>min</th>\n",
       "      <td>0.000000</td>\n",
       "      <td>0.000000</td>\n",
       "      <td>0.000000</td>\n",
       "      <td>0.000000</td>\n",
       "      <td>0.000000</td>\n",
       "      <td>0.000000</td>\n",
       "      <td>0.000000</td>\n",
       "      <td>0.000000</td>\n",
       "      <td>0.000000</td>\n",
       "      <td>0.003112</td>\n",
       "      <td>...</td>\n",
       "      <td>0.000000</td>\n",
       "      <td>-799.709069</td>\n",
       "      <td>0.000000</td>\n",
       "      <td>-799.889113</td>\n",
       "      <td>-0.372054</td>\n",
       "      <td>-797.142475</td>\n",
       "      <td>0.646208</td>\n",
       "      <td>-800.006180</td>\n",
       "      <td>0.195324</td>\n",
       "      <td>-809.398668</td>\n",
       "    </tr>\n",
       "    <tr>\n",
       "      <th>25%</th>\n",
       "      <td>4.211620</td>\n",
       "      <td>9.297355</td>\n",
       "      <td>7.484645</td>\n",
       "      <td>43.276111</td>\n",
       "      <td>62.545817</td>\n",
       "      <td>7.997429</td>\n",
       "      <td>1.905973</td>\n",
       "      <td>8.811324</td>\n",
       "      <td>2.368607</td>\n",
       "      <td>107.006651</td>\n",
       "      <td>...</td>\n",
       "      <td>14.990775</td>\n",
       "      <td>-500.628656</td>\n",
       "      <td>11.894558</td>\n",
       "      <td>-500.149000</td>\n",
       "      <td>11.083980</td>\n",
       "      <td>-500.363177</td>\n",
       "      <td>8.994405</td>\n",
       "      <td>-500.105994</td>\n",
       "      <td>14.989304</td>\n",
       "      <td>-500.745104</td>\n",
       "    </tr>\n",
       "    <tr>\n",
       "      <th>50%</th>\n",
       "      <td>4.994652</td>\n",
       "      <td>10.297144</td>\n",
       "      <td>8.845462</td>\n",
       "      <td>44.872436</td>\n",
       "      <td>67.432775</td>\n",
       "      <td>9.480270</td>\n",
       "      <td>2.592022</td>\n",
       "      <td>10.514621</td>\n",
       "      <td>2.851025</td>\n",
       "      <td>133.018328</td>\n",
       "      <td>...</td>\n",
       "      <td>20.001789</td>\n",
       "      <td>-499.681450</td>\n",
       "      <td>14.975536</td>\n",
       "      <td>-499.388738</td>\n",
       "      <td>17.932223</td>\n",
       "      <td>-499.702452</td>\n",
       "      <td>11.997547</td>\n",
       "      <td>-499.914556</td>\n",
       "      <td>19.984175</td>\n",
       "      <td>-500.061431</td>\n",
       "    </tr>\n",
       "    <tr>\n",
       "      <th>75%</th>\n",
       "      <td>5.859540</td>\n",
       "      <td>11.170603</td>\n",
       "      <td>10.487508</td>\n",
       "      <td>46.166425</td>\n",
       "      <td>72.346428</td>\n",
       "      <td>11.003707</td>\n",
       "      <td>3.241723</td>\n",
       "      <td>11.933009</td>\n",
       "      <td>3.434764</td>\n",
       "      <td>159.825396</td>\n",
       "      <td>...</td>\n",
       "      <td>24.990826</td>\n",
       "      <td>-477.472413</td>\n",
       "      <td>20.059375</td>\n",
       "      <td>-400.039008</td>\n",
       "      <td>21.346550</td>\n",
       "      <td>-487.712108</td>\n",
       "      <td>17.982903</td>\n",
       "      <td>-453.186936</td>\n",
       "      <td>24.991623</td>\n",
       "      <td>-499.536466</td>\n",
       "    </tr>\n",
       "    <tr>\n",
       "      <th>max</th>\n",
       "      <td>16.001945</td>\n",
       "      <td>17.031899</td>\n",
       "      <td>18.124851</td>\n",
       "      <td>52.756638</td>\n",
       "      <td>100.000000</td>\n",
       "      <td>19.552149</td>\n",
       "      <td>5.639565</td>\n",
       "      <td>22.317730</td>\n",
       "      <td>8.197408</td>\n",
       "      <td>250.127834</td>\n",
       "      <td>...</td>\n",
       "      <td>30.115735</td>\n",
       "      <td>-245.239184</td>\n",
       "      <td>24.007913</td>\n",
       "      <td>-145.071088</td>\n",
       "      <td>43.709931</td>\n",
       "      <td>-275.073125</td>\n",
       "      <td>27.926001</td>\n",
       "      <td>-157.396071</td>\n",
       "      <td>32.188906</td>\n",
       "      <td>-104.427459</td>\n",
       "    </tr>\n",
       "  </tbody>\n",
       "</table>\n",
       "<p>8 rows × 86 columns</p>\n",
       "</div>"
      ],
      "text/plain": [
       "       final.output.concentrate_ag  final.output.concentrate_pb  \\\n",
       "count                 14148.000000                 14148.000000   \n",
       "mean                      5.142034                    10.132960   \n",
       "std                       1.369586                     1.654930   \n",
       "min                       0.000000                     0.000000   \n",
       "25%                       4.211620                     9.297355   \n",
       "50%                       4.994652                    10.297144   \n",
       "75%                       5.859540                    11.170603   \n",
       "max                      16.001945                    17.031899   \n",
       "\n",
       "       final.output.concentrate_sol  final.output.concentrate_au  \\\n",
       "count                  13938.000000                 14149.000000   \n",
       "mean                       9.202849                    44.003792   \n",
       "std                        2.790516                     4.905261   \n",
       "min                        0.000000                     0.000000   \n",
       "25%                        7.484645                    43.276111   \n",
       "50%                        8.845462                    44.872436   \n",
       "75%                       10.487508                    46.166425   \n",
       "max                       18.124851                    52.756638   \n",
       "\n",
       "       final.output.recovery  final.output.tail_ag  final.output.tail_pb  \\\n",
       "count           14149.000000          14149.000000          14049.000000   \n",
       "mean               66.518832              9.607035              2.597298   \n",
       "std                10.295402              2.319069              0.971843   \n",
       "min                 0.000000              0.000000              0.000000   \n",
       "25%                62.545817              7.997429              1.905973   \n",
       "50%                67.432775              9.480270              2.592022   \n",
       "75%                72.346428             11.003707              3.241723   \n",
       "max               100.000000             19.552149              5.639565   \n",
       "\n",
       "       final.output.tail_sol  final.output.tail_au  \\\n",
       "count           14144.000000          14149.000000   \n",
       "mean               10.512122              2.918421   \n",
       "std                 3.003617              0.903712   \n",
       "min                 0.000000              0.000000   \n",
       "25%                 8.811324              2.368607   \n",
       "50%                10.514621              2.851025   \n",
       "75%                11.933009              3.434764   \n",
       "max                22.317730              8.197408   \n",
       "\n",
       "       primary_cleaner.input.sulfate  ...  \\\n",
       "count                   14129.000000  ...   \n",
       "mean                      133.320659  ...   \n",
       "std                        39.431659  ...   \n",
       "min                         0.003112  ...   \n",
       "25%                       107.006651  ...   \n",
       "50%                       133.018328  ...   \n",
       "75%                       159.825396  ...   \n",
       "max                       250.127834  ...   \n",
       "\n",
       "       secondary_cleaner.state.floatbank4_a_air  \\\n",
       "count                              14143.000000   \n",
       "mean                                  19.985454   \n",
       "std                                    5.657723   \n",
       "min                                    0.000000   \n",
       "25%                                   14.990775   \n",
       "50%                                   20.001789   \n",
       "75%                                   24.990826   \n",
       "max                                   30.115735   \n",
       "\n",
       "       secondary_cleaner.state.floatbank4_a_level  \\\n",
       "count                                14148.000000   \n",
       "mean                                  -478.696836   \n",
       "std                                     50.736021   \n",
       "min                                   -799.709069   \n",
       "25%                                   -500.628656   \n",
       "50%                                   -499.681450   \n",
       "75%                                   -477.472413   \n",
       "max                                   -245.239184   \n",
       "\n",
       "       secondary_cleaner.state.floatbank4_b_air  \\\n",
       "count                              14148.000000   \n",
       "mean                                  15.487065   \n",
       "std                                    5.255655   \n",
       "min                                    0.000000   \n",
       "25%                                   11.894558   \n",
       "50%                                   14.975536   \n",
       "75%                                   20.059375   \n",
       "max                                   24.007913   \n",
       "\n",
       "       secondary_cleaner.state.floatbank4_b_level  \\\n",
       "count                                14148.000000   \n",
       "mean                                  -460.229416   \n",
       "std                                     58.843586   \n",
       "min                                   -799.889113   \n",
       "25%                                   -500.149000   \n",
       "50%                                   -499.388738   \n",
       "75%                                   -400.039008   \n",
       "max                                   -145.071088   \n",
       "\n",
       "       secondary_cleaner.state.floatbank5_a_air  \\\n",
       "count                              14148.000000   \n",
       "mean                                  16.775136   \n",
       "std                                    5.831906   \n",
       "min                                   -0.372054   \n",
       "25%                                   11.083980   \n",
       "50%                                   17.932223   \n",
       "75%                                   21.346550   \n",
       "max                                   43.709931   \n",
       "\n",
       "       secondary_cleaner.state.floatbank5_a_level  \\\n",
       "count                                14148.000000   \n",
       "mean                                  -483.956022   \n",
       "std                                     37.892788   \n",
       "min                                   -797.142475   \n",
       "25%                                   -500.363177   \n",
       "50%                                   -499.702452   \n",
       "75%                                   -487.712108   \n",
       "max                                   -275.073125   \n",
       "\n",
       "       secondary_cleaner.state.floatbank5_b_air  \\\n",
       "count                              14148.000000   \n",
       "mean                                  13.064590   \n",
       "std                                    5.765617   \n",
       "min                                    0.646208   \n",
       "25%                                    8.994405   \n",
       "50%                                   11.997547   \n",
       "75%                                   17.982903   \n",
       "max                                   27.926001   \n",
       "\n",
       "       secondary_cleaner.state.floatbank5_b_level  \\\n",
       "count                                14148.000000   \n",
       "mean                                  -483.966564   \n",
       "std                                     39.207913   \n",
       "min                                   -800.006180   \n",
       "25%                                   -500.105994   \n",
       "50%                                   -499.914556   \n",
       "75%                                   -453.186936   \n",
       "max                                   -157.396071   \n",
       "\n",
       "       secondary_cleaner.state.floatbank6_a_air  \\\n",
       "count                              14147.000000   \n",
       "mean                                  19.577539   \n",
       "std                                    5.764417   \n",
       "min                                    0.195324   \n",
       "25%                                   14.989304   \n",
       "50%                                   19.984175   \n",
       "75%                                   24.991623   \n",
       "max                                   32.188906   \n",
       "\n",
       "       secondary_cleaner.state.floatbank6_a_level  \n",
       "count                                14148.000000  \n",
       "mean                                  -506.798480  \n",
       "std                                     37.079249  \n",
       "min                                   -809.398668  \n",
       "25%                                   -500.745104  \n",
       "50%                                   -500.061431  \n",
       "75%                                   -499.536466  \n",
       "max                                   -104.427459  \n",
       "\n",
       "[8 rows x 86 columns]"
      ]
     },
     "execution_count": 6,
     "metadata": {},
     "output_type": "execute_result"
    }
   ],
   "source": [
    "train_df.describe()"
   ]
  },
  {
   "cell_type": "markdown",
   "metadata": {},
   "source": [
    "**Тестовая выборка**"
   ]
  },
  {
   "cell_type": "code",
   "execution_count": 7,
   "metadata": {},
   "outputs": [
    {
     "data": {
      "text/html": [
       "<div>\n",
       "<style scoped>\n",
       "    .dataframe tbody tr th:only-of-type {\n",
       "        vertical-align: middle;\n",
       "    }\n",
       "\n",
       "    .dataframe tbody tr th {\n",
       "        vertical-align: top;\n",
       "    }\n",
       "\n",
       "    .dataframe thead th {\n",
       "        text-align: right;\n",
       "    }\n",
       "</style>\n",
       "<table border=\"1\" class=\"dataframe\">\n",
       "  <thead>\n",
       "    <tr style=\"text-align: right;\">\n",
       "      <th></th>\n",
       "      <th>date</th>\n",
       "      <th>primary_cleaner.input.sulfate</th>\n",
       "      <th>primary_cleaner.input.depressant</th>\n",
       "      <th>primary_cleaner.input.feed_size</th>\n",
       "      <th>primary_cleaner.input.xanthate</th>\n",
       "      <th>primary_cleaner.state.floatbank8_a_air</th>\n",
       "      <th>primary_cleaner.state.floatbank8_a_level</th>\n",
       "      <th>primary_cleaner.state.floatbank8_b_air</th>\n",
       "      <th>primary_cleaner.state.floatbank8_b_level</th>\n",
       "      <th>primary_cleaner.state.floatbank8_c_air</th>\n",
       "      <th>...</th>\n",
       "      <th>secondary_cleaner.state.floatbank4_a_air</th>\n",
       "      <th>secondary_cleaner.state.floatbank4_a_level</th>\n",
       "      <th>secondary_cleaner.state.floatbank4_b_air</th>\n",
       "      <th>secondary_cleaner.state.floatbank4_b_level</th>\n",
       "      <th>secondary_cleaner.state.floatbank5_a_air</th>\n",
       "      <th>secondary_cleaner.state.floatbank5_a_level</th>\n",
       "      <th>secondary_cleaner.state.floatbank5_b_air</th>\n",
       "      <th>secondary_cleaner.state.floatbank5_b_level</th>\n",
       "      <th>secondary_cleaner.state.floatbank6_a_air</th>\n",
       "      <th>secondary_cleaner.state.floatbank6_a_level</th>\n",
       "    </tr>\n",
       "  </thead>\n",
       "  <tbody>\n",
       "    <tr>\n",
       "      <th>0</th>\n",
       "      <td>2016-09-01 00:59:59</td>\n",
       "      <td>210.800909</td>\n",
       "      <td>14.993118</td>\n",
       "      <td>8.080000</td>\n",
       "      <td>1.005021</td>\n",
       "      <td>1398.981301</td>\n",
       "      <td>-500.225577</td>\n",
       "      <td>1399.144926</td>\n",
       "      <td>-499.919735</td>\n",
       "      <td>1400.102998</td>\n",
       "      <td>...</td>\n",
       "      <td>12.023554</td>\n",
       "      <td>-497.795834</td>\n",
       "      <td>8.016656</td>\n",
       "      <td>-501.289139</td>\n",
       "      <td>7.946562</td>\n",
       "      <td>-432.317850</td>\n",
       "      <td>4.872511</td>\n",
       "      <td>-500.037437</td>\n",
       "      <td>26.705889</td>\n",
       "      <td>-499.709414</td>\n",
       "    </tr>\n",
       "    <tr>\n",
       "      <th>1</th>\n",
       "      <td>2016-09-01 01:59:59</td>\n",
       "      <td>215.392455</td>\n",
       "      <td>14.987471</td>\n",
       "      <td>8.080000</td>\n",
       "      <td>0.990469</td>\n",
       "      <td>1398.777912</td>\n",
       "      <td>-500.057435</td>\n",
       "      <td>1398.055362</td>\n",
       "      <td>-499.778182</td>\n",
       "      <td>1396.151033</td>\n",
       "      <td>...</td>\n",
       "      <td>12.058140</td>\n",
       "      <td>-498.695773</td>\n",
       "      <td>8.130979</td>\n",
       "      <td>-499.634209</td>\n",
       "      <td>7.958270</td>\n",
       "      <td>-525.839648</td>\n",
       "      <td>4.878850</td>\n",
       "      <td>-500.162375</td>\n",
       "      <td>25.019940</td>\n",
       "      <td>-499.819438</td>\n",
       "    </tr>\n",
       "    <tr>\n",
       "      <th>2</th>\n",
       "      <td>2016-09-01 02:59:59</td>\n",
       "      <td>215.259946</td>\n",
       "      <td>12.884934</td>\n",
       "      <td>7.786667</td>\n",
       "      <td>0.996043</td>\n",
       "      <td>1398.493666</td>\n",
       "      <td>-500.868360</td>\n",
       "      <td>1398.860436</td>\n",
       "      <td>-499.764529</td>\n",
       "      <td>1398.075709</td>\n",
       "      <td>...</td>\n",
       "      <td>11.962366</td>\n",
       "      <td>-498.767484</td>\n",
       "      <td>8.096893</td>\n",
       "      <td>-500.827423</td>\n",
       "      <td>8.071056</td>\n",
       "      <td>-500.801673</td>\n",
       "      <td>4.905125</td>\n",
       "      <td>-499.828510</td>\n",
       "      <td>24.994862</td>\n",
       "      <td>-500.622559</td>\n",
       "    </tr>\n",
       "    <tr>\n",
       "      <th>3</th>\n",
       "      <td>2016-09-01 03:59:59</td>\n",
       "      <td>215.336236</td>\n",
       "      <td>12.006805</td>\n",
       "      <td>7.640000</td>\n",
       "      <td>0.863514</td>\n",
       "      <td>1399.618111</td>\n",
       "      <td>-498.863574</td>\n",
       "      <td>1397.440120</td>\n",
       "      <td>-499.211024</td>\n",
       "      <td>1400.129303</td>\n",
       "      <td>...</td>\n",
       "      <td>12.033091</td>\n",
       "      <td>-498.350935</td>\n",
       "      <td>8.074946</td>\n",
       "      <td>-499.474407</td>\n",
       "      <td>7.897085</td>\n",
       "      <td>-500.868509</td>\n",
       "      <td>4.931400</td>\n",
       "      <td>-499.963623</td>\n",
       "      <td>24.948919</td>\n",
       "      <td>-498.709987</td>\n",
       "    </tr>\n",
       "    <tr>\n",
       "      <th>4</th>\n",
       "      <td>2016-09-01 04:59:59</td>\n",
       "      <td>199.099327</td>\n",
       "      <td>10.682530</td>\n",
       "      <td>7.530000</td>\n",
       "      <td>0.805575</td>\n",
       "      <td>1401.268123</td>\n",
       "      <td>-500.808305</td>\n",
       "      <td>1398.128818</td>\n",
       "      <td>-499.504543</td>\n",
       "      <td>1402.172226</td>\n",
       "      <td>...</td>\n",
       "      <td>12.025367</td>\n",
       "      <td>-500.786497</td>\n",
       "      <td>8.054678</td>\n",
       "      <td>-500.397500</td>\n",
       "      <td>8.107890</td>\n",
       "      <td>-509.526725</td>\n",
       "      <td>4.957674</td>\n",
       "      <td>-500.360026</td>\n",
       "      <td>25.003331</td>\n",
       "      <td>-500.856333</td>\n",
       "    </tr>\n",
       "  </tbody>\n",
       "</table>\n",
       "<p>5 rows × 53 columns</p>\n",
       "</div>"
      ],
      "text/plain": [
       "                  date  primary_cleaner.input.sulfate  \\\n",
       "0  2016-09-01 00:59:59                     210.800909   \n",
       "1  2016-09-01 01:59:59                     215.392455   \n",
       "2  2016-09-01 02:59:59                     215.259946   \n",
       "3  2016-09-01 03:59:59                     215.336236   \n",
       "4  2016-09-01 04:59:59                     199.099327   \n",
       "\n",
       "   primary_cleaner.input.depressant  primary_cleaner.input.feed_size  \\\n",
       "0                         14.993118                         8.080000   \n",
       "1                         14.987471                         8.080000   \n",
       "2                         12.884934                         7.786667   \n",
       "3                         12.006805                         7.640000   \n",
       "4                         10.682530                         7.530000   \n",
       "\n",
       "   primary_cleaner.input.xanthate  primary_cleaner.state.floatbank8_a_air  \\\n",
       "0                        1.005021                             1398.981301   \n",
       "1                        0.990469                             1398.777912   \n",
       "2                        0.996043                             1398.493666   \n",
       "3                        0.863514                             1399.618111   \n",
       "4                        0.805575                             1401.268123   \n",
       "\n",
       "   primary_cleaner.state.floatbank8_a_level  \\\n",
       "0                               -500.225577   \n",
       "1                               -500.057435   \n",
       "2                               -500.868360   \n",
       "3                               -498.863574   \n",
       "4                               -500.808305   \n",
       "\n",
       "   primary_cleaner.state.floatbank8_b_air  \\\n",
       "0                             1399.144926   \n",
       "1                             1398.055362   \n",
       "2                             1398.860436   \n",
       "3                             1397.440120   \n",
       "4                             1398.128818   \n",
       "\n",
       "   primary_cleaner.state.floatbank8_b_level  \\\n",
       "0                               -499.919735   \n",
       "1                               -499.778182   \n",
       "2                               -499.764529   \n",
       "3                               -499.211024   \n",
       "4                               -499.504543   \n",
       "\n",
       "   primary_cleaner.state.floatbank8_c_air  ...  \\\n",
       "0                             1400.102998  ...   \n",
       "1                             1396.151033  ...   \n",
       "2                             1398.075709  ...   \n",
       "3                             1400.129303  ...   \n",
       "4                             1402.172226  ...   \n",
       "\n",
       "   secondary_cleaner.state.floatbank4_a_air  \\\n",
       "0                                 12.023554   \n",
       "1                                 12.058140   \n",
       "2                                 11.962366   \n",
       "3                                 12.033091   \n",
       "4                                 12.025367   \n",
       "\n",
       "   secondary_cleaner.state.floatbank4_a_level  \\\n",
       "0                                 -497.795834   \n",
       "1                                 -498.695773   \n",
       "2                                 -498.767484   \n",
       "3                                 -498.350935   \n",
       "4                                 -500.786497   \n",
       "\n",
       "   secondary_cleaner.state.floatbank4_b_air  \\\n",
       "0                                  8.016656   \n",
       "1                                  8.130979   \n",
       "2                                  8.096893   \n",
       "3                                  8.074946   \n",
       "4                                  8.054678   \n",
       "\n",
       "   secondary_cleaner.state.floatbank4_b_level  \\\n",
       "0                                 -501.289139   \n",
       "1                                 -499.634209   \n",
       "2                                 -500.827423   \n",
       "3                                 -499.474407   \n",
       "4                                 -500.397500   \n",
       "\n",
       "   secondary_cleaner.state.floatbank5_a_air  \\\n",
       "0                                  7.946562   \n",
       "1                                  7.958270   \n",
       "2                                  8.071056   \n",
       "3                                  7.897085   \n",
       "4                                  8.107890   \n",
       "\n",
       "   secondary_cleaner.state.floatbank5_a_level  \\\n",
       "0                                 -432.317850   \n",
       "1                                 -525.839648   \n",
       "2                                 -500.801673   \n",
       "3                                 -500.868509   \n",
       "4                                 -509.526725   \n",
       "\n",
       "   secondary_cleaner.state.floatbank5_b_air  \\\n",
       "0                                  4.872511   \n",
       "1                                  4.878850   \n",
       "2                                  4.905125   \n",
       "3                                  4.931400   \n",
       "4                                  4.957674   \n",
       "\n",
       "   secondary_cleaner.state.floatbank5_b_level  \\\n",
       "0                                 -500.037437   \n",
       "1                                 -500.162375   \n",
       "2                                 -499.828510   \n",
       "3                                 -499.963623   \n",
       "4                                 -500.360026   \n",
       "\n",
       "   secondary_cleaner.state.floatbank6_a_air  \\\n",
       "0                                 26.705889   \n",
       "1                                 25.019940   \n",
       "2                                 24.994862   \n",
       "3                                 24.948919   \n",
       "4                                 25.003331   \n",
       "\n",
       "   secondary_cleaner.state.floatbank6_a_level  \n",
       "0                                 -499.709414  \n",
       "1                                 -499.819438  \n",
       "2                                 -500.622559  \n",
       "3                                 -498.709987  \n",
       "4                                 -500.856333  \n",
       "\n",
       "[5 rows x 53 columns]"
      ]
     },
     "execution_count": 7,
     "metadata": {},
     "output_type": "execute_result"
    }
   ],
   "source": [
    "test_df.head()"
   ]
  },
  {
   "cell_type": "code",
   "execution_count": 8,
   "metadata": {
    "scrolled": true
   },
   "outputs": [
    {
     "name": "stdout",
     "output_type": "stream",
     "text": [
      "<class 'pandas.core.frame.DataFrame'>\n",
      "RangeIndex: 5290 entries, 0 to 5289\n",
      "Data columns (total 53 columns):\n",
      " #   Column                                      Non-Null Count  Dtype  \n",
      "---  ------                                      --------------  -----  \n",
      " 0   date                                        5290 non-null   object \n",
      " 1   primary_cleaner.input.sulfate               5286 non-null   float64\n",
      " 2   primary_cleaner.input.depressant            5285 non-null   float64\n",
      " 3   primary_cleaner.input.feed_size             5290 non-null   float64\n",
      " 4   primary_cleaner.input.xanthate              5286 non-null   float64\n",
      " 5   primary_cleaner.state.floatbank8_a_air      5290 non-null   float64\n",
      " 6   primary_cleaner.state.floatbank8_a_level    5290 non-null   float64\n",
      " 7   primary_cleaner.state.floatbank8_b_air      5290 non-null   float64\n",
      " 8   primary_cleaner.state.floatbank8_b_level    5290 non-null   float64\n",
      " 9   primary_cleaner.state.floatbank8_c_air      5290 non-null   float64\n",
      " 10  primary_cleaner.state.floatbank8_c_level    5290 non-null   float64\n",
      " 11  primary_cleaner.state.floatbank8_d_air      5290 non-null   float64\n",
      " 12  primary_cleaner.state.floatbank8_d_level    5290 non-null   float64\n",
      " 13  rougher.input.feed_ag                       5290 non-null   float64\n",
      " 14  rougher.input.feed_pb                       5290 non-null   float64\n",
      " 15  rougher.input.feed_rate                     5287 non-null   float64\n",
      " 16  rougher.input.feed_size                     5289 non-null   float64\n",
      " 17  rougher.input.feed_sol                      5269 non-null   float64\n",
      " 18  rougher.input.feed_au                       5290 non-null   float64\n",
      " 19  rougher.input.floatbank10_sulfate           5285 non-null   float64\n",
      " 20  rougher.input.floatbank10_xanthate          5290 non-null   float64\n",
      " 21  rougher.input.floatbank11_sulfate           5282 non-null   float64\n",
      " 22  rougher.input.floatbank11_xanthate          5265 non-null   float64\n",
      " 23  rougher.state.floatbank10_a_air             5290 non-null   float64\n",
      " 24  rougher.state.floatbank10_a_level           5290 non-null   float64\n",
      " 25  rougher.state.floatbank10_b_air             5290 non-null   float64\n",
      " 26  rougher.state.floatbank10_b_level           5290 non-null   float64\n",
      " 27  rougher.state.floatbank10_c_air             5290 non-null   float64\n",
      " 28  rougher.state.floatbank10_c_level           5290 non-null   float64\n",
      " 29  rougher.state.floatbank10_d_air             5290 non-null   float64\n",
      " 30  rougher.state.floatbank10_d_level           5290 non-null   float64\n",
      " 31  rougher.state.floatbank10_e_air             5290 non-null   float64\n",
      " 32  rougher.state.floatbank10_e_level           5290 non-null   float64\n",
      " 33  rougher.state.floatbank10_f_air             5290 non-null   float64\n",
      " 34  rougher.state.floatbank10_f_level           5290 non-null   float64\n",
      " 35  secondary_cleaner.state.floatbank2_a_air    5287 non-null   float64\n",
      " 36  secondary_cleaner.state.floatbank2_a_level  5290 non-null   float64\n",
      " 37  secondary_cleaner.state.floatbank2_b_air    5288 non-null   float64\n",
      " 38  secondary_cleaner.state.floatbank2_b_level  5290 non-null   float64\n",
      " 39  secondary_cleaner.state.floatbank3_a_air    5281 non-null   float64\n",
      " 40  secondary_cleaner.state.floatbank3_a_level  5290 non-null   float64\n",
      " 41  secondary_cleaner.state.floatbank3_b_air    5290 non-null   float64\n",
      " 42  secondary_cleaner.state.floatbank3_b_level  5290 non-null   float64\n",
      " 43  secondary_cleaner.state.floatbank4_a_air    5290 non-null   float64\n",
      " 44  secondary_cleaner.state.floatbank4_a_level  5290 non-null   float64\n",
      " 45  secondary_cleaner.state.floatbank4_b_air    5290 non-null   float64\n",
      " 46  secondary_cleaner.state.floatbank4_b_level  5290 non-null   float64\n",
      " 47  secondary_cleaner.state.floatbank5_a_air    5290 non-null   float64\n",
      " 48  secondary_cleaner.state.floatbank5_a_level  5290 non-null   float64\n",
      " 49  secondary_cleaner.state.floatbank5_b_air    5290 non-null   float64\n",
      " 50  secondary_cleaner.state.floatbank5_b_level  5290 non-null   float64\n",
      " 51  secondary_cleaner.state.floatbank6_a_air    5290 non-null   float64\n",
      " 52  secondary_cleaner.state.floatbank6_a_level  5290 non-null   float64\n",
      "dtypes: float64(52), object(1)\n",
      "memory usage: 2.1+ MB\n"
     ]
    }
   ],
   "source": [
    "test_df.info()"
   ]
  },
  {
   "cell_type": "code",
   "execution_count": 9,
   "metadata": {},
   "outputs": [
    {
     "data": {
      "text/html": [
       "<div>\n",
       "<style scoped>\n",
       "    .dataframe tbody tr th:only-of-type {\n",
       "        vertical-align: middle;\n",
       "    }\n",
       "\n",
       "    .dataframe tbody tr th {\n",
       "        vertical-align: top;\n",
       "    }\n",
       "\n",
       "    .dataframe thead th {\n",
       "        text-align: right;\n",
       "    }\n",
       "</style>\n",
       "<table border=\"1\" class=\"dataframe\">\n",
       "  <thead>\n",
       "    <tr style=\"text-align: right;\">\n",
       "      <th></th>\n",
       "      <th>primary_cleaner.input.sulfate</th>\n",
       "      <th>primary_cleaner.input.depressant</th>\n",
       "      <th>primary_cleaner.input.feed_size</th>\n",
       "      <th>primary_cleaner.input.xanthate</th>\n",
       "      <th>primary_cleaner.state.floatbank8_a_air</th>\n",
       "      <th>primary_cleaner.state.floatbank8_a_level</th>\n",
       "      <th>primary_cleaner.state.floatbank8_b_air</th>\n",
       "      <th>primary_cleaner.state.floatbank8_b_level</th>\n",
       "      <th>primary_cleaner.state.floatbank8_c_air</th>\n",
       "      <th>primary_cleaner.state.floatbank8_c_level</th>\n",
       "      <th>...</th>\n",
       "      <th>secondary_cleaner.state.floatbank4_a_air</th>\n",
       "      <th>secondary_cleaner.state.floatbank4_a_level</th>\n",
       "      <th>secondary_cleaner.state.floatbank4_b_air</th>\n",
       "      <th>secondary_cleaner.state.floatbank4_b_level</th>\n",
       "      <th>secondary_cleaner.state.floatbank5_a_air</th>\n",
       "      <th>secondary_cleaner.state.floatbank5_a_level</th>\n",
       "      <th>secondary_cleaner.state.floatbank5_b_air</th>\n",
       "      <th>secondary_cleaner.state.floatbank5_b_level</th>\n",
       "      <th>secondary_cleaner.state.floatbank6_a_air</th>\n",
       "      <th>secondary_cleaner.state.floatbank6_a_level</th>\n",
       "    </tr>\n",
       "  </thead>\n",
       "  <tbody>\n",
       "    <tr>\n",
       "      <th>count</th>\n",
       "      <td>5286.000000</td>\n",
       "      <td>5285.000000</td>\n",
       "      <td>5290.000000</td>\n",
       "      <td>5286.000000</td>\n",
       "      <td>5.290000e+03</td>\n",
       "      <td>5290.000000</td>\n",
       "      <td>5.290000e+03</td>\n",
       "      <td>5290.000000</td>\n",
       "      <td>5.290000e+03</td>\n",
       "      <td>5290.000000</td>\n",
       "      <td>...</td>\n",
       "      <td>5.290000e+03</td>\n",
       "      <td>5290.000000</td>\n",
       "      <td>5.290000e+03</td>\n",
       "      <td>5290.000000</td>\n",
       "      <td>5290.000000</td>\n",
       "      <td>5290.000000</td>\n",
       "      <td>5290.000000</td>\n",
       "      <td>5290.000000</td>\n",
       "      <td>5290.000000</td>\n",
       "      <td>5290.000000</td>\n",
       "    </tr>\n",
       "    <tr>\n",
       "      <th>mean</th>\n",
       "      <td>174.839652</td>\n",
       "      <td>8.683596</td>\n",
       "      <td>7.266339</td>\n",
       "      <td>1.383803</td>\n",
       "      <td>1.539494e+03</td>\n",
       "      <td>-497.665883</td>\n",
       "      <td>1.545174e+03</td>\n",
       "      <td>-500.273098</td>\n",
       "      <td>1.527272e+03</td>\n",
       "      <td>-498.330680</td>\n",
       "      <td>...</td>\n",
       "      <td>1.632007e+01</td>\n",
       "      <td>-505.144570</td>\n",
       "      <td>1.373544e+01</td>\n",
       "      <td>-463.349858</td>\n",
       "      <td>12.804186</td>\n",
       "      <td>-501.329122</td>\n",
       "      <td>9.881145</td>\n",
       "      <td>-495.663398</td>\n",
       "      <td>17.304935</td>\n",
       "      <td>-501.793193</td>\n",
       "    </tr>\n",
       "    <tr>\n",
       "      <th>std</th>\n",
       "      <td>43.027080</td>\n",
       "      <td>3.072050</td>\n",
       "      <td>0.610219</td>\n",
       "      <td>0.643474</td>\n",
       "      <td>1.167979e+02</td>\n",
       "      <td>19.952431</td>\n",
       "      <td>1.222246e+02</td>\n",
       "      <td>32.968307</td>\n",
       "      <td>1.225380e+02</td>\n",
       "      <td>21.964876</td>\n",
       "      <td>...</td>\n",
       "      <td>3.493583e+00</td>\n",
       "      <td>31.427337</td>\n",
       "      <td>3.430484e+00</td>\n",
       "      <td>86.189107</td>\n",
       "      <td>3.026591</td>\n",
       "      <td>17.951495</td>\n",
       "      <td>2.868205</td>\n",
       "      <td>34.535007</td>\n",
       "      <td>4.536544</td>\n",
       "      <td>39.044215</td>\n",
       "    </tr>\n",
       "    <tr>\n",
       "      <th>min</th>\n",
       "      <td>2.566156</td>\n",
       "      <td>0.003839</td>\n",
       "      <td>5.650000</td>\n",
       "      <td>0.004984</td>\n",
       "      <td>5.445860e-32</td>\n",
       "      <td>-795.316337</td>\n",
       "      <td>6.647490e-32</td>\n",
       "      <td>-799.997015</td>\n",
       "      <td>4.033736e-32</td>\n",
       "      <td>-799.960571</td>\n",
       "      <td>...</td>\n",
       "      <td>1.079872e-16</td>\n",
       "      <td>-799.798523</td>\n",
       "      <td>2.489718e-17</td>\n",
       "      <td>-800.836914</td>\n",
       "      <td>0.069227</td>\n",
       "      <td>-797.323986</td>\n",
       "      <td>0.528083</td>\n",
       "      <td>-800.220337</td>\n",
       "      <td>-0.079426</td>\n",
       "      <td>-809.741464</td>\n",
       "    </tr>\n",
       "    <tr>\n",
       "      <th>25%</th>\n",
       "      <td>147.121401</td>\n",
       "      <td>6.489555</td>\n",
       "      <td>6.890000</td>\n",
       "      <td>0.907623</td>\n",
       "      <td>1.498936e+03</td>\n",
       "      <td>-500.357298</td>\n",
       "      <td>1.498971e+03</td>\n",
       "      <td>-500.703002</td>\n",
       "      <td>1.473230e+03</td>\n",
       "      <td>-501.018117</td>\n",
       "      <td>...</td>\n",
       "      <td>1.403618e+01</td>\n",
       "      <td>-500.868258</td>\n",
       "      <td>1.202862e+01</td>\n",
       "      <td>-500.323028</td>\n",
       "      <td>10.914838</td>\n",
       "      <td>-500.726841</td>\n",
       "      <td>8.036719</td>\n",
       "      <td>-500.194668</td>\n",
       "      <td>13.997317</td>\n",
       "      <td>-500.690984</td>\n",
       "    </tr>\n",
       "    <tr>\n",
       "      <th>50%</th>\n",
       "      <td>177.828489</td>\n",
       "      <td>8.052207</td>\n",
       "      <td>7.250000</td>\n",
       "      <td>1.197610</td>\n",
       "      <td>1.585129e+03</td>\n",
       "      <td>-499.969164</td>\n",
       "      <td>1.595622e+03</td>\n",
       "      <td>-500.028514</td>\n",
       "      <td>1.549595e+03</td>\n",
       "      <td>-500.017711</td>\n",
       "      <td>...</td>\n",
       "      <td>1.700847e+01</td>\n",
       "      <td>-500.115727</td>\n",
       "      <td>1.496486e+01</td>\n",
       "      <td>-499.576513</td>\n",
       "      <td>12.954182</td>\n",
       "      <td>-499.990332</td>\n",
       "      <td>10.004301</td>\n",
       "      <td>-499.990535</td>\n",
       "      <td>16.014935</td>\n",
       "      <td>-500.007126</td>\n",
       "    </tr>\n",
       "    <tr>\n",
       "      <th>75%</th>\n",
       "      <td>208.125438</td>\n",
       "      <td>10.027764</td>\n",
       "      <td>7.600000</td>\n",
       "      <td>1.797819</td>\n",
       "      <td>1.602077e+03</td>\n",
       "      <td>-499.568951</td>\n",
       "      <td>1.602324e+03</td>\n",
       "      <td>-499.293257</td>\n",
       "      <td>1.601144e+03</td>\n",
       "      <td>-498.994130</td>\n",
       "      <td>...</td>\n",
       "      <td>1.803862e+01</td>\n",
       "      <td>-499.404224</td>\n",
       "      <td>1.596213e+01</td>\n",
       "      <td>-400.933805</td>\n",
       "      <td>15.097528</td>\n",
       "      <td>-499.283191</td>\n",
       "      <td>11.997467</td>\n",
       "      <td>-499.719913</td>\n",
       "      <td>21.020013</td>\n",
       "      <td>-499.373018</td>\n",
       "    </tr>\n",
       "    <tr>\n",
       "      <th>max</th>\n",
       "      <td>265.983123</td>\n",
       "      <td>40.000000</td>\n",
       "      <td>15.500000</td>\n",
       "      <td>4.102454</td>\n",
       "      <td>2.103104e+03</td>\n",
       "      <td>-57.195404</td>\n",
       "      <td>1.813084e+03</td>\n",
       "      <td>-142.527229</td>\n",
       "      <td>1.715054e+03</td>\n",
       "      <td>-150.937035</td>\n",
       "      <td>...</td>\n",
       "      <td>3.005180e+01</td>\n",
       "      <td>-401.565212</td>\n",
       "      <td>3.126971e+01</td>\n",
       "      <td>-6.506986</td>\n",
       "      <td>25.258848</td>\n",
       "      <td>-244.483566</td>\n",
       "      <td>14.086866</td>\n",
       "      <td>-137.740004</td>\n",
       "      <td>26.705889</td>\n",
       "      <td>-123.307487</td>\n",
       "    </tr>\n",
       "  </tbody>\n",
       "</table>\n",
       "<p>8 rows × 52 columns</p>\n",
       "</div>"
      ],
      "text/plain": [
       "       primary_cleaner.input.sulfate  primary_cleaner.input.depressant  \\\n",
       "count                    5286.000000                       5285.000000   \n",
       "mean                      174.839652                          8.683596   \n",
       "std                        43.027080                          3.072050   \n",
       "min                         2.566156                          0.003839   \n",
       "25%                       147.121401                          6.489555   \n",
       "50%                       177.828489                          8.052207   \n",
       "75%                       208.125438                         10.027764   \n",
       "max                       265.983123                         40.000000   \n",
       "\n",
       "       primary_cleaner.input.feed_size  primary_cleaner.input.xanthate  \\\n",
       "count                      5290.000000                     5286.000000   \n",
       "mean                          7.266339                        1.383803   \n",
       "std                           0.610219                        0.643474   \n",
       "min                           5.650000                        0.004984   \n",
       "25%                           6.890000                        0.907623   \n",
       "50%                           7.250000                        1.197610   \n",
       "75%                           7.600000                        1.797819   \n",
       "max                          15.500000                        4.102454   \n",
       "\n",
       "       primary_cleaner.state.floatbank8_a_air  \\\n",
       "count                            5.290000e+03   \n",
       "mean                             1.539494e+03   \n",
       "std                              1.167979e+02   \n",
       "min                              5.445860e-32   \n",
       "25%                              1.498936e+03   \n",
       "50%                              1.585129e+03   \n",
       "75%                              1.602077e+03   \n",
       "max                              2.103104e+03   \n",
       "\n",
       "       primary_cleaner.state.floatbank8_a_level  \\\n",
       "count                               5290.000000   \n",
       "mean                                -497.665883   \n",
       "std                                   19.952431   \n",
       "min                                 -795.316337   \n",
       "25%                                 -500.357298   \n",
       "50%                                 -499.969164   \n",
       "75%                                 -499.568951   \n",
       "max                                  -57.195404   \n",
       "\n",
       "       primary_cleaner.state.floatbank8_b_air  \\\n",
       "count                            5.290000e+03   \n",
       "mean                             1.545174e+03   \n",
       "std                              1.222246e+02   \n",
       "min                              6.647490e-32   \n",
       "25%                              1.498971e+03   \n",
       "50%                              1.595622e+03   \n",
       "75%                              1.602324e+03   \n",
       "max                              1.813084e+03   \n",
       "\n",
       "       primary_cleaner.state.floatbank8_b_level  \\\n",
       "count                               5290.000000   \n",
       "mean                                -500.273098   \n",
       "std                                   32.968307   \n",
       "min                                 -799.997015   \n",
       "25%                                 -500.703002   \n",
       "50%                                 -500.028514   \n",
       "75%                                 -499.293257   \n",
       "max                                 -142.527229   \n",
       "\n",
       "       primary_cleaner.state.floatbank8_c_air  \\\n",
       "count                            5.290000e+03   \n",
       "mean                             1.527272e+03   \n",
       "std                              1.225380e+02   \n",
       "min                              4.033736e-32   \n",
       "25%                              1.473230e+03   \n",
       "50%                              1.549595e+03   \n",
       "75%                              1.601144e+03   \n",
       "max                              1.715054e+03   \n",
       "\n",
       "       primary_cleaner.state.floatbank8_c_level  ...  \\\n",
       "count                               5290.000000  ...   \n",
       "mean                                -498.330680  ...   \n",
       "std                                   21.964876  ...   \n",
       "min                                 -799.960571  ...   \n",
       "25%                                 -501.018117  ...   \n",
       "50%                                 -500.017711  ...   \n",
       "75%                                 -498.994130  ...   \n",
       "max                                 -150.937035  ...   \n",
       "\n",
       "       secondary_cleaner.state.floatbank4_a_air  \\\n",
       "count                              5.290000e+03   \n",
       "mean                               1.632007e+01   \n",
       "std                                3.493583e+00   \n",
       "min                                1.079872e-16   \n",
       "25%                                1.403618e+01   \n",
       "50%                                1.700847e+01   \n",
       "75%                                1.803862e+01   \n",
       "max                                3.005180e+01   \n",
       "\n",
       "       secondary_cleaner.state.floatbank4_a_level  \\\n",
       "count                                 5290.000000   \n",
       "mean                                  -505.144570   \n",
       "std                                     31.427337   \n",
       "min                                   -799.798523   \n",
       "25%                                   -500.868258   \n",
       "50%                                   -500.115727   \n",
       "75%                                   -499.404224   \n",
       "max                                   -401.565212   \n",
       "\n",
       "       secondary_cleaner.state.floatbank4_b_air  \\\n",
       "count                              5.290000e+03   \n",
       "mean                               1.373544e+01   \n",
       "std                                3.430484e+00   \n",
       "min                                2.489718e-17   \n",
       "25%                                1.202862e+01   \n",
       "50%                                1.496486e+01   \n",
       "75%                                1.596213e+01   \n",
       "max                                3.126971e+01   \n",
       "\n",
       "       secondary_cleaner.state.floatbank4_b_level  \\\n",
       "count                                 5290.000000   \n",
       "mean                                  -463.349858   \n",
       "std                                     86.189107   \n",
       "min                                   -800.836914   \n",
       "25%                                   -500.323028   \n",
       "50%                                   -499.576513   \n",
       "75%                                   -400.933805   \n",
       "max                                     -6.506986   \n",
       "\n",
       "       secondary_cleaner.state.floatbank5_a_air  \\\n",
       "count                               5290.000000   \n",
       "mean                                  12.804186   \n",
       "std                                    3.026591   \n",
       "min                                    0.069227   \n",
       "25%                                   10.914838   \n",
       "50%                                   12.954182   \n",
       "75%                                   15.097528   \n",
       "max                                   25.258848   \n",
       "\n",
       "       secondary_cleaner.state.floatbank5_a_level  \\\n",
       "count                                 5290.000000   \n",
       "mean                                  -501.329122   \n",
       "std                                     17.951495   \n",
       "min                                   -797.323986   \n",
       "25%                                   -500.726841   \n",
       "50%                                   -499.990332   \n",
       "75%                                   -499.283191   \n",
       "max                                   -244.483566   \n",
       "\n",
       "       secondary_cleaner.state.floatbank5_b_air  \\\n",
       "count                               5290.000000   \n",
       "mean                                   9.881145   \n",
       "std                                    2.868205   \n",
       "min                                    0.528083   \n",
       "25%                                    8.036719   \n",
       "50%                                   10.004301   \n",
       "75%                                   11.997467   \n",
       "max                                   14.086866   \n",
       "\n",
       "       secondary_cleaner.state.floatbank5_b_level  \\\n",
       "count                                 5290.000000   \n",
       "mean                                  -495.663398   \n",
       "std                                     34.535007   \n",
       "min                                   -800.220337   \n",
       "25%                                   -500.194668   \n",
       "50%                                   -499.990535   \n",
       "75%                                   -499.719913   \n",
       "max                                   -137.740004   \n",
       "\n",
       "       secondary_cleaner.state.floatbank6_a_air  \\\n",
       "count                               5290.000000   \n",
       "mean                                  17.304935   \n",
       "std                                    4.536544   \n",
       "min                                   -0.079426   \n",
       "25%                                   13.997317   \n",
       "50%                                   16.014935   \n",
       "75%                                   21.020013   \n",
       "max                                   26.705889   \n",
       "\n",
       "       secondary_cleaner.state.floatbank6_a_level  \n",
       "count                                 5290.000000  \n",
       "mean                                  -501.793193  \n",
       "std                                     39.044215  \n",
       "min                                   -809.741464  \n",
       "25%                                   -500.690984  \n",
       "50%                                   -500.007126  \n",
       "75%                                   -499.373018  \n",
       "max                                   -123.307487  \n",
       "\n",
       "[8 rows x 52 columns]"
      ]
     },
     "execution_count": 9,
     "metadata": {},
     "output_type": "execute_result"
    }
   ],
   "source": [
    "test_df.describe()"
   ]
  },
  {
   "cell_type": "markdown",
   "metadata": {},
   "source": [
    "**Полная выборка**"
   ]
  },
  {
   "cell_type": "code",
   "execution_count": 10,
   "metadata": {},
   "outputs": [
    {
     "data": {
      "text/html": [
       "<div>\n",
       "<style scoped>\n",
       "    .dataframe tbody tr th:only-of-type {\n",
       "        vertical-align: middle;\n",
       "    }\n",
       "\n",
       "    .dataframe tbody tr th {\n",
       "        vertical-align: top;\n",
       "    }\n",
       "\n",
       "    .dataframe thead th {\n",
       "        text-align: right;\n",
       "    }\n",
       "</style>\n",
       "<table border=\"1\" class=\"dataframe\">\n",
       "  <thead>\n",
       "    <tr style=\"text-align: right;\">\n",
       "      <th></th>\n",
       "      <th>date</th>\n",
       "      <th>final.output.concentrate_ag</th>\n",
       "      <th>final.output.concentrate_pb</th>\n",
       "      <th>final.output.concentrate_sol</th>\n",
       "      <th>final.output.concentrate_au</th>\n",
       "      <th>final.output.recovery</th>\n",
       "      <th>final.output.tail_ag</th>\n",
       "      <th>final.output.tail_pb</th>\n",
       "      <th>final.output.tail_sol</th>\n",
       "      <th>final.output.tail_au</th>\n",
       "      <th>...</th>\n",
       "      <th>secondary_cleaner.state.floatbank4_a_air</th>\n",
       "      <th>secondary_cleaner.state.floatbank4_a_level</th>\n",
       "      <th>secondary_cleaner.state.floatbank4_b_air</th>\n",
       "      <th>secondary_cleaner.state.floatbank4_b_level</th>\n",
       "      <th>secondary_cleaner.state.floatbank5_a_air</th>\n",
       "      <th>secondary_cleaner.state.floatbank5_a_level</th>\n",
       "      <th>secondary_cleaner.state.floatbank5_b_air</th>\n",
       "      <th>secondary_cleaner.state.floatbank5_b_level</th>\n",
       "      <th>secondary_cleaner.state.floatbank6_a_air</th>\n",
       "      <th>secondary_cleaner.state.floatbank6_a_level</th>\n",
       "    </tr>\n",
       "  </thead>\n",
       "  <tbody>\n",
       "    <tr>\n",
       "      <th>0</th>\n",
       "      <td>2016-01-15 00:00:00</td>\n",
       "      <td>6.055403</td>\n",
       "      <td>9.889648</td>\n",
       "      <td>5.507324</td>\n",
       "      <td>42.192020</td>\n",
       "      <td>70.541216</td>\n",
       "      <td>10.411962</td>\n",
       "      <td>0.895447</td>\n",
       "      <td>16.904297</td>\n",
       "      <td>2.143149</td>\n",
       "      <td>...</td>\n",
       "      <td>14.016835</td>\n",
       "      <td>-502.488007</td>\n",
       "      <td>12.099931</td>\n",
       "      <td>-504.715942</td>\n",
       "      <td>9.925633</td>\n",
       "      <td>-498.310211</td>\n",
       "      <td>8.079666</td>\n",
       "      <td>-500.470978</td>\n",
       "      <td>14.151341</td>\n",
       "      <td>-605.841980</td>\n",
       "    </tr>\n",
       "    <tr>\n",
       "      <th>1</th>\n",
       "      <td>2016-01-15 01:00:00</td>\n",
       "      <td>6.029369</td>\n",
       "      <td>9.968944</td>\n",
       "      <td>5.257781</td>\n",
       "      <td>42.701629</td>\n",
       "      <td>69.266198</td>\n",
       "      <td>10.462676</td>\n",
       "      <td>0.927452</td>\n",
       "      <td>16.634514</td>\n",
       "      <td>2.224930</td>\n",
       "      <td>...</td>\n",
       "      <td>13.992281</td>\n",
       "      <td>-505.503262</td>\n",
       "      <td>11.950531</td>\n",
       "      <td>-501.331529</td>\n",
       "      <td>10.039245</td>\n",
       "      <td>-500.169983</td>\n",
       "      <td>7.984757</td>\n",
       "      <td>-500.582168</td>\n",
       "      <td>13.998353</td>\n",
       "      <td>-599.787184</td>\n",
       "    </tr>\n",
       "    <tr>\n",
       "      <th>2</th>\n",
       "      <td>2016-01-15 02:00:00</td>\n",
       "      <td>6.055926</td>\n",
       "      <td>10.213995</td>\n",
       "      <td>5.383759</td>\n",
       "      <td>42.657501</td>\n",
       "      <td>68.116445</td>\n",
       "      <td>10.507046</td>\n",
       "      <td>0.953716</td>\n",
       "      <td>16.208849</td>\n",
       "      <td>2.257889</td>\n",
       "      <td>...</td>\n",
       "      <td>14.015015</td>\n",
       "      <td>-502.520901</td>\n",
       "      <td>11.912783</td>\n",
       "      <td>-501.133383</td>\n",
       "      <td>10.070913</td>\n",
       "      <td>-500.129135</td>\n",
       "      <td>8.013877</td>\n",
       "      <td>-500.517572</td>\n",
       "      <td>14.028663</td>\n",
       "      <td>-601.427363</td>\n",
       "    </tr>\n",
       "    <tr>\n",
       "      <th>3</th>\n",
       "      <td>2016-01-15 03:00:00</td>\n",
       "      <td>6.047977</td>\n",
       "      <td>9.977019</td>\n",
       "      <td>4.858634</td>\n",
       "      <td>42.689819</td>\n",
       "      <td>68.347543</td>\n",
       "      <td>10.422762</td>\n",
       "      <td>0.883763</td>\n",
       "      <td>16.532835</td>\n",
       "      <td>2.146849</td>\n",
       "      <td>...</td>\n",
       "      <td>14.036510</td>\n",
       "      <td>-500.857308</td>\n",
       "      <td>11.999550</td>\n",
       "      <td>-501.193686</td>\n",
       "      <td>9.970366</td>\n",
       "      <td>-499.201640</td>\n",
       "      <td>7.977324</td>\n",
       "      <td>-500.255908</td>\n",
       "      <td>14.005551</td>\n",
       "      <td>-599.996129</td>\n",
       "    </tr>\n",
       "    <tr>\n",
       "      <th>4</th>\n",
       "      <td>2016-01-15 04:00:00</td>\n",
       "      <td>6.148599</td>\n",
       "      <td>10.142511</td>\n",
       "      <td>4.939416</td>\n",
       "      <td>42.774141</td>\n",
       "      <td>66.927016</td>\n",
       "      <td>10.360302</td>\n",
       "      <td>0.792826</td>\n",
       "      <td>16.525686</td>\n",
       "      <td>2.055292</td>\n",
       "      <td>...</td>\n",
       "      <td>14.027298</td>\n",
       "      <td>-499.838632</td>\n",
       "      <td>11.953070</td>\n",
       "      <td>-501.053894</td>\n",
       "      <td>9.925709</td>\n",
       "      <td>-501.686727</td>\n",
       "      <td>7.894242</td>\n",
       "      <td>-500.356035</td>\n",
       "      <td>13.996647</td>\n",
       "      <td>-601.496691</td>\n",
       "    </tr>\n",
       "  </tbody>\n",
       "</table>\n",
       "<p>5 rows × 87 columns</p>\n",
       "</div>"
      ],
      "text/plain": [
       "                  date  final.output.concentrate_ag  \\\n",
       "0  2016-01-15 00:00:00                     6.055403   \n",
       "1  2016-01-15 01:00:00                     6.029369   \n",
       "2  2016-01-15 02:00:00                     6.055926   \n",
       "3  2016-01-15 03:00:00                     6.047977   \n",
       "4  2016-01-15 04:00:00                     6.148599   \n",
       "\n",
       "   final.output.concentrate_pb  final.output.concentrate_sol  \\\n",
       "0                     9.889648                      5.507324   \n",
       "1                     9.968944                      5.257781   \n",
       "2                    10.213995                      5.383759   \n",
       "3                     9.977019                      4.858634   \n",
       "4                    10.142511                      4.939416   \n",
       "\n",
       "   final.output.concentrate_au  final.output.recovery  final.output.tail_ag  \\\n",
       "0                    42.192020              70.541216             10.411962   \n",
       "1                    42.701629              69.266198             10.462676   \n",
       "2                    42.657501              68.116445             10.507046   \n",
       "3                    42.689819              68.347543             10.422762   \n",
       "4                    42.774141              66.927016             10.360302   \n",
       "\n",
       "   final.output.tail_pb  final.output.tail_sol  final.output.tail_au  ...  \\\n",
       "0              0.895447              16.904297              2.143149  ...   \n",
       "1              0.927452              16.634514              2.224930  ...   \n",
       "2              0.953716              16.208849              2.257889  ...   \n",
       "3              0.883763              16.532835              2.146849  ...   \n",
       "4              0.792826              16.525686              2.055292  ...   \n",
       "\n",
       "   secondary_cleaner.state.floatbank4_a_air  \\\n",
       "0                                 14.016835   \n",
       "1                                 13.992281   \n",
       "2                                 14.015015   \n",
       "3                                 14.036510   \n",
       "4                                 14.027298   \n",
       "\n",
       "   secondary_cleaner.state.floatbank4_a_level  \\\n",
       "0                                 -502.488007   \n",
       "1                                 -505.503262   \n",
       "2                                 -502.520901   \n",
       "3                                 -500.857308   \n",
       "4                                 -499.838632   \n",
       "\n",
       "   secondary_cleaner.state.floatbank4_b_air  \\\n",
       "0                                 12.099931   \n",
       "1                                 11.950531   \n",
       "2                                 11.912783   \n",
       "3                                 11.999550   \n",
       "4                                 11.953070   \n",
       "\n",
       "   secondary_cleaner.state.floatbank4_b_level  \\\n",
       "0                                 -504.715942   \n",
       "1                                 -501.331529   \n",
       "2                                 -501.133383   \n",
       "3                                 -501.193686   \n",
       "4                                 -501.053894   \n",
       "\n",
       "   secondary_cleaner.state.floatbank5_a_air  \\\n",
       "0                                  9.925633   \n",
       "1                                 10.039245   \n",
       "2                                 10.070913   \n",
       "3                                  9.970366   \n",
       "4                                  9.925709   \n",
       "\n",
       "   secondary_cleaner.state.floatbank5_a_level  \\\n",
       "0                                 -498.310211   \n",
       "1                                 -500.169983   \n",
       "2                                 -500.129135   \n",
       "3                                 -499.201640   \n",
       "4                                 -501.686727   \n",
       "\n",
       "   secondary_cleaner.state.floatbank5_b_air  \\\n",
       "0                                  8.079666   \n",
       "1                                  7.984757   \n",
       "2                                  8.013877   \n",
       "3                                  7.977324   \n",
       "4                                  7.894242   \n",
       "\n",
       "   secondary_cleaner.state.floatbank5_b_level  \\\n",
       "0                                 -500.470978   \n",
       "1                                 -500.582168   \n",
       "2                                 -500.517572   \n",
       "3                                 -500.255908   \n",
       "4                                 -500.356035   \n",
       "\n",
       "   secondary_cleaner.state.floatbank6_a_air  \\\n",
       "0                                 14.151341   \n",
       "1                                 13.998353   \n",
       "2                                 14.028663   \n",
       "3                                 14.005551   \n",
       "4                                 13.996647   \n",
       "\n",
       "   secondary_cleaner.state.floatbank6_a_level  \n",
       "0                                 -605.841980  \n",
       "1                                 -599.787184  \n",
       "2                                 -601.427363  \n",
       "3                                 -599.996129  \n",
       "4                                 -601.496691  \n",
       "\n",
       "[5 rows x 87 columns]"
      ]
     },
     "execution_count": 10,
     "metadata": {},
     "output_type": "execute_result"
    }
   ],
   "source": [
    "full_df.head()"
   ]
  },
  {
   "cell_type": "code",
   "execution_count": 11,
   "metadata": {
    "scrolled": true
   },
   "outputs": [
    {
     "name": "stdout",
     "output_type": "stream",
     "text": [
      "<class 'pandas.core.frame.DataFrame'>\n",
      "RangeIndex: 19439 entries, 0 to 19438\n",
      "Data columns (total 87 columns):\n",
      " #   Column                                              Non-Null Count  Dtype  \n",
      "---  ------                                              --------------  -----  \n",
      " 0   date                                                19439 non-null  object \n",
      " 1   final.output.concentrate_ag                         19438 non-null  float64\n",
      " 2   final.output.concentrate_pb                         19438 non-null  float64\n",
      " 3   final.output.concentrate_sol                        19228 non-null  float64\n",
      " 4   final.output.concentrate_au                         19439 non-null  float64\n",
      " 5   final.output.recovery                               19439 non-null  float64\n",
      " 6   final.output.tail_ag                                19438 non-null  float64\n",
      " 7   final.output.tail_pb                                19338 non-null  float64\n",
      " 8   final.output.tail_sol                               19433 non-null  float64\n",
      " 9   final.output.tail_au                                19439 non-null  float64\n",
      " 10  primary_cleaner.input.sulfate                       19415 non-null  float64\n",
      " 11  primary_cleaner.input.depressant                    19402 non-null  float64\n",
      " 12  primary_cleaner.input.feed_size                     19439 non-null  float64\n",
      " 13  primary_cleaner.input.xanthate                      19335 non-null  float64\n",
      " 14  primary_cleaner.output.concentrate_ag               19439 non-null  float64\n",
      " 15  primary_cleaner.output.concentrate_pb               19323 non-null  float64\n",
      " 16  primary_cleaner.output.concentrate_sol              19069 non-null  float64\n",
      " 17  primary_cleaner.output.concentrate_au               19439 non-null  float64\n",
      " 18  primary_cleaner.output.tail_ag                      19435 non-null  float64\n",
      " 19  primary_cleaner.output.tail_pb                      19418 non-null  float64\n",
      " 20  primary_cleaner.output.tail_sol                     19377 non-null  float64\n",
      " 21  primary_cleaner.output.tail_au                      19439 non-null  float64\n",
      " 22  primary_cleaner.state.floatbank8_a_air              19435 non-null  float64\n",
      " 23  primary_cleaner.state.floatbank8_a_level            19438 non-null  float64\n",
      " 24  primary_cleaner.state.floatbank8_b_air              19435 non-null  float64\n",
      " 25  primary_cleaner.state.floatbank8_b_level            19438 non-null  float64\n",
      " 26  primary_cleaner.state.floatbank8_c_air              19437 non-null  float64\n",
      " 27  primary_cleaner.state.floatbank8_c_level            19438 non-null  float64\n",
      " 28  primary_cleaner.state.floatbank8_d_air              19436 non-null  float64\n",
      " 29  primary_cleaner.state.floatbank8_d_level            19438 non-null  float64\n",
      " 30  rougher.calculation.sulfate_to_au_concentrate       19437 non-null  float64\n",
      " 31  rougher.calculation.floatbank10_sulfate_to_au_feed  19437 non-null  float64\n",
      " 32  rougher.calculation.floatbank11_sulfate_to_au_feed  19437 non-null  float64\n",
      " 33  rougher.calculation.au_pb_ratio                     19439 non-null  float64\n",
      " 34  rougher.input.feed_ag                               19439 non-null  float64\n",
      " 35  rougher.input.feed_pb                               19339 non-null  float64\n",
      " 36  rougher.input.feed_rate                             19428 non-null  float64\n",
      " 37  rougher.input.feed_size                             19294 non-null  float64\n",
      " 38  rougher.input.feed_sol                              19340 non-null  float64\n",
      " 39  rougher.input.feed_au                               19439 non-null  float64\n",
      " 40  rougher.input.floatbank10_sulfate                   19405 non-null  float64\n",
      " 41  rougher.input.floatbank10_xanthate                  19431 non-null  float64\n",
      " 42  rougher.input.floatbank11_sulfate                   19395 non-null  float64\n",
      " 43  rougher.input.floatbank11_xanthate                  18986 non-null  float64\n",
      " 44  rougher.output.concentrate_ag                       19439 non-null  float64\n",
      " 45  rougher.output.concentrate_pb                       19439 non-null  float64\n",
      " 46  rougher.output.concentrate_sol                      19416 non-null  float64\n",
      " 47  rougher.output.concentrate_au                       19439 non-null  float64\n",
      " 48  rougher.output.recovery                             19439 non-null  float64\n",
      " 49  rougher.output.tail_ag                              19438 non-null  float64\n",
      " 50  rougher.output.tail_pb                              19439 non-null  float64\n",
      " 51  rougher.output.tail_sol                             19439 non-null  float64\n",
      " 52  rougher.output.tail_au                              19439 non-null  float64\n",
      " 53  rougher.state.floatbank10_a_air                     19438 non-null  float64\n",
      " 54  rougher.state.floatbank10_a_level                   19438 non-null  float64\n",
      " 55  rougher.state.floatbank10_b_air                     19438 non-null  float64\n",
      " 56  rougher.state.floatbank10_b_level                   19438 non-null  float64\n",
      " 57  rougher.state.floatbank10_c_air                     19438 non-null  float64\n",
      " 58  rougher.state.floatbank10_c_level                   19438 non-null  float64\n",
      " 59  rougher.state.floatbank10_d_air                     19439 non-null  float64\n",
      " 60  rougher.state.floatbank10_d_level                   19439 non-null  float64\n",
      " 61  rougher.state.floatbank10_e_air                     19003 non-null  float64\n",
      " 62  rougher.state.floatbank10_e_level                   19439 non-null  float64\n",
      " 63  rougher.state.floatbank10_f_air                     19439 non-null  float64\n",
      " 64  rougher.state.floatbank10_f_level                   19439 non-null  float64\n",
      " 65  secondary_cleaner.output.tail_ag                    19437 non-null  float64\n",
      " 66  secondary_cleaner.output.tail_pb                    19427 non-null  float64\n",
      " 67  secondary_cleaner.output.tail_sol                   17691 non-null  float64\n",
      " 68  secondary_cleaner.output.tail_au                    19439 non-null  float64\n",
      " 69  secondary_cleaner.state.floatbank2_a_air            19219 non-null  float64\n",
      " 70  secondary_cleaner.state.floatbank2_a_level          19438 non-null  float64\n",
      " 71  secondary_cleaner.state.floatbank2_b_air            19416 non-null  float64\n",
      " 72  secondary_cleaner.state.floatbank2_b_level          19438 non-null  float64\n",
      " 73  secondary_cleaner.state.floatbank3_a_air            19426 non-null  float64\n",
      " 74  secondary_cleaner.state.floatbank3_a_level          19438 non-null  float64\n",
      " 75  secondary_cleaner.state.floatbank3_b_air            19438 non-null  float64\n",
      " 76  secondary_cleaner.state.floatbank3_b_level          19438 non-null  float64\n",
      " 77  secondary_cleaner.state.floatbank4_a_air            19433 non-null  float64\n",
      " 78  secondary_cleaner.state.floatbank4_a_level          19438 non-null  float64\n",
      " 79  secondary_cleaner.state.floatbank4_b_air            19438 non-null  float64\n",
      " 80  secondary_cleaner.state.floatbank4_b_level          19438 non-null  float64\n",
      " 81  secondary_cleaner.state.floatbank5_a_air            19438 non-null  float64\n",
      " 82  secondary_cleaner.state.floatbank5_a_level          19438 non-null  float64\n",
      " 83  secondary_cleaner.state.floatbank5_b_air            19438 non-null  float64\n",
      " 84  secondary_cleaner.state.floatbank5_b_level          19438 non-null  float64\n",
      " 85  secondary_cleaner.state.floatbank6_a_air            19437 non-null  float64\n",
      " 86  secondary_cleaner.state.floatbank6_a_level          19438 non-null  float64\n",
      "dtypes: float64(86), object(1)\n",
      "memory usage: 12.9+ MB\n"
     ]
    }
   ],
   "source": [
    "full_df.info()"
   ]
  },
  {
   "cell_type": "code",
   "execution_count": 12,
   "metadata": {},
   "outputs": [
    {
     "data": {
      "text/html": [
       "<div>\n",
       "<style scoped>\n",
       "    .dataframe tbody tr th:only-of-type {\n",
       "        vertical-align: middle;\n",
       "    }\n",
       "\n",
       "    .dataframe tbody tr th {\n",
       "        vertical-align: top;\n",
       "    }\n",
       "\n",
       "    .dataframe thead th {\n",
       "        text-align: right;\n",
       "    }\n",
       "</style>\n",
       "<table border=\"1\" class=\"dataframe\">\n",
       "  <thead>\n",
       "    <tr style=\"text-align: right;\">\n",
       "      <th></th>\n",
       "      <th>final.output.concentrate_ag</th>\n",
       "      <th>final.output.concentrate_pb</th>\n",
       "      <th>final.output.concentrate_sol</th>\n",
       "      <th>final.output.concentrate_au</th>\n",
       "      <th>final.output.recovery</th>\n",
       "      <th>final.output.tail_ag</th>\n",
       "      <th>final.output.tail_pb</th>\n",
       "      <th>final.output.tail_sol</th>\n",
       "      <th>final.output.tail_au</th>\n",
       "      <th>primary_cleaner.input.sulfate</th>\n",
       "      <th>...</th>\n",
       "      <th>secondary_cleaner.state.floatbank4_a_air</th>\n",
       "      <th>secondary_cleaner.state.floatbank4_a_level</th>\n",
       "      <th>secondary_cleaner.state.floatbank4_b_air</th>\n",
       "      <th>secondary_cleaner.state.floatbank4_b_level</th>\n",
       "      <th>secondary_cleaner.state.floatbank5_a_air</th>\n",
       "      <th>secondary_cleaner.state.floatbank5_a_level</th>\n",
       "      <th>secondary_cleaner.state.floatbank5_b_air</th>\n",
       "      <th>secondary_cleaner.state.floatbank5_b_level</th>\n",
       "      <th>secondary_cleaner.state.floatbank6_a_air</th>\n",
       "      <th>secondary_cleaner.state.floatbank6_a_level</th>\n",
       "    </tr>\n",
       "  </thead>\n",
       "  <tbody>\n",
       "    <tr>\n",
       "      <th>count</th>\n",
       "      <td>19438.000000</td>\n",
       "      <td>19438.000000</td>\n",
       "      <td>19228.000000</td>\n",
       "      <td>19439.000000</td>\n",
       "      <td>19439.000000</td>\n",
       "      <td>19438.000000</td>\n",
       "      <td>19338.000000</td>\n",
       "      <td>19433.000000</td>\n",
       "      <td>19439.000000</td>\n",
       "      <td>19415.000000</td>\n",
       "      <td>...</td>\n",
       "      <td>19433.000000</td>\n",
       "      <td>19438.000000</td>\n",
       "      <td>19438.000000</td>\n",
       "      <td>19438.000000</td>\n",
       "      <td>19438.000000</td>\n",
       "      <td>19438.000000</td>\n",
       "      <td>19438.000000</td>\n",
       "      <td>19438.000000</td>\n",
       "      <td>19437.000000</td>\n",
       "      <td>19438.000000</td>\n",
       "    </tr>\n",
       "    <tr>\n",
       "      <th>mean</th>\n",
       "      <td>5.168470</td>\n",
       "      <td>9.978895</td>\n",
       "      <td>9.501224</td>\n",
       "      <td>44.076513</td>\n",
       "      <td>67.050208</td>\n",
       "      <td>9.688589</td>\n",
       "      <td>2.705795</td>\n",
       "      <td>10.583728</td>\n",
       "      <td>3.042467</td>\n",
       "      <td>144.624774</td>\n",
       "      <td>...</td>\n",
       "      <td>18.987674</td>\n",
       "      <td>-485.894516</td>\n",
       "      <td>15.010366</td>\n",
       "      <td>-461.078636</td>\n",
       "      <td>15.694452</td>\n",
       "      <td>-488.684065</td>\n",
       "      <td>12.198224</td>\n",
       "      <td>-487.149827</td>\n",
       "      <td>18.959024</td>\n",
       "      <td>-505.436305</td>\n",
       "    </tr>\n",
       "    <tr>\n",
       "      <th>std</th>\n",
       "      <td>1.372348</td>\n",
       "      <td>1.669240</td>\n",
       "      <td>2.787537</td>\n",
       "      <td>5.129784</td>\n",
       "      <td>10.125840</td>\n",
       "      <td>2.328642</td>\n",
       "      <td>0.949077</td>\n",
       "      <td>2.868782</td>\n",
       "      <td>0.922808</td>\n",
       "      <td>44.464071</td>\n",
       "      <td>...</td>\n",
       "      <td>5.411058</td>\n",
       "      <td>47.758570</td>\n",
       "      <td>4.890228</td>\n",
       "      <td>67.405524</td>\n",
       "      <td>5.510974</td>\n",
       "      <td>34.533396</td>\n",
       "      <td>5.333024</td>\n",
       "      <td>38.347312</td>\n",
       "      <td>5.550498</td>\n",
       "      <td>37.689057</td>\n",
       "    </tr>\n",
       "    <tr>\n",
       "      <th>min</th>\n",
       "      <td>0.000000</td>\n",
       "      <td>0.000000</td>\n",
       "      <td>0.000000</td>\n",
       "      <td>0.000000</td>\n",
       "      <td>0.000000</td>\n",
       "      <td>0.000000</td>\n",
       "      <td>0.000000</td>\n",
       "      <td>0.000000</td>\n",
       "      <td>0.000000</td>\n",
       "      <td>0.003112</td>\n",
       "      <td>...</td>\n",
       "      <td>0.000000</td>\n",
       "      <td>-799.798523</td>\n",
       "      <td>0.000000</td>\n",
       "      <td>-800.836914</td>\n",
       "      <td>-0.372054</td>\n",
       "      <td>-797.323986</td>\n",
       "      <td>0.528083</td>\n",
       "      <td>-800.220337</td>\n",
       "      <td>-0.079426</td>\n",
       "      <td>-809.741464</td>\n",
       "    </tr>\n",
       "    <tr>\n",
       "      <th>25%</th>\n",
       "      <td>4.251240</td>\n",
       "      <td>9.137262</td>\n",
       "      <td>7.722820</td>\n",
       "      <td>43.402215</td>\n",
       "      <td>63.299712</td>\n",
       "      <td>8.062878</td>\n",
       "      <td>2.040119</td>\n",
       "      <td>8.938947</td>\n",
       "      <td>2.461138</td>\n",
       "      <td>114.107029</td>\n",
       "      <td>...</td>\n",
       "      <td>14.975734</td>\n",
       "      <td>-500.704892</td>\n",
       "      <td>11.940294</td>\n",
       "      <td>-500.187742</td>\n",
       "      <td>10.988606</td>\n",
       "      <td>-500.458467</td>\n",
       "      <td>8.971105</td>\n",
       "      <td>-500.129462</td>\n",
       "      <td>14.983037</td>\n",
       "      <td>-500.728067</td>\n",
       "    </tr>\n",
       "    <tr>\n",
       "      <th>50%</th>\n",
       "      <td>5.066094</td>\n",
       "      <td>10.102433</td>\n",
       "      <td>9.218961</td>\n",
       "      <td>45.011244</td>\n",
       "      <td>68.172738</td>\n",
       "      <td>9.743623</td>\n",
       "      <td>2.748730</td>\n",
       "      <td>10.622456</td>\n",
       "      <td>2.984909</td>\n",
       "      <td>143.232103</td>\n",
       "      <td>...</td>\n",
       "      <td>18.017481</td>\n",
       "      <td>-499.837793</td>\n",
       "      <td>14.971014</td>\n",
       "      <td>-499.459786</td>\n",
       "      <td>15.000036</td>\n",
       "      <td>-499.802605</td>\n",
       "      <td>11.019433</td>\n",
       "      <td>-499.935317</td>\n",
       "      <td>19.960541</td>\n",
       "      <td>-500.048400</td>\n",
       "    </tr>\n",
       "    <tr>\n",
       "      <th>75%</th>\n",
       "      <td>5.895527</td>\n",
       "      <td>11.035769</td>\n",
       "      <td>10.947813</td>\n",
       "      <td>46.275313</td>\n",
       "      <td>72.686642</td>\n",
       "      <td>11.134294</td>\n",
       "      <td>3.333216</td>\n",
       "      <td>12.104271</td>\n",
       "      <td>3.571351</td>\n",
       "      <td>175.075656</td>\n",
       "      <td>...</td>\n",
       "      <td>23.012470</td>\n",
       "      <td>-498.249730</td>\n",
       "      <td>19.034162</td>\n",
       "      <td>-400.118106</td>\n",
       "      <td>18.026190</td>\n",
       "      <td>-498.384187</td>\n",
       "      <td>14.019088</td>\n",
       "      <td>-499.436708</td>\n",
       "      <td>24.003170</td>\n",
       "      <td>-499.495378</td>\n",
       "    </tr>\n",
       "    <tr>\n",
       "      <th>max</th>\n",
       "      <td>16.001945</td>\n",
       "      <td>17.031899</td>\n",
       "      <td>19.615720</td>\n",
       "      <td>52.756638</td>\n",
       "      <td>100.000000</td>\n",
       "      <td>19.552149</td>\n",
       "      <td>5.804178</td>\n",
       "      <td>22.317730</td>\n",
       "      <td>8.245022</td>\n",
       "      <td>265.983123</td>\n",
       "      <td>...</td>\n",
       "      <td>30.115735</td>\n",
       "      <td>-245.239184</td>\n",
       "      <td>31.269706</td>\n",
       "      <td>-6.506986</td>\n",
       "      <td>43.709931</td>\n",
       "      <td>-244.483566</td>\n",
       "      <td>27.926001</td>\n",
       "      <td>-137.740004</td>\n",
       "      <td>32.188906</td>\n",
       "      <td>-104.427459</td>\n",
       "    </tr>\n",
       "  </tbody>\n",
       "</table>\n",
       "<p>8 rows × 86 columns</p>\n",
       "</div>"
      ],
      "text/plain": [
       "       final.output.concentrate_ag  final.output.concentrate_pb  \\\n",
       "count                 19438.000000                 19438.000000   \n",
       "mean                      5.168470                     9.978895   \n",
       "std                       1.372348                     1.669240   \n",
       "min                       0.000000                     0.000000   \n",
       "25%                       4.251240                     9.137262   \n",
       "50%                       5.066094                    10.102433   \n",
       "75%                       5.895527                    11.035769   \n",
       "max                      16.001945                    17.031899   \n",
       "\n",
       "       final.output.concentrate_sol  final.output.concentrate_au  \\\n",
       "count                  19228.000000                 19439.000000   \n",
       "mean                       9.501224                    44.076513   \n",
       "std                        2.787537                     5.129784   \n",
       "min                        0.000000                     0.000000   \n",
       "25%                        7.722820                    43.402215   \n",
       "50%                        9.218961                    45.011244   \n",
       "75%                       10.947813                    46.275313   \n",
       "max                       19.615720                    52.756638   \n",
       "\n",
       "       final.output.recovery  final.output.tail_ag  final.output.tail_pb  \\\n",
       "count           19439.000000          19438.000000          19338.000000   \n",
       "mean               67.050208              9.688589              2.705795   \n",
       "std                10.125840              2.328642              0.949077   \n",
       "min                 0.000000              0.000000              0.000000   \n",
       "25%                63.299712              8.062878              2.040119   \n",
       "50%                68.172738              9.743623              2.748730   \n",
       "75%                72.686642             11.134294              3.333216   \n",
       "max               100.000000             19.552149              5.804178   \n",
       "\n",
       "       final.output.tail_sol  final.output.tail_au  \\\n",
       "count           19433.000000          19439.000000   \n",
       "mean               10.583728              3.042467   \n",
       "std                 2.868782              0.922808   \n",
       "min                 0.000000              0.000000   \n",
       "25%                 8.938947              2.461138   \n",
       "50%                10.622456              2.984909   \n",
       "75%                12.104271              3.571351   \n",
       "max                22.317730              8.245022   \n",
       "\n",
       "       primary_cleaner.input.sulfate  ...  \\\n",
       "count                   19415.000000  ...   \n",
       "mean                      144.624774  ...   \n",
       "std                        44.464071  ...   \n",
       "min                         0.003112  ...   \n",
       "25%                       114.107029  ...   \n",
       "50%                       143.232103  ...   \n",
       "75%                       175.075656  ...   \n",
       "max                       265.983123  ...   \n",
       "\n",
       "       secondary_cleaner.state.floatbank4_a_air  \\\n",
       "count                              19433.000000   \n",
       "mean                                  18.987674   \n",
       "std                                    5.411058   \n",
       "min                                    0.000000   \n",
       "25%                                   14.975734   \n",
       "50%                                   18.017481   \n",
       "75%                                   23.012470   \n",
       "max                                   30.115735   \n",
       "\n",
       "       secondary_cleaner.state.floatbank4_a_level  \\\n",
       "count                                19438.000000   \n",
       "mean                                  -485.894516   \n",
       "std                                     47.758570   \n",
       "min                                   -799.798523   \n",
       "25%                                   -500.704892   \n",
       "50%                                   -499.837793   \n",
       "75%                                   -498.249730   \n",
       "max                                   -245.239184   \n",
       "\n",
       "       secondary_cleaner.state.floatbank4_b_air  \\\n",
       "count                              19438.000000   \n",
       "mean                                  15.010366   \n",
       "std                                    4.890228   \n",
       "min                                    0.000000   \n",
       "25%                                   11.940294   \n",
       "50%                                   14.971014   \n",
       "75%                                   19.034162   \n",
       "max                                   31.269706   \n",
       "\n",
       "       secondary_cleaner.state.floatbank4_b_level  \\\n",
       "count                                19438.000000   \n",
       "mean                                  -461.078636   \n",
       "std                                     67.405524   \n",
       "min                                   -800.836914   \n",
       "25%                                   -500.187742   \n",
       "50%                                   -499.459786   \n",
       "75%                                   -400.118106   \n",
       "max                                     -6.506986   \n",
       "\n",
       "       secondary_cleaner.state.floatbank5_a_air  \\\n",
       "count                              19438.000000   \n",
       "mean                                  15.694452   \n",
       "std                                    5.510974   \n",
       "min                                   -0.372054   \n",
       "25%                                   10.988606   \n",
       "50%                                   15.000036   \n",
       "75%                                   18.026190   \n",
       "max                                   43.709931   \n",
       "\n",
       "       secondary_cleaner.state.floatbank5_a_level  \\\n",
       "count                                19438.000000   \n",
       "mean                                  -488.684065   \n",
       "std                                     34.533396   \n",
       "min                                   -797.323986   \n",
       "25%                                   -500.458467   \n",
       "50%                                   -499.802605   \n",
       "75%                                   -498.384187   \n",
       "max                                   -244.483566   \n",
       "\n",
       "       secondary_cleaner.state.floatbank5_b_air  \\\n",
       "count                              19438.000000   \n",
       "mean                                  12.198224   \n",
       "std                                    5.333024   \n",
       "min                                    0.528083   \n",
       "25%                                    8.971105   \n",
       "50%                                   11.019433   \n",
       "75%                                   14.019088   \n",
       "max                                   27.926001   \n",
       "\n",
       "       secondary_cleaner.state.floatbank5_b_level  \\\n",
       "count                                19438.000000   \n",
       "mean                                  -487.149827   \n",
       "std                                     38.347312   \n",
       "min                                   -800.220337   \n",
       "25%                                   -500.129462   \n",
       "50%                                   -499.935317   \n",
       "75%                                   -499.436708   \n",
       "max                                   -137.740004   \n",
       "\n",
       "       secondary_cleaner.state.floatbank6_a_air  \\\n",
       "count                              19437.000000   \n",
       "mean                                  18.959024   \n",
       "std                                    5.550498   \n",
       "min                                   -0.079426   \n",
       "25%                                   14.983037   \n",
       "50%                                   19.960541   \n",
       "75%                                   24.003170   \n",
       "max                                   32.188906   \n",
       "\n",
       "       secondary_cleaner.state.floatbank6_a_level  \n",
       "count                                19438.000000  \n",
       "mean                                  -505.436305  \n",
       "std                                     37.689057  \n",
       "min                                   -809.741464  \n",
       "25%                                   -500.728067  \n",
       "50%                                   -500.048400  \n",
       "75%                                   -499.495378  \n",
       "max                                   -104.427459  \n",
       "\n",
       "[8 rows x 86 columns]"
      ]
     },
     "execution_count": 12,
     "metadata": {},
     "output_type": "execute_result"
    }
   ],
   "source": [
    "full_df.describe()"
   ]
  },
  {
   "cell_type": "markdown",
   "metadata": {},
   "source": [
    "В обучающей выборке и исходных данных одинаковое количество столбцов, в тестовой выборке их меньше. В данных присуствуют пропуски"
   ]
  },
  {
   "cell_type": "markdown",
   "metadata": {},
   "source": [
    "### Рассчет эффективности"
   ]
  },
  {
   "cell_type": "code",
   "execution_count": 13,
   "metadata": {},
   "outputs": [
    {
     "data": {
      "text/plain": [
       "(11017, 87)"
      ]
     },
     "execution_count": 13,
     "metadata": {},
     "output_type": "execute_result"
    }
   ],
   "source": [
    "recovery_df = train_df.dropna() # удалим пропуски из обучающей выборки, сохраним данные в переменной recovery_df\n",
    "recovery_df.shape"
   ]
  },
  {
   "cell_type": "code",
   "execution_count": 14,
   "metadata": {},
   "outputs": [],
   "source": [
    "recovery = recovery_df['rougher.output.recovery'] # искомые значения\n",
    "au_after_flot = recovery_df['rougher.output.concentrate_au'] # доля золота в концетрате после флотации\n",
    "au_before_flot = recovery_df['rougher.input.feed_au'] # доля золота в сырье до флотации\n",
    "tail_after_flot = recovery_df['rougher.output.tail_au'] # доля золота в отвальных хвостах после флотации"
   ]
  },
  {
   "cell_type": "code",
   "execution_count": 15,
   "metadata": {},
   "outputs": [
    {
     "data": {
      "text/plain": [
       "0    87.107763\n",
       "1    86.843261\n",
       "2    86.842308\n",
       "3    87.226430\n",
       "4    86.688794\n",
       "dtype: float64"
      ]
     },
     "execution_count": 15,
     "metadata": {},
     "output_type": "execute_result"
    }
   ],
   "source": [
    "calculated_recovery = (au_after_flot * (au_before_flot - tail_after_flot))\\\n",
    "                        /(au_before_flot * (au_after_flot - tail_after_flot)) * 100\n",
    "calculated_recovery.head()"
   ]
  },
  {
   "cell_type": "code",
   "execution_count": 16,
   "metadata": {},
   "outputs": [
    {
     "data": {
      "text/plain": [
       "0    87.107763\n",
       "1    86.843261\n",
       "2    86.842308\n",
       "3    87.226430\n",
       "4    86.688794\n",
       "Name: rougher.output.recovery, dtype: float64"
      ]
     },
     "execution_count": 16,
     "metadata": {},
     "output_type": "execute_result"
    }
   ],
   "source": [
    "recovery.head()"
   ]
  },
  {
   "cell_type": "code",
   "execution_count": 17,
   "metadata": {},
   "outputs": [
    {
     "data": {
      "text/plain": [
       "9.82970122149377e-15"
      ]
     },
     "execution_count": 17,
     "metadata": {},
     "output_type": "execute_result"
    }
   ],
   "source": [
    "mean_absolute_error(calculated_recovery, recovery)"
   ]
  },
  {
   "cell_type": "markdown",
   "metadata": {},
   "source": [
    "Значение MAE получилось очень маленьким ~$9*10^{-15}$. Это говорит о корректности рассчета эффективности обогащения."
   ]
  },
  {
   "cell_type": "markdown",
   "metadata": {},
   "source": [
    "### Признаки тестовой выборки"
   ]
  },
  {
   "cell_type": "markdown",
   "metadata": {},
   "source": [
    "Посмотрим на столбцы, которых нет в тестовой выборке"
   ]
  },
  {
   "cell_type": "code",
   "execution_count": 18,
   "metadata": {
    "scrolled": true
   },
   "outputs": [
    {
     "data": {
      "text/plain": [
       "{'final.output.concentrate_ag',\n",
       " 'final.output.concentrate_au',\n",
       " 'final.output.concentrate_pb',\n",
       " 'final.output.concentrate_sol',\n",
       " 'final.output.recovery',\n",
       " 'final.output.tail_ag',\n",
       " 'final.output.tail_au',\n",
       " 'final.output.tail_pb',\n",
       " 'final.output.tail_sol',\n",
       " 'primary_cleaner.output.concentrate_ag',\n",
       " 'primary_cleaner.output.concentrate_au',\n",
       " 'primary_cleaner.output.concentrate_pb',\n",
       " 'primary_cleaner.output.concentrate_sol',\n",
       " 'primary_cleaner.output.tail_ag',\n",
       " 'primary_cleaner.output.tail_au',\n",
       " 'primary_cleaner.output.tail_pb',\n",
       " 'primary_cleaner.output.tail_sol',\n",
       " 'rougher.calculation.au_pb_ratio',\n",
       " 'rougher.calculation.floatbank10_sulfate_to_au_feed',\n",
       " 'rougher.calculation.floatbank11_sulfate_to_au_feed',\n",
       " 'rougher.calculation.sulfate_to_au_concentrate',\n",
       " 'rougher.output.concentrate_ag',\n",
       " 'rougher.output.concentrate_au',\n",
       " 'rougher.output.concentrate_pb',\n",
       " 'rougher.output.concentrate_sol',\n",
       " 'rougher.output.recovery',\n",
       " 'rougher.output.tail_ag',\n",
       " 'rougher.output.tail_au',\n",
       " 'rougher.output.tail_pb',\n",
       " 'rougher.output.tail_sol',\n",
       " 'secondary_cleaner.output.tail_ag',\n",
       " 'secondary_cleaner.output.tail_au',\n",
       " 'secondary_cleaner.output.tail_pb',\n",
       " 'secondary_cleaner.output.tail_sol'}"
      ]
     },
     "execution_count": 18,
     "metadata": {},
     "output_type": "execute_result"
    }
   ],
   "source": [
    "set(full_df.columns) - set(test_df.columns)"
   ]
  },
  {
   "cell_type": "markdown",
   "metadata": {},
   "source": [
    "Можно заметить, что в тестовой выборке отсутствуют выходные данные после различных этапов. В выборке так же отсутствует целевые признаки ***rougher.output.recovery*** и ***final.output.recovery***. Это связано с тем, что эти параметры замеряются и/или рассчитываются значительно позже"
   ]
  },
  {
   "cell_type": "markdown",
   "metadata": {},
   "source": [
    "### Предобработка данных"
   ]
  },
  {
   "cell_type": "markdown",
   "metadata": {},
   "source": [
    "Посмотрим количество пропусков в каждом столбце"
   ]
  },
  {
   "cell_type": "code",
   "execution_count": 19,
   "metadata": {
    "scrolled": true
   },
   "outputs": [
    {
     "name": "stdout",
     "output_type": "stream",
     "text": [
      "Количество пропусков в столбце date: 0\n",
      "Количество пропусков в столбце final.output.concentrate_ag: 1\n",
      "Количество пропусков в столбце final.output.concentrate_pb: 1\n",
      "Количество пропусков в столбце final.output.concentrate_sol: 211\n",
      "Количество пропусков в столбце final.output.concentrate_au: 0\n",
      "Количество пропусков в столбце final.output.recovery: 0\n",
      "Количество пропусков в столбце final.output.tail_ag: 0\n",
      "Количество пропусков в столбце final.output.tail_pb: 100\n",
      "Количество пропусков в столбце final.output.tail_sol: 5\n",
      "Количество пропусков в столбце final.output.tail_au: 0\n",
      "Количество пропусков в столбце primary_cleaner.input.sulfate: 20\n",
      "Количество пропусков в столбце primary_cleaner.input.depressant: 32\n",
      "Количество пропусков в столбце primary_cleaner.input.feed_size: 0\n",
      "Количество пропусков в столбце primary_cleaner.input.xanthate: 100\n",
      "Количество пропусков в столбце primary_cleaner.output.concentrate_ag: 0\n",
      "Количество пропусков в столбце primary_cleaner.output.concentrate_pb: 86\n",
      "Количество пропусков в столбце primary_cleaner.output.concentrate_sol: 286\n",
      "Количество пропусков в столбце primary_cleaner.output.concentrate_au: 0\n",
      "Количество пропусков в столбце primary_cleaner.output.tail_ag: 1\n",
      "Количество пропусков в столбце primary_cleaner.output.tail_pb: 15\n",
      "Количество пропусков в столбце primary_cleaner.output.tail_sol: 46\n",
      "Количество пропусков в столбце primary_cleaner.output.tail_au: 0\n",
      "Количество пропусков в столбце primary_cleaner.state.floatbank8_a_air: 4\n",
      "Количество пропусков в столбце primary_cleaner.state.floatbank8_a_level: 1\n",
      "Количество пропусков в столбце primary_cleaner.state.floatbank8_b_air: 4\n",
      "Количество пропусков в столбце primary_cleaner.state.floatbank8_b_level: 1\n",
      "Количество пропусков в столбце primary_cleaner.state.floatbank8_c_air: 2\n",
      "Количество пропусков в столбце primary_cleaner.state.floatbank8_c_level: 1\n",
      "Количество пропусков в столбце primary_cleaner.state.floatbank8_d_air: 3\n",
      "Количество пропусков в столбце primary_cleaner.state.floatbank8_d_level: 1\n",
      "Количество пропусков в столбце rougher.calculation.sulfate_to_au_concentrate: 1\n",
      "Количество пропусков в столбце rougher.calculation.floatbank10_sulfate_to_au_feed: 1\n",
      "Количество пропусков в столбце rougher.calculation.floatbank11_sulfate_to_au_feed: 1\n",
      "Количество пропусков в столбце rougher.calculation.au_pb_ratio: 0\n",
      "Количество пропусков в столбце rougher.input.feed_ag: 0\n",
      "Количество пропусков в столбце rougher.input.feed_pb: 100\n",
      "Количество пропусков в столбце rougher.input.feed_rate: 8\n",
      "Количество пропусков в столбце rougher.input.feed_size: 144\n",
      "Количество пропусков в столбце rougher.input.feed_sol: 78\n",
      "Количество пропусков в столбце rougher.input.feed_au: 0\n",
      "Количество пропусков в столбце rougher.input.floatbank10_sulfate: 29\n",
      "Количество пропусков в столбце rougher.input.floatbank10_xanthate: 8\n",
      "Количество пропусков в столбце rougher.input.floatbank11_sulfate: 36\n",
      "Количество пропусков в столбце rougher.input.floatbank11_xanthate: 428\n",
      "Количество пропусков в столбце rougher.output.concentrate_ag: 0\n",
      "Количество пропусков в столбце rougher.output.concentrate_pb: 0\n",
      "Количество пропусков в столбце rougher.output.concentrate_sol: 22\n",
      "Количество пропусков в столбце rougher.output.concentrate_au: 0\n",
      "Количество пропусков в столбце rougher.output.recovery: 0\n",
      "Количество пропусков в столбце rougher.output.tail_ag: 1\n",
      "Количество пропусков в столбце rougher.output.tail_pb: 0\n",
      "Количество пропусков в столбце rougher.output.tail_sol: 0\n",
      "Количество пропусков в столбце rougher.output.tail_au: 0\n",
      "Количество пропусков в столбце rougher.state.floatbank10_a_air: 1\n",
      "Количество пропусков в столбце rougher.state.floatbank10_a_level: 1\n",
      "Количество пропусков в столбце rougher.state.floatbank10_b_air: 1\n",
      "Количество пропусков в столбце rougher.state.floatbank10_b_level: 1\n",
      "Количество пропусков в столбце rougher.state.floatbank10_c_air: 1\n",
      "Количество пропусков в столбце rougher.state.floatbank10_c_level: 1\n",
      "Количество пропусков в столбце rougher.state.floatbank10_d_air: 0\n",
      "Количество пропусков в столбце rougher.state.floatbank10_d_level: 0\n",
      "Количество пропусков в столбце rougher.state.floatbank10_e_air: 436\n",
      "Количество пропусков в столбце rougher.state.floatbank10_e_level: 0\n",
      "Количество пропусков в столбце rougher.state.floatbank10_f_air: 0\n",
      "Количество пропусков в столбце rougher.state.floatbank10_f_level: 0\n",
      "Количество пропусков в столбце secondary_cleaner.output.tail_ag: 2\n",
      "Количество пропусков в столбце secondary_cleaner.output.tail_pb: 10\n",
      "Количество пропусков в столбце secondary_cleaner.output.tail_sol: 1605\n",
      "Количество пропусков в столбце secondary_cleaner.output.tail_au: 0\n",
      "Количество пропусков в столбце secondary_cleaner.state.floatbank2_a_air: 217\n",
      "Количество пропусков в столбце secondary_cleaner.state.floatbank2_a_level: 1\n",
      "Количество пропусков в столбце secondary_cleaner.state.floatbank2_b_air: 21\n",
      "Количество пропусков в столбце secondary_cleaner.state.floatbank2_b_level: 1\n",
      "Количество пропусков в столбце secondary_cleaner.state.floatbank3_a_air: 4\n",
      "Количество пропусков в столбце secondary_cleaner.state.floatbank3_a_level: 1\n",
      "Количество пропусков в столбце secondary_cleaner.state.floatbank3_b_air: 1\n",
      "Количество пропусков в столбце secondary_cleaner.state.floatbank3_b_level: 1\n",
      "Количество пропусков в столбце secondary_cleaner.state.floatbank4_a_air: 6\n",
      "Количество пропусков в столбце secondary_cleaner.state.floatbank4_a_level: 1\n",
      "Количество пропусков в столбце secondary_cleaner.state.floatbank4_b_air: 1\n",
      "Количество пропусков в столбце secondary_cleaner.state.floatbank4_b_level: 1\n",
      "Количество пропусков в столбце secondary_cleaner.state.floatbank5_a_air: 1\n",
      "Количество пропусков в столбце secondary_cleaner.state.floatbank5_a_level: 1\n",
      "Количество пропусков в столбце secondary_cleaner.state.floatbank5_b_air: 1\n",
      "Количество пропусков в столбце secondary_cleaner.state.floatbank5_b_level: 1\n",
      "Количество пропусков в столбце secondary_cleaner.state.floatbank6_a_air: 2\n",
      "Количество пропусков в столбце secondary_cleaner.state.floatbank6_a_level: 1\n"
     ]
    }
   ],
   "source": [
    "for col in train_df.columns:\n",
    "    print(f'Количество пропусков в столбце {col}: {train_df[col].isna().sum()}')"
   ]
  },
  {
   "cell_type": "markdown",
   "metadata": {},
   "source": [
    "#### Попробуем протестировать модель на разных выборках: с удаленными пропусками, и заполнеными на основе предыдущих значений"
   ]
  },
  {
   "cell_type": "markdown",
   "metadata": {},
   "source": [
    "**Удалим все пропуски**"
   ]
  },
  {
   "cell_type": "code",
   "execution_count": 20,
   "metadata": {
    "scrolled": true
   },
   "outputs": [],
   "source": [
    "train_m = train_df.dropna()\n",
    "full_m = full_df.dropna()"
   ]
  },
  {
   "cell_type": "markdown",
   "metadata": {},
   "source": [
    "**Заполним пропуски**"
   ]
  },
  {
   "cell_type": "code",
   "execution_count": 21,
   "metadata": {},
   "outputs": [
    {
     "data": {
      "text/plain": [
       "(19439, 87)"
      ]
     },
     "execution_count": 21,
     "metadata": {},
     "output_type": "execute_result"
    }
   ],
   "source": [
    "full_ffill = full_df\n",
    "full_ffill = full_ffill.fillna(method='ffill')\n",
    "train_ffill = train_df\n",
    "train_ffill = train_ffill.fillna(method='ffill')\n",
    "full_ffill.shape"
   ]
  },
  {
   "cell_type": "markdown",
   "metadata": {},
   "source": [
    "#### Проверим на явные дубликаты"
   ]
  },
  {
   "cell_type": "code",
   "execution_count": 22,
   "metadata": {},
   "outputs": [
    {
     "data": {
      "text/plain": [
       "0"
      ]
     },
     "execution_count": 22,
     "metadata": {},
     "output_type": "execute_result"
    }
   ],
   "source": [
    "train_df.duplicated().sum()"
   ]
  },
  {
   "cell_type": "markdown",
   "metadata": {},
   "source": [
    "## Анализ данных"
   ]
  },
  {
   "cell_type": "markdown",
   "metadata": {},
   "source": [
    "### Концентрация металлов (Au, Ag, Pb) на различных этапах очистки"
   ]
  },
  {
   "cell_type": "markdown",
   "metadata": {},
   "source": [
    "**Исходные концентрации**"
   ]
  },
  {
   "cell_type": "code",
   "execution_count": 23,
   "metadata": {},
   "outputs": [],
   "source": [
    "concetrates_feed = pd.DataFrame()\n",
    "concetrates_feed['Серебро'] = train_df['rougher.input.feed_ag']\n",
    "concetrates_feed['Свинец'] = train_df['rougher.input.feed_pb']\n",
    "concetrates_feed['Золото'] = train_df['rougher.input.feed_au']"
   ]
  },
  {
   "cell_type": "code",
   "execution_count": 24,
   "metadata": {},
   "outputs": [
    {
     "data": {
      "image/png": "[encoded data removed]",
      "text/plain": [
       "<Figure size 1300x600 with 1 Axes>"
      ]
     },
     "metadata": {},
     "output_type": "display_data"
    }
   ],
   "source": [
    "plt.figure(figsize=(13,6))\n",
    "sns.boxplot(data=concetrates_feed)\n",
    "plt.title('Концентрация различных металлов в Начале', fontsize=15)\n",
    "plt.ylabel('Концентрация, %', fontsize=10)\n",
    "plt.show()"
   ]
  },
  {
   "cell_type": "markdown",
   "metadata": {},
   "source": [
    "**Флотация**"
   ]
  },
  {
   "cell_type": "code",
   "execution_count": 25,
   "metadata": {},
   "outputs": [],
   "source": [
    "concetrates_rougher = pd.DataFrame()\n",
    "concetrates_rougher['Серебро'] = train_df['rougher.output.concentrate_ag']\n",
    "concetrates_rougher['Свинец'] = train_df['rougher.output.concentrate_pb']\n",
    "concetrates_rougher['Золото'] = train_df['rougher.output.concentrate_au']"
   ]
  },
  {
   "cell_type": "code",
   "execution_count": 26,
   "metadata": {},
   "outputs": [
    {
     "data": {
      "image/png": "[encoded data removed]",
      "text/plain": [
       "<Figure size 1300x600 with 1 Axes>"
      ]
     },
     "metadata": {},
     "output_type": "display_data"
    }
   ],
   "source": [
    "plt.figure(figsize=(13,6))\n",
    "sns.boxplot(data=concetrates_rougher)\n",
    "plt.title('Концентрация различных металлов на этапе Флотации')\n",
    "plt.ylabel('Концентрация, %', fontsize=10)\n",
    "plt.show()"
   ]
  },
  {
   "cell_type": "markdown",
   "metadata": {},
   "source": [
    "**Первичная очистка**"
   ]
  },
  {
   "cell_type": "code",
   "execution_count": 27,
   "metadata": {},
   "outputs": [],
   "source": [
    "concetrates_primary_cl = pd.DataFrame()\n",
    "concetrates_primary_cl['Серебро'] = train_df['primary_cleaner.output.concentrate_ag']\n",
    "concetrates_primary_cl['Свинец'] = train_df['primary_cleaner.output.concentrate_pb']\n",
    "concetrates_primary_cl['Золото'] = train_df['primary_cleaner.output.concentrate_au']"
   ]
  },
  {
   "cell_type": "code",
   "execution_count": 28,
   "metadata": {},
   "outputs": [
    {
     "data": {
      "image/png": "[encoded data removed]",
      "text/plain": [
       "<Figure size 1300x600 with 1 Axes>"
      ]
     },
     "metadata": {},
     "output_type": "display_data"
    }
   ],
   "source": [
    "plt.figure(figsize=(13,6))\n",
    "sns.boxplot(data=concetrates_primary_cl)\n",
    "plt.title('Концентрация различных металлов на этапе Первичной очистки')\n",
    "plt.ylabel('Концентрация, %', fontsize=10)\n",
    "plt.show()"
   ]
  },
  {
   "cell_type": "markdown",
   "metadata": {},
   "source": [
    "**Финальный концентрат**"
   ]
  },
  {
   "cell_type": "code",
   "execution_count": 29,
   "metadata": {},
   "outputs": [],
   "source": [
    "concetrates_final = pd.DataFrame()\n",
    "concetrates_final['Серебро'] = train_df['final.output.concentrate_ag']\n",
    "concetrates_final['Свинец'] = train_df['final.output.concentrate_pb']\n",
    "concetrates_final['Золото'] = train_df['final.output.concentrate_au']"
   ]
  },
  {
   "cell_type": "code",
   "execution_count": 30,
   "metadata": {},
   "outputs": [
    {
     "data": {
      "image/png": "[encoded data removed]",
      "text/plain": [
       "<Figure size 1300x600 with 1 Axes>"
      ]
     },
     "metadata": {},
     "output_type": "display_data"
    }
   ],
   "source": [
    "plt.figure(figsize=(13,6))\n",
    "sns.boxplot(data=concetrates_final)\n",
    "plt.title('Концентрация различных металлов в Финальном концентрате')\n",
    "plt.ylabel('Концентрация, %', fontsize=10)\n",
    "plt.show()"
   ]
  },
  {
   "cell_type": "markdown",
   "metadata": {},
   "source": [
    "По графикам видно, что на каждом последующем этапе концентрация золота возрастала. \n",
    "Изначально медианное значения концентрации каждого металла было меньше 10%.\n",
    "После флотации медианное значение концентрации золота было ~20%, но уже после первичной очистки стало >30%, а в конце находится окола 45%.\n",
    "Концентрация Свинца повысилась после первичной очистки, однако почти не изменилось после вторичной.\n",
    "Концентрация Серебра на повысилась после этапа флотации, однако после стала уменьшаться."
   ]
  },
  {
   "cell_type": "markdown",
   "metadata": {},
   "source": [
    "### Распределения размеров гранул сырья на обучающей и тестовой выборках"
   ]
  },
  {
   "cell_type": "code",
   "execution_count": 31,
   "metadata": {},
   "outputs": [
    {
     "data": {
      "image/png": "[encoded data removed]",
      "text/plain": [
       "<Figure size 1300x800 with 1 Axes>"
      ]
     },
     "metadata": {},
     "output_type": "display_data"
    }
   ],
   "source": [
    "plt.figure(figsize=(13,8))\n",
    "sns.distplot(train_df['rougher.input.feed_size'], hist = False, kde_kws = {'linewidth': 3}, label='Обучающая выборка')\n",
    "sns.distplot(test_df['rougher.input.feed_size'], hist = False, kde_kws = {'linewidth': 3}, label='Тестовая выборка')\n",
    "plt.title('Распределения размеров гранул сырья на обучающей и тестовой выборках', fontsize=15)\n",
    "plt.xlabel('Размер гранул сырья', fontsize=10)\n",
    "plt.ylabel('Частота', fontsize=10)\n",
    "plt.legend(prop={'size': 10})\n",
    "plt.show()"
   ]
  },
  {
   "cell_type": "markdown",
   "metadata": {},
   "source": [
    "По графику видно, что распределение гранул сырья на выборках примерно одинаковое"
   ]
  },
  {
   "cell_type": "markdown",
   "metadata": {},
   "source": [
    "### Суммарная концентрация всех веществ на разных стадиях: в сырье, в черновом и финальном концентратах"
   ]
  },
  {
   "cell_type": "code",
   "execution_count": 32,
   "metadata": {},
   "outputs": [],
   "source": [
    "rougher_inp = train_m['rougher.input.feed_ag'] + train_m['rougher.input.feed_pb']+\\\n",
    "                    train_m['rougher.input.feed_sol'] + train_m['rougher.input.feed_au']\n",
    "\n",
    "rougher_out = train_m['rougher.output.concentrate_ag'] + train_m['rougher.output.concentrate_pb']+\\\n",
    "                    train_m['rougher.output.concentrate_sol'] + train_m['rougher.output.concentrate_au']\n",
    "\n",
    "final = train_m['final.output.concentrate_ag'] + train_m['final.output.concentrate_pb']+\\\n",
    "                    train_m['final.output.concentrate_sol'] + train_m['final.output.concentrate_au']"
   ]
  },
  {
   "cell_type": "code",
   "execution_count": 33,
   "metadata": {},
   "outputs": [
    {
     "data": {
      "image/png": "[encoded data removed]",
      "text/plain": [
       "<Figure size 1300x800 with 1 Axes>"
      ]
     },
     "metadata": {},
     "output_type": "display_data"
    }
   ],
   "source": [
    "plt.figure(figsize=(13,8))\n",
    "sns.distplot(rougher_inp, hist = False, kde_kws = {'linewidth': 3}, label='сырьевой концетрат')\n",
    "sns.distplot(rougher_out, hist = False, kde_kws = {'linewidth': 3}, label='черновой концентрат')\n",
    "sns.distplot(final, hist = False, kde_kws = {'linewidth': 3}, label='финальный концентрат')\n",
    "plt.title('Суммарная концентрация веществ на различных стадиях', fontsize=15)\n",
    "plt.xlabel('Суммарная концентрация всех веществ', fontsize=10)\n",
    "plt.ylabel('Частота', fontsize=10)\n",
    "plt.legend(prop={'size': 10})\n",
    "plt.xlim((-10, 90))\n",
    "plt.show()"
   ]
  },
  {
   "cell_type": "code",
   "execution_count": 34,
   "metadata": {},
   "outputs": [],
   "source": [
    "concetrates_final = pd.DataFrame()\n",
    "concetrates_final['Сырьевой концетрат'] = rougher_inp\n",
    "concetrates_final['Черновой концетрат'] = rougher_out\n",
    "concetrates_final['Финальный концетрат'] = final"
   ]
  },
  {
   "cell_type": "code",
   "execution_count": 35,
   "metadata": {},
   "outputs": [
    {
     "data": {
      "image/png": "[encoded data removed]",
      "text/plain": [
       "<Figure size 1300x600 with 1 Axes>"
      ]
     },
     "metadata": {},
     "output_type": "display_data"
    }
   ],
   "source": [
    "plt.figure(figsize=(13, 6))\n",
    "sns.boxplot(data=concetrates_final)\n",
    "plt.title('Суммарная концентрация на разных этапах', fontsize=15)\n",
    "plt.ylabel('Концентрация, %', fontsize=10)\n",
    "plt.ylim((-10, 90))\n",
    "plt.show()"
   ]
  },
  {
   "cell_type": "markdown",
   "metadata": {},
   "source": [
    "По графику видно, что суммарная концентрация в черном и финальном концентратах больше, чем в сырьевом, что очевидно. Также видно, что их медианное значение находится около 70. Кроме того, на графиках видно, что в данных очень много аномальных значений (таких как около нулевые). Это может негативно отразиться на модели. Избавимся от них, удалим значения меньше первого квартиля"
   ]
  },
  {
   "cell_type": "code",
   "execution_count": 36,
   "metadata": {
    "scrolled": true
   },
   "outputs": [
    {
     "data": {
      "text/plain": [
       "(10288, 87)"
      ]
     },
     "execution_count": 36,
     "metadata": {},
     "output_type": "execute_result"
    }
   ],
   "source": [
    "steps = pd.DataFrame()\n",
    "steps['rougher_inp'], steps['rougher_out'], steps['final'] = rougher_inp, rougher_out, final\n",
    "train_d = train_m.loc[(steps['rougher_inp'] > 40) & (steps['rougher_out'] > 50) & (steps['final'] > 60)]\n",
    "train_d.shape"
   ]
  },
  {
   "cell_type": "code",
   "execution_count": 37,
   "metadata": {},
   "outputs": [],
   "source": [
    "rougher_inp = train_d['rougher.input.feed_ag'] + train_d['rougher.input.feed_pb']+\\\n",
    "                    train_d['rougher.input.feed_sol'] + train_d['rougher.input.feed_au']\n",
    "\n",
    "rougher_out = train_d['rougher.output.concentrate_ag'] + train_d['rougher.output.concentrate_pb']+\\\n",
    "                    train_d['rougher.output.concentrate_sol'] + train_d['rougher.output.concentrate_au']\n",
    "\n",
    "final = train_d['final.output.concentrate_ag'] + train_d['final.output.concentrate_pb']+\\\n",
    "                    train_d['final.output.concentrate_sol'] + train_d['final.output.concentrate_au']"
   ]
  },
  {
   "cell_type": "code",
   "execution_count": 38,
   "metadata": {},
   "outputs": [
    {
     "data": {
      "image/png": "[encoded data removed]",
      "text/plain": [
       "<Figure size 1300x600 with 1 Axes>"
      ]
     },
     "metadata": {},
     "output_type": "display_data"
    }
   ],
   "source": [
    "concetrates_final = pd.DataFrame()\n",
    "concetrates_final['Сырьевой концетрат'] = rougher_inp\n",
    "concetrates_final['Черновой концетрат'] = rougher_out\n",
    "concetrates_final['Финальный концетрат'] = final\n",
    "\n",
    "plt.figure(figsize=(13,6))\n",
    "sns.boxplot(data=concetrates_final)\n",
    "plt.title('Суммарная концентрация на разных этапах')\n",
    "plt.ylabel('Концентрация, %', fontsize=10)\n",
    "plt.ylim((10, 90))\n",
    "plt.show()"
   ]
  },
  {
   "cell_type": "markdown",
   "metadata": {},
   "source": [
    "Удалим также аномальные значения для выборки, где пропуски были заполнены"
   ]
  },
  {
   "cell_type": "code",
   "execution_count": 39,
   "metadata": {},
   "outputs": [],
   "source": [
    "rougher_inp_2 = train_ffill['rougher.input.feed_ag'] + train_ffill['rougher.input.feed_pb']+\\\n",
    "                    train_ffill['rougher.input.feed_sol'] + train_ffill['rougher.input.feed_au']\n",
    "rougher_out_2 = train_ffill['rougher.output.concentrate_ag'] + train_ffill['rougher.output.concentrate_pb']+\\\n",
    "                    train_ffill['rougher.output.concentrate_sol'] + train_ffill['rougher.output.concentrate_au']\n",
    "\n",
    "final_2 = train_ffill['final.output.concentrate_ag'] + train_ffill['final.output.concentrate_pb']+\\\n",
    "                    train_ffill['final.output.concentrate_sol'] + train_ffill['final.output.concentrate_au']"
   ]
  },
  {
   "cell_type": "code",
   "execution_count": 40,
   "metadata": {
    "scrolled": true
   },
   "outputs": [
    {
     "data": {
      "text/plain": [
       "(10288, 87)"
      ]
     },
     "execution_count": 40,
     "metadata": {},
     "output_type": "execute_result"
    }
   ],
   "source": [
    "steps_2 = pd.DataFrame()\n",
    "steps_2['rougher_inp'], steps_2['rougher_out'], steps_2['final'] = rougher_inp_2, rougher_out_2, final_2\n",
    "train_d2 = train_m.loc[(steps_2['rougher_inp'] > 40) & (steps_2['rougher_out'] > 50) & (steps_2['final'] > 60)]\n",
    "train_d2.shape"
   ]
  },
  {
   "cell_type": "code",
   "execution_count": 41,
   "metadata": {},
   "outputs": [
    {
     "data": {
      "text/plain": [
       "True"
      ]
     },
     "execution_count": 41,
     "metadata": {},
     "output_type": "execute_result"
    }
   ],
   "source": [
    "train_d.equals(train_d2)"
   ]
  },
  {
   "cell_type": "markdown",
   "metadata": {},
   "source": [
    "## Модель"
   ]
  },
  {
   "cell_type": "markdown",
   "metadata": {},
   "source": [
    "### Функция подсчета итоговой sMAPE"
   ]
  },
  {
   "cell_type": "code",
   "execution_count": 42,
   "metadata": {},
   "outputs": [],
   "source": [
    "def smape(target, predictions):\n",
    "    predictions_rougher_rec = predictions[:, 0]\n",
    "    target_rougher_rec = target.loc[:, 'rougher.output.recovery']\n",
    "    predictions_final_rec = predictions[:, 1]\n",
    "    target_final_rec = target.loc[:, 'final.output.recovery']\n",
    "    \n",
    "    rougher=np.sum(abs(target_rougher_rec-predictions_rougher_rec)/\n",
    "                         ((abs(target_rougher_rec) + abs(predictions_rougher_rec)) / 2)) / len(target_rougher_rec) * 100\n",
    "    \n",
    "   \n",
    "    final=np.sum(abs(target_final_rec - predictions_final_rec)/\n",
    "                 ((abs(target_final_rec) + abs(predictions_final_rec)) / 2)) / len(target_final_rec) * 100\n",
    "\n",
    "    return 0.25 * rougher + 0.75 * final\n"
   ]
  },
  {
   "cell_type": "markdown",
   "metadata": {},
   "source": [
    "### Обучение моделей на выборках с удаленными пропусками и заполненными"
   ]
  },
  {
   "cell_type": "markdown",
   "metadata": {},
   "source": [
    "#### Пропуски удалены"
   ]
  },
  {
   "cell_type": "markdown",
   "metadata": {},
   "source": [
    "Подготовим признаки для обучения моделей. Отдели целевые признаки. Поскольку в тестовой выборке столбцовц меньше, чем в обучающей и исходной, то будем обучать модели на тех признаках, которые есть в тестовой выборке, чтобы не зашумлять данные."
   ]
  },
  {
   "cell_type": "code",
   "execution_count": 43,
   "metadata": {},
   "outputs": [],
   "source": [
    "target_1 = train_d[['rougher.output.recovery', 'final.output.recovery']]\n",
    "train_1 = train_d[test_df.drop('date', axis=1).columns]"
   ]
  },
  {
   "cell_type": "markdown",
   "metadata": {},
   "source": [
    "**LinearRegression**"
   ]
  },
  {
   "cell_type": "code",
   "execution_count": 44,
   "metadata": {
    "scrolled": true
   },
   "outputs": [
    {
     "name": "stdout",
     "output_type": "stream",
     "text": [
      "Средняя оценка качества модели: 9.220559207597631\n"
     ]
    }
   ],
   "source": [
    "lin_model = LinearRegression()\n",
    "scores_cross_val = cross_val_score(lin_model, train_1, target_1, cv=4, scoring=make_scorer(smape))\n",
    "print('Средняя оценка качества модели:', scores_cross_val.mean())"
   ]
  },
  {
   "cell_type": "markdown",
   "metadata": {},
   "source": [
    "**RandomForestRegressor**"
   ]
  },
  {
   "cell_type": "code",
   "execution_count": 45,
   "metadata": {},
   "outputs": [
    {
     "name": "stdout",
     "output_type": "stream",
     "text": [
      "smape: 8.012412475754298, max_depth: 1, estimators: 9\n"
     ]
    }
   ],
   "source": [
    "max_depth = 0\n",
    "estimators = 0\n",
    "best_model_forest = None\n",
    "best_score = 10000\n",
    "for depth in range(1, 50, 10):\n",
    "    for est in range(1, 10):\n",
    "        forest_model = RandomForestRegressor(max_depth=depth,\n",
    "                                             n_estimators=est,\n",
    "                                             random_state=12345)\n",
    "        forest_model.fit(train_1, target_1)\n",
    "        scores_cross_val_mean = cross_val_score(forest_model,\n",
    "                                                train_1,\n",
    "                                                target_1,\n",
    "                                                cv=4,\n",
    "                                                scoring=make_scorer(smape)).mean()\n",
    "        if best_score > scores_cross_val_mean:\n",
    "            best_score = scores_cross_val_mean\n",
    "            max_depth = depth\n",
    "            estimators = est\n",
    "            best_model_forest = forest_model\n",
    "print(f'smape: {best_score}, max_depth: {max_depth}, estimators: {estimators}')"
   ]
  },
  {
   "cell_type": "markdown",
   "metadata": {},
   "source": [
    "#### Пропуски заполнены"
   ]
  },
  {
   "cell_type": "markdown",
   "metadata": {},
   "source": [
    "Подготовим признаки для обучения моделей. Отдели целевые признаки. Поскольку в тестовой выборке столбцовц меньше, чем в обучающей и исходной, то будем обучать модели на тех признаках, которые есть в тестовой выборке, чтобы не зашумлять данные."
   ]
  },
  {
   "cell_type": "code",
   "execution_count": 46,
   "metadata": {},
   "outputs": [],
   "source": [
    "target_2 = train_d2[['rougher.output.recovery', 'final.output.recovery']]\n",
    "train_2 = train_d2[test_df.drop('date', axis=1).columns]"
   ]
  },
  {
   "cell_type": "markdown",
   "metadata": {},
   "source": [
    "**LinearRegression**"
   ]
  },
  {
   "cell_type": "code",
   "execution_count": 47,
   "metadata": {},
   "outputs": [
    {
     "name": "stdout",
     "output_type": "stream",
     "text": [
      "Средняя оценка качества модели: 9.220559207597631\n"
     ]
    }
   ],
   "source": [
    "lin_model_2 = LinearRegression()\n",
    "scores_cross_val = cross_val_score(lin_model_2, train_2, target_2, cv=4, scoring=make_scorer(smape))\n",
    "print('Средняя оценка качества модели:', scores_cross_val.mean())"
   ]
  },
  {
   "cell_type": "markdown",
   "metadata": {},
   "source": [
    "**RandomForestRegressor**"
   ]
  },
  {
   "cell_type": "code",
   "execution_count": 48,
   "metadata": {},
   "outputs": [
    {
     "name": "stdout",
     "output_type": "stream",
     "text": [
      "smape: 8.012412475754298, max_depth: 1, estimators: 9\n"
     ]
    }
   ],
   "source": [
    "max_depth = 0\n",
    "estimators = 0\n",
    "best_model_forest = None\n",
    "best_score = 10000\n",
    "for depth in range(1, 50, 10):\n",
    "    for est in range(1, 10):\n",
    "        forest_model = RandomForestRegressor(max_depth=depth,\n",
    "                                             n_estimators=est,\n",
    "                                             random_state=12345)\n",
    "        forest_model.fit(train_2, target_2)\n",
    "        scores_cross_val_mean = cross_val_score(forest_model,\n",
    "                                                train_2,\n",
    "                                                target_2,\n",
    "                                                cv=4,\n",
    "                                                scoring=make_scorer(smape)).mean()\n",
    "        if best_score > scores_cross_val_mean:\n",
    "            best_score = scores_cross_val_mean\n",
    "            max_depth = depth\n",
    "            estimators = est\n",
    "            best_model_forest = forest_model\n",
    "print(f'smape: {best_score}, max_depth: {max_depth}, estimators: {estimators}')"
   ]
  },
  {
   "cell_type": "markdown",
   "metadata": {},
   "source": [
    "### Тестирование модели"
   ]
  },
  {
   "cell_type": "code",
   "execution_count": 49,
   "metadata": {},
   "outputs": [],
   "source": [
    "test = full_df.loc[full_df['date'].isin(test_df['date']), :].dropna()\n",
    "target = test[['rougher.output.recovery','final.output.recovery']]\n",
    "features = test[test_df.drop('date', axis=1).columns]"
   ]
  },
  {
   "cell_type": "markdown",
   "metadata": {},
   "source": [
    "Лучше всего себя показала модель **Случайного леса**, обученная на данных, в которых пропуски были удалены. Проверим ее на тестовой выборке. Посчитаем sMAPE."
   ]
  },
  {
   "cell_type": "code",
   "execution_count": 50,
   "metadata": {},
   "outputs": [],
   "source": [
    "depth = 1\n",
    "est = 9"
   ]
  },
  {
   "cell_type": "code",
   "execution_count": 51,
   "metadata": {},
   "outputs": [
    {
     "name": "stdout",
     "output_type": "stream",
     "text": [
      "sMAPE: 8.261697185256251\n"
     ]
    }
   ],
   "source": [
    "forest_model = RandomForestRegressor(max_depth=depth,\n",
    "                                     n_estimators=est,\n",
    "                                     random_state=12345)\n",
    "forest_model.fit(train_1, target_1)\n",
    "pred = forest_model.predict(features)\n",
    "print('sMAPE:', smape(target, pred))"
   ]
  },
  {
   "cell_type": "markdown",
   "metadata": {},
   "source": [
    "Посмотрим на значение sMAPE у DummyRegressor"
   ]
  },
  {
   "cell_type": "code",
   "execution_count": 52,
   "metadata": {},
   "outputs": [
    {
     "name": "stdout",
     "output_type": "stream",
     "text": [
      "sMAPE: 8.633297044145898\n"
     ]
    }
   ],
   "source": [
    "regressor = DummyRegressor(strategy='mean')\n",
    "regressor.fit(train_1, target_1)\n",
    "pred = regressor.predict(features)\n",
    "print('sMAPE:', smape(target, pred))"
   ]
  },
  {
   "cell_type": "markdown",
   "metadata": {},
   "source": [
    "Значение метрики sMAPE у модели **Случайного леса** немного лучше, чем у **DummyRegressor**, но нельзя сказать, что она хорошо обучена, поскольку разница с константной моделью минимальна"
   ]
  },
  {
   "cell_type": "markdown",
   "metadata": {},
   "source": [
    "## Выводы"
   ]
  },
  {
   "cell_type": "markdown",
   "metadata": {},
   "source": [
    "В процессе работы были изучены данные и подготовлены для обучения модели (подготовлены 2 выборки для обучения: 1. удалены пропуски из обучающей и исходной выборок и 2. Пропуски заполнены значениями, основанными на известных). Были проанализированы данные: сравнена концентрация различных металлов на каждом этапе, рассмотрено распределение размеров гранул сырья на обучающей выборке и сделан вывод о примерно одинаковом распределении.\n",
    "\n",
    "После была обучена модель Линейной Регрессии и Случайного леса на разных выборках и посчитана метрика sMAPE для них. Лучшей на валидационных выборках себя показала модель Случайного леса, обученная на выборке, в которой были удалены пропуски, поэтому она и была протестирована. Значение метрики sMAPE на тестовой выборке для нее равно ~8.26"
   ]
  }
 ],
 "metadata": {
  "ExecuteTimeLog": [
   {
    "duration": 1425,
    "start_time": "2023-01-11T10:18:10.475Z"
   },
   {
    "duration": 1348,
    "start_time": "2023-01-11T10:18:13.278Z"
   },
   {
    "duration": 784,
    "start_time": "2023-01-11T10:21:03.262Z"
   },
   {
    "duration": 21,
    "start_time": "2023-01-11T10:21:15.852Z"
   },
   {
    "duration": 16,
    "start_time": "2023-01-11T10:21:17.421Z"
   },
   {
    "duration": 251,
    "start_time": "2023-01-11T10:21:33.689Z"
   },
   {
    "duration": 98,
    "start_time": "2023-01-11T10:22:36.563Z"
   },
   {
    "duration": 35476,
    "start_time": "2023-01-11T10:22:41.572Z"
   },
   {
    "duration": 212,
    "start_time": "2023-01-11T10:26:16.879Z"
   },
   {
    "duration": 256,
    "start_time": "2023-01-11T10:26:31.392Z"
   },
   {
    "duration": 23,
    "start_time": "2023-01-11T10:27:13.045Z"
   },
   {
    "duration": 28,
    "start_time": "2023-01-11T10:27:26.315Z"
   },
   {
    "duration": 21,
    "start_time": "2023-01-11T10:27:42.910Z"
   },
   {
    "duration": 20,
    "start_time": "2023-01-11T10:27:43.749Z"
   },
   {
    "duration": 18,
    "start_time": "2023-01-11T10:27:54.760Z"
   },
   {
    "duration": 224,
    "start_time": "2023-01-11T10:28:07.539Z"
   },
   {
    "duration": 934,
    "start_time": "2023-01-11T10:29:06.329Z"
   },
   {
    "duration": 25,
    "start_time": "2023-01-11T10:29:07.265Z"
   },
   {
    "duration": 24,
    "start_time": "2023-01-11T10:29:07.293Z"
   },
   {
    "duration": 258,
    "start_time": "2023-01-11T10:29:07.320Z"
   },
   {
    "duration": 23,
    "start_time": "2023-01-11T10:29:07.580Z"
   },
   {
    "duration": 26,
    "start_time": "2023-01-11T10:29:07.605Z"
   },
   {
    "duration": 138,
    "start_time": "2023-01-11T10:29:07.632Z"
   },
   {
    "duration": 23,
    "start_time": "2023-01-11T10:29:07.772Z"
   },
   {
    "duration": 42,
    "start_time": "2023-01-11T10:29:07.796Z"
   },
   {
    "duration": 269,
    "start_time": "2023-01-11T10:29:07.839Z"
   },
   {
    "duration": 24,
    "start_time": "2023-01-11T10:59:52.114Z"
   },
   {
    "duration": 13,
    "start_time": "2023-01-11T10:59:53.648Z"
   },
   {
    "duration": 3,
    "start_time": "2023-01-11T10:59:53.987Z"
   },
   {
    "duration": 17,
    "start_time": "2023-01-11T11:00:04.358Z"
   },
   {
    "duration": 75,
    "start_time": "2023-01-11T11:02:01.032Z"
   },
   {
    "duration": 79,
    "start_time": "2023-01-11T11:02:13.434Z"
   },
   {
    "duration": 9,
    "start_time": "2023-01-11T11:04:34.520Z"
   },
   {
    "duration": 5,
    "start_time": "2023-01-11T11:04:39.162Z"
   },
   {
    "duration": 6,
    "start_time": "2023-01-11T11:04:41.375Z"
   },
   {
    "duration": 7,
    "start_time": "2023-01-11T11:04:51.412Z"
   },
   {
    "duration": 7,
    "start_time": "2023-01-11T11:04:56.397Z"
   },
   {
    "duration": 7,
    "start_time": "2023-01-11T11:06:57.106Z"
   },
   {
    "duration": 7,
    "start_time": "2023-01-11T11:07:01.408Z"
   },
   {
    "duration": 6,
    "start_time": "2023-01-11T11:07:02.681Z"
   },
   {
    "duration": 268,
    "start_time": "2023-01-11T11:07:48.758Z"
   },
   {
    "duration": 5,
    "start_time": "2023-01-11T11:08:14.991Z"
   },
   {
    "duration": 5,
    "start_time": "2023-01-11T11:16:42.552Z"
   },
   {
    "duration": 32,
    "start_time": "2023-01-11T11:16:50.649Z"
   },
   {
    "duration": 5,
    "start_time": "2023-01-11T11:17:03.055Z"
   },
   {
    "duration": 5,
    "start_time": "2023-01-11T11:17:58.640Z"
   },
   {
    "duration": 8,
    "start_time": "2023-01-11T11:25:15.845Z"
   },
   {
    "duration": 8,
    "start_time": "2023-01-11T11:25:28.264Z"
   },
   {
    "duration": 23,
    "start_time": "2023-01-11T13:04:08.119Z"
   },
   {
    "duration": 4,
    "start_time": "2023-01-11T13:04:16.964Z"
   },
   {
    "duration": 75,
    "start_time": "2023-01-11T13:05:00.829Z"
   },
   {
    "duration": 42,
    "start_time": "2023-01-11T13:05:09.093Z"
   },
   {
    "duration": 38,
    "start_time": "2023-01-11T13:05:13.247Z"
   },
   {
    "duration": 39,
    "start_time": "2023-01-11T13:05:17.189Z"
   },
   {
    "duration": 42,
    "start_time": "2023-01-11T13:08:44.573Z"
   },
   {
    "duration": 10,
    "start_time": "2023-01-11T13:09:06.599Z"
   },
   {
    "duration": 9,
    "start_time": "2023-01-11T13:10:06.648Z"
   },
   {
    "duration": 2,
    "start_time": "2023-01-11T13:10:08.758Z"
   },
   {
    "duration": 211,
    "start_time": "2023-01-11T13:10:09.029Z"
   },
   {
    "duration": 42,
    "start_time": "2023-01-11T13:10:25.191Z"
   },
   {
    "duration": 47,
    "start_time": "2023-01-11T13:10:36.357Z"
   },
   {
    "duration": 39,
    "start_time": "2023-01-11T13:11:30.037Z"
   },
   {
    "duration": 17,
    "start_time": "2023-01-11T13:12:04.541Z"
   },
   {
    "duration": 216,
    "start_time": "2023-01-11T13:12:12.860Z"
   },
   {
    "duration": 30,
    "start_time": "2023-01-11T13:13:46.353Z"
   },
   {
    "duration": 32,
    "start_time": "2023-01-11T13:13:49.654Z"
   },
   {
    "duration": 48,
    "start_time": "2023-01-11T13:13:58.720Z"
   },
   {
    "duration": 218,
    "start_time": "2023-01-11T13:14:10.485Z"
   },
   {
    "duration": 337,
    "start_time": "2023-01-11T13:14:24.057Z"
   },
   {
    "duration": 21,
    "start_time": "2023-01-11T13:15:34.049Z"
   },
   {
    "duration": 6,
    "start_time": "2023-01-11T13:17:48.318Z"
   },
   {
    "duration": 30,
    "start_time": "2023-01-11T13:17:52.627Z"
   },
   {
    "duration": 43,
    "start_time": "2023-01-11T16:04:37.517Z"
   },
   {
    "duration": 1433,
    "start_time": "2023-01-11T16:04:46.768Z"
   },
   {
    "duration": 2265,
    "start_time": "2023-01-11T16:04:48.203Z"
   },
   {
    "duration": 25,
    "start_time": "2023-01-11T16:04:50.470Z"
   },
   {
    "duration": 18,
    "start_time": "2023-01-11T16:04:50.497Z"
   },
   {
    "duration": 230,
    "start_time": "2023-01-11T16:04:50.517Z"
   },
   {
    "duration": 18,
    "start_time": "2023-01-11T16:04:50.749Z"
   },
   {
    "duration": 17,
    "start_time": "2023-01-11T16:04:50.768Z"
   },
   {
    "duration": 128,
    "start_time": "2023-01-11T16:04:50.786Z"
   },
   {
    "duration": 26,
    "start_time": "2023-01-11T16:04:50.915Z"
   },
   {
    "duration": 15,
    "start_time": "2023-01-11T16:04:50.943Z"
   },
   {
    "duration": 250,
    "start_time": "2023-01-11T16:04:50.960Z"
   },
   {
    "duration": 24,
    "start_time": "2023-01-11T16:04:51.212Z"
   },
   {
    "duration": 3,
    "start_time": "2023-01-11T16:04:51.238Z"
   },
   {
    "duration": 10,
    "start_time": "2023-01-11T16:04:51.243Z"
   },
   {
    "duration": 9,
    "start_time": "2023-01-11T16:04:51.254Z"
   },
   {
    "duration": 9,
    "start_time": "2023-01-11T16:04:51.265Z"
   },
   {
    "duration": 5,
    "start_time": "2023-01-11T16:04:53.168Z"
   },
   {
    "duration": 35,
    "start_time": "2023-01-11T16:04:54.567Z"
   },
   {
    "duration": 175,
    "start_time": "2023-01-11T16:04:55.459Z"
   },
   {
    "duration": 265,
    "start_time": "2023-01-11T16:04:56.025Z"
   },
   {
    "duration": 23,
    "start_time": "2023-01-11T16:04:56.684Z"
   },
   {
    "duration": 66,
    "start_time": "2023-01-11T16:04:56.967Z"
   },
   {
    "duration": 11,
    "start_time": "2023-01-11T16:05:01.359Z"
   },
   {
    "duration": 4,
    "start_time": "2023-01-11T16:05:13.006Z"
   },
   {
    "duration": 9,
    "start_time": "2023-01-11T16:05:30.616Z"
   },
   {
    "duration": 10,
    "start_time": "2023-01-11T16:05:39.411Z"
   },
   {
    "duration": 61,
    "start_time": "2023-01-11T16:05:45.373Z"
   },
   {
    "duration": 13,
    "start_time": "2023-01-11T16:16:38.525Z"
   },
   {
    "duration": 11,
    "start_time": "2023-01-11T16:16:39.950Z"
   },
   {
    "duration": 18,
    "start_time": "2023-01-11T16:16:40.150Z"
   },
   {
    "duration": 7,
    "start_time": "2023-01-11T16:16:54.609Z"
   },
   {
    "duration": 229,
    "start_time": "2023-01-11T16:16:56.451Z"
   },
   {
    "duration": 6,
    "start_time": "2023-01-11T16:17:03.286Z"
   },
   {
    "duration": 161,
    "start_time": "2023-01-11T16:17:03.451Z"
   },
   {
    "duration": 130,
    "start_time": "2023-01-11T16:17:09.147Z"
   },
   {
    "duration": 217,
    "start_time": "2023-01-11T16:17:39.782Z"
   },
   {
    "duration": 156,
    "start_time": "2023-01-11T16:17:53.422Z"
   },
   {
    "duration": 160,
    "start_time": "2023-01-11T16:17:59.925Z"
   },
   {
    "duration": 138,
    "start_time": "2023-01-11T16:18:04.195Z"
   },
   {
    "duration": 150,
    "start_time": "2023-01-11T16:18:08.949Z"
   },
   {
    "duration": 146,
    "start_time": "2023-01-11T16:18:12.318Z"
   },
   {
    "duration": 7,
    "start_time": "2023-01-11T16:19:31.452Z"
   },
   {
    "duration": 7,
    "start_time": "2023-01-11T16:19:32.668Z"
   },
   {
    "duration": 140,
    "start_time": "2023-01-11T16:19:32.838Z"
   },
   {
    "duration": 7,
    "start_time": "2023-01-11T16:20:17.519Z"
   },
   {
    "duration": 144,
    "start_time": "2023-01-11T16:20:17.788Z"
   },
   {
    "duration": 7,
    "start_time": "2023-01-11T16:21:50.906Z"
   },
   {
    "duration": 162,
    "start_time": "2023-01-11T16:21:51.758Z"
   },
   {
    "duration": 7,
    "start_time": "2023-01-11T16:21:54.472Z"
   },
   {
    "duration": 151,
    "start_time": "2023-01-11T16:21:54.706Z"
   },
   {
    "duration": 156,
    "start_time": "2023-01-11T16:22:06.793Z"
   },
   {
    "duration": 235,
    "start_time": "2023-01-11T16:22:22.285Z"
   },
   {
    "duration": 139,
    "start_time": "2023-01-11T16:22:29.140Z"
   },
   {
    "duration": 5,
    "start_time": "2023-01-11T16:23:10.251Z"
   },
   {
    "duration": 7,
    "start_time": "2023-01-11T16:23:20.021Z"
   },
   {
    "duration": 1086,
    "start_time": "2023-01-11T16:23:46.344Z"
   },
   {
    "duration": 0,
    "start_time": "2023-01-11T16:23:47.432Z"
   },
   {
    "duration": 7,
    "start_time": "2023-01-11T16:25:57.151Z"
   },
   {
    "duration": 160,
    "start_time": "2023-01-11T16:25:57.375Z"
   },
   {
    "duration": 183,
    "start_time": "2023-01-11T16:36:01.512Z"
   },
   {
    "duration": 93807,
    "start_time": "2023-01-11T16:37:15.548Z"
   },
   {
    "duration": 4,
    "start_time": "2023-01-11T16:38:52.462Z"
   },
   {
    "duration": 186,
    "start_time": "2023-01-11T16:42:05.527Z"
   },
   {
    "duration": 1591,
    "start_time": "2023-01-12T11:33:38.745Z"
   },
   {
    "duration": 3128,
    "start_time": "2023-01-12T11:33:40.729Z"
   },
   {
    "duration": 26,
    "start_time": "2023-01-12T11:33:43.859Z"
   },
   {
    "duration": 28,
    "start_time": "2023-01-12T11:33:43.887Z"
   },
   {
    "duration": 260,
    "start_time": "2023-01-12T11:33:43.917Z"
   },
   {
    "duration": 39,
    "start_time": "2023-01-12T11:33:44.179Z"
   },
   {
    "duration": 37,
    "start_time": "2023-01-12T11:33:44.219Z"
   },
   {
    "duration": 140,
    "start_time": "2023-01-12T11:33:44.257Z"
   },
   {
    "duration": 28,
    "start_time": "2023-01-12T11:33:44.399Z"
   },
   {
    "duration": 41,
    "start_time": "2023-01-12T11:33:44.429Z"
   },
   {
    "duration": 273,
    "start_time": "2023-01-12T11:33:44.473Z"
   },
   {
    "duration": 13,
    "start_time": "2023-01-12T11:33:44.748Z"
   },
   {
    "duration": 4,
    "start_time": "2023-01-12T11:33:44.763Z"
   },
   {
    "duration": 10,
    "start_time": "2023-01-12T11:33:44.769Z"
   },
   {
    "duration": 19,
    "start_time": "2023-01-12T11:33:44.809Z"
   },
   {
    "duration": 178,
    "start_time": "2023-01-12T11:33:44.829Z"
   },
   {
    "duration": 61,
    "start_time": "2023-01-12T11:33:45.009Z"
   },
   {
    "duration": 61,
    "start_time": "2023-01-12T11:33:45.072Z"
   },
   {
    "duration": 248,
    "start_time": "2023-01-12T11:33:45.136Z"
   },
   {
    "duration": 295,
    "start_time": "2023-01-12T11:33:45.638Z"
   },
   {
    "duration": 23,
    "start_time": "2023-01-12T11:33:46.323Z"
   },
   {
    "duration": 76,
    "start_time": "2023-01-12T11:33:47.097Z"
   },
   {
    "duration": 10,
    "start_time": "2023-01-12T11:33:48.013Z"
   },
   {
    "duration": 192,
    "start_time": "2023-01-12T11:33:48.177Z"
   },
   {
    "duration": 10,
    "start_time": "2023-01-12T11:33:48.501Z"
   },
   {
    "duration": 159,
    "start_time": "2023-01-12T11:33:48.669Z"
   },
   {
    "duration": 8,
    "start_time": "2023-01-12T11:33:49.014Z"
   },
   {
    "duration": 167,
    "start_time": "2023-01-12T11:33:49.173Z"
   },
   {
    "duration": 1221,
    "start_time": "2023-01-12T11:40:55.729Z"
   },
   {
    "duration": 400,
    "start_time": "2023-01-12T11:41:05.695Z"
   },
   {
    "duration": 521,
    "start_time": "2023-01-12T11:41:23.773Z"
   },
   {
    "duration": 154,
    "start_time": "2023-01-12T11:41:48.801Z"
   },
   {
    "duration": 161,
    "start_time": "2023-01-12T11:41:53.838Z"
   },
   {
    "duration": 185,
    "start_time": "2023-01-12T11:41:58.101Z"
   },
   {
    "duration": 403,
    "start_time": "2023-01-12T11:42:04.431Z"
   },
   {
    "duration": 147,
    "start_time": "2023-01-12T11:42:48.950Z"
   },
   {
    "duration": 147,
    "start_time": "2023-01-12T11:43:13.737Z"
   },
   {
    "duration": 384,
    "start_time": "2023-01-12T11:43:20.969Z"
   },
   {
    "duration": 385,
    "start_time": "2023-01-12T11:43:24.702Z"
   },
   {
    "duration": 365,
    "start_time": "2023-01-12T11:43:30.982Z"
   },
   {
    "duration": 357,
    "start_time": "2023-01-12T11:43:34.830Z"
   },
   {
    "duration": 393,
    "start_time": "2023-01-12T11:43:51.266Z"
   },
   {
    "duration": 364,
    "start_time": "2023-01-12T11:44:05.430Z"
   },
   {
    "duration": 472,
    "start_time": "2023-01-12T11:44:26.182Z"
   },
   {
    "duration": 408,
    "start_time": "2023-01-12T11:44:39.747Z"
   },
   {
    "duration": 403,
    "start_time": "2023-01-12T11:44:43.627Z"
   },
   {
    "duration": 418,
    "start_time": "2023-01-12T11:45:12.829Z"
   },
   {
    "duration": 522,
    "start_time": "2023-01-12T11:45:30.023Z"
   },
   {
    "duration": 432,
    "start_time": "2023-01-12T11:45:36.529Z"
   },
   {
    "duration": 466,
    "start_time": "2023-01-12T11:45:56.488Z"
   },
   {
    "duration": 439,
    "start_time": "2023-01-12T11:46:17.044Z"
   },
   {
    "duration": 463,
    "start_time": "2023-01-12T11:46:23.664Z"
   },
   {
    "duration": 466,
    "start_time": "2023-01-12T11:46:29.368Z"
   },
   {
    "duration": 435,
    "start_time": "2023-01-12T11:46:35.861Z"
   },
   {
    "duration": 435,
    "start_time": "2023-01-12T11:46:40.948Z"
   },
   {
    "duration": 458,
    "start_time": "2023-01-12T11:46:59.512Z"
   },
   {
    "duration": 436,
    "start_time": "2023-01-12T11:47:20.570Z"
   },
   {
    "duration": 5,
    "start_time": "2023-01-12T12:03:53.792Z"
   },
   {
    "duration": 28,
    "start_time": "2023-01-12T16:03:09.538Z"
   },
   {
    "duration": 22,
    "start_time": "2023-01-12T16:03:37.546Z"
   },
   {
    "duration": 91,
    "start_time": "2023-01-12T16:05:58.308Z"
   },
   {
    "duration": 19,
    "start_time": "2023-01-12T16:06:10.375Z"
   },
   {
    "duration": 16,
    "start_time": "2023-01-12T16:06:21.792Z"
   },
   {
    "duration": 81,
    "start_time": "2023-01-12T16:06:58.495Z"
   },
   {
    "duration": 22,
    "start_time": "2023-01-12T16:07:02.148Z"
   },
   {
    "duration": 19,
    "start_time": "2023-01-12T16:07:16.336Z"
   },
   {
    "duration": 32,
    "start_time": "2023-01-12T16:07:20.223Z"
   },
   {
    "duration": 21,
    "start_time": "2023-01-12T16:07:23.355Z"
   },
   {
    "duration": 19,
    "start_time": "2023-01-12T16:08:22.320Z"
   },
   {
    "duration": 11,
    "start_time": "2023-01-12T16:08:27.260Z"
   },
   {
    "duration": 73,
    "start_time": "2023-01-12T16:09:15.708Z"
   },
   {
    "duration": 1,
    "start_time": "2023-01-12T16:09:15.783Z"
   },
   {
    "duration": 0,
    "start_time": "2023-01-12T16:09:15.785Z"
   },
   {
    "duration": 0,
    "start_time": "2023-01-12T16:09:15.786Z"
   },
   {
    "duration": 0,
    "start_time": "2023-01-12T16:09:15.787Z"
   },
   {
    "duration": 0,
    "start_time": "2023-01-12T16:09:15.788Z"
   },
   {
    "duration": 0,
    "start_time": "2023-01-12T16:09:15.790Z"
   },
   {
    "duration": 0,
    "start_time": "2023-01-12T16:09:15.791Z"
   },
   {
    "duration": 0,
    "start_time": "2023-01-12T16:09:15.792Z"
   },
   {
    "duration": 0,
    "start_time": "2023-01-12T16:09:15.793Z"
   },
   {
    "duration": 0,
    "start_time": "2023-01-12T16:09:15.794Z"
   },
   {
    "duration": 0,
    "start_time": "2023-01-12T16:09:15.795Z"
   },
   {
    "duration": 0,
    "start_time": "2023-01-12T16:09:15.796Z"
   },
   {
    "duration": 0,
    "start_time": "2023-01-12T16:09:15.797Z"
   },
   {
    "duration": 0,
    "start_time": "2023-01-12T16:09:15.797Z"
   },
   {
    "duration": 0,
    "start_time": "2023-01-12T16:09:15.798Z"
   },
   {
    "duration": 0,
    "start_time": "2023-01-12T16:09:15.799Z"
   },
   {
    "duration": 0,
    "start_time": "2023-01-12T16:09:15.801Z"
   },
   {
    "duration": 0,
    "start_time": "2023-01-12T16:09:15.802Z"
   },
   {
    "duration": 0,
    "start_time": "2023-01-12T16:09:15.803Z"
   },
   {
    "duration": 0,
    "start_time": "2023-01-12T16:09:15.803Z"
   },
   {
    "duration": 1,
    "start_time": "2023-01-12T16:09:15.804Z"
   },
   {
    "duration": 0,
    "start_time": "2023-01-12T16:09:15.805Z"
   },
   {
    "duration": 0,
    "start_time": "2023-01-12T16:09:15.806Z"
   },
   {
    "duration": 0,
    "start_time": "2023-01-12T16:09:15.807Z"
   },
   {
    "duration": 0,
    "start_time": "2023-01-12T16:09:15.808Z"
   },
   {
    "duration": 0,
    "start_time": "2023-01-12T16:09:15.809Z"
   },
   {
    "duration": 0,
    "start_time": "2023-01-12T16:09:15.809Z"
   },
   {
    "duration": 0,
    "start_time": "2023-01-12T16:09:15.810Z"
   },
   {
    "duration": 0,
    "start_time": "2023-01-12T16:09:15.811Z"
   },
   {
    "duration": 0,
    "start_time": "2023-01-12T16:09:15.812Z"
   },
   {
    "duration": 1648,
    "start_time": "2023-01-12T16:09:58.611Z"
   },
   {
    "duration": 1394,
    "start_time": "2023-01-12T16:10:00.262Z"
   },
   {
    "duration": 26,
    "start_time": "2023-01-12T16:10:01.658Z"
   },
   {
    "duration": 45,
    "start_time": "2023-01-12T16:10:01.686Z"
   },
   {
    "duration": 272,
    "start_time": "2023-01-12T16:10:01.733Z"
   },
   {
    "duration": 23,
    "start_time": "2023-01-12T16:10:02.007Z"
   },
   {
    "duration": 40,
    "start_time": "2023-01-12T16:10:02.032Z"
   },
   {
    "duration": 163,
    "start_time": "2023-01-12T16:10:02.074Z"
   },
   {
    "duration": 23,
    "start_time": "2023-01-12T16:10:02.240Z"
   },
   {
    "duration": 43,
    "start_time": "2023-01-12T16:10:02.265Z"
   },
   {
    "duration": 278,
    "start_time": "2023-01-12T16:10:02.310Z"
   },
   {
    "duration": 26,
    "start_time": "2023-01-12T16:10:02.590Z"
   },
   {
    "duration": 4,
    "start_time": "2023-01-12T16:10:02.619Z"
   },
   {
    "duration": 29,
    "start_time": "2023-01-12T16:10:02.626Z"
   },
   {
    "duration": 117,
    "start_time": "2023-01-12T16:10:02.657Z"
   },
   {
    "duration": 24,
    "start_time": "2023-01-12T16:10:02.776Z"
   },
   {
    "duration": 35,
    "start_time": "2023-01-12T16:10:02.803Z"
   },
   {
    "duration": 43,
    "start_time": "2023-01-12T16:10:02.840Z"
   },
   {
    "duration": 201,
    "start_time": "2023-01-12T16:10:02.885Z"
   },
   {
    "duration": 298,
    "start_time": "2023-01-12T16:10:03.088Z"
   },
   {
    "duration": 29,
    "start_time": "2023-01-12T16:10:03.388Z"
   },
   {
    "duration": 81,
    "start_time": "2023-01-12T16:10:03.419Z"
   },
   {
    "duration": 7,
    "start_time": "2023-01-12T16:10:03.501Z"
   },
   {
    "duration": 175,
    "start_time": "2023-01-12T16:10:03.510Z"
   },
   {
    "duration": 8,
    "start_time": "2023-01-12T16:10:03.687Z"
   },
   {
    "duration": 168,
    "start_time": "2023-01-12T16:10:03.705Z"
   },
   {
    "duration": 7,
    "start_time": "2023-01-12T16:10:03.875Z"
   },
   {
    "duration": 175,
    "start_time": "2023-01-12T16:10:03.884Z"
   },
   {
    "duration": 449,
    "start_time": "2023-01-12T16:10:04.060Z"
   },
   {
    "duration": 4,
    "start_time": "2023-01-12T16:10:04.510Z"
   },
   {
    "duration": 70,
    "start_time": "2023-01-12T16:10:04.516Z"
   },
   {
    "duration": 118,
    "start_time": "2023-01-12T16:59:35.957Z"
   },
   {
    "duration": 15,
    "start_time": "2023-01-12T17:00:07.747Z"
   },
   {
    "duration": 15,
    "start_time": "2023-01-12T17:00:18.239Z"
   },
   {
    "duration": 13,
    "start_time": "2023-01-12T17:01:27.646Z"
   },
   {
    "duration": 23,
    "start_time": "2023-01-12T17:01:48.122Z"
   },
   {
    "duration": 19,
    "start_time": "2023-01-12T17:04:43.017Z"
   },
   {
    "duration": 33,
    "start_time": "2023-01-12T17:07:47.383Z"
   },
   {
    "duration": 20,
    "start_time": "2023-01-12T17:08:09.522Z"
   },
   {
    "duration": 121,
    "start_time": "2023-01-12T17:08:14.449Z"
   },
   {
    "duration": 35,
    "start_time": "2023-01-12T17:08:18.905Z"
   },
   {
    "duration": 29,
    "start_time": "2023-01-12T17:08:43.228Z"
   },
   {
    "duration": 28,
    "start_time": "2023-01-12T17:09:04.896Z"
   },
   {
    "duration": 26,
    "start_time": "2023-01-12T17:09:32.325Z"
   },
   {
    "duration": 31,
    "start_time": "2023-01-12T17:09:51.809Z"
   },
   {
    "duration": 27,
    "start_time": "2023-01-12T17:09:58.198Z"
   },
   {
    "duration": 38,
    "start_time": "2023-01-12T17:11:27.254Z"
   },
   {
    "duration": 23,
    "start_time": "2023-01-12T17:14:09.459Z"
   },
   {
    "duration": 21,
    "start_time": "2023-01-12T17:15:51.744Z"
   },
   {
    "duration": 4,
    "start_time": "2023-01-12T17:16:28.846Z"
   },
   {
    "duration": 12,
    "start_time": "2023-01-12T17:16:51.167Z"
   },
   {
    "duration": 28,
    "start_time": "2023-01-12T17:17:40.488Z"
   },
   {
    "duration": 19,
    "start_time": "2023-01-12T17:19:49.255Z"
   },
   {
    "duration": 27,
    "start_time": "2023-01-12T17:20:33.581Z"
   },
   {
    "duration": 75,
    "start_time": "2023-01-12T17:20:38.869Z"
   },
   {
    "duration": 21,
    "start_time": "2023-01-12T17:20:43.210Z"
   },
   {
    "duration": 19,
    "start_time": "2023-01-12T17:21:20.431Z"
   },
   {
    "duration": 78,
    "start_time": "2023-01-12T17:23:52.264Z"
   },
   {
    "duration": 1216,
    "start_time": "2023-01-12T17:23:59.233Z"
   },
   {
    "duration": 22,
    "start_time": "2023-01-12T17:24:26.528Z"
   },
   {
    "duration": 22,
    "start_time": "2023-01-12T17:24:42.592Z"
   },
   {
    "duration": 20,
    "start_time": "2023-01-12T17:25:28.808Z"
   },
   {
    "duration": 28,
    "start_time": "2023-01-12T17:26:33.924Z"
   },
   {
    "duration": 80,
    "start_time": "2023-01-12T17:30:45.255Z"
   },
   {
    "duration": 19,
    "start_time": "2023-01-12T17:30:50.452Z"
   },
   {
    "duration": 21,
    "start_time": "2023-01-12T17:31:19.117Z"
   },
   {
    "duration": 23,
    "start_time": "2023-01-12T17:31:27.600Z"
   },
   {
    "duration": 13,
    "start_time": "2023-01-12T17:31:47.153Z"
   },
   {
    "duration": 1499,
    "start_time": "2023-01-12T17:32:27.211Z"
   },
   {
    "duration": 721,
    "start_time": "2023-01-12T17:32:28.712Z"
   },
   {
    "duration": 24,
    "start_time": "2023-01-12T17:32:29.435Z"
   },
   {
    "duration": 18,
    "start_time": "2023-01-12T17:32:29.461Z"
   },
   {
    "duration": 254,
    "start_time": "2023-01-12T17:32:29.481Z"
   },
   {
    "duration": 20,
    "start_time": "2023-01-12T17:32:29.736Z"
   },
   {
    "duration": 12,
    "start_time": "2023-01-12T17:32:29.758Z"
   },
   {
    "duration": 147,
    "start_time": "2023-01-12T17:32:29.771Z"
   },
   {
    "duration": 21,
    "start_time": "2023-01-12T17:32:29.920Z"
   },
   {
    "duration": 20,
    "start_time": "2023-01-12T17:32:29.943Z"
   },
   {
    "duration": 270,
    "start_time": "2023-01-12T17:32:29.965Z"
   },
   {
    "duration": 16,
    "start_time": "2023-01-12T17:32:30.237Z"
   },
   {
    "duration": 80,
    "start_time": "2023-01-12T17:32:30.254Z"
   },
   {
    "duration": 49,
    "start_time": "2023-01-12T17:32:30.337Z"
   },
   {
    "duration": 45,
    "start_time": "2023-01-12T17:32:30.388Z"
   },
   {
    "duration": 39,
    "start_time": "2023-01-12T17:32:30.435Z"
   },
   {
    "duration": 55,
    "start_time": "2023-01-12T17:32:30.476Z"
   },
   {
    "duration": 123,
    "start_time": "2023-01-12T17:32:30.533Z"
   },
   {
    "duration": 218,
    "start_time": "2023-01-12T17:32:30.658Z"
   },
   {
    "duration": 286,
    "start_time": "2023-01-12T17:32:30.878Z"
   },
   {
    "duration": 23,
    "start_time": "2023-01-12T17:32:31.165Z"
   },
   {
    "duration": 64,
    "start_time": "2023-01-12T17:32:31.205Z"
   },
   {
    "duration": 7,
    "start_time": "2023-01-12T17:32:31.272Z"
   },
   {
    "duration": 191,
    "start_time": "2023-01-12T17:32:31.280Z"
   },
   {
    "duration": 7,
    "start_time": "2023-01-12T17:32:31.473Z"
   },
   {
    "duration": 160,
    "start_time": "2023-01-12T17:32:31.482Z"
   },
   {
    "duration": 7,
    "start_time": "2023-01-12T17:32:31.643Z"
   },
   {
    "duration": 166,
    "start_time": "2023-01-12T17:32:31.651Z"
   },
   {
    "duration": 619,
    "start_time": "2023-01-12T17:32:31.819Z"
   },
   {
    "duration": 4,
    "start_time": "2023-01-12T17:32:32.439Z"
   },
   {
    "duration": 22,
    "start_time": "2023-01-12T17:32:32.445Z"
   },
   {
    "duration": 1230,
    "start_time": "2023-01-12T17:32:32.469Z"
   },
   {
    "duration": 0,
    "start_time": "2023-01-12T17:32:33.701Z"
   },
   {
    "duration": 22,
    "start_time": "2023-01-12T17:32:57.194Z"
   },
   {
    "duration": 21,
    "start_time": "2023-01-12T17:33:21.629Z"
   },
   {
    "duration": 130,
    "start_time": "2023-01-12T17:33:31.977Z"
   },
   {
    "duration": 207,
    "start_time": "2023-01-12T17:34:02.604Z"
   },
   {
    "duration": 245,
    "start_time": "2023-01-12T17:34:20.661Z"
   },
   {
    "duration": 242,
    "start_time": "2023-01-12T17:35:27.474Z"
   },
   {
    "duration": 220,
    "start_time": "2023-01-12T17:35:38.993Z"
   },
   {
    "duration": 3,
    "start_time": "2023-01-12T17:36:14.297Z"
   },
   {
    "duration": 327,
    "start_time": "2023-01-12T17:36:35.986Z"
   },
   {
    "duration": 230,
    "start_time": "2023-01-12T17:36:50.275Z"
   },
   {
    "duration": 325,
    "start_time": "2023-01-12T17:37:30.887Z"
   },
   {
    "duration": 206,
    "start_time": "2023-01-12T17:37:49.900Z"
   },
   {
    "duration": 118,
    "start_time": "2023-01-12T17:37:58.293Z"
   },
   {
    "duration": 27,
    "start_time": "2023-01-12T17:43:09.112Z"
   },
   {
    "duration": 24,
    "start_time": "2023-01-12T17:44:43.141Z"
   },
   {
    "duration": 23,
    "start_time": "2023-01-12T17:44:54.862Z"
   },
   {
    "duration": 778,
    "start_time": "2023-01-12T17:45:14.731Z"
   },
   {
    "duration": 786,
    "start_time": "2023-01-12T17:45:54.285Z"
   },
   {
    "duration": 797,
    "start_time": "2023-01-12T17:46:02.251Z"
   },
   {
    "duration": 821,
    "start_time": "2023-01-12T17:46:09.855Z"
   },
   {
    "duration": 4,
    "start_time": "2023-01-12T17:47:09.481Z"
   },
   {
    "duration": 361,
    "start_time": "2023-01-12T17:47:11.445Z"
   },
   {
    "duration": 4,
    "start_time": "2023-01-12T17:47:32.071Z"
   },
   {
    "duration": 1442,
    "start_time": "2023-01-12T17:47:33.556Z"
   },
   {
    "duration": 4,
    "start_time": "2023-01-12T17:48:17.162Z"
   },
   {
    "duration": 5,
    "start_time": "2023-01-12T17:48:18.017Z"
   },
   {
    "duration": 1024,
    "start_time": "2023-01-12T17:48:20.381Z"
   },
   {
    "duration": 1425,
    "start_time": "2023-01-12T17:49:36.497Z"
   },
   {
    "duration": 1615,
    "start_time": "2023-01-12T17:49:52.899Z"
   },
   {
    "duration": 1586,
    "start_time": "2023-01-12T17:50:36.933Z"
   },
   {
    "duration": 1440,
    "start_time": "2023-01-12T17:52:48.066Z"
   },
   {
    "duration": 4,
    "start_time": "2023-01-12T17:54:28.958Z"
   },
   {
    "duration": 1552,
    "start_time": "2023-01-12T17:54:30.766Z"
   },
   {
    "duration": 1264,
    "start_time": "2023-01-12T17:54:36.944Z"
   },
   {
    "duration": 3,
    "start_time": "2023-01-12T17:56:19.772Z"
   },
   {
    "duration": 1435,
    "start_time": "2023-01-12T17:56:22.270Z"
   },
   {
    "duration": 5,
    "start_time": "2023-01-12T17:57:16.833Z"
   },
   {
    "duration": 1136,
    "start_time": "2023-01-12T17:57:18.768Z"
   },
   {
    "duration": 4,
    "start_time": "2023-01-12T17:58:06.603Z"
   },
   {
    "duration": 1205,
    "start_time": "2023-01-12T17:58:08.403Z"
   },
   {
    "duration": 11,
    "start_time": "2023-01-12T18:02:18.749Z"
   },
   {
    "duration": 24,
    "start_time": "2023-01-12T18:02:39.667Z"
   },
   {
    "duration": 58,
    "start_time": "2023-01-12T18:03:04.665Z"
   },
   {
    "duration": 60,
    "start_time": "2023-01-12T18:03:10.852Z"
   },
   {
    "duration": 0,
    "start_time": "2023-01-12T18:04:46.708Z"
   },
   {
    "duration": 0,
    "start_time": "2023-01-12T18:07:20.824Z"
   },
   {
    "duration": 27607,
    "start_time": "2023-01-12T18:07:26.480Z"
   },
   {
    "duration": 78,
    "start_time": "2023-01-12T18:09:13.019Z"
   },
   {
    "duration": 75,
    "start_time": "2023-01-12T18:09:16.122Z"
   },
   {
    "duration": 211837,
    "start_time": "2023-01-12T18:09:24.088Z"
   },
   {
    "duration": 12127,
    "start_time": "2023-01-12T18:12:55.927Z"
   },
   {
    "duration": 3534,
    "start_time": "2023-01-12T18:14:57.004Z"
   },
   {
    "duration": 3415,
    "start_time": "2023-01-12T18:15:20.248Z"
   },
   {
    "duration": 3563,
    "start_time": "2023-01-12T18:15:27.155Z"
   },
   {
    "duration": 11846,
    "start_time": "2023-01-12T18:15:49.768Z"
   },
   {
    "duration": 210119,
    "start_time": "2023-01-12T18:17:00.643Z"
   },
   {
    "duration": 217109,
    "start_time": "2023-01-12T18:24:01.714Z"
   },
   {
    "duration": 4,
    "start_time": "2023-01-12T18:27:38.825Z"
   },
   {
    "duration": 250,
    "start_time": "2023-01-12T18:27:56.237Z"
   },
   {
    "duration": 65645,
    "start_time": "2023-01-12T18:28:33.586Z"
   },
   {
    "duration": 3,
    "start_time": "2023-01-12T18:29:39.233Z"
   },
   {
    "duration": 286,
    "start_time": "2023-01-12T18:30:17.854Z"
   },
   {
    "duration": 1765,
    "start_time": "2023-01-12T18:30:25.795Z"
   },
   {
    "duration": 65209,
    "start_time": "2023-01-12T18:31:22.766Z"
   },
   {
    "duration": 29,
    "start_time": "2023-01-12T18:32:52.949Z"
   },
   {
    "duration": 98,
    "start_time": "2023-01-12T18:33:23.935Z"
   },
   {
    "duration": 11,
    "start_time": "2023-01-12T18:33:27.556Z"
   },
   {
    "duration": 41,
    "start_time": "2023-01-12T18:33:44.430Z"
   },
   {
    "duration": 10,
    "start_time": "2023-01-12T18:33:50.757Z"
   },
   {
    "duration": 5,
    "start_time": "2023-01-12T18:34:09.944Z"
   },
   {
    "duration": 44,
    "start_time": "2023-01-12T18:34:16.718Z"
   },
   {
    "duration": 13,
    "start_time": "2023-01-12T18:34:21.373Z"
   },
   {
    "duration": 6,
    "start_time": "2023-01-12T18:34:29.878Z"
   },
   {
    "duration": 6,
    "start_time": "2023-01-12T18:34:43.424Z"
   },
   {
    "duration": 8,
    "start_time": "2023-01-12T18:35:11.594Z"
   },
   {
    "duration": 3494,
    "start_time": "2023-01-12T18:35:31.170Z"
   },
   {
    "duration": 2472,
    "start_time": "2023-01-12T18:35:55.561Z"
   },
   {
    "duration": 39915,
    "start_time": "2023-01-12T18:37:01.812Z"
   },
   {
    "duration": 0,
    "start_time": "2023-01-12T18:37:41.735Z"
   },
   {
    "duration": 2007,
    "start_time": "2023-01-12T18:37:50.807Z"
   },
   {
    "duration": 33401,
    "start_time": "2023-01-12T18:38:12.340Z"
   },
   {
    "duration": 2436,
    "start_time": "2023-01-12T18:38:45.744Z"
   },
   {
    "duration": 5,
    "start_time": "2023-01-12T18:38:48.182Z"
   },
   {
    "duration": 9,
    "start_time": "2023-01-12T18:39:19.796Z"
   },
   {
    "duration": 1734,
    "start_time": "2023-01-12T18:40:32.044Z"
   },
   {
    "duration": 15,
    "start_time": "2023-01-12T18:41:22.557Z"
   },
   {
    "duration": 19,
    "start_time": "2023-01-12T18:42:00.119Z"
   },
   {
    "duration": 10,
    "start_time": "2023-01-12T18:43:07.433Z"
   },
   {
    "duration": 26,
    "start_time": "2023-01-12T18:44:38.445Z"
   },
   {
    "duration": 21,
    "start_time": "2023-01-12T18:44:54.015Z"
   },
   {
    "duration": 14,
    "start_time": "2023-01-12T18:45:10.042Z"
   },
   {
    "duration": 3,
    "start_time": "2023-01-12T18:45:25.246Z"
   },
   {
    "duration": 849,
    "start_time": "2023-01-12T18:45:25.776Z"
   },
   {
    "duration": 19,
    "start_time": "2023-01-12T18:45:26.627Z"
   },
   {
    "duration": 35,
    "start_time": "2023-01-12T18:45:26.648Z"
   },
   {
    "duration": 258,
    "start_time": "2023-01-12T18:45:26.686Z"
   },
   {
    "duration": 19,
    "start_time": "2023-01-12T18:45:26.946Z"
   },
   {
    "duration": 29,
    "start_time": "2023-01-12T18:45:26.966Z"
   },
   {
    "duration": 164,
    "start_time": "2023-01-12T18:45:26.997Z"
   },
   {
    "duration": 42,
    "start_time": "2023-01-12T18:45:27.163Z"
   },
   {
    "duration": 26,
    "start_time": "2023-01-12T18:45:27.207Z"
   },
   {
    "duration": 265,
    "start_time": "2023-01-12T18:45:27.236Z"
   },
   {
    "duration": 11,
    "start_time": "2023-01-12T18:45:27.503Z"
   },
   {
    "duration": 20,
    "start_time": "2023-01-12T18:45:27.516Z"
   },
   {
    "duration": 33,
    "start_time": "2023-01-12T18:45:27.538Z"
   },
   {
    "duration": 27,
    "start_time": "2023-01-12T18:45:27.572Z"
   },
   {
    "duration": 37,
    "start_time": "2023-01-12T18:45:27.601Z"
   },
   {
    "duration": 34,
    "start_time": "2023-01-12T18:45:27.640Z"
   },
   {
    "duration": 60,
    "start_time": "2023-01-12T18:45:27.676Z"
   },
   {
    "duration": 306,
    "start_time": "2023-01-12T18:45:27.740Z"
   },
   {
    "duration": 355,
    "start_time": "2023-01-12T18:45:28.049Z"
   },
   {
    "duration": 40,
    "start_time": "2023-01-12T18:45:28.407Z"
   },
   {
    "duration": 93,
    "start_time": "2023-01-12T18:45:28.627Z"
   },
   {
    "duration": 7,
    "start_time": "2023-01-12T18:45:28.773Z"
   },
   {
    "duration": 181,
    "start_time": "2023-01-12T18:45:28.799Z"
   },
   {
    "duration": 10,
    "start_time": "2023-01-12T18:45:28.982Z"
   },
   {
    "duration": 209,
    "start_time": "2023-01-12T18:45:28.993Z"
   },
   {
    "duration": 9,
    "start_time": "2023-01-12T18:45:29.209Z"
   },
   {
    "duration": 187,
    "start_time": "2023-01-12T18:45:29.220Z"
   },
   {
    "duration": 458,
    "start_time": "2023-01-12T18:45:29.722Z"
   },
   {
    "duration": 5,
    "start_time": "2023-01-12T18:45:35.055Z"
   },
   {
    "duration": 10,
    "start_time": "2023-01-12T18:45:37.554Z"
   },
   {
    "duration": 1133,
    "start_time": "2023-01-12T18:45:39.082Z"
   },
   {
    "duration": 1569,
    "start_time": "2023-01-12T18:45:57.939Z"
   },
   {
    "duration": 1671,
    "start_time": "2023-01-12T18:46:37.134Z"
   },
   {
    "duration": 10,
    "start_time": "2023-01-12T18:46:41.257Z"
   },
   {
    "duration": 10,
    "start_time": "2023-01-12T18:46:42.039Z"
   },
   {
    "duration": 10,
    "start_time": "2023-01-12T18:48:05.336Z"
   },
   {
    "duration": 18,
    "start_time": "2023-01-12T18:48:36.027Z"
   },
   {
    "duration": 22,
    "start_time": "2023-01-12T18:49:29.103Z"
   },
   {
    "duration": 21,
    "start_time": "2023-01-12T18:49:38.396Z"
   },
   {
    "duration": 19,
    "start_time": "2023-01-12T18:49:55.925Z"
   },
   {
    "duration": 17,
    "start_time": "2023-01-12T18:50:15.095Z"
   },
   {
    "duration": 10,
    "start_time": "2023-01-12T18:51:06.485Z"
   },
   {
    "duration": 15,
    "start_time": "2023-01-12T18:51:08.959Z"
   },
   {
    "duration": 1449,
    "start_time": "2023-01-12T19:00:33.232Z"
   },
   {
    "duration": 803,
    "start_time": "2023-01-12T19:00:34.683Z"
   },
   {
    "duration": 34,
    "start_time": "2023-01-12T19:00:35.488Z"
   },
   {
    "duration": 22,
    "start_time": "2023-01-12T19:00:35.524Z"
   },
   {
    "duration": 304,
    "start_time": "2023-01-12T19:00:35.549Z"
   },
   {
    "duration": 26,
    "start_time": "2023-01-12T19:00:35.856Z"
   },
   {
    "duration": 45,
    "start_time": "2023-01-12T19:00:35.884Z"
   },
   {
    "duration": 223,
    "start_time": "2023-01-12T19:00:35.931Z"
   },
   {
    "duration": 22,
    "start_time": "2023-01-12T19:00:36.156Z"
   },
   {
    "duration": 51,
    "start_time": "2023-01-12T19:00:36.180Z"
   },
   {
    "duration": 264,
    "start_time": "2023-01-12T19:00:36.233Z"
   },
   {
    "duration": 16,
    "start_time": "2023-01-12T19:00:36.499Z"
   },
   {
    "duration": 6,
    "start_time": "2023-01-12T19:00:36.517Z"
   },
   {
    "duration": 18,
    "start_time": "2023-01-12T19:00:36.527Z"
   },
   {
    "duration": 8,
    "start_time": "2023-01-12T19:00:36.547Z"
   },
   {
    "duration": 19,
    "start_time": "2023-01-12T19:00:36.557Z"
   },
   {
    "duration": 10,
    "start_time": "2023-01-12T19:00:36.578Z"
   },
   {
    "duration": 47,
    "start_time": "2023-01-12T19:00:36.604Z"
   },
   {
    "duration": 247,
    "start_time": "2023-01-12T19:00:36.653Z"
   },
   {
    "duration": 317,
    "start_time": "2023-01-12T19:00:36.902Z"
   },
   {
    "duration": 24,
    "start_time": "2023-01-12T19:00:37.221Z"
   },
   {
    "duration": 82,
    "start_time": "2023-01-12T19:00:37.247Z"
   },
   {
    "duration": 12,
    "start_time": "2023-01-12T19:00:37.331Z"
   },
   {
    "duration": 291,
    "start_time": "2023-01-12T19:00:37.344Z"
   },
   {
    "duration": 9,
    "start_time": "2023-01-12T19:00:37.638Z"
   },
   {
    "duration": 219,
    "start_time": "2023-01-12T19:00:37.650Z"
   },
   {
    "duration": 8,
    "start_time": "2023-01-12T19:00:37.872Z"
   },
   {
    "duration": 190,
    "start_time": "2023-01-12T19:00:37.881Z"
   },
   {
    "duration": 676,
    "start_time": "2023-01-12T19:00:38.073Z"
   },
   {
    "duration": 7,
    "start_time": "2023-01-12T19:00:38.751Z"
   },
   {
    "duration": 15,
    "start_time": "2023-01-12T19:00:38.760Z"
   },
   {
    "duration": 685,
    "start_time": "2023-01-12T19:00:38.778Z"
   },
   {
    "duration": 0,
    "start_time": "2023-01-12T19:00:39.465Z"
   },
   {
    "duration": 0,
    "start_time": "2023-01-12T19:00:39.469Z"
   },
   {
    "duration": 0,
    "start_time": "2023-01-12T19:00:39.470Z"
   },
   {
    "duration": 0,
    "start_time": "2023-01-12T19:00:39.471Z"
   },
   {
    "duration": 3,
    "start_time": "2023-01-12T19:02:13.350Z"
   },
   {
    "duration": 1561,
    "start_time": "2023-01-12T19:02:25.590Z"
   },
   {
    "duration": 826,
    "start_time": "2023-01-12T19:02:27.153Z"
   },
   {
    "duration": 35,
    "start_time": "2023-01-12T19:02:27.981Z"
   },
   {
    "duration": 20,
    "start_time": "2023-01-12T19:02:28.018Z"
   },
   {
    "duration": 281,
    "start_time": "2023-01-12T19:02:28.040Z"
   },
   {
    "duration": 32,
    "start_time": "2023-01-12T19:02:28.323Z"
   },
   {
    "duration": 20,
    "start_time": "2023-01-12T19:02:28.356Z"
   },
   {
    "duration": 154,
    "start_time": "2023-01-12T19:02:28.378Z"
   },
   {
    "duration": 23,
    "start_time": "2023-01-12T19:02:28.534Z"
   },
   {
    "duration": 27,
    "start_time": "2023-01-12T19:02:28.559Z"
   },
   {
    "duration": 269,
    "start_time": "2023-01-12T19:02:28.589Z"
   },
   {
    "duration": 16,
    "start_time": "2023-01-12T19:02:28.860Z"
   },
   {
    "duration": 10,
    "start_time": "2023-01-12T19:02:28.878Z"
   },
   {
    "duration": 19,
    "start_time": "2023-01-12T19:02:28.905Z"
   },
   {
    "duration": 16,
    "start_time": "2023-01-12T19:02:28.926Z"
   },
   {
    "duration": 20,
    "start_time": "2023-01-12T19:02:28.944Z"
   },
   {
    "duration": 13,
    "start_time": "2023-01-12T19:02:28.966Z"
   },
   {
    "duration": 51,
    "start_time": "2023-01-12T19:02:28.981Z"
   },
   {
    "duration": 244,
    "start_time": "2023-01-12T19:02:29.034Z"
   },
   {
    "duration": 330,
    "start_time": "2023-01-12T19:02:29.280Z"
   },
   {
    "duration": 24,
    "start_time": "2023-01-12T19:02:29.612Z"
   },
   {
    "duration": 88,
    "start_time": "2023-01-12T19:02:29.638Z"
   },
   {
    "duration": 7,
    "start_time": "2023-01-12T19:02:29.728Z"
   },
   {
    "duration": 173,
    "start_time": "2023-01-12T19:02:29.737Z"
   },
   {
    "duration": 7,
    "start_time": "2023-01-12T19:02:29.911Z"
   },
   {
    "duration": 166,
    "start_time": "2023-01-12T19:02:29.920Z"
   },
   {
    "duration": 19,
    "start_time": "2023-01-12T19:02:30.088Z"
   },
   {
    "duration": 319,
    "start_time": "2023-01-12T19:02:30.109Z"
   },
   {
    "duration": 915,
    "start_time": "2023-01-12T19:02:30.430Z"
   },
   {
    "duration": 5,
    "start_time": "2023-01-12T19:02:31.347Z"
   },
   {
    "duration": 8,
    "start_time": "2023-01-12T19:02:31.405Z"
   },
   {
    "duration": 2189,
    "start_time": "2023-01-12T19:02:31.415Z"
   },
   {
    "duration": 637,
    "start_time": "2023-01-12T19:02:33.606Z"
   },
   {
    "duration": 0,
    "start_time": "2023-01-12T19:02:34.245Z"
   },
   {
    "duration": 0,
    "start_time": "2023-01-12T19:02:34.246Z"
   },
   {
    "duration": 0,
    "start_time": "2023-01-12T19:02:34.247Z"
   },
   {
    "duration": 1436,
    "start_time": "2023-01-12T19:03:02.982Z"
   },
   {
    "duration": 719,
    "start_time": "2023-01-12T19:03:04.420Z"
   },
   {
    "duration": 26,
    "start_time": "2023-01-12T19:03:05.140Z"
   },
   {
    "duration": 52,
    "start_time": "2023-01-12T19:03:05.167Z"
   },
   {
    "duration": 303,
    "start_time": "2023-01-12T19:03:05.222Z"
   },
   {
    "duration": 22,
    "start_time": "2023-01-12T19:03:05.527Z"
   },
   {
    "duration": 54,
    "start_time": "2023-01-12T19:03:05.550Z"
   },
   {
    "duration": 196,
    "start_time": "2023-01-12T19:03:05.605Z"
   },
   {
    "duration": 38,
    "start_time": "2023-01-12T19:03:05.804Z"
   },
   {
    "duration": 26,
    "start_time": "2023-01-12T19:03:05.843Z"
   },
   {
    "duration": 323,
    "start_time": "2023-01-12T19:03:05.871Z"
   },
   {
    "duration": 19,
    "start_time": "2023-01-12T19:03:06.196Z"
   },
   {
    "duration": 104,
    "start_time": "2023-01-12T19:03:06.217Z"
   },
   {
    "duration": 36,
    "start_time": "2023-01-12T19:03:06.324Z"
   },
   {
    "duration": 41,
    "start_time": "2023-01-12T19:03:06.362Z"
   },
   {
    "duration": 119,
    "start_time": "2023-01-12T19:03:06.405Z"
   },
   {
    "duration": 108,
    "start_time": "2023-01-12T19:03:06.525Z"
   },
   {
    "duration": 68,
    "start_time": "2023-01-12T19:03:06.635Z"
   },
   {
    "duration": 251,
    "start_time": "2023-01-12T19:03:06.704Z"
   },
   {
    "duration": 305,
    "start_time": "2023-01-12T19:03:06.956Z"
   },
   {
    "duration": 23,
    "start_time": "2023-01-12T19:03:07.263Z"
   },
   {
    "duration": 206,
    "start_time": "2023-01-12T19:03:07.287Z"
   },
   {
    "duration": 8,
    "start_time": "2023-01-12T19:03:07.494Z"
   },
   {
    "duration": 224,
    "start_time": "2023-01-12T19:03:07.505Z"
   },
   {
    "duration": 7,
    "start_time": "2023-01-12T19:03:07.731Z"
   },
   {
    "duration": 191,
    "start_time": "2023-01-12T19:03:07.740Z"
   },
   {
    "duration": 6,
    "start_time": "2023-01-12T19:03:07.933Z"
   },
   {
    "duration": 169,
    "start_time": "2023-01-12T19:03:07.941Z"
   },
   {
    "duration": 525,
    "start_time": "2023-01-12T19:03:08.112Z"
   },
   {
    "duration": 4,
    "start_time": "2023-01-12T19:03:08.638Z"
   },
   {
    "duration": 46,
    "start_time": "2023-01-12T19:03:08.644Z"
   },
   {
    "duration": 1219,
    "start_time": "2023-01-12T19:03:08.692Z"
   },
   {
    "duration": 32960,
    "start_time": "2023-01-12T19:03:09.913Z"
   },
   {
    "duration": 1617,
    "start_time": "2023-01-12T19:03:42.875Z"
   },
   {
    "duration": 123,
    "start_time": "2023-01-12T19:03:44.493Z"
   },
   {
    "duration": 0,
    "start_time": "2023-01-12T19:03:44.617Z"
   },
   {
    "duration": 10,
    "start_time": "2023-01-12T19:05:05.410Z"
   },
   {
    "duration": 15,
    "start_time": "2023-01-12T19:05:07.321Z"
   },
   {
    "duration": 4179,
    "start_time": "2023-01-13T14:46:26.439Z"
   },
   {
    "duration": 3186,
    "start_time": "2023-01-13T14:46:30.620Z"
   },
   {
    "duration": 26,
    "start_time": "2023-01-13T14:46:33.807Z"
   },
   {
    "duration": 30,
    "start_time": "2023-01-13T14:46:33.836Z"
   },
   {
    "duration": 306,
    "start_time": "2023-01-13T14:46:33.868Z"
   },
   {
    "duration": 21,
    "start_time": "2023-01-13T14:46:34.177Z"
   },
   {
    "duration": 19,
    "start_time": "2023-01-13T14:46:34.200Z"
   },
   {
    "duration": 168,
    "start_time": "2023-01-13T14:46:34.221Z"
   },
   {
    "duration": 20,
    "start_time": "2023-01-13T14:46:34.391Z"
   },
   {
    "duration": 46,
    "start_time": "2023-01-13T14:46:34.414Z"
   },
   {
    "duration": 305,
    "start_time": "2023-01-13T14:46:34.462Z"
   },
   {
    "duration": 15,
    "start_time": "2023-01-13T14:46:34.769Z"
   },
   {
    "duration": 3,
    "start_time": "2023-01-13T14:46:34.786Z"
   },
   {
    "duration": 20,
    "start_time": "2023-01-13T14:46:34.791Z"
   },
   {
    "duration": 11,
    "start_time": "2023-01-13T14:46:34.813Z"
   },
   {
    "duration": 31,
    "start_time": "2023-01-13T14:46:34.825Z"
   },
   {
    "duration": 15,
    "start_time": "2023-01-13T14:46:34.858Z"
   },
   {
    "duration": 54,
    "start_time": "2023-01-13T14:46:34.875Z"
   },
   {
    "duration": 214,
    "start_time": "2023-01-13T14:46:34.931Z"
   },
   {
    "duration": 354,
    "start_time": "2023-01-13T14:46:35.147Z"
   },
   {
    "duration": 37,
    "start_time": "2023-01-13T14:46:35.503Z"
   },
   {
    "duration": 82,
    "start_time": "2023-01-13T14:46:35.544Z"
   },
   {
    "duration": 7,
    "start_time": "2023-01-13T14:46:35.628Z"
   },
   {
    "duration": 198,
    "start_time": "2023-01-13T14:46:35.637Z"
   },
   {
    "duration": 16,
    "start_time": "2023-01-13T14:46:35.842Z"
   },
   {
    "duration": 173,
    "start_time": "2023-01-13T14:46:35.861Z"
   },
   {
    "duration": 8,
    "start_time": "2023-01-13T14:46:36.038Z"
   },
   {
    "duration": 179,
    "start_time": "2023-01-13T14:46:36.051Z"
   },
   {
    "duration": 571,
    "start_time": "2023-01-13T14:46:36.240Z"
   },
   {
    "duration": 5,
    "start_time": "2023-01-13T14:46:36.813Z"
   },
   {
    "duration": 27,
    "start_time": "2023-01-13T14:46:36.820Z"
   },
   {
    "duration": 12,
    "start_time": "2023-01-13T14:46:36.850Z"
   },
   {
    "duration": 15,
    "start_time": "2023-01-13T14:46:54.615Z"
   },
   {
    "duration": 10,
    "start_time": "2023-01-13T14:50:40.297Z"
   },
   {
    "duration": 43,
    "start_time": "2023-01-13T20:16:13.704Z"
   },
   {
    "duration": 1718,
    "start_time": "2023-01-13T20:16:29.731Z"
   },
   {
    "duration": 3319,
    "start_time": "2023-01-13T20:16:31.451Z"
   },
   {
    "duration": 34,
    "start_time": "2023-01-13T20:16:34.772Z"
   },
   {
    "duration": 18,
    "start_time": "2023-01-13T20:16:34.808Z"
   },
   {
    "duration": 273,
    "start_time": "2023-01-13T20:16:34.827Z"
   },
   {
    "duration": 20,
    "start_time": "2023-01-13T20:16:35.102Z"
   },
   {
    "duration": 16,
    "start_time": "2023-01-13T20:16:35.124Z"
   },
   {
    "duration": 137,
    "start_time": "2023-01-13T20:16:35.142Z"
   },
   {
    "duration": 22,
    "start_time": "2023-01-13T20:16:35.281Z"
   },
   {
    "duration": 18,
    "start_time": "2023-01-13T20:16:35.305Z"
   },
   {
    "duration": 262,
    "start_time": "2023-01-13T20:16:35.325Z"
   },
   {
    "duration": 17,
    "start_time": "2023-01-13T20:16:35.590Z"
   },
   {
    "duration": 3,
    "start_time": "2023-01-13T20:16:35.609Z"
   },
   {
    "duration": 10,
    "start_time": "2023-01-13T20:16:35.613Z"
   },
   {
    "duration": 5,
    "start_time": "2023-01-13T20:16:35.624Z"
   },
   {
    "duration": 7,
    "start_time": "2023-01-13T20:16:35.630Z"
   },
   {
    "duration": 7,
    "start_time": "2023-01-13T20:16:35.638Z"
   },
   {
    "duration": 72,
    "start_time": "2023-01-13T20:16:35.646Z"
   },
   {
    "duration": 247,
    "start_time": "2023-01-13T20:16:35.719Z"
   },
   {
    "duration": 17,
    "start_time": "2023-01-13T20:16:46.441Z"
   },
   {
    "duration": 96,
    "start_time": "2023-01-13T20:16:53.566Z"
   },
   {
    "duration": 23,
    "start_time": "2023-01-13T20:16:58.966Z"
   },
   {
    "duration": 17,
    "start_time": "2023-01-13T20:19:49.428Z"
   },
   {
    "duration": 25,
    "start_time": "2023-01-13T20:20:29.013Z"
   },
   {
    "duration": 68,
    "start_time": "2023-01-13T20:20:30.357Z"
   },
   {
    "duration": 24,
    "start_time": "2023-01-13T20:20:57.265Z"
   },
   {
    "duration": 74,
    "start_time": "2023-01-13T20:21:06.941Z"
   },
   {
    "duration": 11,
    "start_time": "2023-01-13T20:21:16.864Z"
   },
   {
    "duration": 10,
    "start_time": "2023-01-13T20:21:20.083Z"
   },
   {
    "duration": 64,
    "start_time": "2023-01-13T20:21:20.531Z"
   },
   {
    "duration": 9,
    "start_time": "2023-01-13T20:22:01.596Z"
   },
   {
    "duration": 10,
    "start_time": "2023-01-13T20:22:02.675Z"
   },
   {
    "duration": 186,
    "start_time": "2023-01-13T20:22:02.831Z"
   },
   {
    "duration": 8,
    "start_time": "2023-01-13T20:22:04.296Z"
   },
   {
    "duration": 6,
    "start_time": "2023-01-13T20:22:16.039Z"
   },
   {
    "duration": 6,
    "start_time": "2023-01-13T20:22:16.535Z"
   },
   {
    "duration": 151,
    "start_time": "2023-01-13T20:22:16.692Z"
   },
   {
    "duration": 7,
    "start_time": "2023-01-13T20:22:31.621Z"
   },
   {
    "duration": 7,
    "start_time": "2023-01-13T20:22:32.261Z"
   },
   {
    "duration": 140,
    "start_time": "2023-01-13T20:22:32.419Z"
   },
   {
    "duration": 5,
    "start_time": "2023-01-13T20:24:40.476Z"
   },
   {
    "duration": 256,
    "start_time": "2023-01-13T20:24:43.752Z"
   },
   {
    "duration": 14,
    "start_time": "2023-01-13T20:24:53.994Z"
   },
   {
    "duration": 10,
    "start_time": "2023-01-13T20:25:18.359Z"
   },
   {
    "duration": 6,
    "start_time": "2023-01-13T20:25:37.439Z"
   },
   {
    "duration": 146,
    "start_time": "2023-01-13T20:25:41.782Z"
   },
   {
    "duration": 180,
    "start_time": "2023-01-13T20:26:03.404Z"
   },
   {
    "duration": 8,
    "start_time": "2023-01-13T20:26:04.934Z"
   },
   {
    "duration": 195,
    "start_time": "2023-01-13T20:26:05.069Z"
   },
   {
    "duration": 7,
    "start_time": "2023-01-13T20:26:39.067Z"
   },
   {
    "duration": 148,
    "start_time": "2023-01-13T20:26:39.224Z"
   },
   {
    "duration": 9,
    "start_time": "2023-01-13T20:26:49.287Z"
   },
   {
    "duration": 171,
    "start_time": "2023-01-13T20:26:49.438Z"
   },
   {
    "duration": 7,
    "start_time": "2023-01-13T20:27:52.012Z"
   },
   {
    "duration": 145,
    "start_time": "2023-01-13T20:27:52.170Z"
   },
   {
    "duration": 6,
    "start_time": "2023-01-13T20:27:52.462Z"
   },
   {
    "duration": 139,
    "start_time": "2023-01-13T20:27:52.597Z"
   },
   {
    "duration": 10,
    "start_time": "2023-01-13T20:27:52.867Z"
   },
   {
    "duration": 158,
    "start_time": "2023-01-13T20:27:53.001Z"
   },
   {
    "duration": 7,
    "start_time": "2023-01-13T20:27:53.272Z"
   },
   {
    "duration": 144,
    "start_time": "2023-01-13T20:27:53.406Z"
   },
   {
    "duration": 93,
    "start_time": "2023-01-13T20:37:26.804Z"
   },
   {
    "duration": 3,
    "start_time": "2023-01-13T20:43:38.855Z"
   },
   {
    "duration": 11,
    "start_time": "2023-01-13T20:46:31.307Z"
   },
   {
    "duration": 10,
    "start_time": "2023-01-13T20:46:35.131Z"
   },
   {
    "duration": 9,
    "start_time": "2023-01-13T20:46:48.316Z"
   },
   {
    "duration": 7,
    "start_time": "2023-01-13T20:46:51.181Z"
   },
   {
    "duration": 901,
    "start_time": "2023-01-13T20:46:53.177Z"
   },
   {
    "duration": 4,
    "start_time": "2023-01-13T20:47:35.569Z"
   },
   {
    "duration": 9,
    "start_time": "2023-01-13T20:47:40.134Z"
   },
   {
    "duration": 3,
    "start_time": "2023-01-13T20:48:12.311Z"
   },
   {
    "duration": 1100,
    "start_time": "2023-01-13T20:48:18.881Z"
   },
   {
    "duration": 3,
    "start_time": "2023-01-13T20:49:04.895Z"
   },
   {
    "duration": 679,
    "start_time": "2023-01-13T20:49:05.186Z"
   },
   {
    "duration": 24,
    "start_time": "2023-01-13T20:49:05.867Z"
   },
   {
    "duration": 20,
    "start_time": "2023-01-13T20:49:05.893Z"
   },
   {
    "duration": 255,
    "start_time": "2023-01-13T20:49:05.916Z"
   },
   {
    "duration": 21,
    "start_time": "2023-01-13T20:49:06.177Z"
   },
   {
    "duration": 19,
    "start_time": "2023-01-13T20:49:06.201Z"
   },
   {
    "duration": 136,
    "start_time": "2023-01-13T20:49:06.222Z"
   },
   {
    "duration": 23,
    "start_time": "2023-01-13T20:49:06.360Z"
   },
   {
    "duration": 102,
    "start_time": "2023-01-13T20:49:06.468Z"
   },
   {
    "duration": 230,
    "start_time": "2023-01-13T20:49:06.632Z"
   },
   {
    "duration": 13,
    "start_time": "2023-01-13T20:49:07.189Z"
   },
   {
    "duration": 4,
    "start_time": "2023-01-13T20:49:07.345Z"
   },
   {
    "duration": 8,
    "start_time": "2023-01-13T20:49:07.503Z"
   },
   {
    "duration": 5,
    "start_time": "2023-01-13T20:49:07.795Z"
   },
   {
    "duration": 4,
    "start_time": "2023-01-13T20:49:07.933Z"
   },
   {
    "duration": 4,
    "start_time": "2023-01-13T20:49:08.650Z"
   },
   {
    "duration": 45,
    "start_time": "2023-01-13T20:49:09.393Z"
   },
   {
    "duration": 240,
    "start_time": "2023-01-13T20:49:09.821Z"
   },
   {
    "duration": 279,
    "start_time": "2023-01-13T20:49:10.064Z"
   },
   {
    "duration": 13,
    "start_time": "2023-01-13T20:49:10.345Z"
   },
   {
    "duration": 10,
    "start_time": "2023-01-13T20:49:11.147Z"
   },
   {
    "duration": 61,
    "start_time": "2023-01-13T20:49:11.463Z"
   },
   {
    "duration": 7,
    "start_time": "2023-01-13T20:49:12.025Z"
   },
   {
    "duration": 144,
    "start_time": "2023-01-13T20:49:12.160Z"
   },
   {
    "duration": 6,
    "start_time": "2023-01-13T20:49:12.477Z"
   },
   {
    "duration": 141,
    "start_time": "2023-01-13T20:49:12.611Z"
   },
   {
    "duration": 6,
    "start_time": "2023-01-13T20:49:12.925Z"
   },
   {
    "duration": 172,
    "start_time": "2023-01-13T20:49:13.059Z"
   },
   {
    "duration": 6,
    "start_time": "2023-01-13T20:49:13.533Z"
   },
   {
    "duration": 139,
    "start_time": "2023-01-13T20:49:13.690Z"
   },
   {
    "duration": 368,
    "start_time": "2023-01-13T20:49:14.524Z"
   },
   {
    "duration": 4,
    "start_time": "2023-01-13T20:49:16.841Z"
   },
   {
    "duration": 6,
    "start_time": "2023-01-13T20:49:17.786Z"
   },
   {
    "duration": 1556,
    "start_time": "2023-01-13T20:49:18.123Z"
   },
   {
    "duration": 897,
    "start_time": "2023-01-13T20:49:19.684Z"
   },
   {
    "duration": 4,
    "start_time": "2023-01-13T20:50:15.531Z"
   },
   {
    "duration": 12,
    "start_time": "2023-01-13T20:50:23.282Z"
   },
   {
    "duration": 3,
    "start_time": "2023-01-13T20:50:27.727Z"
   },
   {
    "duration": 648,
    "start_time": "2023-01-13T20:50:27.963Z"
   },
   {
    "duration": 20,
    "start_time": "2023-01-13T20:50:28.614Z"
   },
   {
    "duration": 16,
    "start_time": "2023-01-13T20:50:28.635Z"
   },
   {
    "duration": 204,
    "start_time": "2023-01-13T20:50:28.784Z"
   },
   {
    "duration": 18,
    "start_time": "2023-01-13T20:50:28.990Z"
   },
   {
    "duration": 14,
    "start_time": "2023-01-13T20:50:29.010Z"
   },
   {
    "duration": 131,
    "start_time": "2023-01-13T20:50:29.026Z"
   },
   {
    "duration": 27,
    "start_time": "2023-01-13T20:50:29.159Z"
   },
   {
    "duration": 19,
    "start_time": "2023-01-13T20:50:29.188Z"
   },
   {
    "duration": 249,
    "start_time": "2023-01-13T20:50:29.209Z"
   },
   {
    "duration": 23,
    "start_time": "2023-01-13T20:50:29.461Z"
   },
   {
    "duration": 3,
    "start_time": "2023-01-13T20:50:29.485Z"
   },
   {
    "duration": 12,
    "start_time": "2023-01-13T20:50:29.489Z"
   },
   {
    "duration": 4,
    "start_time": "2023-01-13T20:50:29.502Z"
   },
   {
    "duration": 8,
    "start_time": "2023-01-13T20:50:29.507Z"
   },
   {
    "duration": 4,
    "start_time": "2023-01-13T20:50:29.517Z"
   },
   {
    "duration": 35,
    "start_time": "2023-01-13T20:50:29.615Z"
   },
   {
    "duration": 190,
    "start_time": "2023-01-13T20:50:29.715Z"
   },
   {
    "duration": 278,
    "start_time": "2023-01-13T20:50:29.907Z"
   },
   {
    "duration": 14,
    "start_time": "2023-01-13T20:50:30.186Z"
   },
   {
    "duration": 8,
    "start_time": "2023-01-13T20:50:30.201Z"
   },
   {
    "duration": 76,
    "start_time": "2023-01-13T20:50:30.211Z"
   },
   {
    "duration": 6,
    "start_time": "2023-01-13T20:50:30.289Z"
   },
   {
    "duration": 162,
    "start_time": "2023-01-13T20:50:30.296Z"
   },
   {
    "duration": 7,
    "start_time": "2023-01-13T20:50:30.460Z"
   },
   {
    "duration": 139,
    "start_time": "2023-01-13T20:50:30.477Z"
   },
   {
    "duration": 7,
    "start_time": "2023-01-13T20:50:30.618Z"
   },
   {
    "duration": 149,
    "start_time": "2023-01-13T20:50:30.626Z"
   },
   {
    "duration": 6,
    "start_time": "2023-01-13T20:50:30.798Z"
   },
   {
    "duration": 244,
    "start_time": "2023-01-13T20:50:31.001Z"
   },
   {
    "duration": 372,
    "start_time": "2023-01-13T20:50:31.902Z"
   },
   {
    "duration": 4,
    "start_time": "2023-01-13T20:50:36.289Z"
   },
   {
    "duration": 6,
    "start_time": "2023-01-13T20:50:39.551Z"
   },
   {
    "duration": 1567,
    "start_time": "2023-01-13T20:50:40.811Z"
   },
   {
    "duration": 965,
    "start_time": "2023-01-13T20:50:44.771Z"
   },
   {
    "duration": 11,
    "start_time": "2023-01-13T21:12:05.143Z"
   },
   {
    "duration": 11,
    "start_time": "2023-01-13T21:12:16.505Z"
   },
   {
    "duration": 611,
    "start_time": "2023-01-13T21:13:08.774Z"
   },
   {
    "duration": 745,
    "start_time": "2023-01-13T21:13:18.134Z"
   },
   {
    "duration": 821,
    "start_time": "2023-01-13T21:13:29.496Z"
   },
   {
    "duration": 664,
    "start_time": "2023-01-13T21:16:02.116Z"
   },
   {
    "duration": 988,
    "start_time": "2023-01-13T21:17:39.991Z"
   },
   {
    "duration": 5,
    "start_time": "2023-01-13T21:25:07.184Z"
   },
   {
    "duration": 916,
    "start_time": "2023-01-13T21:25:19.064Z"
   },
   {
    "duration": 945,
    "start_time": "2023-01-13T21:25:26.334Z"
   },
   {
    "duration": 888,
    "start_time": "2023-01-13T21:25:31.190Z"
   },
   {
    "duration": 631,
    "start_time": "2023-01-13T21:25:37.264Z"
   },
   {
    "duration": 2293,
    "start_time": "2023-01-13T21:26:42.494Z"
   },
   {
    "duration": 1165,
    "start_time": "2023-01-13T21:26:52.713Z"
   },
   {
    "duration": 362428,
    "start_time": "2023-01-13T21:31:08.064Z"
   },
   {
    "duration": 69,
    "start_time": "2023-01-13T21:42:04.214Z"
   },
   {
    "duration": 7,
    "start_time": "2023-01-13T21:42:07.339Z"
   },
   {
    "duration": 902,
    "start_time": "2023-01-13T21:43:41.481Z"
   },
   {
    "duration": 12,
    "start_time": "2023-01-13T21:44:26.502Z"
   },
   {
    "duration": 4,
    "start_time": "2023-01-13T21:44:39.193Z"
   },
   {
    "duration": 3,
    "start_time": "2023-01-13T21:44:44.266Z"
   },
   {
    "duration": 706,
    "start_time": "2023-01-13T21:44:44.331Z"
   },
   {
    "duration": 23,
    "start_time": "2023-01-13T21:44:45.039Z"
   },
   {
    "duration": 33,
    "start_time": "2023-01-13T21:44:45.064Z"
   },
   {
    "duration": 253,
    "start_time": "2023-01-13T21:44:45.099Z"
   },
   {
    "duration": 25,
    "start_time": "2023-01-13T21:44:45.354Z"
   },
   {
    "duration": 18,
    "start_time": "2023-01-13T21:44:45.380Z"
   },
   {
    "duration": 131,
    "start_time": "2023-01-13T21:44:45.399Z"
   },
   {
    "duration": 20,
    "start_time": "2023-01-13T21:44:45.532Z"
   },
   {
    "duration": 30,
    "start_time": "2023-01-13T21:44:45.554Z"
   },
   {
    "duration": 260,
    "start_time": "2023-01-13T21:44:45.587Z"
   },
   {
    "duration": 11,
    "start_time": "2023-01-13T21:44:45.849Z"
   },
   {
    "duration": 4,
    "start_time": "2023-01-13T21:44:45.862Z"
   },
   {
    "duration": 7,
    "start_time": "2023-01-13T21:44:45.878Z"
   },
   {
    "duration": 7,
    "start_time": "2023-01-13T21:44:45.886Z"
   },
   {
    "duration": 7,
    "start_time": "2023-01-13T21:44:45.894Z"
   },
   {
    "duration": 5,
    "start_time": "2023-01-13T21:44:45.903Z"
   },
   {
    "duration": 35,
    "start_time": "2023-01-13T21:44:48.238Z"
   },
   {
    "duration": 213,
    "start_time": "2023-01-13T21:44:52.797Z"
   },
   {
    "duration": 15,
    "start_time": "2023-01-13T21:45:15.059Z"
   },
   {
    "duration": 187,
    "start_time": "2023-01-13T21:45:17.241Z"
   },
   {
    "duration": 277,
    "start_time": "2023-01-13T21:45:18.731Z"
   },
   {
    "duration": 62,
    "start_time": "2023-01-13T21:45:24.598Z"
   },
   {
    "duration": 7,
    "start_time": "2023-01-13T21:45:25.201Z"
   },
   {
    "duration": 153,
    "start_time": "2023-01-13T21:45:25.246Z"
   },
   {
    "duration": 7,
    "start_time": "2023-01-13T21:45:25.401Z"
   },
   {
    "duration": 153,
    "start_time": "2023-01-13T21:45:25.409Z"
   },
   {
    "duration": 17,
    "start_time": "2023-01-13T21:45:25.564Z"
   },
   {
    "duration": 155,
    "start_time": "2023-01-13T21:45:25.583Z"
   },
   {
    "duration": 9,
    "start_time": "2023-01-13T21:45:25.739Z"
   },
   {
    "duration": 163,
    "start_time": "2023-01-13T21:45:25.749Z"
   },
   {
    "duration": 363,
    "start_time": "2023-01-13T21:45:25.915Z"
   },
   {
    "duration": 5,
    "start_time": "2023-01-13T21:45:26.280Z"
   },
   {
    "duration": 14,
    "start_time": "2023-01-13T21:45:26.287Z"
   },
   {
    "duration": 775,
    "start_time": "2023-01-13T21:45:26.805Z"
   },
   {
    "duration": 1353,
    "start_time": "2023-01-13T21:51:13.336Z"
   },
   {
    "duration": 690,
    "start_time": "2023-01-13T21:51:14.690Z"
   },
   {
    "duration": 25,
    "start_time": "2023-01-13T21:51:15.382Z"
   },
   {
    "duration": 18,
    "start_time": "2023-01-13T21:51:15.409Z"
   },
   {
    "duration": 252,
    "start_time": "2023-01-13T21:51:15.429Z"
   },
   {
    "duration": 19,
    "start_time": "2023-01-13T21:51:15.682Z"
   },
   {
    "duration": 12,
    "start_time": "2023-01-13T21:51:15.703Z"
   },
   {
    "duration": 141,
    "start_time": "2023-01-13T21:51:15.717Z"
   },
   {
    "duration": 27,
    "start_time": "2023-01-13T21:51:15.859Z"
   },
   {
    "duration": 21,
    "start_time": "2023-01-13T21:51:15.888Z"
   },
   {
    "duration": 260,
    "start_time": "2023-01-13T21:51:15.911Z"
   },
   {
    "duration": 15,
    "start_time": "2023-01-13T21:51:16.177Z"
   },
   {
    "duration": 3,
    "start_time": "2023-01-13T21:51:16.194Z"
   },
   {
    "duration": 16,
    "start_time": "2023-01-13T21:51:16.201Z"
   },
   {
    "duration": 8,
    "start_time": "2023-01-13T21:51:16.219Z"
   },
   {
    "duration": 17,
    "start_time": "2023-01-13T21:51:16.229Z"
   },
   {
    "duration": 8,
    "start_time": "2023-01-13T21:51:16.247Z"
   },
   {
    "duration": 57,
    "start_time": "2023-01-13T21:51:16.257Z"
   },
   {
    "duration": 22,
    "start_time": "2023-01-13T21:51:16.316Z"
   },
   {
    "duration": 232,
    "start_time": "2023-01-13T21:51:16.340Z"
   },
   {
    "duration": 273,
    "start_time": "2023-01-13T21:51:16.573Z"
   },
   {
    "duration": 66,
    "start_time": "2023-01-13T21:51:16.848Z"
   },
   {
    "duration": 7,
    "start_time": "2023-01-13T21:51:16.916Z"
   },
   {
    "duration": 182,
    "start_time": "2023-01-13T21:51:16.925Z"
   },
   {
    "duration": 8,
    "start_time": "2023-01-13T21:51:17.109Z"
   },
   {
    "duration": 151,
    "start_time": "2023-01-13T21:51:17.119Z"
   },
   {
    "duration": 9,
    "start_time": "2023-01-13T21:51:17.272Z"
   },
   {
    "duration": 143,
    "start_time": "2023-01-13T21:51:17.283Z"
   },
   {
    "duration": 7,
    "start_time": "2023-01-13T21:51:17.428Z"
   },
   {
    "duration": 219,
    "start_time": "2023-01-13T21:51:17.436Z"
   },
   {
    "duration": 430,
    "start_time": "2023-01-13T21:51:17.657Z"
   },
   {
    "duration": 5,
    "start_time": "2023-01-13T21:51:18.088Z"
   },
   {
    "duration": 130,
    "start_time": "2023-01-13T21:51:18.094Z"
   },
   {
    "duration": 0,
    "start_time": "2023-01-13T21:51:18.226Z"
   },
   {
    "duration": 0,
    "start_time": "2023-01-13T21:51:18.227Z"
   },
   {
    "duration": 0,
    "start_time": "2023-01-13T21:51:18.228Z"
   },
   {
    "duration": 0,
    "start_time": "2023-01-13T21:51:18.229Z"
   },
   {
    "duration": 0,
    "start_time": "2023-01-13T21:51:18.230Z"
   },
   {
    "duration": 0,
    "start_time": "2023-01-13T21:51:18.231Z"
   },
   {
    "duration": 0,
    "start_time": "2023-01-13T21:51:18.232Z"
   },
   {
    "duration": 0,
    "start_time": "2023-01-13T21:51:18.233Z"
   },
   {
    "duration": 31,
    "start_time": "2023-01-13T21:52:57.843Z"
   },
   {
    "duration": 154,
    "start_time": "2023-01-13T21:53:02.432Z"
   },
   {
    "duration": 22,
    "start_time": "2023-01-13T21:53:09.295Z"
   },
   {
    "duration": 3,
    "start_time": "2023-01-13T21:53:32.032Z"
   },
   {
    "duration": 693,
    "start_time": "2023-01-13T21:53:32.493Z"
   },
   {
    "duration": 18,
    "start_time": "2023-01-13T21:53:33.187Z"
   },
   {
    "duration": 17,
    "start_time": "2023-01-13T21:53:35.127Z"
   },
   {
    "duration": 209,
    "start_time": "2023-01-13T21:53:38.833Z"
   },
   {
    "duration": 18,
    "start_time": "2023-01-13T21:53:39.265Z"
   },
   {
    "duration": 11,
    "start_time": "2023-01-13T21:53:39.722Z"
   },
   {
    "duration": 119,
    "start_time": "2023-01-13T21:53:40.256Z"
   },
   {
    "duration": 19,
    "start_time": "2023-01-13T21:53:40.616Z"
   },
   {
    "duration": 17,
    "start_time": "2023-01-13T21:53:40.976Z"
   },
   {
    "duration": 243,
    "start_time": "2023-01-13T21:53:41.290Z"
   },
   {
    "duration": 15,
    "start_time": "2023-01-13T21:53:43.361Z"
   },
   {
    "duration": 20,
    "start_time": "2023-01-13T21:54:20.628Z"
   },
   {
    "duration": 5,
    "start_time": "2023-01-13T21:54:31.353Z"
   },
   {
    "duration": 690,
    "start_time": "2023-01-13T21:54:31.645Z"
   },
   {
    "duration": 18,
    "start_time": "2023-01-13T21:54:32.337Z"
   },
   {
    "duration": 26,
    "start_time": "2023-01-13T21:54:32.357Z"
   },
   {
    "duration": 226,
    "start_time": "2023-01-13T21:54:32.385Z"
   },
   {
    "duration": 23,
    "start_time": "2023-01-13T21:54:32.612Z"
   },
   {
    "duration": 16,
    "start_time": "2023-01-13T21:54:32.637Z"
   },
   {
    "duration": 150,
    "start_time": "2023-01-13T21:54:32.655Z"
   },
   {
    "duration": 20,
    "start_time": "2023-01-13T21:54:32.807Z"
   },
   {
    "duration": 16,
    "start_time": "2023-01-13T21:54:33.266Z"
   },
   {
    "duration": 227,
    "start_time": "2023-01-13T21:54:33.512Z"
   },
   {
    "duration": 11,
    "start_time": "2023-01-13T21:54:35.830Z"
   },
   {
    "duration": 4,
    "start_time": "2023-01-13T21:54:36.483Z"
   },
   {
    "duration": 7,
    "start_time": "2023-01-13T21:54:36.933Z"
   },
   {
    "duration": 6,
    "start_time": "2023-01-13T21:54:38.104Z"
   },
   {
    "duration": 6,
    "start_time": "2023-01-13T21:54:38.553Z"
   },
   {
    "duration": 6,
    "start_time": "2023-01-13T21:54:40.150Z"
   },
   {
    "duration": 43,
    "start_time": "2023-01-13T21:54:43.167Z"
   },
   {
    "duration": 26,
    "start_time": "2023-01-13T21:54:45.438Z"
   },
   {
    "duration": 17,
    "start_time": "2023-01-13T21:54:57.385Z"
   },
   {
    "duration": 23,
    "start_time": "2023-01-13T21:55:03.957Z"
   },
   {
    "duration": 30,
    "start_time": "2023-01-13T21:55:04.730Z"
   },
   {
    "duration": 202,
    "start_time": "2023-01-13T21:55:05.216Z"
   },
   {
    "duration": 61,
    "start_time": "2023-01-13T21:55:06.794Z"
   },
   {
    "duration": 7,
    "start_time": "2023-01-13T21:55:07.399Z"
   },
   {
    "duration": 141,
    "start_time": "2023-01-13T21:55:07.556Z"
   },
   {
    "duration": 8,
    "start_time": "2023-01-13T21:55:08.198Z"
   },
   {
    "duration": 140,
    "start_time": "2023-01-13T21:55:08.230Z"
   },
   {
    "duration": 9,
    "start_time": "2023-01-13T21:55:08.372Z"
   },
   {
    "duration": 147,
    "start_time": "2023-01-13T21:55:08.383Z"
   },
   {
    "duration": 6,
    "start_time": "2023-01-13T21:55:08.532Z"
   },
   {
    "duration": 148,
    "start_time": "2023-01-13T21:55:08.540Z"
   },
   {
    "duration": 498,
    "start_time": "2023-01-13T21:55:08.691Z"
   },
   {
    "duration": 5,
    "start_time": "2023-01-13T21:55:09.191Z"
   },
   {
    "duration": 11,
    "start_time": "2023-01-13T21:55:09.198Z"
   },
   {
    "duration": 25,
    "start_time": "2023-01-13T21:55:09.228Z"
   },
   {
    "duration": 18,
    "start_time": "2023-01-13T21:55:42.814Z"
   },
   {
    "duration": 13,
    "start_time": "2023-01-13T21:55:48.956Z"
   },
   {
    "duration": 5,
    "start_time": "2023-01-13T21:55:49.529Z"
   },
   {
    "duration": 9,
    "start_time": "2023-01-13T21:55:49.699Z"
   },
   {
    "duration": 8,
    "start_time": "2023-01-13T21:55:50.038Z"
   },
   {
    "duration": 5,
    "start_time": "2023-01-13T21:55:50.230Z"
   },
   {
    "duration": 6,
    "start_time": "2023-01-13T21:55:51.183Z"
   },
   {
    "duration": 38,
    "start_time": "2023-01-13T21:55:51.994Z"
   },
   {
    "duration": 16,
    "start_time": "2023-01-13T21:55:52.430Z"
   },
   {
    "duration": 32,
    "start_time": "2023-01-13T21:55:52.759Z"
   },
   {
    "duration": 190,
    "start_time": "2023-01-13T21:55:52.871Z"
   },
   {
    "duration": 80,
    "start_time": "2023-01-13T21:55:53.478Z"
   },
   {
    "duration": 8,
    "start_time": "2023-01-13T21:55:54.110Z"
   },
   {
    "duration": 171,
    "start_time": "2023-01-13T21:55:54.266Z"
   },
   {
    "duration": 9,
    "start_time": "2023-01-13T21:55:54.630Z"
   },
   {
    "duration": 231,
    "start_time": "2023-01-13T21:55:54.808Z"
   },
   {
    "duration": 7,
    "start_time": "2023-01-13T21:55:55.130Z"
   },
   {
    "duration": 132,
    "start_time": "2023-01-13T21:55:55.302Z"
   },
   {
    "duration": 7,
    "start_time": "2023-01-13T21:55:55.662Z"
   },
   {
    "duration": 135,
    "start_time": "2023-01-13T21:55:55.841Z"
   },
   {
    "duration": 378,
    "start_time": "2023-01-13T21:55:57.011Z"
   },
   {
    "duration": 5,
    "start_time": "2023-01-13T21:56:00.409Z"
   },
   {
    "duration": 7,
    "start_time": "2023-01-13T21:56:06.236Z"
   },
   {
    "duration": 5,
    "start_time": "2023-01-13T21:56:15.327Z"
   },
   {
    "duration": 4,
    "start_time": "2023-01-13T21:56:23.178Z"
   },
   {
    "duration": 4,
    "start_time": "2023-01-13T21:56:28.601Z"
   },
   {
    "duration": 1074,
    "start_time": "2023-01-13T21:56:36.931Z"
   },
   {
    "duration": 6,
    "start_time": "2023-01-13T21:56:47.569Z"
   },
   {
    "duration": 1172,
    "start_time": "2023-01-13T21:56:49.212Z"
   },
   {
    "duration": 3,
    "start_time": "2023-01-13T21:57:14.907Z"
   },
   {
    "duration": 11,
    "start_time": "2023-01-13T21:59:41.158Z"
   },
   {
    "duration": 4,
    "start_time": "2023-01-13T21:59:45.681Z"
   },
   {
    "duration": 10,
    "start_time": "2023-01-13T21:59:52.026Z"
   },
   {
    "duration": 10,
    "start_time": "2023-01-13T21:59:59.337Z"
   },
   {
    "duration": 11,
    "start_time": "2023-01-13T22:00:24.652Z"
   },
   {
    "duration": 10,
    "start_time": "2023-01-13T22:00:30.641Z"
   },
   {
    "duration": 603,
    "start_time": "2023-01-13T22:00:38.511Z"
   },
   {
    "duration": 8,
    "start_time": "2023-01-13T22:01:00.944Z"
   },
   {
    "duration": 1430,
    "start_time": "2023-01-13T22:01:54.264Z"
   },
   {
    "duration": 674,
    "start_time": "2023-01-13T22:01:55.696Z"
   },
   {
    "duration": 25,
    "start_time": "2023-01-13T22:01:56.372Z"
   },
   {
    "duration": 18,
    "start_time": "2023-01-13T22:01:56.400Z"
   },
   {
    "duration": 248,
    "start_time": "2023-01-13T22:01:56.419Z"
   },
   {
    "duration": 25,
    "start_time": "2023-01-13T22:01:56.669Z"
   },
   {
    "duration": 17,
    "start_time": "2023-01-13T22:01:56.696Z"
   },
   {
    "duration": 141,
    "start_time": "2023-01-13T22:01:56.715Z"
   },
   {
    "duration": 30,
    "start_time": "2023-01-13T22:01:56.858Z"
   },
   {
    "duration": 27,
    "start_time": "2023-01-13T22:01:56.890Z"
   },
   {
    "duration": 271,
    "start_time": "2023-01-13T22:01:56.919Z"
   },
   {
    "duration": 13,
    "start_time": "2023-01-13T22:01:57.192Z"
   },
   {
    "duration": 5,
    "start_time": "2023-01-13T22:01:57.206Z"
   },
   {
    "duration": 16,
    "start_time": "2023-01-13T22:01:57.213Z"
   },
   {
    "duration": 14,
    "start_time": "2023-01-13T22:01:57.231Z"
   },
   {
    "duration": 10,
    "start_time": "2023-01-13T22:01:57.247Z"
   },
   {
    "duration": 20,
    "start_time": "2023-01-13T22:01:57.258Z"
   },
   {
    "duration": 36,
    "start_time": "2023-01-13T22:01:57.280Z"
   },
   {
    "duration": 24,
    "start_time": "2023-01-13T22:01:57.317Z"
   },
   {
    "duration": 61,
    "start_time": "2023-01-13T22:01:57.343Z"
   },
   {
    "duration": 200,
    "start_time": "2023-01-13T22:01:57.406Z"
   },
   {
    "duration": 60,
    "start_time": "2023-01-13T22:01:57.607Z"
   },
   {
    "duration": 7,
    "start_time": "2023-01-13T22:01:57.677Z"
   },
   {
    "duration": 159,
    "start_time": "2023-01-13T22:01:57.686Z"
   },
   {
    "duration": 7,
    "start_time": "2023-01-13T22:01:57.846Z"
   },
   {
    "duration": 152,
    "start_time": "2023-01-13T22:01:57.855Z"
   },
   {
    "duration": 6,
    "start_time": "2023-01-13T22:01:58.009Z"
   },
   {
    "duration": 161,
    "start_time": "2023-01-13T22:01:58.018Z"
   },
   {
    "duration": 6,
    "start_time": "2023-01-13T22:01:58.181Z"
   },
   {
    "duration": 215,
    "start_time": "2023-01-13T22:01:58.189Z"
   },
   {
    "duration": 474,
    "start_time": "2023-01-13T22:01:58.406Z"
   },
   {
    "duration": 4,
    "start_time": "2023-01-13T22:01:58.882Z"
   },
   {
    "duration": 10,
    "start_time": "2023-01-13T22:01:58.887Z"
   },
   {
    "duration": 29,
    "start_time": "2023-01-13T22:01:58.899Z"
   },
   {
    "duration": 133,
    "start_time": "2023-01-13T22:01:58.930Z"
   },
   {
    "duration": 0,
    "start_time": "2023-01-13T22:01:59.065Z"
   },
   {
    "duration": 0,
    "start_time": "2023-01-13T22:01:59.067Z"
   },
   {
    "duration": 0,
    "start_time": "2023-01-13T22:01:59.068Z"
   },
   {
    "duration": 0,
    "start_time": "2023-01-13T22:01:59.078Z"
   },
   {
    "duration": 0,
    "start_time": "2023-01-13T22:01:59.079Z"
   },
   {
    "duration": 0,
    "start_time": "2023-01-13T22:01:59.080Z"
   },
   {
    "duration": 15,
    "start_time": "2023-01-13T22:02:32.744Z"
   },
   {
    "duration": 33,
    "start_time": "2023-01-13T22:02:34.700Z"
   },
   {
    "duration": 4,
    "start_time": "2023-01-13T22:02:43.875Z"
   },
   {
    "duration": 783,
    "start_time": "2023-01-13T22:02:43.944Z"
   },
   {
    "duration": 24,
    "start_time": "2023-01-13T22:02:44.729Z"
   },
   {
    "duration": 52,
    "start_time": "2023-01-13T22:02:44.755Z"
   },
   {
    "duration": 259,
    "start_time": "2023-01-13T22:02:44.808Z"
   },
   {
    "duration": 36,
    "start_time": "2023-01-13T22:02:45.069Z"
   },
   {
    "duration": 24,
    "start_time": "2023-01-13T22:02:45.107Z"
   },
   {
    "duration": 180,
    "start_time": "2023-01-13T22:02:45.133Z"
   },
   {
    "duration": 22,
    "start_time": "2023-01-13T22:02:45.316Z"
   },
   {
    "duration": 49,
    "start_time": "2023-01-13T22:02:45.340Z"
   },
   {
    "duration": 267,
    "start_time": "2023-01-13T22:02:45.393Z"
   },
   {
    "duration": 19,
    "start_time": "2023-01-13T22:02:45.663Z"
   },
   {
    "duration": 6,
    "start_time": "2023-01-13T22:02:45.684Z"
   },
   {
    "duration": 89,
    "start_time": "2023-01-13T22:02:45.692Z"
   },
   {
    "duration": 19,
    "start_time": "2023-01-13T22:02:45.783Z"
   },
   {
    "duration": 49,
    "start_time": "2023-01-13T22:02:45.803Z"
   },
   {
    "duration": 9,
    "start_time": "2023-01-13T22:02:45.854Z"
   },
   {
    "duration": 37,
    "start_time": "2023-01-13T22:02:46.453Z"
   },
   {
    "duration": 19,
    "start_time": "2023-01-13T22:02:46.544Z"
   },
   {
    "duration": 33,
    "start_time": "2023-01-13T22:02:46.618Z"
   },
   {
    "duration": 190,
    "start_time": "2023-01-13T22:02:46.653Z"
   },
   {
    "duration": 76,
    "start_time": "2023-01-13T22:02:46.845Z"
   },
   {
    "duration": 6,
    "start_time": "2023-01-13T22:02:46.923Z"
   },
   {
    "duration": 162,
    "start_time": "2023-01-13T22:02:46.944Z"
   },
   {
    "duration": 6,
    "start_time": "2023-01-13T22:02:47.108Z"
   },
   {
    "duration": 162,
    "start_time": "2023-01-13T22:02:47.116Z"
   },
   {
    "duration": 7,
    "start_time": "2023-01-13T22:02:47.280Z"
   },
   {
    "duration": 163,
    "start_time": "2023-01-13T22:02:47.289Z"
   },
   {
    "duration": 7,
    "start_time": "2023-01-13T22:02:47.454Z"
   },
   {
    "duration": 150,
    "start_time": "2023-01-13T22:02:47.462Z"
   },
   {
    "duration": 459,
    "start_time": "2023-01-13T22:02:47.615Z"
   },
   {
    "duration": 5,
    "start_time": "2023-01-13T22:02:49.303Z"
   },
   {
    "duration": 8,
    "start_time": "2023-01-13T22:02:51.980Z"
   },
   {
    "duration": 33,
    "start_time": "2023-01-13T22:02:53.039Z"
   },
   {
    "duration": 4,
    "start_time": "2023-01-13T22:03:03.837Z"
   },
   {
    "duration": 4,
    "start_time": "2023-01-13T22:03:06.515Z"
   },
   {
    "duration": 3,
    "start_time": "2023-01-13T22:03:10.701Z"
   },
   {
    "duration": 162,
    "start_time": "2023-01-13T22:03:35.327Z"
   },
   {
    "duration": 186,
    "start_time": "2023-01-13T22:03:40.536Z"
   },
   {
    "duration": 4,
    "start_time": "2023-01-13T22:04:08.144Z"
   },
   {
    "duration": 4,
    "start_time": "2023-01-13T22:04:11.970Z"
   },
   {
    "duration": 4,
    "start_time": "2023-01-13T22:04:16.740Z"
   },
   {
    "duration": 7,
    "start_time": "2023-01-13T22:04:20.105Z"
   },
   {
    "duration": 4,
    "start_time": "2023-01-13T22:04:24.074Z"
   },
   {
    "duration": 4,
    "start_time": "2023-01-13T22:04:26.728Z"
   },
   {
    "duration": 4,
    "start_time": "2023-01-13T22:04:45.405Z"
   },
   {
    "duration": 753,
    "start_time": "2023-01-13T22:04:45.726Z"
   },
   {
    "duration": 24,
    "start_time": "2023-01-13T22:04:46.482Z"
   },
   {
    "duration": 18,
    "start_time": "2023-01-13T22:04:46.507Z"
   },
   {
    "duration": 251,
    "start_time": "2023-01-13T22:04:46.526Z"
   },
   {
    "duration": 29,
    "start_time": "2023-01-13T22:04:46.778Z"
   },
   {
    "duration": 13,
    "start_time": "2023-01-13T22:04:46.809Z"
   },
   {
    "duration": 186,
    "start_time": "2023-01-13T22:04:46.824Z"
   },
   {
    "duration": 26,
    "start_time": "2023-01-13T22:04:47.013Z"
   },
   {
    "duration": 25,
    "start_time": "2023-01-13T22:04:47.041Z"
   },
   {
    "duration": 256,
    "start_time": "2023-01-13T22:04:47.068Z"
   },
   {
    "duration": 16,
    "start_time": "2023-01-13T22:04:49.073Z"
   },
   {
    "duration": 4,
    "start_time": "2023-01-13T22:04:49.252Z"
   },
   {
    "duration": 6,
    "start_time": "2023-01-13T22:04:49.409Z"
   },
   {
    "duration": 6,
    "start_time": "2023-01-13T22:04:49.747Z"
   },
   {
    "duration": 5,
    "start_time": "2023-01-13T22:04:49.904Z"
   },
   {
    "duration": 4,
    "start_time": "2023-01-13T22:04:50.927Z"
   },
   {
    "duration": 43,
    "start_time": "2023-01-13T22:04:52.027Z"
   },
   {
    "duration": 20,
    "start_time": "2023-01-13T22:04:53.730Z"
   },
   {
    "duration": 37,
    "start_time": "2023-01-13T22:04:54.675Z"
   },
   {
    "duration": 5,
    "start_time": "2023-01-13T22:04:55.057Z"
   },
   {
    "duration": 4,
    "start_time": "2023-01-13T22:04:55.506Z"
   },
   {
    "duration": 4,
    "start_time": "2023-01-13T22:05:47.752Z"
   },
   {
    "duration": 674,
    "start_time": "2023-01-13T22:05:48.089Z"
   },
   {
    "duration": 24,
    "start_time": "2023-01-13T22:05:48.765Z"
   },
   {
    "duration": 16,
    "start_time": "2023-01-13T22:05:48.791Z"
   },
   {
    "duration": 271,
    "start_time": "2023-01-13T22:05:48.809Z"
   },
   {
    "duration": 33,
    "start_time": "2023-01-13T22:05:49.082Z"
   },
   {
    "duration": 15,
    "start_time": "2023-01-13T22:05:49.117Z"
   },
   {
    "duration": 164,
    "start_time": "2023-01-13T22:05:49.135Z"
   },
   {
    "duration": 21,
    "start_time": "2023-01-13T22:05:49.301Z"
   },
   {
    "duration": 20,
    "start_time": "2023-01-13T22:05:49.324Z"
   },
   {
    "duration": 243,
    "start_time": "2023-01-13T22:05:49.346Z"
   },
   {
    "duration": 12,
    "start_time": "2023-01-13T22:05:49.960Z"
   },
   {
    "duration": 3,
    "start_time": "2023-01-13T22:05:50.229Z"
   },
   {
    "duration": 8,
    "start_time": "2023-01-13T22:05:51.424Z"
   },
   {
    "duration": 6,
    "start_time": "2023-01-13T22:05:51.969Z"
   },
   {
    "duration": 6,
    "start_time": "2023-01-13T22:05:51.997Z"
   },
   {
    "duration": 4,
    "start_time": "2023-01-13T22:05:52.157Z"
   },
   {
    "duration": 44,
    "start_time": "2023-01-13T22:05:53.586Z"
   },
   {
    "duration": 23,
    "start_time": "2023-01-13T22:05:53.680Z"
   },
   {
    "duration": 29,
    "start_time": "2023-01-13T22:05:54.796Z"
   },
   {
    "duration": 4,
    "start_time": "2023-01-13T22:05:55.290Z"
   },
   {
    "duration": 5,
    "start_time": "2023-01-13T22:05:56.078Z"
   },
   {
    "duration": 5,
    "start_time": "2023-01-13T22:07:04.916Z"
   },
   {
    "duration": 686,
    "start_time": "2023-01-13T22:07:04.993Z"
   },
   {
    "duration": 21,
    "start_time": "2023-01-13T22:07:05.680Z"
   },
   {
    "duration": 125,
    "start_time": "2023-01-13T22:07:05.703Z"
   },
   {
    "duration": 223,
    "start_time": "2023-01-13T22:07:05.830Z"
   },
   {
    "duration": 44,
    "start_time": "2023-01-13T22:07:06.055Z"
   },
   {
    "duration": 15,
    "start_time": "2023-01-13T22:07:06.101Z"
   },
   {
    "duration": 148,
    "start_time": "2023-01-13T22:07:06.118Z"
   },
   {
    "duration": 27,
    "start_time": "2023-01-13T22:07:06.268Z"
   },
   {
    "duration": 44,
    "start_time": "2023-01-13T22:07:06.297Z"
   },
   {
    "duration": 246,
    "start_time": "2023-01-13T22:07:06.344Z"
   },
   {
    "duration": 15,
    "start_time": "2023-01-13T22:07:06.592Z"
   },
   {
    "duration": 4,
    "start_time": "2023-01-13T22:07:06.609Z"
   },
   {
    "duration": 17,
    "start_time": "2023-01-13T22:07:06.615Z"
   },
   {
    "duration": 18,
    "start_time": "2023-01-13T22:07:06.634Z"
   },
   {
    "duration": 9,
    "start_time": "2023-01-13T22:07:06.654Z"
   },
   {
    "duration": 14,
    "start_time": "2023-01-13T22:07:06.665Z"
   },
   {
    "duration": 52,
    "start_time": "2023-01-13T22:07:06.681Z"
   },
   {
    "duration": 43,
    "start_time": "2023-01-13T22:07:06.735Z"
   },
   {
    "duration": 4,
    "start_time": "2023-01-13T22:07:06.779Z"
   },
   {
    "duration": 17,
    "start_time": "2023-01-13T22:07:06.785Z"
   },
   {
    "duration": 42,
    "start_time": "2023-01-13T22:07:06.803Z"
   },
   {
    "duration": 17,
    "start_time": "2023-01-13T22:07:27.676Z"
   },
   {
    "duration": 30,
    "start_time": "2023-01-13T22:07:41.289Z"
   },
   {
    "duration": 4,
    "start_time": "2023-01-13T22:07:50.176Z"
   },
   {
    "duration": 22,
    "start_time": "2023-01-13T22:08:00.706Z"
   },
   {
    "duration": 4,
    "start_time": "2023-01-13T22:08:03.239Z"
   },
   {
    "duration": 35,
    "start_time": "2023-01-13T22:08:05.432Z"
   },
   {
    "duration": 46,
    "start_time": "2023-01-13T22:08:11.822Z"
   },
   {
    "duration": 18,
    "start_time": "2023-01-13T22:08:22.373Z"
   },
   {
    "duration": 18,
    "start_time": "2023-01-13T22:08:30.226Z"
   },
   {
    "duration": 4,
    "start_time": "2023-01-13T22:08:34.501Z"
   },
   {
    "duration": 640,
    "start_time": "2023-01-13T22:08:34.521Z"
   },
   {
    "duration": 26,
    "start_time": "2023-01-13T22:08:35.163Z"
   },
   {
    "duration": 32,
    "start_time": "2023-01-13T22:08:35.191Z"
   },
   {
    "duration": 229,
    "start_time": "2023-01-13T22:08:35.226Z"
   },
   {
    "duration": 29,
    "start_time": "2023-01-13T22:08:35.457Z"
   },
   {
    "duration": 18,
    "start_time": "2023-01-13T22:08:35.488Z"
   },
   {
    "duration": 136,
    "start_time": "2023-01-13T22:08:35.507Z"
   },
   {
    "duration": 22,
    "start_time": "2023-01-13T22:08:35.645Z"
   },
   {
    "duration": 27,
    "start_time": "2023-01-13T22:08:35.669Z"
   },
   {
    "duration": 265,
    "start_time": "2023-01-13T22:08:35.699Z"
   },
   {
    "duration": 16,
    "start_time": "2023-01-13T22:08:35.966Z"
   },
   {
    "duration": 4,
    "start_time": "2023-01-13T22:08:35.983Z"
   },
   {
    "duration": 11,
    "start_time": "2023-01-13T22:08:35.988Z"
   },
   {
    "duration": 6,
    "start_time": "2023-01-13T22:08:36.001Z"
   },
   {
    "duration": 9,
    "start_time": "2023-01-13T22:08:36.008Z"
   },
   {
    "duration": 9,
    "start_time": "2023-01-13T22:08:36.018Z"
   },
   {
    "duration": 75,
    "start_time": "2023-01-13T22:08:36.029Z"
   },
   {
    "duration": 20,
    "start_time": "2023-01-13T22:08:36.106Z"
   },
   {
    "duration": 5,
    "start_time": "2023-01-13T22:08:36.128Z"
   },
   {
    "duration": 5,
    "start_time": "2023-01-13T22:08:36.135Z"
   },
   {
    "duration": 54,
    "start_time": "2023-01-13T22:08:36.142Z"
   },
   {
    "duration": 119,
    "start_time": "2023-01-13T22:08:36.200Z"
   },
   {
    "duration": 6,
    "start_time": "2023-01-13T22:08:36.321Z"
   },
   {
    "duration": 157,
    "start_time": "2023-01-13T22:08:36.329Z"
   },
   {
    "duration": 7,
    "start_time": "2023-01-13T22:08:36.487Z"
   },
   {
    "duration": 149,
    "start_time": "2023-01-13T22:08:36.496Z"
   },
   {
    "duration": 7,
    "start_time": "2023-01-13T22:08:36.646Z"
   },
   {
    "duration": 158,
    "start_time": "2023-01-13T22:08:36.654Z"
   },
   {
    "duration": 6,
    "start_time": "2023-01-13T22:08:37.741Z"
   },
   {
    "duration": 136,
    "start_time": "2023-01-13T22:08:38.250Z"
   },
   {
    "duration": 375,
    "start_time": "2023-01-13T22:08:38.419Z"
   },
   {
    "duration": 4,
    "start_time": "2023-01-13T22:08:40.420Z"
   },
   {
    "duration": 74,
    "start_time": "2023-01-13T22:08:42.353Z"
   },
   {
    "duration": 7,
    "start_time": "2023-01-13T22:08:46.269Z"
   },
   {
    "duration": 5,
    "start_time": "2023-01-13T22:08:46.875Z"
   },
   {
    "duration": 1273,
    "start_time": "2023-01-13T22:08:48.610Z"
   },
   {
    "duration": 8,
    "start_time": "2023-01-13T22:09:06.813Z"
   },
   {
    "duration": 30,
    "start_time": "2023-01-13T22:09:07.239Z"
   },
   {
    "duration": 14,
    "start_time": "2023-01-13T22:09:07.622Z"
   },
   {
    "duration": 27,
    "start_time": "2023-01-13T22:09:30.933Z"
   },
   {
    "duration": 4,
    "start_time": "2023-01-13T22:09:46.953Z"
   },
   {
    "duration": 27,
    "start_time": "2023-01-13T22:09:47.627Z"
   },
   {
    "duration": 5,
    "start_time": "2023-01-13T22:09:53.318Z"
   },
   {
    "duration": 15,
    "start_time": "2023-01-13T22:11:10.945Z"
   },
   {
    "duration": 5,
    "start_time": "2023-01-13T22:11:15.625Z"
   },
   {
    "duration": 3,
    "start_time": "2023-01-13T22:11:16.458Z"
   },
   {
    "duration": 26,
    "start_time": "2023-01-13T22:11:17.334Z"
   },
   {
    "duration": 3,
    "start_time": "2023-01-13T22:11:30.093Z"
   },
   {
    "duration": 647,
    "start_time": "2023-01-13T22:11:30.636Z"
   },
   {
    "duration": 21,
    "start_time": "2023-01-13T22:11:31.285Z"
   },
   {
    "duration": 44,
    "start_time": "2023-01-13T22:11:31.307Z"
   },
   {
    "duration": 211,
    "start_time": "2023-01-13T22:11:31.353Z"
   },
   {
    "duration": 24,
    "start_time": "2023-01-13T22:11:31.565Z"
   },
   {
    "duration": 22,
    "start_time": "2023-01-13T22:11:31.591Z"
   },
   {
    "duration": 121,
    "start_time": "2023-01-13T22:11:31.615Z"
   },
   {
    "duration": 20,
    "start_time": "2023-01-13T22:11:31.738Z"
   },
   {
    "duration": 29,
    "start_time": "2023-01-13T22:11:31.759Z"
   },
   {
    "duration": 239,
    "start_time": "2023-01-13T22:11:31.790Z"
   },
   {
    "duration": 10,
    "start_time": "2023-01-13T22:11:32.031Z"
   },
   {
    "duration": 5,
    "start_time": "2023-01-13T22:11:32.043Z"
   },
   {
    "duration": 13,
    "start_time": "2023-01-13T22:11:32.050Z"
   },
   {
    "duration": 14,
    "start_time": "2023-01-13T22:11:32.078Z"
   },
   {
    "duration": 12,
    "start_time": "2023-01-13T22:11:32.093Z"
   },
   {
    "duration": 16,
    "start_time": "2023-01-13T22:11:32.107Z"
   },
   {
    "duration": 45,
    "start_time": "2023-01-13T22:11:32.124Z"
   },
   {
    "duration": 23,
    "start_time": "2023-01-13T22:11:32.178Z"
   },
   {
    "duration": 4,
    "start_time": "2023-01-13T22:11:32.203Z"
   },
   {
    "duration": 5,
    "start_time": "2023-01-13T22:11:32.209Z"
   },
   {
    "duration": 17,
    "start_time": "2023-01-13T22:11:32.216Z"
   },
   {
    "duration": 145,
    "start_time": "2023-01-13T22:11:32.236Z"
   },
   {
    "duration": 6,
    "start_time": "2023-01-13T22:11:32.383Z"
   },
   {
    "duration": 159,
    "start_time": "2023-01-13T22:11:32.391Z"
   },
   {
    "duration": 6,
    "start_time": "2023-01-13T22:11:32.552Z"
   },
   {
    "duration": 233,
    "start_time": "2023-01-13T22:11:32.559Z"
   },
   {
    "duration": 8,
    "start_time": "2023-01-13T22:11:32.794Z"
   },
   {
    "duration": 180,
    "start_time": "2023-01-13T22:11:32.803Z"
   },
   {
    "duration": 6,
    "start_time": "2023-01-13T22:11:32.984Z"
   },
   {
    "duration": 211,
    "start_time": "2023-01-13T22:11:32.992Z"
   },
   {
    "duration": 497,
    "start_time": "2023-01-13T22:11:33.206Z"
   },
   {
    "duration": 4,
    "start_time": "2023-01-13T22:11:33.705Z"
   },
   {
    "duration": 40,
    "start_time": "2023-01-13T22:11:33.711Z"
   },
   {
    "duration": 1125,
    "start_time": "2023-01-13T22:11:33.753Z"
   },
   {
    "duration": 11,
    "start_time": "2023-01-13T22:11:34.880Z"
   },
   {
    "duration": 7,
    "start_time": "2023-01-13T22:11:43.120Z"
   },
   {
    "duration": 5,
    "start_time": "2023-01-13T22:11:43.615Z"
   },
   {
    "duration": 34,
    "start_time": "2023-01-13T22:11:44.447Z"
   },
   {
    "duration": 1194,
    "start_time": "2023-01-13T22:11:51.991Z"
   },
   {
    "duration": 5,
    "start_time": "2023-01-13T22:12:56.493Z"
   },
   {
    "duration": 5,
    "start_time": "2023-01-13T22:13:00.251Z"
   },
   {
    "duration": 25,
    "start_time": "2023-01-13T22:13:01.106Z"
   },
   {
    "duration": 13,
    "start_time": "2023-01-13T22:13:21.154Z"
   },
   {
    "duration": 1200,
    "start_time": "2023-01-13T22:13:23.291Z"
   },
   {
    "duration": 967,
    "start_time": "2023-01-13T22:13:25.923Z"
   },
   {
    "duration": 1398,
    "start_time": "2023-01-13T22:13:33.480Z"
   },
   {
    "duration": 770,
    "start_time": "2023-01-13T22:13:49.212Z"
   },
   {
    "duration": 34,
    "start_time": "2023-01-13T22:13:58.413Z"
   },
   {
    "duration": 23,
    "start_time": "2023-01-13T22:14:26.473Z"
   },
   {
    "duration": 34,
    "start_time": "2023-01-13T22:14:32.862Z"
   },
   {
    "duration": 47,
    "start_time": "2023-01-13T22:14:45.438Z"
   },
   {
    "duration": 48,
    "start_time": "2023-01-13T22:15:02.098Z"
   },
   {
    "duration": 41,
    "start_time": "2023-01-13T22:15:12.897Z"
   },
   {
    "duration": 40,
    "start_time": "2023-01-13T22:16:12.132Z"
   },
   {
    "duration": 221,
    "start_time": "2023-01-13T22:16:26.307Z"
   },
   {
    "duration": 19,
    "start_time": "2023-01-13T22:16:53.129Z"
   },
   {
    "duration": 4,
    "start_time": "2023-01-13T22:17:12.838Z"
   },
   {
    "duration": 665,
    "start_time": "2023-01-13T22:17:13.153Z"
   },
   {
    "duration": 20,
    "start_time": "2023-01-13T22:17:13.820Z"
   },
   {
    "duration": 22,
    "start_time": "2023-01-13T22:17:13.841Z"
   },
   {
    "duration": 287,
    "start_time": "2023-01-13T22:17:13.866Z"
   },
   {
    "duration": 31,
    "start_time": "2023-01-13T22:17:14.155Z"
   },
   {
    "duration": 17,
    "start_time": "2023-01-13T22:17:14.187Z"
   },
   {
    "duration": 114,
    "start_time": "2023-01-13T22:17:14.277Z"
   },
   {
    "duration": 19,
    "start_time": "2023-01-13T22:17:14.457Z"
   },
   {
    "duration": 17,
    "start_time": "2023-01-13T22:17:14.616Z"
   },
   {
    "duration": 241,
    "start_time": "2023-01-13T22:17:14.796Z"
   },
   {
    "duration": 11,
    "start_time": "2023-01-13T22:17:15.974Z"
   },
   {
    "duration": 4,
    "start_time": "2023-01-13T22:17:16.167Z"
   },
   {
    "duration": 8,
    "start_time": "2023-01-13T22:17:16.393Z"
   },
   {
    "duration": 6,
    "start_time": "2023-01-13T22:17:19.362Z"
   },
   {
    "duration": 5,
    "start_time": "2023-01-13T22:17:19.677Z"
   },
   {
    "duration": 5,
    "start_time": "2023-01-13T22:17:20.488Z"
   },
   {
    "duration": 36,
    "start_time": "2023-01-13T22:17:21.344Z"
   },
   {
    "duration": 21,
    "start_time": "2023-01-13T22:17:22.221Z"
   },
   {
    "duration": 8,
    "start_time": "2023-01-13T22:17:22.829Z"
   },
   {
    "duration": 20,
    "start_time": "2023-01-13T22:17:31.963Z"
   },
   {
    "duration": 6,
    "start_time": "2023-01-13T22:18:00.630Z"
   },
   {
    "duration": 4,
    "start_time": "2023-01-13T22:18:05.855Z"
   },
   {
    "duration": 20,
    "start_time": "2023-01-13T22:18:06.479Z"
   },
   {
    "duration": 13,
    "start_time": "2023-01-13T22:18:32.264Z"
   },
   {
    "duration": 3,
    "start_time": "2023-01-13T22:18:57.105Z"
   },
   {
    "duration": 697,
    "start_time": "2023-01-13T22:18:57.651Z"
   },
   {
    "duration": 29,
    "start_time": "2023-01-13T22:18:58.349Z"
   },
   {
    "duration": 15,
    "start_time": "2023-01-13T22:18:58.379Z"
   },
   {
    "duration": 211,
    "start_time": "2023-01-13T22:18:58.396Z"
   },
   {
    "duration": 18,
    "start_time": "2023-01-13T22:18:58.608Z"
   },
   {
    "duration": 14,
    "start_time": "2023-01-13T22:18:58.628Z"
   },
   {
    "duration": 136,
    "start_time": "2023-01-13T22:18:58.644Z"
   },
   {
    "duration": 20,
    "start_time": "2023-01-13T22:18:58.781Z"
   },
   {
    "duration": 21,
    "start_time": "2023-01-13T22:18:58.803Z"
   },
   {
    "duration": 250,
    "start_time": "2023-01-13T22:18:58.826Z"
   },
   {
    "duration": 10,
    "start_time": "2023-01-13T22:18:59.078Z"
   },
   {
    "duration": 4,
    "start_time": "2023-01-13T22:18:59.781Z"
   },
   {
    "duration": 8,
    "start_time": "2023-01-13T22:19:00.283Z"
   },
   {
    "duration": 5,
    "start_time": "2023-01-13T22:19:00.369Z"
   },
   {
    "duration": 20,
    "start_time": "2023-01-13T22:19:00.390Z"
   },
   {
    "duration": 4,
    "start_time": "2023-01-13T22:19:00.559Z"
   },
   {
    "duration": 26,
    "start_time": "2023-01-13T22:19:00.720Z"
   },
   {
    "duration": 22,
    "start_time": "2023-01-13T22:19:00.812Z"
   },
   {
    "duration": 6,
    "start_time": "2023-01-13T22:19:00.842Z"
   },
   {
    "duration": 3,
    "start_time": "2023-01-13T22:19:00.877Z"
   },
   {
    "duration": 20,
    "start_time": "2023-01-13T22:19:00.954Z"
   },
   {
    "duration": 52,
    "start_time": "2023-01-13T22:19:00.990Z"
   },
   {
    "duration": 112,
    "start_time": "2023-01-13T22:19:01.113Z"
   },
   {
    "duration": 7,
    "start_time": "2023-01-13T22:19:01.256Z"
   },
   {
    "duration": 177,
    "start_time": "2023-01-13T22:19:01.279Z"
   },
   {
    "duration": 7,
    "start_time": "2023-01-13T22:19:01.807Z"
   },
   {
    "duration": 7,
    "start_time": "2023-01-13T22:19:07.250Z"
   },
   {
    "duration": 790,
    "start_time": "2023-01-13T22:19:08.288Z"
   },
   {
    "duration": 8,
    "start_time": "2023-01-13T22:19:12.855Z"
   },
   {
    "duration": 20,
    "start_time": "2023-01-13T22:19:16.499Z"
   },
   {
    "duration": 1017,
    "start_time": "2023-01-13T22:19:19.063Z"
   },
   {
    "duration": 1297,
    "start_time": "2023-01-13T22:19:32.239Z"
   },
   {
    "duration": 752,
    "start_time": "2023-01-13T22:19:33.538Z"
   },
   {
    "duration": 22,
    "start_time": "2023-01-13T22:19:34.291Z"
   },
   {
    "duration": 17,
    "start_time": "2023-01-13T22:19:34.314Z"
   },
   {
    "duration": 221,
    "start_time": "2023-01-13T22:19:34.332Z"
   },
   {
    "duration": 24,
    "start_time": "2023-01-13T22:19:34.554Z"
   },
   {
    "duration": 11,
    "start_time": "2023-01-13T22:19:34.580Z"
   },
   {
    "duration": 127,
    "start_time": "2023-01-13T22:19:34.592Z"
   },
   {
    "duration": 18,
    "start_time": "2023-01-13T22:19:34.720Z"
   },
   {
    "duration": 17,
    "start_time": "2023-01-13T22:19:34.740Z"
   },
   {
    "duration": 425,
    "start_time": "2023-01-13T22:19:34.758Z"
   },
   {
    "duration": 13,
    "start_time": "2023-01-13T22:19:35.185Z"
   },
   {
    "duration": 3,
    "start_time": "2023-01-13T22:19:35.200Z"
   },
   {
    "duration": 8,
    "start_time": "2023-01-13T22:19:35.205Z"
   },
   {
    "duration": 5,
    "start_time": "2023-01-13T22:19:35.214Z"
   },
   {
    "duration": 62,
    "start_time": "2023-01-13T22:19:35.220Z"
   },
   {
    "duration": 5,
    "start_time": "2023-01-13T22:19:35.284Z"
   },
   {
    "duration": 207,
    "start_time": "2023-01-13T22:19:35.291Z"
   },
   {
    "duration": 0,
    "start_time": "2023-01-13T22:19:35.500Z"
   },
   {
    "duration": 0,
    "start_time": "2023-01-13T22:19:35.501Z"
   },
   {
    "duration": 0,
    "start_time": "2023-01-13T22:19:35.502Z"
   },
   {
    "duration": 0,
    "start_time": "2023-01-13T22:19:35.503Z"
   },
   {
    "duration": 0,
    "start_time": "2023-01-13T22:19:35.503Z"
   },
   {
    "duration": 0,
    "start_time": "2023-01-13T22:19:35.504Z"
   },
   {
    "duration": 0,
    "start_time": "2023-01-13T22:19:35.505Z"
   },
   {
    "duration": 0,
    "start_time": "2023-01-13T22:19:35.506Z"
   },
   {
    "duration": 0,
    "start_time": "2023-01-13T22:19:35.507Z"
   },
   {
    "duration": 0,
    "start_time": "2023-01-13T22:19:35.508Z"
   },
   {
    "duration": 0,
    "start_time": "2023-01-13T22:19:35.509Z"
   },
   {
    "duration": 0,
    "start_time": "2023-01-13T22:19:35.510Z"
   },
   {
    "duration": 0,
    "start_time": "2023-01-13T22:19:35.511Z"
   },
   {
    "duration": 0,
    "start_time": "2023-01-13T22:19:35.512Z"
   },
   {
    "duration": 0,
    "start_time": "2023-01-13T22:19:35.513Z"
   },
   {
    "duration": 0,
    "start_time": "2023-01-13T22:19:35.514Z"
   },
   {
    "duration": 0,
    "start_time": "2023-01-13T22:19:35.515Z"
   },
   {
    "duration": 0,
    "start_time": "2023-01-13T22:19:35.516Z"
   },
   {
    "duration": 0,
    "start_time": "2023-01-13T22:19:35.517Z"
   },
   {
    "duration": 0,
    "start_time": "2023-01-13T22:19:35.518Z"
   },
   {
    "duration": 0,
    "start_time": "2023-01-13T22:19:35.519Z"
   },
   {
    "duration": 0,
    "start_time": "2023-01-13T22:19:35.520Z"
   },
   {
    "duration": 0,
    "start_time": "2023-01-13T22:19:35.578Z"
   },
   {
    "duration": 0,
    "start_time": "2023-01-13T22:19:35.579Z"
   },
   {
    "duration": 0,
    "start_time": "2023-01-13T22:19:35.581Z"
   },
   {
    "duration": 0,
    "start_time": "2023-01-13T22:19:35.582Z"
   },
   {
    "duration": 0,
    "start_time": "2023-01-13T22:19:35.583Z"
   },
   {
    "duration": 1393,
    "start_time": "2023-01-13T22:19:55.876Z"
   },
   {
    "duration": 615,
    "start_time": "2023-01-13T22:19:57.270Z"
   },
   {
    "duration": 21,
    "start_time": "2023-01-13T22:19:57.887Z"
   },
   {
    "duration": 19,
    "start_time": "2023-01-13T22:19:57.910Z"
   },
   {
    "duration": 227,
    "start_time": "2023-01-13T22:19:57.931Z"
   },
   {
    "duration": 24,
    "start_time": "2023-01-13T22:19:58.160Z"
   },
   {
    "duration": 27,
    "start_time": "2023-01-13T22:19:58.185Z"
   },
   {
    "duration": 126,
    "start_time": "2023-01-13T22:19:58.213Z"
   },
   {
    "duration": 18,
    "start_time": "2023-01-13T22:19:58.340Z"
   },
   {
    "duration": 26,
    "start_time": "2023-01-13T22:19:58.360Z"
   },
   {
    "duration": 227,
    "start_time": "2023-01-13T22:19:58.387Z"
   },
   {
    "duration": 12,
    "start_time": "2023-01-13T22:19:58.616Z"
   },
   {
    "duration": 10,
    "start_time": "2023-01-13T22:19:58.629Z"
   },
   {
    "duration": 10,
    "start_time": "2023-01-13T22:19:58.641Z"
   },
   {
    "duration": 12,
    "start_time": "2023-01-13T22:19:58.652Z"
   },
   {
    "duration": 14,
    "start_time": "2023-01-13T22:19:58.665Z"
   },
   {
    "duration": 5,
    "start_time": "2023-01-13T22:19:58.681Z"
   },
   {
    "duration": 35,
    "start_time": "2023-01-13T22:19:58.687Z"
   },
   {
    "duration": 22,
    "start_time": "2023-01-13T22:19:58.724Z"
   },
   {
    "duration": 5,
    "start_time": "2023-01-13T22:19:58.748Z"
   },
   {
    "duration": 25,
    "start_time": "2023-01-13T22:19:58.754Z"
   },
   {
    "duration": 28,
    "start_time": "2023-01-13T22:19:58.781Z"
   },
   {
    "duration": 41,
    "start_time": "2023-01-13T22:19:58.811Z"
   },
   {
    "duration": 130,
    "start_time": "2023-01-13T22:19:58.854Z"
   },
   {
    "duration": 7,
    "start_time": "2023-01-13T22:19:58.985Z"
   },
   {
    "duration": 150,
    "start_time": "2023-01-13T22:19:58.993Z"
   },
   {
    "duration": 6,
    "start_time": "2023-01-13T22:19:59.145Z"
   },
   {
    "duration": 149,
    "start_time": "2023-01-13T22:19:59.154Z"
   },
   {
    "duration": 7,
    "start_time": "2023-01-13T22:19:59.305Z"
   },
   {
    "duration": 140,
    "start_time": "2023-01-13T22:19:59.313Z"
   },
   {
    "duration": 5,
    "start_time": "2023-01-13T22:19:59.455Z"
   },
   {
    "duration": 197,
    "start_time": "2023-01-13T22:19:59.462Z"
   },
   {
    "duration": 428,
    "start_time": "2023-01-13T22:19:59.660Z"
   },
   {
    "duration": 4,
    "start_time": "2023-01-13T22:20:00.089Z"
   },
   {
    "duration": 30,
    "start_time": "2023-01-13T22:20:00.095Z"
   },
   {
    "duration": 1254,
    "start_time": "2023-01-13T22:20:00.127Z"
   },
   {
    "duration": 198,
    "start_time": "2023-01-13T22:20:01.382Z"
   },
   {
    "duration": 0,
    "start_time": "2023-01-13T22:20:01.582Z"
   },
   {
    "duration": 0,
    "start_time": "2023-01-13T22:20:01.583Z"
   },
   {
    "duration": 0,
    "start_time": "2023-01-13T22:20:01.584Z"
   },
   {
    "duration": 0,
    "start_time": "2023-01-13T22:20:01.586Z"
   },
   {
    "duration": 0,
    "start_time": "2023-01-13T22:20:01.587Z"
   },
   {
    "duration": 0,
    "start_time": "2023-01-13T22:20:01.588Z"
   },
   {
    "duration": 0,
    "start_time": "2023-01-13T22:20:01.590Z"
   },
   {
    "duration": 0,
    "start_time": "2023-01-13T22:20:01.591Z"
   },
   {
    "duration": 1381,
    "start_time": "2023-01-13T22:21:03.298Z"
   },
   {
    "duration": 637,
    "start_time": "2023-01-13T22:21:04.681Z"
   },
   {
    "duration": 24,
    "start_time": "2023-01-13T22:21:05.319Z"
   },
   {
    "duration": 41,
    "start_time": "2023-01-13T22:21:05.345Z"
   },
   {
    "duration": 242,
    "start_time": "2023-01-13T22:21:05.388Z"
   },
   {
    "duration": 20,
    "start_time": "2023-01-13T22:21:05.632Z"
   },
   {
    "duration": 41,
    "start_time": "2023-01-13T22:21:05.654Z"
   },
   {
    "duration": 282,
    "start_time": "2023-01-13T22:21:05.697Z"
   },
   {
    "duration": 20,
    "start_time": "2023-01-13T22:21:05.980Z"
   },
   {
    "duration": 22,
    "start_time": "2023-01-13T22:21:06.002Z"
   },
   {
    "duration": 441,
    "start_time": "2023-01-13T22:21:06.077Z"
   },
   {
    "duration": 67,
    "start_time": "2023-01-13T22:21:06.520Z"
   },
   {
    "duration": 4,
    "start_time": "2023-01-13T22:21:06.588Z"
   },
   {
    "duration": 11,
    "start_time": "2023-01-13T22:21:06.594Z"
   },
   {
    "duration": 12,
    "start_time": "2023-01-13T22:21:06.606Z"
   },
   {
    "duration": 60,
    "start_time": "2023-01-13T22:21:06.620Z"
   },
   {
    "duration": 13,
    "start_time": "2023-01-13T22:21:06.681Z"
   },
   {
    "duration": 89,
    "start_time": "2023-01-13T22:21:06.695Z"
   },
   {
    "duration": 24,
    "start_time": "2023-01-13T22:21:06.785Z"
   },
   {
    "duration": 3,
    "start_time": "2023-01-13T22:21:06.811Z"
   },
   {
    "duration": 64,
    "start_time": "2023-01-13T22:21:06.815Z"
   },
   {
    "duration": 26,
    "start_time": "2023-01-13T22:21:06.881Z"
   },
   {
    "duration": 96,
    "start_time": "2023-01-13T22:21:06.908Z"
   },
   {
    "duration": 210,
    "start_time": "2023-01-13T22:21:07.006Z"
   },
   {
    "duration": 62,
    "start_time": "2023-01-13T22:21:07.218Z"
   },
   {
    "duration": 215,
    "start_time": "2023-01-13T22:21:07.281Z"
   },
   {
    "duration": 7,
    "start_time": "2023-01-13T22:21:07.498Z"
   },
   {
    "duration": 142,
    "start_time": "2023-01-13T22:21:07.506Z"
   },
   {
    "duration": 6,
    "start_time": "2023-01-13T22:21:07.650Z"
   },
   {
    "duration": 141,
    "start_time": "2023-01-13T22:21:07.658Z"
   },
   {
    "duration": 7,
    "start_time": "2023-01-13T22:21:07.800Z"
   },
   {
    "duration": 239,
    "start_time": "2023-01-13T22:21:07.808Z"
   },
   {
    "duration": 436,
    "start_time": "2023-01-13T22:21:08.048Z"
   },
   {
    "duration": 4,
    "start_time": "2023-01-13T22:21:08.486Z"
   },
   {
    "duration": 13,
    "start_time": "2023-01-13T22:21:08.492Z"
   },
   {
    "duration": 876,
    "start_time": "2023-01-13T22:21:08.507Z"
   },
   {
    "duration": 356803,
    "start_time": "2023-01-13T22:21:09.387Z"
   },
   {
    "duration": 6,
    "start_time": "2023-01-13T22:27:06.192Z"
   },
   {
    "duration": 8,
    "start_time": "2023-01-13T22:27:06.199Z"
   },
   {
    "duration": 21,
    "start_time": "2023-01-13T22:27:06.208Z"
   },
   {
    "duration": 1046,
    "start_time": "2023-01-13T22:27:06.232Z"
   },
   {
    "duration": 121,
    "start_time": "2023-01-13T22:27:07.280Z"
   },
   {
    "duration": 0,
    "start_time": "2023-01-13T22:27:07.403Z"
   },
   {
    "duration": 0,
    "start_time": "2023-01-13T22:27:07.404Z"
   },
   {
    "duration": 0,
    "start_time": "2023-01-13T22:27:07.405Z"
   },
   {
    "duration": 481642,
    "start_time": "2023-01-13T22:28:46.637Z"
   },
   {
    "duration": 12,
    "start_time": "2023-01-13T22:36:48.281Z"
   },
   {
    "duration": 18,
    "start_time": "2023-01-13T22:36:48.295Z"
   },
   {
    "duration": 0,
    "start_time": "2023-01-13T22:36:48.315Z"
   },
   {
    "duration": 12,
    "start_time": "2023-01-13T22:38:41.378Z"
   },
   {
    "duration": 12,
    "start_time": "2023-01-13T22:40:39.504Z"
   },
   {
    "duration": 19,
    "start_time": "2023-01-13T22:41:00.026Z"
   },
   {
    "duration": 3,
    "start_time": "2023-01-13T22:41:22.458Z"
   },
   {
    "duration": 644,
    "start_time": "2023-01-13T22:41:22.839Z"
   },
   {
    "duration": 18,
    "start_time": "2023-01-13T22:41:23.485Z"
   },
   {
    "duration": 39,
    "start_time": "2023-01-13T22:41:27.068Z"
   },
   {
    "duration": 22,
    "start_time": "2023-01-13T22:41:28.508Z"
   },
   {
    "duration": 4,
    "start_time": "2023-01-13T22:41:28.869Z"
   },
   {
    "duration": 4,
    "start_time": "2023-01-13T22:41:29.207Z"
   },
   {
    "duration": 18,
    "start_time": "2023-01-13T22:41:30.040Z"
   },
   {
    "duration": 42,
    "start_time": "2023-01-13T22:41:30.467Z"
   },
   {
    "duration": 7,
    "start_time": "2023-01-13T22:41:44.911Z"
   },
   {
    "duration": 5046,
    "start_time": "2023-01-13T22:42:03.385Z"
   },
   {
    "duration": 16,
    "start_time": "2023-01-13T22:42:38.598Z"
   },
   {
    "duration": 5083,
    "start_time": "2023-01-13T22:42:41.776Z"
   },
   {
    "duration": 16,
    "start_time": "2023-01-13T22:42:46.862Z"
   },
   {
    "duration": 10,
    "start_time": "2023-01-13T22:43:07.149Z"
   },
   {
    "duration": 17,
    "start_time": "2023-01-13T22:58:13.008Z"
   },
   {
    "duration": 13,
    "start_time": "2023-01-13T22:58:25.269Z"
   },
   {
    "duration": 9,
    "start_time": "2023-01-13T22:58:33.281Z"
   },
   {
    "duration": 14,
    "start_time": "2023-01-13T23:00:39.145Z"
   },
   {
    "duration": 27,
    "start_time": "2023-01-13T23:03:14.487Z"
   },
   {
    "duration": 3,
    "start_time": "2023-01-13T23:03:29.361Z"
   },
   {
    "duration": 795,
    "start_time": "2023-01-13T23:03:29.674Z"
   },
   {
    "duration": 34,
    "start_time": "2023-01-13T23:03:30.471Z"
   },
   {
    "duration": 51,
    "start_time": "2023-01-13T23:03:30.506Z"
   },
   {
    "duration": 264,
    "start_time": "2023-01-13T23:03:30.688Z"
   },
   {
    "duration": 23,
    "start_time": "2023-01-13T23:03:31.137Z"
   },
   {
    "duration": 14,
    "start_time": "2023-01-13T23:03:31.655Z"
   },
   {
    "duration": 126,
    "start_time": "2023-01-13T23:03:32.015Z"
   },
   {
    "duration": 22,
    "start_time": "2023-01-13T23:03:32.397Z"
   },
   {
    "duration": 22,
    "start_time": "2023-01-13T23:03:34.895Z"
   },
   {
    "duration": 303,
    "start_time": "2023-01-13T23:03:35.052Z"
   },
   {
    "duration": 12,
    "start_time": "2023-01-13T23:03:35.636Z"
   },
   {
    "duration": 4,
    "start_time": "2023-01-13T23:03:35.771Z"
   },
   {
    "duration": 8,
    "start_time": "2023-01-13T23:03:35.906Z"
   },
   {
    "duration": 14,
    "start_time": "2023-01-13T23:03:36.177Z"
   },
   {
    "duration": 11,
    "start_time": "2023-01-13T23:03:36.691Z"
   },
   {
    "duration": 4,
    "start_time": "2023-01-13T23:03:36.855Z"
   },
   {
    "duration": 38,
    "start_time": "2023-01-13T23:03:37.698Z"
   },
   {
    "duration": 19,
    "start_time": "2023-01-13T23:03:37.804Z"
   },
   {
    "duration": 4,
    "start_time": "2023-01-13T23:03:37.829Z"
   },
   {
    "duration": 3,
    "start_time": "2023-01-13T23:03:37.865Z"
   },
   {
    "duration": 18,
    "start_time": "2023-01-13T23:03:37.922Z"
   },
   {
    "duration": 120,
    "start_time": "2023-01-13T23:03:38.066Z"
   },
   {
    "duration": 8,
    "start_time": "2023-01-13T23:03:38.191Z"
   },
   {
    "duration": 163,
    "start_time": "2023-01-13T23:03:38.221Z"
   },
   {
    "duration": 8,
    "start_time": "2023-01-13T23:03:38.386Z"
   },
   {
    "duration": 159,
    "start_time": "2023-01-13T23:03:38.396Z"
   },
   {
    "duration": 9,
    "start_time": "2023-01-13T23:03:38.936Z"
   },
   {
    "duration": 174,
    "start_time": "2023-01-13T23:03:38.948Z"
   },
   {
    "duration": 7,
    "start_time": "2023-01-13T23:03:39.124Z"
   },
   {
    "duration": 176,
    "start_time": "2023-01-13T23:03:39.133Z"
   },
   {
    "duration": 512,
    "start_time": "2023-01-13T23:03:39.312Z"
   },
   {
    "duration": 20,
    "start_time": "2023-01-13T23:03:39.826Z"
   },
   {
    "duration": 11,
    "start_time": "2023-01-13T23:04:54.883Z"
   },
   {
    "duration": 11,
    "start_time": "2023-01-13T23:04:55.018Z"
   },
   {
    "duration": 174,
    "start_time": "2023-01-13T23:05:26.158Z"
   },
   {
    "duration": 234,
    "start_time": "2023-01-13T23:05:46.272Z"
   },
   {
    "duration": 6,
    "start_time": "2023-01-13T23:06:58.048Z"
   },
   {
    "duration": 10,
    "start_time": "2023-01-13T23:07:06.259Z"
   },
   {
    "duration": 13,
    "start_time": "2023-01-13T23:07:06.689Z"
   },
   {
    "duration": 13,
    "start_time": "2023-01-13T23:07:06.891Z"
   },
   {
    "duration": 633,
    "start_time": "2023-01-13T23:16:37.879Z"
   },
   {
    "duration": 11,
    "start_time": "2023-01-13T23:16:46.999Z"
   },
   {
    "duration": 18,
    "start_time": "2023-01-13T23:16:47.488Z"
   },
   {
    "duration": 559,
    "start_time": "2023-01-13T23:16:48.250Z"
   },
   {
    "duration": 576,
    "start_time": "2023-01-13T23:17:00.039Z"
   },
   {
    "duration": 493,
    "start_time": "2023-01-13T23:17:08.567Z"
   },
   {
    "duration": 18,
    "start_time": "2023-01-13T23:17:13.182Z"
   },
   {
    "duration": 520,
    "start_time": "2023-01-13T23:17:17.049Z"
   },
   {
    "duration": 518,
    "start_time": "2023-01-13T23:17:26.140Z"
   },
   {
    "duration": 9,
    "start_time": "2023-01-13T23:17:43.310Z"
   },
   {
    "duration": 12,
    "start_time": "2023-01-13T23:17:45.153Z"
   },
   {
    "duration": 10,
    "start_time": "2023-01-13T23:17:52.240Z"
   },
   {
    "duration": 78,
    "start_time": "2023-01-13T23:17:59.665Z"
   },
   {
    "duration": 218,
    "start_time": "2023-01-13T23:18:01.937Z"
   },
   {
    "duration": 363,
    "start_time": "2023-01-13T23:18:15.347Z"
   },
   {
    "duration": 11,
    "start_time": "2023-01-13T23:19:22.713Z"
   },
   {
    "duration": 1145,
    "start_time": "2023-01-13T23:19:26.338Z"
   },
   {
    "duration": 24,
    "start_time": "2023-01-13T23:20:13.962Z"
   },
   {
    "duration": 22,
    "start_time": "2023-01-13T23:20:48.125Z"
   },
   {
    "duration": 13,
    "start_time": "2023-01-13T23:22:25.460Z"
   },
   {
    "duration": 34,
    "start_time": "2023-01-13T23:22:30.185Z"
   },
   {
    "duration": 18,
    "start_time": "2023-01-13T23:23:09.043Z"
   },
   {
    "duration": 4,
    "start_time": "2023-01-13T23:24:13.192Z"
   },
   {
    "duration": 19,
    "start_time": "2023-01-13T23:24:27.270Z"
   },
   {
    "duration": 71,
    "start_time": "2023-01-13T23:24:41.857Z"
   },
   {
    "duration": 75,
    "start_time": "2023-01-13T23:25:01.499Z"
   },
   {
    "duration": 76,
    "start_time": "2023-01-13T23:25:21.298Z"
   },
   {
    "duration": 16,
    "start_time": "2023-01-13T23:25:25.258Z"
   },
   {
    "duration": 10,
    "start_time": "2023-01-13T23:25:29.759Z"
   },
   {
    "duration": 76,
    "start_time": "2023-01-13T23:25:36.801Z"
   },
   {
    "duration": 75,
    "start_time": "2023-01-13T23:25:41.639Z"
   },
   {
    "duration": 9,
    "start_time": "2023-01-13T23:25:44.743Z"
   },
   {
    "duration": 7,
    "start_time": "2023-01-13T23:25:54.037Z"
   },
   {
    "duration": 9,
    "start_time": "2023-01-13T23:26:12.125Z"
   },
   {
    "duration": 6,
    "start_time": "2023-01-13T23:26:14.691Z"
   },
   {
    "duration": 17,
    "start_time": "2023-01-13T23:27:17.963Z"
   },
   {
    "duration": 8,
    "start_time": "2023-01-13T23:28:38.429Z"
   },
   {
    "duration": 5,
    "start_time": "2023-01-13T23:28:38.580Z"
   },
   {
    "duration": 1090,
    "start_time": "2023-01-13T23:28:45.779Z"
   },
   {
    "duration": 16,
    "start_time": "2023-01-13T23:29:22.320Z"
   },
   {
    "duration": 7,
    "start_time": "2023-01-13T23:30:15.264Z"
   },
   {
    "duration": 5,
    "start_time": "2023-01-13T23:30:18.953Z"
   },
   {
    "duration": 7,
    "start_time": "2023-01-13T23:30:22.396Z"
   },
   {
    "duration": 6,
    "start_time": "2023-01-13T23:30:22.576Z"
   },
   {
    "duration": 14,
    "start_time": "2023-01-13T23:30:23.251Z"
   },
   {
    "duration": 1088,
    "start_time": "2023-01-13T23:30:23.994Z"
   },
   {
    "duration": 1048,
    "start_time": "2023-01-13T23:30:43.643Z"
   },
   {
    "duration": 6,
    "start_time": "2023-01-13T23:34:52.938Z"
   },
   {
    "duration": 6,
    "start_time": "2023-01-13T23:35:02.170Z"
   },
   {
    "duration": 761,
    "start_time": "2023-01-13T23:35:03.108Z"
   },
   {
    "duration": 807,
    "start_time": "2023-01-13T23:35:56.277Z"
   },
   {
    "duration": 15,
    "start_time": "2023-01-13T23:36:52.728Z"
   },
   {
    "duration": 6,
    "start_time": "2023-01-13T23:45:25.935Z"
   },
   {
    "duration": 756,
    "start_time": "2023-01-13T23:45:34.508Z"
   },
   {
    "duration": 763,
    "start_time": "2023-01-13T23:46:56.521Z"
   },
   {
    "duration": 947,
    "start_time": "2023-01-13T23:49:19.644Z"
   },
   {
    "duration": 807,
    "start_time": "2023-01-13T23:49:35.867Z"
   },
   {
    "duration": 6,
    "start_time": "2023-01-13T23:52:27.949Z"
   },
   {
    "duration": 6,
    "start_time": "2023-01-13T23:52:28.512Z"
   },
   {
    "duration": 132,
    "start_time": "2023-01-13T23:52:28.671Z"
   },
   {
    "duration": 150,
    "start_time": "2023-01-13T23:52:50.133Z"
   },
   {
    "duration": 245,
    "start_time": "2023-01-13T23:54:04.587Z"
   },
   {
    "duration": 1399,
    "start_time": "2023-01-13T23:54:50.544Z"
   },
   {
    "duration": 693,
    "start_time": "2023-01-13T23:54:51.945Z"
   },
   {
    "duration": 23,
    "start_time": "2023-01-13T23:54:52.640Z"
   },
   {
    "duration": 24,
    "start_time": "2023-01-13T23:54:52.665Z"
   },
   {
    "duration": 246,
    "start_time": "2023-01-13T23:54:52.691Z"
   },
   {
    "duration": 18,
    "start_time": "2023-01-13T23:54:52.938Z"
   },
   {
    "duration": 26,
    "start_time": "2023-01-13T23:54:52.958Z"
   },
   {
    "duration": 123,
    "start_time": "2023-01-13T23:54:52.986Z"
   },
   {
    "duration": 18,
    "start_time": "2023-01-13T23:54:53.110Z"
   },
   {
    "duration": 21,
    "start_time": "2023-01-13T23:54:53.131Z"
   },
   {
    "duration": 235,
    "start_time": "2023-01-13T23:54:53.154Z"
   },
   {
    "duration": 13,
    "start_time": "2023-01-13T23:54:53.391Z"
   },
   {
    "duration": 3,
    "start_time": "2023-01-13T23:54:53.406Z"
   },
   {
    "duration": 9,
    "start_time": "2023-01-13T23:54:53.411Z"
   },
   {
    "duration": 26,
    "start_time": "2023-01-13T23:54:53.422Z"
   },
   {
    "duration": 10,
    "start_time": "2023-01-13T23:54:53.449Z"
   },
   {
    "duration": 4,
    "start_time": "2023-01-13T23:54:53.461Z"
   },
   {
    "duration": 38,
    "start_time": "2023-01-13T23:54:53.466Z"
   },
   {
    "duration": 25,
    "start_time": "2023-01-13T23:54:53.505Z"
   },
   {
    "duration": 3,
    "start_time": "2023-01-13T23:54:53.532Z"
   },
   {
    "duration": 6,
    "start_time": "2023-01-13T23:54:53.537Z"
   },
   {
    "duration": 45,
    "start_time": "2023-01-13T23:54:53.545Z"
   },
   {
    "duration": 124,
    "start_time": "2023-01-13T23:54:53.591Z"
   },
   {
    "duration": 6,
    "start_time": "2023-01-13T23:54:53.717Z"
   },
   {
    "duration": 161,
    "start_time": "2023-01-13T23:54:53.725Z"
   },
   {
    "duration": 7,
    "start_time": "2023-01-13T23:54:53.888Z"
   },
   {
    "duration": 180,
    "start_time": "2023-01-13T23:54:53.897Z"
   },
   {
    "duration": 9,
    "start_time": "2023-01-13T23:54:54.081Z"
   },
   {
    "duration": 159,
    "start_time": "2023-01-13T23:54:54.092Z"
   },
   {
    "duration": 6,
    "start_time": "2023-01-13T23:54:54.252Z"
   },
   {
    "duration": 215,
    "start_time": "2023-01-13T23:54:54.260Z"
   },
   {
    "duration": 413,
    "start_time": "2023-01-13T23:54:54.477Z"
   },
   {
    "duration": 6,
    "start_time": "2023-01-13T23:54:54.891Z"
   },
   {
    "duration": 891,
    "start_time": "2023-01-13T23:54:54.899Z"
   },
   {
    "duration": 7,
    "start_time": "2023-01-13T23:54:55.792Z"
   },
   {
    "duration": 153,
    "start_time": "2023-01-13T23:54:55.801Z"
   },
   {
    "duration": 4,
    "start_time": "2023-01-13T23:54:55.956Z"
   },
   {
    "duration": 16,
    "start_time": "2023-01-13T23:54:55.962Z"
   },
   {
    "duration": 801,
    "start_time": "2023-01-13T23:54:55.979Z"
   },
   {
    "duration": 352307,
    "start_time": "2023-01-13T23:54:56.782Z"
   },
   {
    "duration": 7,
    "start_time": "2023-01-14T00:00:49.091Z"
   },
   {
    "duration": 18,
    "start_time": "2023-01-14T00:00:49.100Z"
   },
   {
    "duration": 37,
    "start_time": "2023-01-14T00:00:49.120Z"
   },
   {
    "duration": 1126,
    "start_time": "2023-01-14T00:00:49.158Z"
   },
   {
    "duration": 480642,
    "start_time": "2023-01-14T00:00:50.286Z"
   },
   {
    "duration": 12,
    "start_time": "2023-01-14T00:08:50.930Z"
   },
   {
    "duration": 4957,
    "start_time": "2023-01-14T00:08:50.944Z"
   },
   {
    "duration": 7,
    "start_time": "2023-01-14T00:08:55.903Z"
   },
   {
    "duration": 1991,
    "start_time": "2023-01-14T19:13:12.476Z"
   },
   {
    "duration": 3429,
    "start_time": "2023-01-14T19:13:14.470Z"
   },
   {
    "duration": 24,
    "start_time": "2023-01-14T19:13:17.900Z"
   },
   {
    "duration": 29,
    "start_time": "2023-01-14T19:13:17.926Z"
   },
   {
    "duration": 245,
    "start_time": "2023-01-14T19:13:17.957Z"
   },
   {
    "duration": 20,
    "start_time": "2023-01-14T19:13:18.203Z"
   },
   {
    "duration": 22,
    "start_time": "2023-01-14T19:13:18.224Z"
   },
   {
    "duration": 137,
    "start_time": "2023-01-14T19:13:18.247Z"
   },
   {
    "duration": 20,
    "start_time": "2023-01-14T19:13:18.386Z"
   },
   {
    "duration": 32,
    "start_time": "2023-01-14T19:13:18.408Z"
   },
   {
    "duration": 260,
    "start_time": "2023-01-14T19:13:18.442Z"
   },
   {
    "duration": 17,
    "start_time": "2023-01-14T19:13:18.703Z"
   },
   {
    "duration": 16,
    "start_time": "2023-01-14T19:13:18.722Z"
   },
   {
    "duration": 15,
    "start_time": "2023-01-14T19:13:18.742Z"
   },
   {
    "duration": 11,
    "start_time": "2023-01-14T19:13:18.759Z"
   },
   {
    "duration": 14,
    "start_time": "2023-01-14T19:13:18.772Z"
   },
   {
    "duration": 17,
    "start_time": "2023-01-14T19:13:18.788Z"
   },
   {
    "duration": 44,
    "start_time": "2023-01-14T19:13:18.807Z"
   },
   {
    "duration": 27,
    "start_time": "2023-01-14T19:13:18.853Z"
   },
   {
    "duration": 34,
    "start_time": "2023-01-14T19:13:18.882Z"
   },
   {
    "duration": 140,
    "start_time": "2023-01-14T19:13:18.917Z"
   },
   {
    "duration": 9,
    "start_time": "2023-01-14T19:13:19.059Z"
   },
   {
    "duration": 199,
    "start_time": "2023-01-14T19:13:19.069Z"
   },
   {
    "duration": 8,
    "start_time": "2023-01-14T19:13:19.270Z"
   },
   {
    "duration": 191,
    "start_time": "2023-01-14T19:13:19.279Z"
   },
   {
    "duration": 8,
    "start_time": "2023-01-14T19:13:19.471Z"
   },
   {
    "duration": 162,
    "start_time": "2023-01-14T19:13:19.480Z"
   },
   {
    "duration": 6,
    "start_time": "2023-01-14T19:13:19.644Z"
   },
   {
    "duration": 260,
    "start_time": "2023-01-14T19:13:19.652Z"
   },
   {
    "duration": 448,
    "start_time": "2023-01-14T19:13:19.914Z"
   },
   {
    "duration": 6,
    "start_time": "2023-01-14T19:13:20.364Z"
   },
   {
    "duration": 980,
    "start_time": "2023-01-14T19:13:20.372Z"
   },
   {
    "duration": 6,
    "start_time": "2023-01-14T19:13:21.354Z"
   },
   {
    "duration": 185,
    "start_time": "2023-01-14T19:13:21.362Z"
   },
   {
    "duration": 4,
    "start_time": "2023-01-14T19:19:25.426Z"
   },
   {
    "duration": 7,
    "start_time": "2023-01-14T19:19:28.049Z"
   },
   {
    "duration": 14,
    "start_time": "2023-01-14T19:19:46.754Z"
   },
   {
    "duration": 15,
    "start_time": "2023-01-14T19:22:40.515Z"
   },
   {
    "duration": 112,
    "start_time": "2023-01-14T19:22:42.800Z"
   },
   {
    "duration": 56,
    "start_time": "2023-01-14T19:23:32.036Z"
   },
   {
    "duration": 3,
    "start_time": "2023-01-14T19:23:46.760Z"
   },
   {
    "duration": 187,
    "start_time": "2023-01-14T19:23:48.785Z"
   },
   {
    "duration": 8,
    "start_time": "2023-01-14T19:23:55.906Z"
   },
   {
    "duration": 61,
    "start_time": "2023-01-14T22:59:03.779Z"
   },
   {
    "duration": 6,
    "start_time": "2023-01-14T23:00:27.458Z"
   },
   {
    "duration": 7,
    "start_time": "2023-01-14T23:00:27.498Z"
   },
   {
    "duration": 7,
    "start_time": "2023-01-14T23:00:27.530Z"
   },
   {
    "duration": 7,
    "start_time": "2023-01-14T23:00:27.599Z"
   },
   {
    "duration": 7,
    "start_time": "2023-01-14T23:00:27.623Z"
   },
   {
    "duration": 1737,
    "start_time": "2023-01-14T23:00:30.062Z"
   },
   {
    "duration": 2355,
    "start_time": "2023-01-14T23:00:31.802Z"
   },
   {
    "duration": 29,
    "start_time": "2023-01-14T23:00:34.159Z"
   },
   {
    "duration": 22,
    "start_time": "2023-01-14T23:00:34.191Z"
   },
   {
    "duration": 262,
    "start_time": "2023-01-14T23:00:34.215Z"
   },
   {
    "duration": 24,
    "start_time": "2023-01-14T23:00:34.478Z"
   },
   {
    "duration": 36,
    "start_time": "2023-01-14T23:00:34.503Z"
   },
   {
    "duration": 140,
    "start_time": "2023-01-14T23:00:34.541Z"
   },
   {
    "duration": 23,
    "start_time": "2023-01-14T23:00:34.683Z"
   },
   {
    "duration": 35,
    "start_time": "2023-01-14T23:00:34.709Z"
   },
   {
    "duration": 271,
    "start_time": "2023-01-14T23:00:34.746Z"
   },
   {
    "duration": 26,
    "start_time": "2023-01-14T23:00:35.019Z"
   },
   {
    "duration": 4,
    "start_time": "2023-01-14T23:00:35.048Z"
   },
   {
    "duration": 12,
    "start_time": "2023-01-14T23:00:35.054Z"
   },
   {
    "duration": 7,
    "start_time": "2023-01-14T23:00:35.068Z"
   },
   {
    "duration": 9,
    "start_time": "2023-01-14T23:00:35.077Z"
   },
   {
    "duration": 14,
    "start_time": "2023-01-14T23:00:35.087Z"
   },
   {
    "duration": 62,
    "start_time": "2023-01-14T23:00:35.103Z"
   },
   {
    "duration": 27,
    "start_time": "2023-01-14T23:00:35.167Z"
   },
   {
    "duration": 51,
    "start_time": "2023-01-14T23:00:35.195Z"
   },
   {
    "duration": 145,
    "start_time": "2023-01-14T23:00:35.248Z"
   },
   {
    "duration": 10,
    "start_time": "2023-01-14T23:00:35.395Z"
   },
   {
    "duration": 197,
    "start_time": "2023-01-14T23:00:35.407Z"
   },
   {
    "duration": 8,
    "start_time": "2023-01-14T23:00:35.606Z"
   },
   {
    "duration": 182,
    "start_time": "2023-01-14T23:00:35.615Z"
   },
   {
    "duration": 9,
    "start_time": "2023-01-14T23:00:35.799Z"
   },
   {
    "duration": 168,
    "start_time": "2023-01-14T23:00:35.809Z"
   },
   {
    "duration": 7,
    "start_time": "2023-01-14T23:00:35.981Z"
   },
   {
    "duration": 251,
    "start_time": "2023-01-14T23:00:35.989Z"
   },
   {
    "duration": 436,
    "start_time": "2023-01-14T23:00:36.242Z"
   },
   {
    "duration": 8,
    "start_time": "2023-01-14T23:00:36.680Z"
   },
   {
    "duration": 963,
    "start_time": "2023-01-14T23:00:36.690Z"
   },
   {
    "duration": 9,
    "start_time": "2023-01-14T23:00:37.655Z"
   },
   {
    "duration": 199,
    "start_time": "2023-01-14T23:00:37.666Z"
   },
   {
    "duration": 165,
    "start_time": "2023-01-14T23:00:47.239Z"
   },
   {
    "duration": 153,
    "start_time": "2023-01-14T23:00:54.429Z"
   },
   {
    "duration": 158,
    "start_time": "2023-01-14T23:03:26.029Z"
   },
   {
    "duration": 175,
    "start_time": "2023-01-14T23:05:58.144Z"
   },
   {
    "duration": 141,
    "start_time": "2023-01-14T23:06:04.868Z"
   },
   {
    "duration": 159,
    "start_time": "2023-01-14T23:06:12.964Z"
   },
   {
    "duration": 165,
    "start_time": "2023-01-14T23:06:31.448Z"
   },
   {
    "duration": 254,
    "start_time": "2023-01-14T23:06:37.925Z"
   },
   {
    "duration": 4,
    "start_time": "2023-01-14T23:12:17.945Z"
   },
   {
    "duration": 81,
    "start_time": "2023-01-14T23:12:23.921Z"
   },
   {
    "duration": 3,
    "start_time": "2023-01-14T23:12:33.192Z"
   },
   {
    "duration": 8,
    "start_time": "2023-01-14T23:14:04.860Z"
   },
   {
    "duration": 28,
    "start_time": "2023-01-14T23:14:18.168Z"
   },
   {
    "duration": 13,
    "start_time": "2023-01-14T23:14:57.600Z"
   },
   {
    "duration": 48,
    "start_time": "2023-01-14T23:15:03.542Z"
   },
   {
    "duration": 167,
    "start_time": "2023-01-14T23:15:54.781Z"
   },
   {
    "duration": 39,
    "start_time": "2023-01-14T23:15:57.135Z"
   },
   {
    "duration": 13,
    "start_time": "2023-01-14T23:16:00.390Z"
   },
   {
    "duration": 157,
    "start_time": "2023-01-14T23:16:01.366Z"
   },
   {
    "duration": 151,
    "start_time": "2023-01-14T23:16:11.357Z"
   },
   {
    "duration": 33,
    "start_time": "2023-01-14T23:17:37.903Z"
   },
   {
    "duration": 40,
    "start_time": "2023-01-14T23:18:03.254Z"
   },
   {
    "duration": 18,
    "start_time": "2023-01-14T23:18:06.851Z"
   },
   {
    "duration": 26,
    "start_time": "2023-01-14T23:18:26.024Z"
   },
   {
    "duration": 7,
    "start_time": "2023-01-14T23:18:33.842Z"
   },
   {
    "duration": 8,
    "start_time": "2023-01-14T23:18:42.171Z"
   },
   {
    "duration": 792,
    "start_time": "2023-01-14T23:18:42.662Z"
   },
   {
    "duration": 7,
    "start_time": "2023-01-14T23:18:43.456Z"
   },
   {
    "duration": 165,
    "start_time": "2023-01-14T23:18:43.465Z"
   },
   {
    "duration": 22,
    "start_time": "2023-01-14T23:18:44.518Z"
   },
   {
    "duration": 24,
    "start_time": "2023-01-14T23:20:00.908Z"
   },
   {
    "duration": 26,
    "start_time": "2023-01-14T23:20:07.934Z"
   },
   {
    "duration": 25,
    "start_time": "2023-01-14T23:20:11.694Z"
   },
   {
    "duration": 6,
    "start_time": "2023-01-14T23:20:19.943Z"
   },
   {
    "duration": 979,
    "start_time": "2023-01-14T23:20:20.137Z"
   },
   {
    "duration": 20,
    "start_time": "2023-01-14T23:20:21.119Z"
   },
   {
    "duration": 162,
    "start_time": "2023-01-14T23:20:21.141Z"
   },
   {
    "duration": 37,
    "start_time": "2023-01-14T23:20:21.306Z"
   },
   {
    "duration": 14,
    "start_time": "2023-01-14T23:20:22.619Z"
   },
   {
    "duration": 10,
    "start_time": "2023-01-14T23:20:33.973Z"
   },
   {
    "duration": 18,
    "start_time": "2023-01-14T23:20:46.179Z"
   },
   {
    "duration": 35,
    "start_time": "2023-01-14T23:20:55.663Z"
   },
   {
    "duration": 28,
    "start_time": "2023-01-14T23:21:06.708Z"
   },
   {
    "duration": 76,
    "start_time": "2023-01-14T23:21:10.588Z"
   },
   {
    "duration": 609,
    "start_time": "2023-01-14T23:21:16.326Z"
   },
   {
    "duration": 31,
    "start_time": "2023-01-14T23:21:24.792Z"
   },
   {
    "duration": 17,
    "start_time": "2023-01-14T23:21:40.585Z"
   },
   {
    "duration": 14,
    "start_time": "2023-01-14T23:21:47.285Z"
   },
   {
    "duration": 162,
    "start_time": "2023-01-14T23:21:47.683Z"
   },
   {
    "duration": 182,
    "start_time": "2023-01-14T23:21:53.635Z"
   },
   {
    "duration": 11,
    "start_time": "2023-01-14T23:22:02.029Z"
   },
   {
    "duration": 164,
    "start_time": "2023-01-14T23:22:04.239Z"
   },
   {
    "duration": 1558,
    "start_time": "2023-01-15T02:44:16.250Z"
   },
   {
    "duration": 742,
    "start_time": "2023-01-15T02:44:17.810Z"
   },
   {
    "duration": 26,
    "start_time": "2023-01-15T02:44:18.554Z"
   },
   {
    "duration": 32,
    "start_time": "2023-01-15T02:44:18.582Z"
   },
   {
    "duration": 259,
    "start_time": "2023-01-15T02:44:18.616Z"
   },
   {
    "duration": 23,
    "start_time": "2023-01-15T02:44:18.877Z"
   },
   {
    "duration": 36,
    "start_time": "2023-01-15T02:44:18.902Z"
   },
   {
    "duration": 142,
    "start_time": "2023-01-15T02:44:18.940Z"
   },
   {
    "duration": 21,
    "start_time": "2023-01-15T02:44:19.083Z"
   },
   {
    "duration": 32,
    "start_time": "2023-01-15T02:44:19.107Z"
   },
   {
    "duration": 265,
    "start_time": "2023-01-15T02:44:19.141Z"
   },
   {
    "duration": 17,
    "start_time": "2023-01-15T02:44:19.407Z"
   },
   {
    "duration": 5,
    "start_time": "2023-01-15T02:44:19.437Z"
   },
   {
    "duration": 10,
    "start_time": "2023-01-15T02:44:19.443Z"
   },
   {
    "duration": 7,
    "start_time": "2023-01-15T02:44:19.454Z"
   },
   {
    "duration": 7,
    "start_time": "2023-01-15T02:44:19.462Z"
   },
   {
    "duration": 5,
    "start_time": "2023-01-15T02:44:19.470Z"
   },
   {
    "duration": 71,
    "start_time": "2023-01-15T02:44:19.476Z"
   },
   {
    "duration": 28,
    "start_time": "2023-01-15T02:44:19.548Z"
   },
   {
    "duration": 25,
    "start_time": "2023-01-15T02:44:19.578Z"
   },
   {
    "duration": 150,
    "start_time": "2023-01-15T02:44:19.605Z"
   },
   {
    "duration": 6,
    "start_time": "2023-01-15T02:44:19.757Z"
   },
   {
    "duration": 169,
    "start_time": "2023-01-15T02:44:19.765Z"
   },
   {
    "duration": 7,
    "start_time": "2023-01-15T02:44:19.937Z"
   },
   {
    "duration": 161,
    "start_time": "2023-01-15T02:44:19.946Z"
   },
   {
    "duration": 8,
    "start_time": "2023-01-15T02:44:20.109Z"
   },
   {
    "duration": 159,
    "start_time": "2023-01-15T02:44:20.118Z"
   },
   {
    "duration": 7,
    "start_time": "2023-01-15T02:44:20.281Z"
   },
   {
    "duration": 235,
    "start_time": "2023-01-15T02:44:20.290Z"
   },
   {
    "duration": 423,
    "start_time": "2023-01-15T02:44:20.527Z"
   },
   {
    "duration": 6,
    "start_time": "2023-01-15T02:44:20.952Z"
   },
   {
    "duration": 994,
    "start_time": "2023-01-15T02:44:20.960Z"
   },
   {
    "duration": 7,
    "start_time": "2023-01-15T02:44:21.956Z"
   },
   {
    "duration": 158,
    "start_time": "2023-01-15T02:44:21.965Z"
   },
   {
    "duration": 152,
    "start_time": "2023-01-15T02:44:22.125Z"
   },
   {
    "duration": 0,
    "start_time": "2023-01-15T02:44:22.279Z"
   },
   {
    "duration": 0,
    "start_time": "2023-01-15T02:44:22.280Z"
   },
   {
    "duration": 0,
    "start_time": "2023-01-15T02:44:22.281Z"
   },
   {
    "duration": 0,
    "start_time": "2023-01-15T02:44:22.282Z"
   },
   {
    "duration": 0,
    "start_time": "2023-01-15T02:44:22.283Z"
   },
   {
    "duration": 0,
    "start_time": "2023-01-15T02:44:22.283Z"
   },
   {
    "duration": 0,
    "start_time": "2023-01-15T02:44:22.284Z"
   },
   {
    "duration": 0,
    "start_time": "2023-01-15T02:44:22.285Z"
   },
   {
    "duration": 0,
    "start_time": "2023-01-15T02:44:22.287Z"
   },
   {
    "duration": 0,
    "start_time": "2023-01-15T02:44:22.288Z"
   },
   {
    "duration": 0,
    "start_time": "2023-01-15T02:44:22.289Z"
   },
   {
    "duration": 0,
    "start_time": "2023-01-15T02:44:22.290Z"
   },
   {
    "duration": 0,
    "start_time": "2023-01-15T02:44:22.291Z"
   },
   {
    "duration": 0,
    "start_time": "2023-01-15T02:44:22.292Z"
   },
   {
    "duration": 0,
    "start_time": "2023-01-15T02:44:22.293Z"
   }
  ],
  "kernelspec": {
   "display_name": "Python 3 (ipykernel)",
   "language": "python",
   "name": "python3"
  },
  "language_info": {
   "codemirror_mode": {
    "name": "ipython",
    "version": 3
   },
   "file_extension": ".py",
   "mimetype": "text/x-python",
   "name": "python",
   "nbconvert_exporter": "python",
   "pygments_lexer": "ipython3",
   "version": "3.11.3"
  },
  "toc": {
   "base_numbering": 1,
   "nav_menu": {},
   "number_sections": true,
   "sideBar": true,
   "skip_h1_title": true,
   "title_cell": "Содержание",
   "title_sidebar": "Contents",
   "toc_cell": true,
   "toc_position": {
    "height": "calc(100% - 180px)",
    "left": "10px",
    "top": "150px",
    "width": "356.531px"
   },
   "toc_section_display": true,
   "toc_window_display": true
  }
 },
 "nbformat": 4,
 "nbformat_minor": 2
}
